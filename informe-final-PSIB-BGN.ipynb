{
 "cells": [
  {
   "cell_type": "markdown",
   "metadata": {},
   "source": [
    "<center>\n",
    "\n",
    "# Trabajo Práctico Final\n",
    "## Procesamiento de Imágenes Biomédicas\n",
    "### Primer Cuatrimestre 2024\n",
    "\n",
    "\n",
    "### _Diseño de un algoritmo automatizado para la detección de epilepsia en tiempo real mediante EEG_\n",
    "\n",
    "\n",
    "\n",
    "\n",
    "\n",
    "</center>\n",
    "\n",
    "**Docentes:**\n",
    "\n",
    "- Roberto Sebastián Tomás\n",
    "- Aylin Agatha Vazquez Chenlo\n",
    "- Francisco Tassara\n",
    "- Victoria Reppucci\n",
    "\n",
    "**Alumnos:**\n",
    "\n",
    "- Bajlec, Ivo - 62175\n",
    "- Grau, Gonzalo Andrés - 62259\n",
    "- Neira, Lucas Matias - 61570\n",
    "\n"
   ]
  },
  {
   "cell_type": "markdown",
   "metadata": {},
   "source": [
    "# ESTADO DEL ARTE"
   ]
  },
  {
   "cell_type": "markdown",
   "metadata": {},
   "source": [
    "# PROBLEMÁTICA"
   ]
  },
  {
   "cell_type": "markdown",
   "metadata": {},
   "source": [
    "# OBJETIVO Y DISEÑO"
   ]
  },
  {
   "cell_type": "markdown",
   "metadata": {},
   "source": [
    "# DESARROLLO"
   ]
  },
  {
   "cell_type": "markdown",
   "metadata": {},
   "source": [
    "## Técnicas de acondicionmiento de señales biomédicas"
   ]
  },
  {
   "cell_type": "markdown",
   "metadata": {},
   "source": []
  },
  {
   "cell_type": "markdown",
   "metadata": {},
   "source": [
    "# CONCLUSIÓN\n"
   ]
  },
  {
   "cell_type": "markdown",
   "metadata": {},
   "source": [
    "ESTADO DEL ARTE:\n",
    "PROBLEMÁTICA: \n",
    "OBJETIVOS y DISEÑO:\n",
    "DESARROLLO: \n",
    "1. Técnicas de acondicionamiento de señales biomédicas / Técnicas de mejoramiento de\n",
    "imágenes biomédicas\n",
    "2. Algoritmos de procesamiento de señales/imágenes biomédicas vistas en la materia para\n",
    "extraer información relevante de la señal/imagen. Se pueden implementar técnicas vistas\n",
    "en clase pero no con el fin habitual visto en clase.\n",
    "3. Técnica novedosa de procesamiento. Por ejemplo Transformada Wavelets, Independent\n",
    "Component Analysis, Principal Component Analysis, etc (ya sea como acondicionamien-\n",
    "to como para extraer características para la creación del modelo de AA o RN)\n",
    "4. Creación de 2 modelos de clasificación/regresión distintos que utilicen distintos tipos de\n",
    "técnicas de AA o RN para resolver la problemática planteada.\n",
    "RESULTADOS:\n",
    "CONCLUSIÓN: "
   ]
  }
 ],
 "metadata": {
  "kernelspec": {
   "display_name": "psivenv",
   "language": "python",
   "name": "python3"
  },
  "language_info": {
   "name": "python",
   "version": "3.12.3"
  }
 },
 "nbformat": 4,
 "nbformat_minor": 2
}
