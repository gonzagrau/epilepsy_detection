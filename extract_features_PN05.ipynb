{
 "cells": [
  {
   "cell_type": "markdown",
   "source": [
    "# Extraemos todas las features del paciente 5   "
   ],
   "metadata": {
    "collapsed": false
   },
   "id": "f69890d74a42094b"
  },
  {
   "cell_type": "code",
   "execution_count": 23,
   "id": "initial_id",
   "metadata": {
    "collapsed": true,
    "ExecuteTime": {
     "end_time": "2024-07-10T23:18:10.225694Z",
     "start_time": "2024-07-10T23:18:10.214185Z"
    }
   },
   "outputs": [],
   "source": [
    "#Importación de librerías\n",
    "import os\n",
    "import numpy as np\n",
    "import pandas as pd\n",
    "import matplotlib.pyplot as plt\n",
    "from mne import io\n",
    "from FVfunctions import getMeData, pot4signals, BANDAS\n",
    "from features_stats import stats_features\n",
    "from dataset_reader import get_seizure_events, get_seizure_array"
   ]
  },
  {
   "cell_type": "code",
   "outputs": [
    {
     "name": "stdout",
     "output_type": "stream",
     "text": [
      "seizure_number: 2\n",
      "file_name: PN05-2.edf\n",
      "registration_start_time: 06.46.02\n",
      "registration_end_time: 09.19.47\n",
      "seizure_start_time: 08.45.25\n",
      "seizure_end_time: 08.46.00\n",
      "\n",
      "seizure_number: 3\n",
      "file_name: PN05-3.edf\n",
      "registration_start_time: 06.01.23\n",
      "registration_end_time: 08.06.57\n",
      "seizure_start_time: 07.55.19\n",
      "seizure_end_time: 07.55.49\n",
      "\n",
      "seizure_number: 4\n",
      "file_name: PN05-4.edf\n",
      "registration_start_time: 06.38.35\n",
      "registration_end_time: 08.00.23\n",
      "seizure_start_time: 07.38.43\n",
      "seizure_end_time: 07.39.22\n",
      "\n",
      "['PN05-2.edf', 'PN05-3.edf', 'PN05-4.edf']\n"
     ]
    }
   ],
   "source": [
    "PN05_DIR = \"../eeg_dataset/PN05\"\n",
    "edf_names = []\n",
    "seizure_events = []\n",
    "\n",
    "for root, dirs, files in os.walk(PN05_DIR):\n",
    "    for name in files:\n",
    "        if '.edf' in name:\n",
    "            edf_names.append(name)\n",
    "        elif '.txt' in name:\n",
    "            seizure_events = get_seizure_events(f\"{PN05_DIR}/{name}\")\n",
    "\n",
    "for event in seizure_events:\n",
    "    print('\\n'.join([f\"{key}: {val}\" for key, val in event.items()]))\n",
    "    print()\n",
    "print(edf_names)"
   ],
   "metadata": {
    "collapsed": false,
    "ExecuteTime": {
     "end_time": "2024-07-10T23:02:22.265708Z",
     "start_time": "2024-07-10T23:02:22.254880Z"
    }
   },
   "id": "e475d4bf065eab1a",
   "execution_count": 14
  },
  {
   "cell_type": "code",
   "outputs": [
    {
     "name": "stdout",
     "output_type": "stream",
     "text": [
      "Extracting EDF parameters from C:\\Users\\gonza\\OneDrive\\Documentos\\ITBA\\TP FINAL PSIB\\eeg_dataset\\PN05\\PN05-2.edf...\n",
      "EDF file detected\n",
      "Setting channel info structure...\n",
      "Creating raw.info structure...\n"
     ]
    },
    {
     "name": "stderr",
     "output_type": "stream",
     "text": [
      "C:\\Users\\gonza\\AppData\\Local\\Temp\\ipykernel_5268\\748757114.py:13: RuntimeWarning: Channels contain different highpass filters. Highest filter setting will be stored.\n",
      "  raw = io.read_raw_edf(f\"{PN05_DIR}/{edf}\")\n",
      "C:\\Users\\gonza\\AppData\\Local\\Temp\\ipykernel_5268\\748757114.py:13: RuntimeWarning: Channels contain different lowpass filters. Lowest filter setting will be stored.\n",
      "  raw = io.read_raw_edf(f\"{PN05_DIR}/{edf}\")\n",
      "C:\\Users\\gonza\\AppData\\Local\\Temp\\ipykernel_5268\\748757114.py:13: RuntimeWarning: Highpass cutoff frequency 15.91549 is greater than lowpass cutoff frequency 15.0, setting values to 0 and Nyquist.\n",
      "  raw = io.read_raw_edf(f\"{PN05_DIR}/{edf}\")\n"
     ]
    },
    {
     "name": "stdout",
     "output_type": "stream",
     "text": [
      "Extracting EDF parameters from C:\\Users\\gonza\\OneDrive\\Documentos\\ITBA\\TP FINAL PSIB\\eeg_dataset\\PN05\\PN05-3.edf...\n",
      "EDF file detected\n",
      "Setting channel info structure...\n",
      "Creating raw.info structure...\n"
     ]
    },
    {
     "name": "stderr",
     "output_type": "stream",
     "text": [
      "C:\\Users\\gonza\\AppData\\Local\\Temp\\ipykernel_5268\\748757114.py:13: RuntimeWarning: Channels contain different highpass filters. Highest filter setting will be stored.\n",
      "  raw = io.read_raw_edf(f\"{PN05_DIR}/{edf}\")\n",
      "C:\\Users\\gonza\\AppData\\Local\\Temp\\ipykernel_5268\\748757114.py:13: RuntimeWarning: Channels contain different lowpass filters. Lowest filter setting will be stored.\n",
      "  raw = io.read_raw_edf(f\"{PN05_DIR}/{edf}\")\n",
      "C:\\Users\\gonza\\AppData\\Local\\Temp\\ipykernel_5268\\748757114.py:13: RuntimeWarning: Highpass cutoff frequency 15.91549 is greater than lowpass cutoff frequency 15.0, setting values to 0 and Nyquist.\n",
      "  raw = io.read_raw_edf(f\"{PN05_DIR}/{edf}\")\n"
     ]
    },
    {
     "name": "stdout",
     "output_type": "stream",
     "text": [
      "Extracting EDF parameters from C:\\Users\\gonza\\OneDrive\\Documentos\\ITBA\\TP FINAL PSIB\\eeg_dataset\\PN05\\PN05-4.edf...\n",
      "EDF file detected\n",
      "Setting channel info structure...\n",
      "Creating raw.info structure...\n"
     ]
    },
    {
     "name": "stderr",
     "output_type": "stream",
     "text": [
      "C:\\Users\\gonza\\AppData\\Local\\Temp\\ipykernel_5268\\748757114.py:13: RuntimeWarning: Channels contain different highpass filters. Highest filter setting will be stored.\n",
      "  raw = io.read_raw_edf(f\"{PN05_DIR}/{edf}\")\n",
      "C:\\Users\\gonza\\AppData\\Local\\Temp\\ipykernel_5268\\748757114.py:13: RuntimeWarning: Channels contain different lowpass filters. Lowest filter setting will be stored.\n",
      "  raw = io.read_raw_edf(f\"{PN05_DIR}/{edf}\")\n",
      "C:\\Users\\gonza\\AppData\\Local\\Temp\\ipykernel_5268\\748757114.py:13: RuntimeWarning: Highpass cutoff frequency 15.91549 is greater than lowpass cutoff frequency 15.0, setting values to 0 and Nyquist.\n",
      "  raw = io.read_raw_edf(f\"{PN05_DIR}/{edf}\")\n"
     ]
    }
   ],
   "source": [
    "channel = ['EEG T3']\n",
    "segments = []\n",
    "labels = []\n",
    "fs = None\n",
    "for edf in edf_names:\n",
    "    # Paso 1: duracion de señal y seizures\n",
    "    this_seizure_events = [seiz for seiz in seizure_events if seiz[\"file_name\"]==edf]\n",
    "    ex_seiz = this_seizure_events[0]\n",
    "    mtx_t_reg = np.array([ex_seiz['registration_start_time'], ex_seiz['registration_end_time']])\n",
    "    arr_mtx_t_epi = get_seizure_array(this_seizure_events)\n",
    "    \n",
    "    # Paso 2: extraemos la señal\n",
    "    raw = io.read_raw_edf(f\"{PN05_DIR}/{edf}\")\n",
    "    if fs is None:\n",
    "        fs = raw.info['sfreq']\n",
    "    raw_filt = raw.pick(channel)\n",
    "    data_namefilt = raw_filt.get_data() * 1e6\n",
    "    \n",
    "    # Paso 3: sacamos segmentos\n",
    "    new_seg, new_label = getMeData(data_namefilt[0], mtx_t_reg, arr_mtx_t_epi, winlen=2, proportion=0.4)\n",
    "    segments.append(new_seg)\n",
    "    labels.append(new_label)\n",
    "    \n",
    "segments_arr = np.concatenate(segments)    "
   ],
   "metadata": {
    "collapsed": false,
    "ExecuteTime": {
     "end_time": "2024-07-10T23:25:12.717109Z",
     "start_time": "2024-07-10T23:25:11.668942Z"
    }
   },
   "id": "597edfd5a5c2dccc",
   "execution_count": 33
  },
  {
   "cell_type": "code",
   "outputs": [
    {
     "data": {
      "text/plain": "array([[ -6.44861197, -14.41007862, -21.80983335, ...,  -4.48831135,\n         -4.21901134,  -2.8510888 ],\n       [ -5.88095295,  -3.27032485,  -3.43263646, ...,  12.59162582,\n          7.36264985,   1.6076962 ],\n       [ -0.83301453,  -1.25101932,  -2.04141079, ..., -23.45783771,\n        -24.17600637, -25.67897428],\n       ...,\n       [  1.78519   ,  -3.29012621,  -6.38467209, ..., -12.2706775 ,\n        -17.60023142, -13.00658494],\n       [  1.05601396,   4.77771993,   5.99784105, ...,   4.06903127,\n          0.72019662,  -2.85024904],\n       [  2.02797197,   1.72155901,   2.91090647, ..., -12.67275433,\n         -6.22682559,  -1.35002658]])"
     },
     "execution_count": 32,
     "metadata": {},
     "output_type": "execute_result"
    }
   ],
   "source": [
    "segments_arr"
   ],
   "metadata": {
    "collapsed": false,
    "ExecuteTime": {
     "end_time": "2024-07-10T23:23:54.531636Z",
     "start_time": "2024-07-10T23:23:54.524007Z"
    }
   },
   "id": "7a12ca5c72ccc808",
   "execution_count": 32
  },
  {
   "cell_type": "code",
   "outputs": [
    {
     "data": {
      "text/plain": "     potAbsDelta  potAbsTheta  potAbsAlpha  potAbsBeta  potAbsGamma  kurtosis  \\\n0     217.644236    49.269005    89.263621   95.580341    55.646721  0.585607   \n1     178.283112    68.107614    68.265979   55.249263    21.184491  0.058750   \n2     148.265309    81.879942    29.160342   32.561074    17.223644  0.168532   \n3     131.956727    91.343940    18.468434   41.782452    16.610201 -0.005117   \n4     171.847087    80.592865    21.834394   24.324345     9.639249 -0.669140   \n..           ...          ...          ...         ...          ...       ...   \n124    14.701425    42.268577   140.585256  435.627025   360.342960  0.608215   \n125    19.820482    11.340484    53.432486   84.863729    71.798184  1.544135   \n126    28.235340    55.832516    15.499450   67.281210    47.978571  0.848474   \n127    43.552502    14.156265    85.906347  131.048032   205.813973  2.033681   \n128    29.929016    53.007204    48.881222  183.748287   322.870082  0.260956   \n\n           RMS  skewness     media  desvio estandar  \n0    21.551527  0.285625  6.390122        20.582387  \n1    20.155965 -0.071286 -1.154695        20.122863  \n2    20.059845 -0.216411 -4.901466        19.451813  \n3    18.680859  0.482669 -0.225125        18.679502  \n4    17.785635 -0.056150  1.242607        17.742174  \n..         ...       ...       ...              ...  \n124  34.941291  0.152369 -2.133096        34.876120  \n125  18.975364  0.612152  3.654710        18.620084  \n126  21.570449 -0.091592 -0.526856        21.564014  \n127  31.449202 -0.115216 -1.751185        31.400409  \n128  38.134925 -0.114326 -2.258647        38.067979  \n\n[129 rows x 10 columns]",
      "text/html": "<div>\n<style scoped>\n    .dataframe tbody tr th:only-of-type {\n        vertical-align: middle;\n    }\n\n    .dataframe tbody tr th {\n        vertical-align: top;\n    }\n\n    .dataframe thead th {\n        text-align: right;\n    }\n</style>\n<table border=\"1\" class=\"dataframe\">\n  <thead>\n    <tr style=\"text-align: right;\">\n      <th></th>\n      <th>potAbsDelta</th>\n      <th>potAbsTheta</th>\n      <th>potAbsAlpha</th>\n      <th>potAbsBeta</th>\n      <th>potAbsGamma</th>\n      <th>kurtosis</th>\n      <th>RMS</th>\n      <th>skewness</th>\n      <th>media</th>\n      <th>desvio estandar</th>\n    </tr>\n  </thead>\n  <tbody>\n    <tr>\n      <th>0</th>\n      <td>217.644236</td>\n      <td>49.269005</td>\n      <td>89.263621</td>\n      <td>95.580341</td>\n      <td>55.646721</td>\n      <td>0.585607</td>\n      <td>21.551527</td>\n      <td>0.285625</td>\n      <td>6.390122</td>\n      <td>20.582387</td>\n    </tr>\n    <tr>\n      <th>1</th>\n      <td>178.283112</td>\n      <td>68.107614</td>\n      <td>68.265979</td>\n      <td>55.249263</td>\n      <td>21.184491</td>\n      <td>0.058750</td>\n      <td>20.155965</td>\n      <td>-0.071286</td>\n      <td>-1.154695</td>\n      <td>20.122863</td>\n    </tr>\n    <tr>\n      <th>2</th>\n      <td>148.265309</td>\n      <td>81.879942</td>\n      <td>29.160342</td>\n      <td>32.561074</td>\n      <td>17.223644</td>\n      <td>0.168532</td>\n      <td>20.059845</td>\n      <td>-0.216411</td>\n      <td>-4.901466</td>\n      <td>19.451813</td>\n    </tr>\n    <tr>\n      <th>3</th>\n      <td>131.956727</td>\n      <td>91.343940</td>\n      <td>18.468434</td>\n      <td>41.782452</td>\n      <td>16.610201</td>\n      <td>-0.005117</td>\n      <td>18.680859</td>\n      <td>0.482669</td>\n      <td>-0.225125</td>\n      <td>18.679502</td>\n    </tr>\n    <tr>\n      <th>4</th>\n      <td>171.847087</td>\n      <td>80.592865</td>\n      <td>21.834394</td>\n      <td>24.324345</td>\n      <td>9.639249</td>\n      <td>-0.669140</td>\n      <td>17.785635</td>\n      <td>-0.056150</td>\n      <td>1.242607</td>\n      <td>17.742174</td>\n    </tr>\n    <tr>\n      <th>...</th>\n      <td>...</td>\n      <td>...</td>\n      <td>...</td>\n      <td>...</td>\n      <td>...</td>\n      <td>...</td>\n      <td>...</td>\n      <td>...</td>\n      <td>...</td>\n      <td>...</td>\n    </tr>\n    <tr>\n      <th>124</th>\n      <td>14.701425</td>\n      <td>42.268577</td>\n      <td>140.585256</td>\n      <td>435.627025</td>\n      <td>360.342960</td>\n      <td>0.608215</td>\n      <td>34.941291</td>\n      <td>0.152369</td>\n      <td>-2.133096</td>\n      <td>34.876120</td>\n    </tr>\n    <tr>\n      <th>125</th>\n      <td>19.820482</td>\n      <td>11.340484</td>\n      <td>53.432486</td>\n      <td>84.863729</td>\n      <td>71.798184</td>\n      <td>1.544135</td>\n      <td>18.975364</td>\n      <td>0.612152</td>\n      <td>3.654710</td>\n      <td>18.620084</td>\n    </tr>\n    <tr>\n      <th>126</th>\n      <td>28.235340</td>\n      <td>55.832516</td>\n      <td>15.499450</td>\n      <td>67.281210</td>\n      <td>47.978571</td>\n      <td>0.848474</td>\n      <td>21.570449</td>\n      <td>-0.091592</td>\n      <td>-0.526856</td>\n      <td>21.564014</td>\n    </tr>\n    <tr>\n      <th>127</th>\n      <td>43.552502</td>\n      <td>14.156265</td>\n      <td>85.906347</td>\n      <td>131.048032</td>\n      <td>205.813973</td>\n      <td>2.033681</td>\n      <td>31.449202</td>\n      <td>-0.115216</td>\n      <td>-1.751185</td>\n      <td>31.400409</td>\n    </tr>\n    <tr>\n      <th>128</th>\n      <td>29.929016</td>\n      <td>53.007204</td>\n      <td>48.881222</td>\n      <td>183.748287</td>\n      <td>322.870082</td>\n      <td>0.260956</td>\n      <td>38.134925</td>\n      <td>-0.114326</td>\n      <td>-2.258647</td>\n      <td>38.067979</td>\n    </tr>\n  </tbody>\n</table>\n<p>129 rows × 10 columns</p>\n</div>"
     },
     "execution_count": 34,
     "metadata": {},
     "output_type": "execute_result"
    }
   ],
   "source": [
    "# Potencia\n",
    "more_pot = pot4signals(segments_arr, fs, divisor=1)\n",
    "pot_names = [f\"potAbs{band.capitalize()}\" for band in BANDAS.keys()]\n",
    "\n",
    "# Estadistica\n",
    "stat_data = stats_features(segments_arr)\n",
    "stats_names = list(stat_data.values())[:-1]\n",
    "more_stat = stat_data[\"matriz de features stat\"]\n",
    "\n",
    "# Feature fector\n",
    "data_fv = np.hstack((more_pot, more_stat))\n",
    "columnas = pot_names + stats_names\n",
    "df_fv = pd.DataFrame(data_fv, columns=columnas)\n",
    "df_fv"
   ],
   "metadata": {
    "collapsed": false,
    "ExecuteTime": {
     "end_time": "2024-07-10T23:27:23.630381Z",
     "start_time": "2024-07-10T23:27:23.051641Z"
    }
   },
   "id": "f04ca05bad3ba8b5",
   "execution_count": 34
  },
  {
   "cell_type": "code",
   "outputs": [],
   "source": [
    "from sklearn.model_selection import train_test_split\n",
    "from sklearn.metrics import accuracy_score\n",
    "from sklearn.metrics import confusion_matrix\n",
    "from sklearn.SVM import SVC"
   ],
   "metadata": {
    "collapsed": false,
    "ExecuteTime": {
     "end_time": "2024-07-10T23:27:44.376076Z",
     "start_time": "2024-07-10T23:27:44.040204Z"
    }
   },
   "id": "473337a14e7c78ef",
   "execution_count": 35
  },
  {
   "cell_type": "code",
   "outputs": [],
   "source": [],
   "metadata": {
    "collapsed": false
   },
   "id": "8d5181be5f7a700c"
  }
 ],
 "metadata": {
  "kernelspec": {
   "display_name": "Python 3",
   "language": "python",
   "name": "python3"
  },
  "language_info": {
   "codemirror_mode": {
    "name": "ipython",
    "version": 2
   },
   "file_extension": ".py",
   "mimetype": "text/x-python",
   "name": "python",
   "nbconvert_exporter": "python",
   "pygments_lexer": "ipython2",
   "version": "2.7.6"
  }
 },
 "nbformat": 4,
 "nbformat_minor": 5
}
