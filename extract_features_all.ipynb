{
 "cells": [
  {
   "cell_type": "markdown",
   "source": [
    "# Extraemos todas las features del paciente 5   "
   ],
   "metadata": {
    "collapsed": false
   },
   "id": "f69890d74a42094b"
  },
  {
   "cell_type": "code",
   "execution_count": 1,
   "id": "initial_id",
   "metadata": {
    "collapsed": true,
    "ExecuteTime": {
     "end_time": "2024-07-11T01:57:03.143967Z",
     "start_time": "2024-07-11T01:57:03.028526Z"
    }
   },
   "outputs": [],
   "source": [
    "#Importación de librerías\n",
    "import os\n",
    "import warnings\n",
    "import numpy as np\n",
    "import pandas as pd\n",
    "import matplotlib.pyplot as plt\n",
    "from mne import io\n",
    "from FVfunctions import getMeData, pot4signals, BANDAS\n",
    "from features_stats import stats_features\n",
    "from dataset_reader import get_seizure_events, get_seizure_array"
   ]
  },
  {
   "cell_type": "code",
   "outputs": [
    {
     "name": "stdout",
     "output_type": "stream",
     "text": [
      "==================================================\n",
      "                       PN01                       \n",
      "==================================================\n",
      "seizure_number: 1\n",
      "file_name: PN01-1.edf\n",
      "registration_start_time: 19.00.44\n",
      "registration_end_time: 08.29.41\n",
      "seizure_start_time: 21.51.02\n",
      "seizure_end_time: 21.51.56\n",
      "\n",
      "seizure_number: 2\n",
      "file_name: PN01-1.edf\n",
      "registration_start_time: 19.00.44\n",
      "registration_end_time: 08.29.41\n",
      "seizure_start_time: 07.53.17\n",
      "seizure_end_time: 07.54.31\n",
      "\n",
      "==================================================\n",
      "                       PN05                       \n",
      "==================================================\n",
      "seizure_number: 2\n",
      "file_name: PN05-2.edf\n",
      "registration_start_time: 06.46.02\n",
      "registration_end_time: 09.19.47\n",
      "seizure_start_time: 08.45.25\n",
      "seizure_end_time: 08.46.00\n",
      "\n",
      "seizure_number: 3\n",
      "file_name: PN05-3.edf\n",
      "registration_start_time: 06.01.23\n",
      "registration_end_time: 08.06.57\n",
      "seizure_start_time: 07.55.19\n",
      "seizure_end_time: 07.55.49\n",
      "\n",
      "seizure_number: 4\n",
      "file_name: PN05-4.edf\n",
      "registration_start_time: 06.38.35\n",
      "registration_end_time: 08.00.23\n",
      "seizure_start_time: 07.38.43\n",
      "seizure_end_time: 07.39.22\n",
      "\n",
      "==================================================\n",
      "                       PN09                       \n",
      "==================================================\n",
      "seizure_number: 1\n",
      "file_name: PN09-1.edf\n",
      "registration_start_time: 14.08.54\n",
      "registration_end_time: 16.26.07\n",
      "seizure_start_time: 16.09.43\n",
      "seizure_end_time: 16.11.03\n",
      "\n",
      "seizure_number: 2\n",
      "file_name: PN09-2.edf\n",
      "registration_start_time: 15.02.09\n",
      "registration_end_time: 17.21.02\n",
      "seizure_start_time: 17.00.56\n",
      "seizure_end_time: 17.01.55\n",
      "\n",
      "seizure_number: 3\n",
      "file_name: PN09-3.edf\n",
      "registration_start_time: 14.20.23\n",
      "registration_end_time: 16.34.28\n",
      "seizure_start_time: 16.20.44\n",
      "seizure_end_time: 16.21.48\n",
      "\n",
      "==================================================\n",
      "                       PN12                       \n",
      "==================================================\n",
      "seizure_number: 1\n",
      "file_name: PN12-1.2.edf\n",
      "registration_start_time: 15.51.31\n",
      "registration_end_time: 18.34.25\n",
      "seizure_start_time: 16.13.23\n",
      "seizure_end_time: 16.14.26\n",
      "\n",
      "seizure_number: 2\n",
      "file_name: PN12-1.2.edf\n",
      "registration_start_time: 15.51.31\n",
      "registration_end_time: 18.34.25\n",
      "seizure_start_time: 18.31.01\n",
      "seizure_end_time: 18.32.09\n",
      "\n",
      "seizure_number: 3\n",
      "file_name: PN12-3.edf\n",
      "registration_start_time: 08.42.35\n",
      "registration_end_time: 09.15.44\n",
      "seizure_start_time: 08.55.27\n",
      "seizure_end_time: 08.57.03\n",
      "\n",
      "seizure_number: 4\n",
      "file_name: PN12-4.edf\n",
      "registration_start_time: 15.59.19\n",
      "registration_end_time: 18.49.13\n",
      "seizure_start_time: 18.42.51\n",
      "seizure_end_time: 18.43.54\n",
      "\n",
      "==================================================\n",
      "                       PN13                       \n",
      "==================================================\n",
      "seizure_number: 1\n",
      "file_name: PN13-1.edf\n",
      "registration_start_time: 08.24.28\n",
      "registration_end_time: 11.00.23\n",
      "seizure_start_time: 10.22.10\n",
      "seizure_end_time: 10.22.58\n",
      "\n",
      "seizure_number: 2\n",
      "file_name: PN13-2.edf\n",
      "registration_start_time: 06.55.02\n",
      "registration_end_time: 09.30.14\n",
      "seizure_start_time: 08.55.51\n",
      "seizure_end_time: 08.56.56\n",
      "\n",
      "seizure_number: 3\n",
      "file_name: PN13-3.edf\n",
      "registration_start_time: 12.00.01\n",
      "registration_end_time: 15.28.48\n",
      "seizure_start_time: 14.05.54\n",
      "seizure_end_time: 14.08.25\n",
      "\n",
      "==================================================\n",
      "                       PN16                       \n",
      "==================================================\n",
      "seizure_number: 1\n",
      "file_name: PN16-1.edf\n",
      "registration_start_time: 20.45.21\n",
      "registration_end_time: 23.03.11\n",
      "seizure_start_time: 22.45.05\n",
      "seizure_end_time: 22.47.08\n",
      "\n",
      "seizure_number: 2\n",
      "file_name: PN16-2.edf\n",
      "registration_start_time: 00.53.55\n",
      "registration_end_time: 03.28.52\n",
      "seizure_start_time: 03.16.49\n",
      "seizure_end_time: 03.18.36\n",
      "\n",
      "['../eeg_dataset/PN01/PN01-1.edf', '../eeg_dataset/PN05/PN05-2.edf', '../eeg_dataset/PN05/PN05-3.edf', '../eeg_dataset/PN05/PN05-4.edf', '../eeg_dataset/PN09/PN09-1.edf', '../eeg_dataset/PN09/PN09-2.edf', '../eeg_dataset/PN09/PN09-3.edf', '../eeg_dataset/PN12/PN12-1.2.edf', '../eeg_dataset/PN12/PN12-3.edf', '../eeg_dataset/PN12/PN12-4.edf', '../eeg_dataset/PN13/PN13-1.edf', '../eeg_dataset/PN13/PN13-2.edf', '../eeg_dataset/PN13/PN13-3.edf', '../eeg_dataset/PN16/PN16-1.edf', '../eeg_dataset/PN16/PN16-2.edf']\n"
     ]
    }
   ],
   "source": [
    "DATASET_DIR = \"../eeg_dataset\"\n",
    "edf_names = []\n",
    "seizure_events = []\n",
    "\n",
    "for directory in os.listdir(DATASET_DIR):\n",
    "    print('='*50)\n",
    "    print(f\"{directory: ^50}\")\n",
    "    print('='*50)\n",
    "    \n",
    "    for filename in os.listdir(os.path.join(DATASET_DIR, directory)):\n",
    "        if '.edf' in filename:\n",
    "            edf_names.append(f\"{DATASET_DIR}/{directory}/{filename}\")\n",
    "        elif '.txt' in filename:\n",
    "            new_seizures = get_seizure_events(f\"{DATASET_DIR}/{directory}/{filename}\")\n",
    "            seizure_events.extend(new_seizures)\n",
    "            for event in new_seizures:\n",
    "                print('\\n'.join([f\"{key}: {val}\" for key, val in event.items()]))\n",
    "                print()\n",
    "\n",
    "print(edf_names)"
   ],
   "metadata": {
    "collapsed": false,
    "ExecuteTime": {
     "end_time": "2024-07-11T02:02:41.520461Z",
     "start_time": "2024-07-11T02:02:41.500744Z"
    }
   },
   "id": "e475d4bf065eab1a",
   "execution_count": 6
  },
  {
   "cell_type": "code",
   "outputs": [
    {
     "name": "stdout",
     "output_type": "stream",
     "text": [
      "Extracting EDF parameters from C:\\Users\\gonza\\OneDrive\\Documentos\\ITBA\\TP FINAL PSIB\\eeg_dataset\\PN01\\PN01-1.edf...\n",
      "EDF file detected\n",
      "Setting channel info structure...\n",
      "Creating raw.info structure...\n",
      "\n",
      "\n",
      "Extracting EDF parameters from C:\\Users\\gonza\\OneDrive\\Documentos\\ITBA\\TP FINAL PSIB\\eeg_dataset\\PN05\\PN05-2.edf...\n",
      "EDF file detected\n",
      "Setting channel info structure...\n",
      "Creating raw.info structure...\n",
      "\n",
      "\n",
      "Extracting EDF parameters from C:\\Users\\gonza\\OneDrive\\Documentos\\ITBA\\TP FINAL PSIB\\eeg_dataset\\PN05\\PN05-3.edf...\n",
      "EDF file detected\n",
      "Setting channel info structure...\n",
      "Creating raw.info structure...\n",
      "\n",
      "\n",
      "Extracting EDF parameters from C:\\Users\\gonza\\OneDrive\\Documentos\\ITBA\\TP FINAL PSIB\\eeg_dataset\\PN05\\PN05-4.edf...\n",
      "EDF file detected\n",
      "Setting channel info structure...\n",
      "Creating raw.info structure...\n",
      "\n",
      "\n",
      "Extracting EDF parameters from C:\\Users\\gonza\\OneDrive\\Documentos\\ITBA\\TP FINAL PSIB\\eeg_dataset\\PN09\\PN09-1.edf...\n",
      "EDF file detected\n",
      "Setting channel info structure...\n",
      "Creating raw.info structure...\n",
      "\n",
      "\n",
      "Extracting EDF parameters from C:\\Users\\gonza\\OneDrive\\Documentos\\ITBA\\TP FINAL PSIB\\eeg_dataset\\PN09\\PN09-2.edf...\n",
      "EDF file detected\n",
      "Setting channel info structure...\n",
      "Creating raw.info structure...\n",
      "\n",
      "\n",
      "Extracting EDF parameters from C:\\Users\\gonza\\OneDrive\\Documentos\\ITBA\\TP FINAL PSIB\\eeg_dataset\\PN09\\PN09-3.edf...\n",
      "EDF file detected\n",
      "Setting channel info structure...\n",
      "Creating raw.info structure...\n",
      "\n",
      "\n",
      "Extracting EDF parameters from C:\\Users\\gonza\\OneDrive\\Documentos\\ITBA\\TP FINAL PSIB\\eeg_dataset\\PN12\\PN12-1.2.edf...\n",
      "EDF file detected\n",
      "Setting channel info structure...\n",
      "Creating raw.info structure...\n",
      "\n",
      "\n",
      "Extracting EDF parameters from C:\\Users\\gonza\\OneDrive\\Documentos\\ITBA\\TP FINAL PSIB\\eeg_dataset\\PN12\\PN12-3.edf...\n",
      "EDF file detected\n",
      "Setting channel info structure...\n",
      "Creating raw.info structure...\n",
      "\n",
      "\n",
      "Extracting EDF parameters from C:\\Users\\gonza\\OneDrive\\Documentos\\ITBA\\TP FINAL PSIB\\eeg_dataset\\PN12\\PN12-4.edf...\n",
      "EDF file detected\n",
      "Setting channel info structure...\n",
      "Creating raw.info structure...\n",
      "\n",
      "\n",
      "Extracting EDF parameters from C:\\Users\\gonza\\OneDrive\\Documentos\\ITBA\\TP FINAL PSIB\\eeg_dataset\\PN13\\PN13-1.edf...\n",
      "EDF file detected\n",
      "Setting channel info structure...\n",
      "Creating raw.info structure...\n",
      "\n",
      "\n",
      "Extracting EDF parameters from C:\\Users\\gonza\\OneDrive\\Documentos\\ITBA\\TP FINAL PSIB\\eeg_dataset\\PN13\\PN13-2.edf...\n",
      "EDF file detected\n",
      "Setting channel info structure...\n",
      "Creating raw.info structure...\n",
      "\n",
      "\n",
      "Extracting EDF parameters from C:\\Users\\gonza\\OneDrive\\Documentos\\ITBA\\TP FINAL PSIB\\eeg_dataset\\PN13\\PN13-3.edf...\n",
      "EDF file detected\n",
      "Setting channel info structure...\n",
      "Creating raw.info structure...\n",
      "\n",
      "\n",
      "Extracting EDF parameters from C:\\Users\\gonza\\OneDrive\\Documentos\\ITBA\\TP FINAL PSIB\\eeg_dataset\\PN16\\PN16-1.edf...\n",
      "EDF file detected\n",
      "Setting channel info structure...\n",
      "Creating raw.info structure...\n",
      "\n",
      "\n",
      "Extracting EDF parameters from C:\\Users\\gonza\\OneDrive\\Documentos\\ITBA\\TP FINAL PSIB\\eeg_dataset\\PN16\\PN16-2.edf...\n",
      "EDF file detected\n",
      "Setting channel info structure...\n",
      "Creating raw.info structure...\n"
     ]
    }
   ],
   "source": [
    "channels = ['EEG T3', 'EEG T5', 'EEG F7', 'EEG F3', 'EEG C3', 'EEG P3']\n",
    "segments = []\n",
    "labels = []\n",
    "fs = None\n",
    "\n",
    "with warnings.catch_warnings():\n",
    "    warnings.simplefilter(\"ignore\")\n",
    "    for edf in edf_names:\n",
    "        # Paso 1: duracion de señal y seizures\n",
    "        name = edf.split('/')[-1]\n",
    "        this_seizure_events = [seiz for seiz in seizure_events if seiz[\"file_name\"]==name]\n",
    "        \n",
    "        if len(this_seizure_events) == 0:\n",
    "            print('nada en', name)\n",
    "            continue\n",
    "            \n",
    "        ex_seiz = this_seizure_events[0]\n",
    "        mtx_t_reg = np.array([ex_seiz['registration_start_time'], ex_seiz['registration_end_time']])\n",
    "        arr_mtx_t_epi = get_seizure_array(this_seizure_events)\n",
    "    \n",
    "        # Paso 2: extraemos la señal\n",
    "        raw = io.read_raw_edf(edf)\n",
    "        print('\\n\\n')\n",
    "        if fs is None:\n",
    "            fs = raw.info['sfreq']\n",
    "        raw_filt = raw.pick(channels)\n",
    "        data_namefilt = raw_filt.get_data() * 1e6\n",
    "    \n",
    "        # Paso 3: sacamos segmentos\n",
    "        new_seg, new_label = getMeData(data_namefilt[0], \n",
    "                                       mtx_t_reg, \n",
    "                                       arr_mtx_t_epi, \n",
    "                                       winlen=5, \n",
    "                                       proportion=0.5)\n",
    "        segments.append(new_seg)\n",
    "        labels.append(new_label)\n",
    "        \n",
    "\n",
    "segments_arr = np.concatenate(segments)\n",
    "labels_arr = np.concatenate(labels)"
   ],
   "metadata": {
    "collapsed": false,
    "ExecuteTime": {
     "end_time": "2024-07-11T02:03:02.116367Z",
     "start_time": "2024-07-11T02:02:43.490034Z"
    }
   },
   "id": "17455898b128e512",
   "execution_count": 7
  },
  {
   "cell_type": "code",
   "outputs": [
    {
     "data": {
      "text/plain": "(487, 2560)"
     },
     "execution_count": 8,
     "metadata": {},
     "output_type": "execute_result"
    }
   ],
   "source": [
    "segments_arr.shape"
   ],
   "metadata": {
    "collapsed": false,
    "ExecuteTime": {
     "end_time": "2024-07-11T02:03:32.328434Z",
     "start_time": "2024-07-11T02:03:32.318452Z"
    }
   },
   "id": "7a12ca5c72ccc808",
   "execution_count": 8
  },
  {
   "cell_type": "code",
   "outputs": [
    {
     "data": {
      "text/plain": "     potAbsDelta  potAbsTheta  potAbsAlpha  potAbsBeta  potAbsGamma  kurtosis  \\\n0     224.468204    49.063105    14.648940   33.638190    28.857683  0.591504   \n1      28.784997  2248.650147   107.377205  101.383314    97.414858 -0.888499   \n2     861.532917  3556.901047   171.972027   60.928052    42.466373 -1.183761   \n3    2081.142124   406.701510    82.083284  134.108784   163.100911 -0.797705   \n4     567.047535   224.175886    86.558806   53.817700    16.894085 -0.468791   \n..           ...          ...          ...         ...          ...       ...   \n482    47.987498    11.920564     8.384573    5.768031     4.066788  2.297060   \n483    66.640676    16.552313    11.517604   25.508494    41.896944  0.277824   \n484    85.290623    42.500849    10.430781   31.352849    35.633767  1.011186   \n485    15.286387     3.895992     2.133297    4.851584     4.451669  2.568408   \n486     4.503448     1.477501     4.164769    4.300511     2.291683  0.348609   \n\n           RMS  skewness     media  desvio estandar  \n0    17.996653 -0.352057 -5.763255        17.048883  \n1    53.738004 -0.302102 -1.969028        53.701918  \n2    68.511380 -0.446759  2.709397        68.457785  \n3    53.462038 -0.421898 -0.601242        53.458657  \n4    29.548931 -0.317221  3.799468        29.303641  \n..         ...       ...       ...              ...  \n482   9.876487 -1.340477 -1.074054         9.817912  \n483  16.931781 -0.014402 -1.323342        16.879987  \n484  16.733378 -0.049506  0.566395        16.723790  \n485   8.222890 -1.197084  1.956171         7.986821  \n486   5.263500  0.028488 -2.190134         4.786204  \n\n[487 rows x 10 columns]",
      "text/html": "<div>\n<style scoped>\n    .dataframe tbody tr th:only-of-type {\n        vertical-align: middle;\n    }\n\n    .dataframe tbody tr th {\n        vertical-align: top;\n    }\n\n    .dataframe thead th {\n        text-align: right;\n    }\n</style>\n<table border=\"1\" class=\"dataframe\">\n  <thead>\n    <tr style=\"text-align: right;\">\n      <th></th>\n      <th>potAbsDelta</th>\n      <th>potAbsTheta</th>\n      <th>potAbsAlpha</th>\n      <th>potAbsBeta</th>\n      <th>potAbsGamma</th>\n      <th>kurtosis</th>\n      <th>RMS</th>\n      <th>skewness</th>\n      <th>media</th>\n      <th>desvio estandar</th>\n    </tr>\n  </thead>\n  <tbody>\n    <tr>\n      <th>0</th>\n      <td>224.468204</td>\n      <td>49.063105</td>\n      <td>14.648940</td>\n      <td>33.638190</td>\n      <td>28.857683</td>\n      <td>0.591504</td>\n      <td>17.996653</td>\n      <td>-0.352057</td>\n      <td>-5.763255</td>\n      <td>17.048883</td>\n    </tr>\n    <tr>\n      <th>1</th>\n      <td>28.784997</td>\n      <td>2248.650147</td>\n      <td>107.377205</td>\n      <td>101.383314</td>\n      <td>97.414858</td>\n      <td>-0.888499</td>\n      <td>53.738004</td>\n      <td>-0.302102</td>\n      <td>-1.969028</td>\n      <td>53.701918</td>\n    </tr>\n    <tr>\n      <th>2</th>\n      <td>861.532917</td>\n      <td>3556.901047</td>\n      <td>171.972027</td>\n      <td>60.928052</td>\n      <td>42.466373</td>\n      <td>-1.183761</td>\n      <td>68.511380</td>\n      <td>-0.446759</td>\n      <td>2.709397</td>\n      <td>68.457785</td>\n    </tr>\n    <tr>\n      <th>3</th>\n      <td>2081.142124</td>\n      <td>406.701510</td>\n      <td>82.083284</td>\n      <td>134.108784</td>\n      <td>163.100911</td>\n      <td>-0.797705</td>\n      <td>53.462038</td>\n      <td>-0.421898</td>\n      <td>-0.601242</td>\n      <td>53.458657</td>\n    </tr>\n    <tr>\n      <th>4</th>\n      <td>567.047535</td>\n      <td>224.175886</td>\n      <td>86.558806</td>\n      <td>53.817700</td>\n      <td>16.894085</td>\n      <td>-0.468791</td>\n      <td>29.548931</td>\n      <td>-0.317221</td>\n      <td>3.799468</td>\n      <td>29.303641</td>\n    </tr>\n    <tr>\n      <th>...</th>\n      <td>...</td>\n      <td>...</td>\n      <td>...</td>\n      <td>...</td>\n      <td>...</td>\n      <td>...</td>\n      <td>...</td>\n      <td>...</td>\n      <td>...</td>\n      <td>...</td>\n    </tr>\n    <tr>\n      <th>482</th>\n      <td>47.987498</td>\n      <td>11.920564</td>\n      <td>8.384573</td>\n      <td>5.768031</td>\n      <td>4.066788</td>\n      <td>2.297060</td>\n      <td>9.876487</td>\n      <td>-1.340477</td>\n      <td>-1.074054</td>\n      <td>9.817912</td>\n    </tr>\n    <tr>\n      <th>483</th>\n      <td>66.640676</td>\n      <td>16.552313</td>\n      <td>11.517604</td>\n      <td>25.508494</td>\n      <td>41.896944</td>\n      <td>0.277824</td>\n      <td>16.931781</td>\n      <td>-0.014402</td>\n      <td>-1.323342</td>\n      <td>16.879987</td>\n    </tr>\n    <tr>\n      <th>484</th>\n      <td>85.290623</td>\n      <td>42.500849</td>\n      <td>10.430781</td>\n      <td>31.352849</td>\n      <td>35.633767</td>\n      <td>1.011186</td>\n      <td>16.733378</td>\n      <td>-0.049506</td>\n      <td>0.566395</td>\n      <td>16.723790</td>\n    </tr>\n    <tr>\n      <th>485</th>\n      <td>15.286387</td>\n      <td>3.895992</td>\n      <td>2.133297</td>\n      <td>4.851584</td>\n      <td>4.451669</td>\n      <td>2.568408</td>\n      <td>8.222890</td>\n      <td>-1.197084</td>\n      <td>1.956171</td>\n      <td>7.986821</td>\n    </tr>\n    <tr>\n      <th>486</th>\n      <td>4.503448</td>\n      <td>1.477501</td>\n      <td>4.164769</td>\n      <td>4.300511</td>\n      <td>2.291683</td>\n      <td>0.348609</td>\n      <td>5.263500</td>\n      <td>0.028488</td>\n      <td>-2.190134</td>\n      <td>4.786204</td>\n    </tr>\n  </tbody>\n</table>\n<p>487 rows × 10 columns</p>\n</div>"
     },
     "execution_count": 9,
     "metadata": {},
     "output_type": "execute_result"
    }
   ],
   "source": [
    "# Potencia\n",
    "more_pot = pot4signals(segments_arr, fs, divisor=1)\n",
    "pot_names = [f\"potAbs{band.capitalize()}\" for band in BANDAS.keys()]\n",
    "\n",
    "# Estadistica\n",
    "stat_data = stats_features(segments_arr)\n",
    "stats_names = list(stat_data.values())[:-1]\n",
    "more_stat = stat_data[\"matriz de features stat\"]\n",
    "\n",
    "# Feature fector\n",
    "data_fv = np.hstack((more_pot, more_stat))\n",
    "columnas = pot_names + stats_names\n",
    "df_fv = pd.DataFrame(data_fv, columns=columnas)\n",
    "df_fv"
   ],
   "metadata": {
    "collapsed": false,
    "ExecuteTime": {
     "end_time": "2024-07-11T02:03:38.188876Z",
     "start_time": "2024-07-11T02:03:34.754361Z"
    }
   },
   "id": "f04ca05bad3ba8b5",
   "execution_count": 9
  },
  {
   "cell_type": "code",
   "outputs": [],
   "source": [
    "from sklearn.model_selection import train_test_split\n",
    "from sklearn.metrics import accuracy_score\n",
    "from sklearn.metrics import confusion_matrix\n",
    "from sklearn.svm import LinearSVC, SVC\n",
    "import seaborn as sns"
   ],
   "metadata": {
    "collapsed": false,
    "ExecuteTime": {
     "end_time": "2024-07-11T02:03:43.041402Z",
     "start_time": "2024-07-11T02:03:42.544219Z"
    }
   },
   "id": "473337a14e7c78ef",
   "execution_count": 10
  },
  {
   "cell_type": "code",
   "outputs": [],
   "source": [
    "train_x, test_x, train_y, test_y = train_test_split(df_fv, labels_arr, test_size=0.2, random_state=0)"
   ],
   "metadata": {
    "collapsed": false,
    "ExecuteTime": {
     "end_time": "2024-07-11T02:03:45.584270Z",
     "start_time": "2024-07-11T02:03:45.574725Z"
    }
   },
   "id": "1134371bf0e1b071",
   "execution_count": 11
  },
  {
   "cell_type": "code",
   "outputs": [
    {
     "name": "stdout",
     "output_type": "stream",
     "text": [
      "0.7755102040816326\n"
     ]
    },
    {
     "name": "stderr",
     "output_type": "stream",
     "text": [
      "C:\\Users\\gonza\\miniconda3\\envs\\psivenv\\Lib\\site-packages\\sklearn\\svm\\_base.py:1237: ConvergenceWarning: Liblinear failed to converge, increase the number of iterations.\n",
      "  warnings.warn(\n"
     ]
    },
    {
     "data": {
      "text/plain": "<Axes: >"
     },
     "execution_count": 12,
     "metadata": {},
     "output_type": "execute_result"
    },
    {
     "data": {
      "text/plain": "<Figure size 640x480 with 2 Axes>",
      "image/png": "[encoded data removed]"
     },
     "metadata": {},
     "output_type": "display_data"
    }
   ],
   "source": [
    "# testeamos en un modelo lineal\n",
    "linear_model = LinearSVC(dual=True)\n",
    "linear_model.fit(train_x, train_y)\n",
    "predictions = linear_model.predict(test_x)\n",
    "print(accuracy_score(test_y, predictions))\n",
    "cm = confusion_matrix(test_y, predictions)\n",
    "sns.heatmap(cm, cmap='Blues', annot=True)"
   ],
   "metadata": {
    "collapsed": false,
    "ExecuteTime": {
     "end_time": "2024-07-11T02:03:48.254311Z",
     "start_time": "2024-07-11T02:03:47.918204Z"
    }
   },
   "id": "8d5181be5f7a700c",
   "execution_count": 12
  },
  {
   "cell_type": "code",
   "outputs": [
    {
     "name": "stdout",
     "output_type": "stream",
     "text": [
      "0.6836734693877551\n"
     ]
    },
    {
     "data": {
      "text/plain": "<Axes: >"
     },
     "execution_count": 14,
     "metadata": {},
     "output_type": "execute_result"
    },
    {
     "data": {
      "text/plain": "<Figure size 640x480 with 2 Axes>",
      "image/png": "[encoded data removed]"
     },
     "metadata": {},
     "output_type": "display_data"
    }
   ],
   "source": [
    "# kernel\n",
    "rbf_model = SVC(kernel='rbf')\n",
    "rbf_model.fit(train_x, train_y)\n",
    "rbf_pred = rbf_model.predict(test_x)\n",
    "print(accuracy_score(test_y, rbf_pred))\n",
    "cm_rbf = confusion_matrix(test_y, rbf_pred)\n",
    "sns.heatmap(cm_rbf, annot=True, cmap='Blues')"
   ],
   "metadata": {
    "collapsed": false,
    "ExecuteTime": {
     "end_time": "2024-07-11T02:04:11.522875Z",
     "start_time": "2024-07-11T02:04:11.241636Z"
    }
   },
   "id": "fe4d19b662082a7c",
   "execution_count": 14
  },
  {
   "cell_type": "code",
   "outputs": [],
   "source": [],
   "metadata": {
    "collapsed": false
   },
   "id": "231b5581fead0dab"
  }
 ],
 "metadata": {
  "kernelspec": {
   "display_name": "Python 3",
   "language": "python",
   "name": "python3"
  },
  "language_info": {
   "codemirror_mode": {
    "name": "ipython",
    "version": 2
   },
   "file_extension": ".py",
   "mimetype": "text/x-python",
   "name": "python",
   "nbconvert_exporter": "python",
   "pygments_lexer": "ipython2",
   "version": "2.7.6"
  }
 },
 "nbformat": 4,
 "nbformat_minor": 5
}
