{
 "cells": [
  {
   "cell_type": "markdown",
   "source": [
    "# Prueba de la extración de feature vectors"
   ],
   "metadata": {
    "collapsed": false
   }
  },
  {
   "cell_type": "code",
   "execution_count": 16,
   "outputs": [],
   "source": [
    "#Importación de librerías\n",
    "import numpy as np\n",
    "import matplotlib.pyplot as plt\n",
    "import pandas as pd\n",
    "from mne import io\n",
    "import random\n",
    "import scipy.signal as signal\n",
    "from datetime import datetime, timedelta\n",
    "from FVfunctions import getMeData, pot4signals, BANDAS\n",
    "from features_stats import stats_features"
   ],
   "metadata": {
    "collapsed": false,
    "ExecuteTime": {
     "end_time": "2024-07-10T01:59:54.287623900Z",
     "start_time": "2024-07-10T01:59:54.271501500Z"
    }
   }
  },
  {
   "cell_type": "markdown",
   "source": [
    "#### 1. Lectura"
   ],
   "metadata": {
    "collapsed": false
   }
  },
  {
   "cell_type": "code",
   "execution_count": 6,
   "metadata": {
    "collapsed": true,
    "ExecuteTime": {
     "end_time": "2024-07-10T01:53:59.156515900Z",
     "start_time": "2024-07-10T01:53:59.127716500Z"
    }
   },
   "outputs": [
    {
     "name": "stdout",
     "output_type": "stream",
     "text": [
      "Extracting EDF parameters from C:\\Users\\gonza\\Documents\\ITBA\\2024 1C\\PSIB\\TP FINAL PSIB\\eeg_dataset\\physionet.org\\files\\siena-scalp-eeg\\1.0.0\\PN05\\PN05-2.edf...\n",
      "EDF file detected\n",
      "Setting channel info structure...\n",
      "Creating raw.info structure...\n"
     ]
    },
    {
     "name": "stderr",
     "output_type": "stream",
     "text": [
      "C:\\Users\\gonza\\AppData\\Local\\Temp\\ipykernel_19040\\2785477139.py:3: RuntimeWarning: Channels contain different highpass filters. Highest filter setting will be stored.\n",
      "  raw01 = io.read_raw_edf(path01)\n",
      "C:\\Users\\gonza\\AppData\\Local\\Temp\\ipykernel_19040\\2785477139.py:3: RuntimeWarning: Channels contain different lowpass filters. Lowest filter setting will be stored.\n",
      "  raw01 = io.read_raw_edf(path01)\n",
      "C:\\Users\\gonza\\AppData\\Local\\Temp\\ipykernel_19040\\2785477139.py:3: RuntimeWarning: Highpass cutoff frequency 15.91549 is greater than lowpass cutoff frequency 15.0, setting values to 0 and Nyquist.\n",
      "  raw01 = io.read_raw_edf(path01)\n"
     ]
    }
   ],
   "source": [
    "DATA_DIR = r\"../eeg_dataset/physionet.org/files/siena-scalp-eeg/1.0.0/\"\n",
    "path01 = rf\"{DATA_DIR}PN05/PN05-2.edf\"\n",
    "raw01 = io.read_raw_edf(path01)\n",
    "paciente = \"PN05\"\n",
    "realizacion = \"2\""
   ]
  },
  {
   "cell_type": "markdown",
   "source": [
    "#### 2. Info del archivo"
   ],
   "metadata": {
    "collapsed": false
   }
  },
  {
   "cell_type": "code",
   "execution_count": 7,
   "outputs": [
    {
     "name": "stdout",
     "output_type": "stream",
     "text": [
      "<Info | 8 non-empty values\n",
      " bads: []\n",
      " ch_names: EEG Fp1, EEG F3, EEG C3, EEG P3, EEG O1, EEG F7, EEG T3, EEG T5, ...\n",
      " chs: 37 EEG\n",
      " custom_ref_applied: False\n",
      " highpass: 0.0 Hz\n",
      " lowpass: 256.0 Hz\n",
      " meas_date: 2016-01-01 06:46:02 UTC\n",
      " nchan: 37\n",
      " projs: []\n",
      " sfreq: 512.0 Hz\n",
      " subject_info: 1 item (dict)\n",
      ">\n",
      "['EEG Fp1', 'EEG F3', 'EEG C3', 'EEG P3', 'EEG O1', 'EEG F7', 'EEG T3', 'EEG T5', 'EEG Fc1', 'EEG Fc5', 'EEG Cp1', 'EEG Cp5', 'EEG F9', 'EEG Fz', 'EEG Cz', 'EEG Pz', 'EEG F4', 'EEG C4', 'EEG P4', 'EEG O2', 'EEG F8', 'EEG T4', 'EEG T6', 'EEG Fc2', 'EEG Fc6', 'EEG Cp2', 'EEG Cp6', 'EEG F10', 'EKG EKG', 'SPO2', 'HR', '1', '2', 'EEG FP2', 'EEG P9', 'EEG P10', 'MK']\n"
     ]
    }
   ],
   "source": [
    "info = raw01.info\n",
    "print(info)\n",
    "print(info['ch_names'])"
   ],
   "metadata": {
    "collapsed": false,
    "ExecuteTime": {
     "end_time": "2024-07-10T01:54:35.856050600Z",
     "start_time": "2024-07-10T01:54:35.763090Z"
    }
   }
  },
  {
   "cell_type": "markdown",
   "source": [
    "#### 3. Obtención de las mediciones a utilizar y otros datos importantes"
   ],
   "metadata": {
    "collapsed": false
   }
  },
  {
   "cell_type": "code",
   "execution_count": 9,
   "outputs": [
    {
     "name": "stdout",
     "output_type": "stream",
     "text": [
      "Canales filtrados: ['EEG T3', 'EEG T5', 'EEG F7', 'EEG F3', 'EEG C3', 'EEG P3']\n",
      "Cantidad de canales resultantes: 6\n",
      "Cantidad de datos en cada canal: 4733440\n"
     ]
    }
   ],
   "source": [
    "# Se obtiene el nombre de todos los canales\n",
    "ch_nms = info[\"ch_names\"]\n",
    "\n",
    "# Se obtienen los canales seleccionados del lazo izquierdo\n",
    "filt_ch_nms = ['EEG T3','EEG T5','EEG F7','EEG F3','EEG C3','EEG P3']\n",
    "\n",
    "# Seleccionar los datos de los canales filtrados\n",
    "raw01_filt = raw01.pick(filt_ch_nms)\n",
    "\n",
    "# Obtener los datos de los canales filtrados por nombre\n",
    "data_namefilt = raw01_filt.get_data()\n",
    "\n",
    "# Se convierten las mediciones a microvoltios\n",
    "data_namefilt = data_namefilt * 1e6\n",
    "\n",
    "# Dimensiones de 'data_filt'\n",
    "dim_data_filt = np.shape(data_namefilt)\n",
    "\n",
    "# Verifición\n",
    "print(\"Canales filtrados:\", filt_ch_nms)\n",
    "print(f\"Cantidad de canales resultantes: {dim_data_filt[0]}\")\n",
    "print(f\"Cantidad de datos en cada canal: {dim_data_filt[1]}\")"
   ],
   "metadata": {
    "collapsed": false,
    "ExecuteTime": {
     "end_time": "2024-07-10T01:56:21.485703900Z",
     "start_time": "2024-07-10T01:56:20.421393300Z"
    }
   }
  },
  {
   "cell_type": "code",
   "execution_count": 12,
   "outputs": [
    {
     "name": "stdout",
     "output_type": "stream",
     "text": [
      "Frecuencia de muestreo: 512.0\n",
      "Instantes [s]: 0.0 ... 9244.998046875\n"
     ]
    }
   ],
   "source": [
    "# Frecuencia de muestreo y cantidad de muestras tomadas\n",
    "fs = info[\"sfreq\"]\n",
    "len_data = dim_data_filt[1]\n",
    "\n",
    "# Array de instantes\n",
    "start = 0\n",
    "stop = (1 / fs) * len_data\n",
    "arr_t = np.arange(start=start, stop=stop, step=(1 / fs))\n",
    "\n",
    "# Verificación de datos\n",
    "print(\"Frecuencia de muestreo:\", fs)\n",
    "print(\"Instantes [s]:\", arr_t[0], \"...\", arr_t[-1])"
   ],
   "metadata": {
    "collapsed": false,
    "ExecuteTime": {
     "end_time": "2024-07-10T01:57:26.953147300Z",
     "start_time": "2024-07-10T01:57:26.913136900Z"
    }
   }
  },
  {
   "cell_type": "markdown",
   "source": [
    "#### 4. getMeData"
   ],
   "metadata": {
    "collapsed": false
   }
  },
  {
   "cell_type": "code",
   "execution_count": 13,
   "outputs": [
    {
     "data": {
      "text/plain": "array([[ -6.44861197, -14.41007862, -21.80983335, ...,  -4.48831135,\n         -4.21901134,  -2.8510888 ],\n       [ -5.88095295,  -3.27032485,  -3.43263646, ...,  12.59162582,\n          7.36264985,   1.6076962 ],\n       [ -0.83301453,  -1.25101932,  -2.04141079, ..., -23.45783771,\n        -24.17600637, -25.67897428],\n       ...,\n       [  1.42387014,  15.37658334,  20.68476776, ...,  -8.07559469,\n          2.19308638,   7.77041711],\n       [  2.58004644,   3.13246292,   7.12263866, ..., -13.64886165,\n         -8.90348557,   2.76370664],\n       [  2.74120462,   3.6925565 ,   6.16416427, ..., -12.59219301,\n        -10.45325478,  -7.30344053]])"
     },
     "execution_count": 13,
     "metadata": {},
     "output_type": "execute_result"
    }
   ],
   "source": [
    "# Matriz de inicio de registro y final de registro\n",
    "mtx_t_reg = np.array([\"06.46.02\", \"09.19.47\"])\n",
    "\n",
    "# Array de matrices con instantes iniciales y finales de ataque epileptico\n",
    "mtx_inst1 = np.array([\"08.45.25\", \"08.46.00\"])\n",
    "arr_mtx_t_epi = np.array([mtx_inst1])\n",
    "\n",
    "# Utilización de la función para una única señal\n",
    "arr_seg, arr_labels = getMeData(sig=data_namefilt[0], mtx_t_reg=mtx_t_reg, arr_mtx_t_epi=arr_mtx_t_epi)\n",
    "arr_seg"
   ],
   "metadata": {
    "collapsed": false,
    "ExecuteTime": {
     "end_time": "2024-07-10T01:58:45.811627500Z",
     "start_time": "2024-07-10T01:58:45.621137300Z"
    }
   }
  },
  {
   "cell_type": "code",
   "execution_count": 17,
   "outputs": [
    {
     "data": {
      "text/plain": "    potAbsDelta  potAbsTheta  potAbsAlpha  potAbsBeta  potAbsGamma   kurtosis  \\\n0    217.644236    49.269005    89.263621   95.580341    55.646721   0.585607   \n1    178.283112    68.107614    68.265979   55.249263    21.184491   0.058750   \n2    148.265309    81.879942    29.160342   32.561074    17.223644   0.168532   \n3    131.956727    91.343940    18.468434   41.782452    16.610201  -0.005117   \n4    171.847087    80.592865    21.834394   24.324345     9.639249  -0.669140   \n5     49.951440   266.194512   118.488910   33.968660    10.059972  -0.137855   \n6     60.522752   694.580842   171.390084   42.324166     8.917114  -0.446337   \n7     46.869211   908.317318   155.500322   71.472523    11.021553  -0.840184   \n8     76.570210   566.605445    24.871353   73.751879    16.436683  -0.485127   \n9     80.895259    92.963097   126.074663  172.348406    22.912454   0.375545   \n10    58.127413   184.481562   138.894448  111.711624    36.401531  -0.292500   \n11   272.762987   190.845747   104.992354  116.896092    18.444992  -0.130723   \n12   170.215140   147.260703    37.550476  328.489103    30.948927  -0.371621   \n13    88.062812   126.965723    55.758595  358.267277    22.692121  -0.189563   \n14   179.996817   278.113893    81.967202  415.691161    22.750191   0.276095   \n15   104.185776   120.547317   103.407944  245.015747    10.387613   0.225576   \n16   245.126139    53.409973    29.434337   47.997457     5.302804  -0.150254   \n17     8.757715     4.846931    16.520582   74.290903    94.244241   0.464963   \n18     3.820942    21.998519    29.792647  123.207786    37.645870   0.187291   \n19    29.168684    18.534244    44.820869  281.570350   185.026258   0.845320   \n20    19.225917    16.956372    73.279868   42.634268     4.726588  -0.053253   \n21     6.905623     4.114948    19.018031   34.806429     8.770216  -0.010665   \n22    10.377877    15.853518    61.108268   91.019069    64.688063   0.749661   \n23     6.221059    12.072393    10.217895   19.103839     5.608521   0.536054   \n24     3.721038     6.747031    12.877575   39.265440     6.753829   1.078475   \n25    10.022677    10.629421    33.824450   28.556486     6.348735  -0.639939   \n26    12.213868    10.665672    84.550209   40.595268    14.920292   6.541796   \n27     3.823258    10.724541    47.006358   30.822295    41.709458   0.024039   \n28    11.870361     6.760667    10.804961   24.234161     3.650441   0.241347   \n29     5.072603    17.152102    33.577785   34.399905    27.802325  -0.078853   \n30     2.140070    14.261926    12.205819   34.636166     7.929806  -0.009430   \n31    34.749015    73.081469   124.841647  262.555668   160.718553   3.474113   \n32     5.173836    19.600964    24.243046   30.544055     3.955359   0.085961   \n33    20.481729    45.213971    69.231799   37.779708     3.231969   0.347450   \n34     9.480015    17.925751    31.086531   70.207023     2.004112   0.315538   \n35     8.494838    13.634310    20.455041   29.226978     6.300667   1.693593   \n36    13.140068    23.712387    41.059780   23.785551    11.844337   2.047041   \n37    11.514122    37.694064    51.281849  103.810642    87.256255  -0.232089   \n38    10.921033    47.448145   111.176843   29.806810    14.526189  13.316580   \n39     9.288572    16.539806    74.671594   98.336176    80.787474   0.059118   \n40     5.409059    29.003877   166.433310  105.695277   109.053017   0.195343   \n41    48.865596    76.441189    36.425782  102.761380    10.865359   2.015038   \n42    48.356734    28.037460   162.514381  108.313266    65.061558   1.736058   \n\n          RMS  skewness     media  desvio estandar  \n0   21.551527  0.285625  6.390122        20.582387  \n1   20.155965 -0.071286 -1.154695        20.122863  \n2   20.059845 -0.216411 -4.901466        19.451813  \n3   18.680859  0.482669 -0.225125        18.679502  \n4   17.785635 -0.056150  1.242607        17.742174  \n5   22.604525 -0.397360  2.536449        22.461767  \n6   30.976213 -0.094013 -0.918058        30.962606  \n7   33.378961 -0.038565  0.574652        33.374014  \n8   26.430783  0.213435  2.710957        26.291386  \n9   24.919111  0.079699 -3.971633        24.600574  \n10  23.331229 -0.175414 -0.616364        23.323086  \n11  25.537902 -0.154914 -0.048252        25.537856  \n12  28.059520 -0.087474 -1.298168        28.029475  \n13  24.085509 -0.089245 -0.023108        24.085498  \n14  25.946653  0.014294  0.280688        25.945135  \n15  25.910703 -0.540376 -0.416818        25.907350  \n16  22.826193 -0.094145  0.810528        22.811798  \n17  16.218223  0.181225  1.087309        16.181734  \n18  14.481838  0.149913  0.741787        14.462828  \n19  38.370482 -0.578695 -2.808348        38.267572  \n20  11.864220 -0.320497 -1.013889        11.820818  \n21   9.517265  0.055079  1.827440         9.340171  \n22  17.548953  0.469903 -0.903011        17.525704  \n23   9.057724 -0.285363  1.240346         8.972397  \n24   9.611894  0.070685  2.921297         9.157212  \n25  10.512268  0.118153  0.749035        10.485549  \n26  14.415685  0.966593  1.753548        14.308635  \n27  13.370773  0.060751  0.812088        13.346089  \n28   8.393874  0.131610  0.721675         8.362793  \n29  13.740549 -0.249736 -3.492052        13.289404  \n30   9.640402 -0.319671  2.207474         9.384263  \n31  29.051390  1.038733  2.958605        28.900345  \n32   9.105136 -0.050114  0.406897         9.096040  \n33  14.588976 -0.023847  2.421301        14.386644  \n34  11.306307 -0.227321  0.870675        11.272733  \n35  10.855649 -0.269739  0.031018        10.855605  \n36  12.750234 -0.806855  0.495941        12.740585  \n37  19.026689  0.157322  0.220203        19.025415  \n38  26.639553  1.456572  3.336359        26.429803  \n39  22.557121 -0.172546  0.644209        22.547920  \n40  20.950436  0.077152 -0.562073        20.942895  \n41  14.627145 -0.770599  0.966766        14.595161  \n42  19.350835  0.324010  1.433129        19.297693  ",
      "text/html": "<div>\n<style scoped>\n    .dataframe tbody tr th:only-of-type {\n        vertical-align: middle;\n    }\n\n    .dataframe tbody tr th {\n        vertical-align: top;\n    }\n\n    .dataframe thead th {\n        text-align: right;\n    }\n</style>\n<table border=\"1\" class=\"dataframe\">\n  <thead>\n    <tr style=\"text-align: right;\">\n      <th></th>\n      <th>potAbsDelta</th>\n      <th>potAbsTheta</th>\n      <th>potAbsAlpha</th>\n      <th>potAbsBeta</th>\n      <th>potAbsGamma</th>\n      <th>kurtosis</th>\n      <th>RMS</th>\n      <th>skewness</th>\n      <th>media</th>\n      <th>desvio estandar</th>\n    </tr>\n  </thead>\n  <tbody>\n    <tr>\n      <th>0</th>\n      <td>217.644236</td>\n      <td>49.269005</td>\n      <td>89.263621</td>\n      <td>95.580341</td>\n      <td>55.646721</td>\n      <td>0.585607</td>\n      <td>21.551527</td>\n      <td>0.285625</td>\n      <td>6.390122</td>\n      <td>20.582387</td>\n    </tr>\n    <tr>\n      <th>1</th>\n      <td>178.283112</td>\n      <td>68.107614</td>\n      <td>68.265979</td>\n      <td>55.249263</td>\n      <td>21.184491</td>\n      <td>0.058750</td>\n      <td>20.155965</td>\n      <td>-0.071286</td>\n      <td>-1.154695</td>\n      <td>20.122863</td>\n    </tr>\n    <tr>\n      <th>2</th>\n      <td>148.265309</td>\n      <td>81.879942</td>\n      <td>29.160342</td>\n      <td>32.561074</td>\n      <td>17.223644</td>\n      <td>0.168532</td>\n      <td>20.059845</td>\n      <td>-0.216411</td>\n      <td>-4.901466</td>\n      <td>19.451813</td>\n    </tr>\n    <tr>\n      <th>3</th>\n      <td>131.956727</td>\n      <td>91.343940</td>\n      <td>18.468434</td>\n      <td>41.782452</td>\n      <td>16.610201</td>\n      <td>-0.005117</td>\n      <td>18.680859</td>\n      <td>0.482669</td>\n      <td>-0.225125</td>\n      <td>18.679502</td>\n    </tr>\n    <tr>\n      <th>4</th>\n      <td>171.847087</td>\n      <td>80.592865</td>\n      <td>21.834394</td>\n      <td>24.324345</td>\n      <td>9.639249</td>\n      <td>-0.669140</td>\n      <td>17.785635</td>\n      <td>-0.056150</td>\n      <td>1.242607</td>\n      <td>17.742174</td>\n    </tr>\n    <tr>\n      <th>5</th>\n      <td>49.951440</td>\n      <td>266.194512</td>\n      <td>118.488910</td>\n      <td>33.968660</td>\n      <td>10.059972</td>\n      <td>-0.137855</td>\n      <td>22.604525</td>\n      <td>-0.397360</td>\n      <td>2.536449</td>\n      <td>22.461767</td>\n    </tr>\n    <tr>\n      <th>6</th>\n      <td>60.522752</td>\n      <td>694.580842</td>\n      <td>171.390084</td>\n      <td>42.324166</td>\n      <td>8.917114</td>\n      <td>-0.446337</td>\n      <td>30.976213</td>\n      <td>-0.094013</td>\n      <td>-0.918058</td>\n      <td>30.962606</td>\n    </tr>\n    <tr>\n      <th>7</th>\n      <td>46.869211</td>\n      <td>908.317318</td>\n      <td>155.500322</td>\n      <td>71.472523</td>\n      <td>11.021553</td>\n      <td>-0.840184</td>\n      <td>33.378961</td>\n      <td>-0.038565</td>\n      <td>0.574652</td>\n      <td>33.374014</td>\n    </tr>\n    <tr>\n      <th>8</th>\n      <td>76.570210</td>\n      <td>566.605445</td>\n      <td>24.871353</td>\n      <td>73.751879</td>\n      <td>16.436683</td>\n      <td>-0.485127</td>\n      <td>26.430783</td>\n      <td>0.213435</td>\n      <td>2.710957</td>\n      <td>26.291386</td>\n    </tr>\n    <tr>\n      <th>9</th>\n      <td>80.895259</td>\n      <td>92.963097</td>\n      <td>126.074663</td>\n      <td>172.348406</td>\n      <td>22.912454</td>\n      <td>0.375545</td>\n      <td>24.919111</td>\n      <td>0.079699</td>\n      <td>-3.971633</td>\n      <td>24.600574</td>\n    </tr>\n    <tr>\n      <th>10</th>\n      <td>58.127413</td>\n      <td>184.481562</td>\n      <td>138.894448</td>\n      <td>111.711624</td>\n      <td>36.401531</td>\n      <td>-0.292500</td>\n      <td>23.331229</td>\n      <td>-0.175414</td>\n      <td>-0.616364</td>\n      <td>23.323086</td>\n    </tr>\n    <tr>\n      <th>11</th>\n      <td>272.762987</td>\n      <td>190.845747</td>\n      <td>104.992354</td>\n      <td>116.896092</td>\n      <td>18.444992</td>\n      <td>-0.130723</td>\n      <td>25.537902</td>\n      <td>-0.154914</td>\n      <td>-0.048252</td>\n      <td>25.537856</td>\n    </tr>\n    <tr>\n      <th>12</th>\n      <td>170.215140</td>\n      <td>147.260703</td>\n      <td>37.550476</td>\n      <td>328.489103</td>\n      <td>30.948927</td>\n      <td>-0.371621</td>\n      <td>28.059520</td>\n      <td>-0.087474</td>\n      <td>-1.298168</td>\n      <td>28.029475</td>\n    </tr>\n    <tr>\n      <th>13</th>\n      <td>88.062812</td>\n      <td>126.965723</td>\n      <td>55.758595</td>\n      <td>358.267277</td>\n      <td>22.692121</td>\n      <td>-0.189563</td>\n      <td>24.085509</td>\n      <td>-0.089245</td>\n      <td>-0.023108</td>\n      <td>24.085498</td>\n    </tr>\n    <tr>\n      <th>14</th>\n      <td>179.996817</td>\n      <td>278.113893</td>\n      <td>81.967202</td>\n      <td>415.691161</td>\n      <td>22.750191</td>\n      <td>0.276095</td>\n      <td>25.946653</td>\n      <td>0.014294</td>\n      <td>0.280688</td>\n      <td>25.945135</td>\n    </tr>\n    <tr>\n      <th>15</th>\n      <td>104.185776</td>\n      <td>120.547317</td>\n      <td>103.407944</td>\n      <td>245.015747</td>\n      <td>10.387613</td>\n      <td>0.225576</td>\n      <td>25.910703</td>\n      <td>-0.540376</td>\n      <td>-0.416818</td>\n      <td>25.907350</td>\n    </tr>\n    <tr>\n      <th>16</th>\n      <td>245.126139</td>\n      <td>53.409973</td>\n      <td>29.434337</td>\n      <td>47.997457</td>\n      <td>5.302804</td>\n      <td>-0.150254</td>\n      <td>22.826193</td>\n      <td>-0.094145</td>\n      <td>0.810528</td>\n      <td>22.811798</td>\n    </tr>\n    <tr>\n      <th>17</th>\n      <td>8.757715</td>\n      <td>4.846931</td>\n      <td>16.520582</td>\n      <td>74.290903</td>\n      <td>94.244241</td>\n      <td>0.464963</td>\n      <td>16.218223</td>\n      <td>0.181225</td>\n      <td>1.087309</td>\n      <td>16.181734</td>\n    </tr>\n    <tr>\n      <th>18</th>\n      <td>3.820942</td>\n      <td>21.998519</td>\n      <td>29.792647</td>\n      <td>123.207786</td>\n      <td>37.645870</td>\n      <td>0.187291</td>\n      <td>14.481838</td>\n      <td>0.149913</td>\n      <td>0.741787</td>\n      <td>14.462828</td>\n    </tr>\n    <tr>\n      <th>19</th>\n      <td>29.168684</td>\n      <td>18.534244</td>\n      <td>44.820869</td>\n      <td>281.570350</td>\n      <td>185.026258</td>\n      <td>0.845320</td>\n      <td>38.370482</td>\n      <td>-0.578695</td>\n      <td>-2.808348</td>\n      <td>38.267572</td>\n    </tr>\n    <tr>\n      <th>20</th>\n      <td>19.225917</td>\n      <td>16.956372</td>\n      <td>73.279868</td>\n      <td>42.634268</td>\n      <td>4.726588</td>\n      <td>-0.053253</td>\n      <td>11.864220</td>\n      <td>-0.320497</td>\n      <td>-1.013889</td>\n      <td>11.820818</td>\n    </tr>\n    <tr>\n      <th>21</th>\n      <td>6.905623</td>\n      <td>4.114948</td>\n      <td>19.018031</td>\n      <td>34.806429</td>\n      <td>8.770216</td>\n      <td>-0.010665</td>\n      <td>9.517265</td>\n      <td>0.055079</td>\n      <td>1.827440</td>\n      <td>9.340171</td>\n    </tr>\n    <tr>\n      <th>22</th>\n      <td>10.377877</td>\n      <td>15.853518</td>\n      <td>61.108268</td>\n      <td>91.019069</td>\n      <td>64.688063</td>\n      <td>0.749661</td>\n      <td>17.548953</td>\n      <td>0.469903</td>\n      <td>-0.903011</td>\n      <td>17.525704</td>\n    </tr>\n    <tr>\n      <th>23</th>\n      <td>6.221059</td>\n      <td>12.072393</td>\n      <td>10.217895</td>\n      <td>19.103839</td>\n      <td>5.608521</td>\n      <td>0.536054</td>\n      <td>9.057724</td>\n      <td>-0.285363</td>\n      <td>1.240346</td>\n      <td>8.972397</td>\n    </tr>\n    <tr>\n      <th>24</th>\n      <td>3.721038</td>\n      <td>6.747031</td>\n      <td>12.877575</td>\n      <td>39.265440</td>\n      <td>6.753829</td>\n      <td>1.078475</td>\n      <td>9.611894</td>\n      <td>0.070685</td>\n      <td>2.921297</td>\n      <td>9.157212</td>\n    </tr>\n    <tr>\n      <th>25</th>\n      <td>10.022677</td>\n      <td>10.629421</td>\n      <td>33.824450</td>\n      <td>28.556486</td>\n      <td>6.348735</td>\n      <td>-0.639939</td>\n      <td>10.512268</td>\n      <td>0.118153</td>\n      <td>0.749035</td>\n      <td>10.485549</td>\n    </tr>\n    <tr>\n      <th>26</th>\n      <td>12.213868</td>\n      <td>10.665672</td>\n      <td>84.550209</td>\n      <td>40.595268</td>\n      <td>14.920292</td>\n      <td>6.541796</td>\n      <td>14.415685</td>\n      <td>0.966593</td>\n      <td>1.753548</td>\n      <td>14.308635</td>\n    </tr>\n    <tr>\n      <th>27</th>\n      <td>3.823258</td>\n      <td>10.724541</td>\n      <td>47.006358</td>\n      <td>30.822295</td>\n      <td>41.709458</td>\n      <td>0.024039</td>\n      <td>13.370773</td>\n      <td>0.060751</td>\n      <td>0.812088</td>\n      <td>13.346089</td>\n    </tr>\n    <tr>\n      <th>28</th>\n      <td>11.870361</td>\n      <td>6.760667</td>\n      <td>10.804961</td>\n      <td>24.234161</td>\n      <td>3.650441</td>\n      <td>0.241347</td>\n      <td>8.393874</td>\n      <td>0.131610</td>\n      <td>0.721675</td>\n      <td>8.362793</td>\n    </tr>\n    <tr>\n      <th>29</th>\n      <td>5.072603</td>\n      <td>17.152102</td>\n      <td>33.577785</td>\n      <td>34.399905</td>\n      <td>27.802325</td>\n      <td>-0.078853</td>\n      <td>13.740549</td>\n      <td>-0.249736</td>\n      <td>-3.492052</td>\n      <td>13.289404</td>\n    </tr>\n    <tr>\n      <th>30</th>\n      <td>2.140070</td>\n      <td>14.261926</td>\n      <td>12.205819</td>\n      <td>34.636166</td>\n      <td>7.929806</td>\n      <td>-0.009430</td>\n      <td>9.640402</td>\n      <td>-0.319671</td>\n      <td>2.207474</td>\n      <td>9.384263</td>\n    </tr>\n    <tr>\n      <th>31</th>\n      <td>34.749015</td>\n      <td>73.081469</td>\n      <td>124.841647</td>\n      <td>262.555668</td>\n      <td>160.718553</td>\n      <td>3.474113</td>\n      <td>29.051390</td>\n      <td>1.038733</td>\n      <td>2.958605</td>\n      <td>28.900345</td>\n    </tr>\n    <tr>\n      <th>32</th>\n      <td>5.173836</td>\n      <td>19.600964</td>\n      <td>24.243046</td>\n      <td>30.544055</td>\n      <td>3.955359</td>\n      <td>0.085961</td>\n      <td>9.105136</td>\n      <td>-0.050114</td>\n      <td>0.406897</td>\n      <td>9.096040</td>\n    </tr>\n    <tr>\n      <th>33</th>\n      <td>20.481729</td>\n      <td>45.213971</td>\n      <td>69.231799</td>\n      <td>37.779708</td>\n      <td>3.231969</td>\n      <td>0.347450</td>\n      <td>14.588976</td>\n      <td>-0.023847</td>\n      <td>2.421301</td>\n      <td>14.386644</td>\n    </tr>\n    <tr>\n      <th>34</th>\n      <td>9.480015</td>\n      <td>17.925751</td>\n      <td>31.086531</td>\n      <td>70.207023</td>\n      <td>2.004112</td>\n      <td>0.315538</td>\n      <td>11.306307</td>\n      <td>-0.227321</td>\n      <td>0.870675</td>\n      <td>11.272733</td>\n    </tr>\n    <tr>\n      <th>35</th>\n      <td>8.494838</td>\n      <td>13.634310</td>\n      <td>20.455041</td>\n      <td>29.226978</td>\n      <td>6.300667</td>\n      <td>1.693593</td>\n      <td>10.855649</td>\n      <td>-0.269739</td>\n      <td>0.031018</td>\n      <td>10.855605</td>\n    </tr>\n    <tr>\n      <th>36</th>\n      <td>13.140068</td>\n      <td>23.712387</td>\n      <td>41.059780</td>\n      <td>23.785551</td>\n      <td>11.844337</td>\n      <td>2.047041</td>\n      <td>12.750234</td>\n      <td>-0.806855</td>\n      <td>0.495941</td>\n      <td>12.740585</td>\n    </tr>\n    <tr>\n      <th>37</th>\n      <td>11.514122</td>\n      <td>37.694064</td>\n      <td>51.281849</td>\n      <td>103.810642</td>\n      <td>87.256255</td>\n      <td>-0.232089</td>\n      <td>19.026689</td>\n      <td>0.157322</td>\n      <td>0.220203</td>\n      <td>19.025415</td>\n    </tr>\n    <tr>\n      <th>38</th>\n      <td>10.921033</td>\n      <td>47.448145</td>\n      <td>111.176843</td>\n      <td>29.806810</td>\n      <td>14.526189</td>\n      <td>13.316580</td>\n      <td>26.639553</td>\n      <td>1.456572</td>\n      <td>3.336359</td>\n      <td>26.429803</td>\n    </tr>\n    <tr>\n      <th>39</th>\n      <td>9.288572</td>\n      <td>16.539806</td>\n      <td>74.671594</td>\n      <td>98.336176</td>\n      <td>80.787474</td>\n      <td>0.059118</td>\n      <td>22.557121</td>\n      <td>-0.172546</td>\n      <td>0.644209</td>\n      <td>22.547920</td>\n    </tr>\n    <tr>\n      <th>40</th>\n      <td>5.409059</td>\n      <td>29.003877</td>\n      <td>166.433310</td>\n      <td>105.695277</td>\n      <td>109.053017</td>\n      <td>0.195343</td>\n      <td>20.950436</td>\n      <td>0.077152</td>\n      <td>-0.562073</td>\n      <td>20.942895</td>\n    </tr>\n    <tr>\n      <th>41</th>\n      <td>48.865596</td>\n      <td>76.441189</td>\n      <td>36.425782</td>\n      <td>102.761380</td>\n      <td>10.865359</td>\n      <td>2.015038</td>\n      <td>14.627145</td>\n      <td>-0.770599</td>\n      <td>0.966766</td>\n      <td>14.595161</td>\n    </tr>\n    <tr>\n      <th>42</th>\n      <td>48.356734</td>\n      <td>28.037460</td>\n      <td>162.514381</td>\n      <td>108.313266</td>\n      <td>65.061558</td>\n      <td>1.736058</td>\n      <td>19.350835</td>\n      <td>0.324010</td>\n      <td>1.433129</td>\n      <td>19.297693</td>\n    </tr>\n  </tbody>\n</table>\n</div>"
     },
     "execution_count": 17,
     "metadata": {},
     "output_type": "execute_result"
    }
   ],
   "source": [
    "# Potencia\n",
    "pot_seg = pot4signals(arr_seg, fs, divisor=1)\n",
    "pot_names = [f\"potAbs{band.capitalize()}\" for band in BANDAS.keys()]\n",
    "\n",
    "# Estadistica\n",
    "stats_data = stats_features(arr_seg)\n",
    "stats_names = list(stats_data.values())[:-1]\n",
    "stats_seg = stats_data[\"matriz de features stat\"]\n",
    "\n",
    "# Feature fector\n",
    "arr_fv = np.hstack((pot_seg, stats_seg))\n",
    "columnas = pot_names + stats_names\n",
    "df_fv = pd.DataFrame(data=arr_fv, columns=columnas)\n",
    "df_fv"
   ],
   "metadata": {
    "collapsed": false,
    "ExecuteTime": {
     "end_time": "2024-07-10T02:00:07.261549500Z",
     "start_time": "2024-07-10T02:00:06.483364300Z"
    }
   }
  }
 ],
 "metadata": {
  "kernelspec": {
   "display_name": "Python 3",
   "language": "python",
   "name": "python3"
  },
  "language_info": {
   "codemirror_mode": {
    "name": "ipython",
    "version": 2
   },
   "file_extension": ".py",
   "mimetype": "text/x-python",
   "name": "python",
   "nbconvert_exporter": "python",
   "pygments_lexer": "ipython2",
   "version": "2.7.6"
  }
 },
 "nbformat": 4,
 "nbformat_minor": 0
}
