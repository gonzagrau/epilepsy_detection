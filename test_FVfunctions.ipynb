{
 "cells": [
  {
   "cell_type": "markdown",
   "source": [
    "# Prueba de la extración de feature vectors"
   ],
   "metadata": {
    "collapsed": false
   }
  },
  {
   "cell_type": "code",
   "execution_count": 19,
   "outputs": [],
   "source": [
    "#Importación de librerías\n",
    "import numpy as np\n",
    "import matplotlib.pyplot as plt\n",
    "import pandas as pd\n",
    "from mne import io\n",
    "import random\n",
    "import scipy.signal as signal\n",
    "from datetime import datetime, timedelta\n",
    "from FVfunctions import getMeData, pot4signals, BANDAS\n",
    "from features_stats import stats_features\n",
    "from dataset_reader import get_seizure_events, get_seizure_array"
   ],
   "metadata": {
    "collapsed": false,
    "ExecuteTime": {
     "end_time": "2024-07-10T03:25:10.168546700Z",
     "start_time": "2024-07-10T03:25:10.128961800Z"
    }
   }
  },
  {
   "cell_type": "markdown",
   "source": [
    "#### 1. Lectura"
   ],
   "metadata": {
    "collapsed": false
   }
  },
  {
   "cell_type": "code",
   "execution_count": 6,
   "metadata": {
    "collapsed": true,
    "ExecuteTime": {
     "end_time": "2024-07-10T01:53:59.156515900Z",
     "start_time": "2024-07-10T01:53:59.127716500Z"
    }
   },
   "outputs": [
    {
     "name": "stdout",
     "output_type": "stream",
     "text": [
      "Extracting EDF parameters from C:\\Users\\gonza\\Documents\\ITBA\\2024 1C\\PSIB\\TP FINAL PSIB\\eeg_dataset\\physionet.org\\files\\siena-scalp-eeg\\1.0.0\\PN05\\PN05-2.edf...\n",
      "EDF file detected\n",
      "Setting channel info structure...\n",
      "Creating raw.info structure...\n"
     ]
    },
    {
     "name": "stderr",
     "output_type": "stream",
     "text": [
      "C:\\Users\\gonza\\AppData\\Local\\Temp\\ipykernel_19040\\2785477139.py:3: RuntimeWarning: Channels contain different highpass filters. Highest filter setting will be stored.\n",
      "  raw01 = io.read_raw_edf(path01)\n",
      "C:\\Users\\gonza\\AppData\\Local\\Temp\\ipykernel_19040\\2785477139.py:3: RuntimeWarning: Channels contain different lowpass filters. Lowest filter setting will be stored.\n",
      "  raw01 = io.read_raw_edf(path01)\n",
      "C:\\Users\\gonza\\AppData\\Local\\Temp\\ipykernel_19040\\2785477139.py:3: RuntimeWarning: Highpass cutoff frequency 15.91549 is greater than lowpass cutoff frequency 15.0, setting values to 0 and Nyquist.\n",
      "  raw01 = io.read_raw_edf(path01)\n"
     ]
    }
   ],
   "source": [
    "DATA_DIR = r\"../eeg_dataset/physionet.org/files/siena-scalp-eeg/1.0.0/\"\n",
    "path01 = rf\"{DATA_DIR}PN05/PN05-2.edf\"\n",
    "raw01 = io.read_raw_edf(path01)\n",
    "paciente = \"PN05\"\n",
    "realizacion = \"2\""
   ]
  },
  {
   "cell_type": "markdown",
   "source": [
    "#### 2. Info del archivo"
   ],
   "metadata": {
    "collapsed": false
   }
  },
  {
   "cell_type": "code",
   "execution_count": 7,
   "outputs": [
    {
     "name": "stdout",
     "output_type": "stream",
     "text": [
      "<Info | 8 non-empty values\n",
      " bads: []\n",
      " ch_names: EEG Fp1, EEG F3, EEG C3, EEG P3, EEG O1, EEG F7, EEG T3, EEG T5, ...\n",
      " chs: 37 EEG\n",
      " custom_ref_applied: False\n",
      " highpass: 0.0 Hz\n",
      " lowpass: 256.0 Hz\n",
      " meas_date: 2016-01-01 06:46:02 UTC\n",
      " nchan: 37\n",
      " projs: []\n",
      " sfreq: 512.0 Hz\n",
      " subject_info: 1 item (dict)\n",
      ">\n",
      "['EEG Fp1', 'EEG F3', 'EEG C3', 'EEG P3', 'EEG O1', 'EEG F7', 'EEG T3', 'EEG T5', 'EEG Fc1', 'EEG Fc5', 'EEG Cp1', 'EEG Cp5', 'EEG F9', 'EEG Fz', 'EEG Cz', 'EEG Pz', 'EEG F4', 'EEG C4', 'EEG P4', 'EEG O2', 'EEG F8', 'EEG T4', 'EEG T6', 'EEG Fc2', 'EEG Fc6', 'EEG Cp2', 'EEG Cp6', 'EEG F10', 'EKG EKG', 'SPO2', 'HR', '1', '2', 'EEG FP2', 'EEG P9', 'EEG P10', 'MK']\n"
     ]
    }
   ],
   "source": [
    "info = raw01.info\n",
    "print(info)\n",
    "print(info['ch_names'])"
   ],
   "metadata": {
    "collapsed": false,
    "ExecuteTime": {
     "end_time": "2024-07-10T01:54:35.856050600Z",
     "start_time": "2024-07-10T01:54:35.763090Z"
    }
   }
  },
  {
   "cell_type": "markdown",
   "source": [
    "#### 3. Obtención de las mediciones a utilizar y otros datos importantes"
   ],
   "metadata": {
    "collapsed": false
   }
  },
  {
   "cell_type": "code",
   "execution_count": 9,
   "outputs": [
    {
     "name": "stdout",
     "output_type": "stream",
     "text": [
      "Canales filtrados: ['EEG T3', 'EEG T5', 'EEG F7', 'EEG F3', 'EEG C3', 'EEG P3']\n",
      "Cantidad de canales resultantes: 6\n",
      "Cantidad de datos en cada canal: 4733440\n"
     ]
    }
   ],
   "source": [
    "# Se obtiene el nombre de todos los canales\n",
    "ch_nms = info[\"ch_names\"]\n",
    "\n",
    "# Se obtienen los canales seleccionados del lazo izquierdo\n",
    "filt_ch_nms = ['EEG T3','EEG T5','EEG F7','EEG F3','EEG C3','EEG P3']\n",
    "\n",
    "# Seleccionar los datos de los canales filtrados\n",
    "raw01_filt = raw01.pick(filt_ch_nms)\n",
    "\n",
    "# Obtener los datos de los canales filtrados por nombre\n",
    "data_namefilt = raw01_filt.get_data()\n",
    "\n",
    "# Se convierten las mediciones a microvoltios\n",
    "data_namefilt = data_namefilt * 1e6\n",
    "\n",
    "# Dimensiones de 'data_filt'\n",
    "dim_data_filt = np.shape(data_namefilt)\n",
    "\n",
    "# Verifición\n",
    "print(\"Canales filtrados:\", filt_ch_nms)\n",
    "print(f\"Cantidad de canales resultantes: {dim_data_filt[0]}\")\n",
    "print(f\"Cantidad de datos en cada canal: {dim_data_filt[1]}\")"
   ],
   "metadata": {
    "collapsed": false,
    "ExecuteTime": {
     "end_time": "2024-07-10T01:56:21.485703900Z",
     "start_time": "2024-07-10T01:56:20.421393300Z"
    }
   }
  },
  {
   "cell_type": "code",
   "execution_count": 12,
   "outputs": [
    {
     "name": "stdout",
     "output_type": "stream",
     "text": [
      "Frecuencia de muestreo: 512.0\n",
      "Instantes [s]: 0.0 ... 9244.998046875\n"
     ]
    }
   ],
   "source": [
    "# Frecuencia de muestreo y cantidad de muestras tomadas\n",
    "fs = info[\"sfreq\"]\n",
    "len_data = dim_data_filt[1]\n",
    "\n",
    "# Array de instantes\n",
    "start = 0\n",
    "stop = (1 / fs) * len_data\n",
    "arr_t = np.arange(start=start, stop=stop, step=(1 / fs))\n",
    "\n",
    "# Verificación de datos\n",
    "print(\"Frecuencia de muestreo:\", fs)\n",
    "print(\"Instantes [s]:\", arr_t[0], \"...\", arr_t[-1])"
   ],
   "metadata": {
    "collapsed": false,
    "ExecuteTime": {
     "end_time": "2024-07-10T01:57:26.953147300Z",
     "start_time": "2024-07-10T01:57:26.913136900Z"
    }
   }
  },
  {
   "cell_type": "markdown",
   "source": [
    "#### 4. getMeData"
   ],
   "metadata": {
    "collapsed": false
   }
  },
  {
   "cell_type": "code",
   "execution_count": 22,
   "outputs": [
    {
     "data": {
      "text/plain": "[{'seizure_number': 2,\n  'file_name': 'PN05-2.edf',\n  'registration_start_time': '06.46.02',\n  'registration_end_time': '09.19.47',\n  'seizure_start_time': '08.45.25',\n  'seizure_end_time': '08.46.00'}]"
     },
     "execution_count": 22,
     "metadata": {},
     "output_type": "execute_result"
    }
   ],
   "source": [
    "# Encontramos las seizures del archivo\n",
    "path_seiz = rf\"{DATA_DIR}PN05/Seizures-list-PN05.txt\"\n",
    "seizures = get_seizure_events(path_seiz)\n",
    "seizures_in_02 = [seiz for seiz in seizures if seiz[\"file_name\"] == \"PN05-2.edf\"]\n",
    "arr_mtx_t_epi = get_seizure_array(seizures_in_02)\n",
    "seizures_in_02"
   ],
   "metadata": {
    "collapsed": false,
    "ExecuteTime": {
     "end_time": "2024-07-10T03:28:06.892187600Z",
     "start_time": "2024-07-10T03:28:06.872112200Z"
    }
   }
  },
  {
   "cell_type": "code",
   "execution_count": 23,
   "outputs": [
    {
     "data": {
      "text/plain": "array([[ -6.44861197, -14.41007862, -21.80983335, ...,  -4.48831135,\n         -4.21901134,  -2.8510888 ],\n       [ -5.88095295,  -3.27032485,  -3.43263646, ...,  12.59162582,\n          7.36264985,   1.6076962 ],\n       [ -0.83301453,  -1.25101932,  -2.04141079, ..., -23.45783771,\n        -24.17600637, -25.67897428],\n       ...,\n       [  0.27892381,   2.93108426,   5.18785783, ...,  -3.71822747,\n          0.20019193,   2.69750499],\n       [  0.43146587,  -2.62196953,  -3.05619533, ...,  -5.29018175,\n         -3.0133207 ,   0.32962988],\n       [  0.82660546,   2.6589613 ,   2.31354896, ...,  -0.96321824,\n          0.98874327,   2.69161266]])"
     },
     "execution_count": 23,
     "metadata": {},
     "output_type": "execute_result"
    }
   ],
   "source": [
    "# Matriz de inicio de registro y final de registro\n",
    "seiz = seizures_in_02[0] # una sola !!\n",
    "mtx_t_reg = np.array([seiz['registration_start_time'], seiz['registration_end_time']])\n",
    "\n",
    "# Utilización de la función para una única señal\n",
    "arr_seg, arr_labels = getMeData(sig=data_namefilt[0], mtx_t_reg=mtx_t_reg, arr_mtx_t_epi=arr_mtx_t_epi)\n",
    "arr_seg"
   ],
   "metadata": {
    "collapsed": false,
    "ExecuteTime": {
     "end_time": "2024-07-10T03:28:13.858450Z",
     "start_time": "2024-07-10T03:28:13.745723100Z"
    }
   }
  },
  {
   "cell_type": "code",
   "execution_count": 24,
   "outputs": [
    {
     "data": {
      "text/plain": "    potAbsDelta  potAbsTheta  potAbsAlpha  potAbsBeta  potAbsGamma  kurtosis  \\\n0    217.644236    49.269005    89.263621   95.580341    55.646721  0.585607   \n1    178.283112    68.107614    68.265979   55.249263    21.184491  0.058750   \n2    148.265309    81.879942    29.160342   32.561074    17.223644  0.168532   \n3    131.956727    91.343940    18.468434   41.782452    16.610201 -0.005117   \n4    171.847087    80.592865    21.834394   24.324345     9.639249 -0.669140   \n5     49.951440   266.194512   118.488910   33.968660    10.059972 -0.137855   \n6     60.522752   694.580842   171.390084   42.324166     8.917114 -0.446337   \n7     46.869211   908.317318   155.500322   71.472523    11.021553 -0.840184   \n8     76.570210   566.605445    24.871353   73.751879    16.436683 -0.485127   \n9     80.895259    92.963097   126.074663  172.348406    22.912454  0.375545   \n10    58.127413   184.481562   138.894448  111.711624    36.401531 -0.292500   \n11   272.762987   190.845747   104.992354  116.896092    18.444992 -0.130723   \n12   170.215140   147.260703    37.550476  328.489103    30.948927 -0.371621   \n13    88.062812   126.965723    55.758595  358.267277    22.692121 -0.189563   \n14   179.996817   278.113893    81.967202  415.691161    22.750191  0.276095   \n15   104.185776   120.547317   103.407944  245.015747    10.387613  0.225576   \n16   245.126139    53.409973    29.434337   47.997457     5.302804 -0.150254   \n17    40.658509    20.668560    35.459624   42.785670     4.421423  0.162854   \n18     3.147349     3.392366    13.698784   55.359409     4.821214 -0.092105   \n19   101.819066   276.915069    63.834332   38.069133    30.540870 -0.129058   \n20     8.886144    16.110696    39.952535   58.790364    10.581204  0.826156   \n21    18.274414    21.778224    15.646501   32.181266     2.220597  0.409482   \n22    16.252275    13.424665    26.744012   63.563119     2.256667 -0.053503   \n23    14.171421     7.494603    16.121541   48.212733     3.604289 -0.175509   \n24    19.079019    30.998541    44.120217   44.401869     6.059223  0.417128   \n25    13.609079    11.724356    39.202780   85.340700   153.721128  0.432502   \n26     7.277916    37.193197   115.198459  241.046037   165.248101  0.441088   \n27     8.963668    30.871634    26.076731   56.858419     5.306925 -0.033390   \n28     4.059754     9.671259    19.322185   30.826185     7.419858  0.166372   \n29     2.370192    17.006083    18.920662   85.648394    73.345151  0.503301   \n30     7.709355    37.237719    41.557229   34.276151     2.861151  0.110548   \n31     3.583301    27.033306    34.597308   31.753858     5.279729  0.855312   \n32     4.746190     9.229195    33.588289   51.730411     3.549081  0.122708   \n33    30.802003    38.873588   109.759730  160.931063    79.908011  1.401896   \n34     4.369808    10.912228    53.030550   52.272345     3.464607  0.043501   \n35     3.071289     8.732248    25.501514   60.086430     3.223372 -0.106031   \n36     6.528090    13.122154    38.136759   46.424428    24.959126  0.047903   \n37    12.904414     9.623934    72.802247   34.840909     7.749337 -0.135980   \n38     3.349278    33.332915    70.445644   44.290022    24.419678 -0.009925   \n39    17.311193    39.995956    27.754277  100.684787    52.909931  1.342993   \n40    11.131002    25.958909    32.747624   37.019867     4.738457  0.311051   \n41    19.334298    26.975779    64.051110   48.250701     5.442402 -0.137938   \n42     8.123581     3.517438    10.863075   27.307958     4.603208 -0.137930   \n\n          RMS  skewness     media  desvio estandar  \n0   21.551527  0.285625  6.390122        20.582387  \n1   20.155965 -0.071286 -1.154695        20.122863  \n2   20.059845 -0.216411 -4.901466        19.451813  \n3   18.680859  0.482669 -0.225125        18.679502  \n4   17.785635 -0.056150  1.242607        17.742174  \n5   22.604525 -0.397360  2.536449        22.461767  \n6   30.976213 -0.094013 -0.918058        30.962606  \n7   33.378961 -0.038565  0.574652        33.374014  \n8   26.430783  0.213435  2.710957        26.291386  \n9   24.919111  0.079699 -3.971633        24.600574  \n10  23.331229 -0.175414 -0.616364        23.323086  \n11  25.537902 -0.154914 -0.048252        25.537856  \n12  28.059520 -0.087474 -1.298168        28.029475  \n13  24.085509 -0.089245 -0.023108        24.085498  \n14  25.946653  0.014294  0.280688        25.945135  \n15  25.910703 -0.540376 -0.416818        25.907350  \n16  22.826193 -0.094145  0.810528        22.811798  \n17  11.999311 -0.456997 -0.711779        11.978182  \n18   8.830305 -0.148604  2.492898         8.471113  \n19  20.874726  0.095872 -1.606149        20.812844  \n20  13.242034 -0.129423  1.983706        13.092608  \n21   8.726097  0.377717  1.241781         8.637288  \n22  10.880762  0.043353  2.217946        10.652310  \n23   9.420930 -0.018626  2.337421         9.126357  \n24  12.210642 -0.210862  1.225745        12.148964  \n25  30.390129 -0.175735 -0.416372        30.387276  \n26  29.021134  0.093208  1.193818        28.996569  \n27  11.247849  0.157046  0.335976        11.242830  \n28  10.206015 -0.245186  2.126116         9.982102  \n29  17.004020 -0.126171 -0.967046        16.976499  \n30  10.410282 -0.272678  0.778068        10.381165  \n31  12.048503 -0.386285 -0.286723        12.045091  \n32  11.056132 -0.405755  2.143118        10.846433  \n33  18.321854 -0.310964  1.900384        18.223031  \n34  10.557018 -0.319007  1.947373        10.375855  \n35  10.134177  0.135793  1.181385        10.065082  \n36  11.657666 -0.229323  0.361109        11.652072  \n37  12.533204 -0.409486  2.112581        12.353874  \n38  12.561351 -0.174984  2.069817        12.389649  \n39  17.885258  0.189148 -0.992008        17.857726  \n40  10.526393  0.046065  0.111978        10.525798  \n41  12.285242 -0.069693 -0.539682        12.273382  \n42   8.496531 -0.154255  0.590629         8.475978  ",
      "text/html": "<div>\n<style scoped>\n    .dataframe tbody tr th:only-of-type {\n        vertical-align: middle;\n    }\n\n    .dataframe tbody tr th {\n        vertical-align: top;\n    }\n\n    .dataframe thead th {\n        text-align: right;\n    }\n</style>\n<table border=\"1\" class=\"dataframe\">\n  <thead>\n    <tr style=\"text-align: right;\">\n      <th></th>\n      <th>potAbsDelta</th>\n      <th>potAbsTheta</th>\n      <th>potAbsAlpha</th>\n      <th>potAbsBeta</th>\n      <th>potAbsGamma</th>\n      <th>kurtosis</th>\n      <th>RMS</th>\n      <th>skewness</th>\n      <th>media</th>\n      <th>desvio estandar</th>\n    </tr>\n  </thead>\n  <tbody>\n    <tr>\n      <th>0</th>\n      <td>217.644236</td>\n      <td>49.269005</td>\n      <td>89.263621</td>\n      <td>95.580341</td>\n      <td>55.646721</td>\n      <td>0.585607</td>\n      <td>21.551527</td>\n      <td>0.285625</td>\n      <td>6.390122</td>\n      <td>20.582387</td>\n    </tr>\n    <tr>\n      <th>1</th>\n      <td>178.283112</td>\n      <td>68.107614</td>\n      <td>68.265979</td>\n      <td>55.249263</td>\n      <td>21.184491</td>\n      <td>0.058750</td>\n      <td>20.155965</td>\n      <td>-0.071286</td>\n      <td>-1.154695</td>\n      <td>20.122863</td>\n    </tr>\n    <tr>\n      <th>2</th>\n      <td>148.265309</td>\n      <td>81.879942</td>\n      <td>29.160342</td>\n      <td>32.561074</td>\n      <td>17.223644</td>\n      <td>0.168532</td>\n      <td>20.059845</td>\n      <td>-0.216411</td>\n      <td>-4.901466</td>\n      <td>19.451813</td>\n    </tr>\n    <tr>\n      <th>3</th>\n      <td>131.956727</td>\n      <td>91.343940</td>\n      <td>18.468434</td>\n      <td>41.782452</td>\n      <td>16.610201</td>\n      <td>-0.005117</td>\n      <td>18.680859</td>\n      <td>0.482669</td>\n      <td>-0.225125</td>\n      <td>18.679502</td>\n    </tr>\n    <tr>\n      <th>4</th>\n      <td>171.847087</td>\n      <td>80.592865</td>\n      <td>21.834394</td>\n      <td>24.324345</td>\n      <td>9.639249</td>\n      <td>-0.669140</td>\n      <td>17.785635</td>\n      <td>-0.056150</td>\n      <td>1.242607</td>\n      <td>17.742174</td>\n    </tr>\n    <tr>\n      <th>5</th>\n      <td>49.951440</td>\n      <td>266.194512</td>\n      <td>118.488910</td>\n      <td>33.968660</td>\n      <td>10.059972</td>\n      <td>-0.137855</td>\n      <td>22.604525</td>\n      <td>-0.397360</td>\n      <td>2.536449</td>\n      <td>22.461767</td>\n    </tr>\n    <tr>\n      <th>6</th>\n      <td>60.522752</td>\n      <td>694.580842</td>\n      <td>171.390084</td>\n      <td>42.324166</td>\n      <td>8.917114</td>\n      <td>-0.446337</td>\n      <td>30.976213</td>\n      <td>-0.094013</td>\n      <td>-0.918058</td>\n      <td>30.962606</td>\n    </tr>\n    <tr>\n      <th>7</th>\n      <td>46.869211</td>\n      <td>908.317318</td>\n      <td>155.500322</td>\n      <td>71.472523</td>\n      <td>11.021553</td>\n      <td>-0.840184</td>\n      <td>33.378961</td>\n      <td>-0.038565</td>\n      <td>0.574652</td>\n      <td>33.374014</td>\n    </tr>\n    <tr>\n      <th>8</th>\n      <td>76.570210</td>\n      <td>566.605445</td>\n      <td>24.871353</td>\n      <td>73.751879</td>\n      <td>16.436683</td>\n      <td>-0.485127</td>\n      <td>26.430783</td>\n      <td>0.213435</td>\n      <td>2.710957</td>\n      <td>26.291386</td>\n    </tr>\n    <tr>\n      <th>9</th>\n      <td>80.895259</td>\n      <td>92.963097</td>\n      <td>126.074663</td>\n      <td>172.348406</td>\n      <td>22.912454</td>\n      <td>0.375545</td>\n      <td>24.919111</td>\n      <td>0.079699</td>\n      <td>-3.971633</td>\n      <td>24.600574</td>\n    </tr>\n    <tr>\n      <th>10</th>\n      <td>58.127413</td>\n      <td>184.481562</td>\n      <td>138.894448</td>\n      <td>111.711624</td>\n      <td>36.401531</td>\n      <td>-0.292500</td>\n      <td>23.331229</td>\n      <td>-0.175414</td>\n      <td>-0.616364</td>\n      <td>23.323086</td>\n    </tr>\n    <tr>\n      <th>11</th>\n      <td>272.762987</td>\n      <td>190.845747</td>\n      <td>104.992354</td>\n      <td>116.896092</td>\n      <td>18.444992</td>\n      <td>-0.130723</td>\n      <td>25.537902</td>\n      <td>-0.154914</td>\n      <td>-0.048252</td>\n      <td>25.537856</td>\n    </tr>\n    <tr>\n      <th>12</th>\n      <td>170.215140</td>\n      <td>147.260703</td>\n      <td>37.550476</td>\n      <td>328.489103</td>\n      <td>30.948927</td>\n      <td>-0.371621</td>\n      <td>28.059520</td>\n      <td>-0.087474</td>\n      <td>-1.298168</td>\n      <td>28.029475</td>\n    </tr>\n    <tr>\n      <th>13</th>\n      <td>88.062812</td>\n      <td>126.965723</td>\n      <td>55.758595</td>\n      <td>358.267277</td>\n      <td>22.692121</td>\n      <td>-0.189563</td>\n      <td>24.085509</td>\n      <td>-0.089245</td>\n      <td>-0.023108</td>\n      <td>24.085498</td>\n    </tr>\n    <tr>\n      <th>14</th>\n      <td>179.996817</td>\n      <td>278.113893</td>\n      <td>81.967202</td>\n      <td>415.691161</td>\n      <td>22.750191</td>\n      <td>0.276095</td>\n      <td>25.946653</td>\n      <td>0.014294</td>\n      <td>0.280688</td>\n      <td>25.945135</td>\n    </tr>\n    <tr>\n      <th>15</th>\n      <td>104.185776</td>\n      <td>120.547317</td>\n      <td>103.407944</td>\n      <td>245.015747</td>\n      <td>10.387613</td>\n      <td>0.225576</td>\n      <td>25.910703</td>\n      <td>-0.540376</td>\n      <td>-0.416818</td>\n      <td>25.907350</td>\n    </tr>\n    <tr>\n      <th>16</th>\n      <td>245.126139</td>\n      <td>53.409973</td>\n      <td>29.434337</td>\n      <td>47.997457</td>\n      <td>5.302804</td>\n      <td>-0.150254</td>\n      <td>22.826193</td>\n      <td>-0.094145</td>\n      <td>0.810528</td>\n      <td>22.811798</td>\n    </tr>\n    <tr>\n      <th>17</th>\n      <td>40.658509</td>\n      <td>20.668560</td>\n      <td>35.459624</td>\n      <td>42.785670</td>\n      <td>4.421423</td>\n      <td>0.162854</td>\n      <td>11.999311</td>\n      <td>-0.456997</td>\n      <td>-0.711779</td>\n      <td>11.978182</td>\n    </tr>\n    <tr>\n      <th>18</th>\n      <td>3.147349</td>\n      <td>3.392366</td>\n      <td>13.698784</td>\n      <td>55.359409</td>\n      <td>4.821214</td>\n      <td>-0.092105</td>\n      <td>8.830305</td>\n      <td>-0.148604</td>\n      <td>2.492898</td>\n      <td>8.471113</td>\n    </tr>\n    <tr>\n      <th>19</th>\n      <td>101.819066</td>\n      <td>276.915069</td>\n      <td>63.834332</td>\n      <td>38.069133</td>\n      <td>30.540870</td>\n      <td>-0.129058</td>\n      <td>20.874726</td>\n      <td>0.095872</td>\n      <td>-1.606149</td>\n      <td>20.812844</td>\n    </tr>\n    <tr>\n      <th>20</th>\n      <td>8.886144</td>\n      <td>16.110696</td>\n      <td>39.952535</td>\n      <td>58.790364</td>\n      <td>10.581204</td>\n      <td>0.826156</td>\n      <td>13.242034</td>\n      <td>-0.129423</td>\n      <td>1.983706</td>\n      <td>13.092608</td>\n    </tr>\n    <tr>\n      <th>21</th>\n      <td>18.274414</td>\n      <td>21.778224</td>\n      <td>15.646501</td>\n      <td>32.181266</td>\n      <td>2.220597</td>\n      <td>0.409482</td>\n      <td>8.726097</td>\n      <td>0.377717</td>\n      <td>1.241781</td>\n      <td>8.637288</td>\n    </tr>\n    <tr>\n      <th>22</th>\n      <td>16.252275</td>\n      <td>13.424665</td>\n      <td>26.744012</td>\n      <td>63.563119</td>\n      <td>2.256667</td>\n      <td>-0.053503</td>\n      <td>10.880762</td>\n      <td>0.043353</td>\n      <td>2.217946</td>\n      <td>10.652310</td>\n    </tr>\n    <tr>\n      <th>23</th>\n      <td>14.171421</td>\n      <td>7.494603</td>\n      <td>16.121541</td>\n      <td>48.212733</td>\n      <td>3.604289</td>\n      <td>-0.175509</td>\n      <td>9.420930</td>\n      <td>-0.018626</td>\n      <td>2.337421</td>\n      <td>9.126357</td>\n    </tr>\n    <tr>\n      <th>24</th>\n      <td>19.079019</td>\n      <td>30.998541</td>\n      <td>44.120217</td>\n      <td>44.401869</td>\n      <td>6.059223</td>\n      <td>0.417128</td>\n      <td>12.210642</td>\n      <td>-0.210862</td>\n      <td>1.225745</td>\n      <td>12.148964</td>\n    </tr>\n    <tr>\n      <th>25</th>\n      <td>13.609079</td>\n      <td>11.724356</td>\n      <td>39.202780</td>\n      <td>85.340700</td>\n      <td>153.721128</td>\n      <td>0.432502</td>\n      <td>30.390129</td>\n      <td>-0.175735</td>\n      <td>-0.416372</td>\n      <td>30.387276</td>\n    </tr>\n    <tr>\n      <th>26</th>\n      <td>7.277916</td>\n      <td>37.193197</td>\n      <td>115.198459</td>\n      <td>241.046037</td>\n      <td>165.248101</td>\n      <td>0.441088</td>\n      <td>29.021134</td>\n      <td>0.093208</td>\n      <td>1.193818</td>\n      <td>28.996569</td>\n    </tr>\n    <tr>\n      <th>27</th>\n      <td>8.963668</td>\n      <td>30.871634</td>\n      <td>26.076731</td>\n      <td>56.858419</td>\n      <td>5.306925</td>\n      <td>-0.033390</td>\n      <td>11.247849</td>\n      <td>0.157046</td>\n      <td>0.335976</td>\n      <td>11.242830</td>\n    </tr>\n    <tr>\n      <th>28</th>\n      <td>4.059754</td>\n      <td>9.671259</td>\n      <td>19.322185</td>\n      <td>30.826185</td>\n      <td>7.419858</td>\n      <td>0.166372</td>\n      <td>10.206015</td>\n      <td>-0.245186</td>\n      <td>2.126116</td>\n      <td>9.982102</td>\n    </tr>\n    <tr>\n      <th>29</th>\n      <td>2.370192</td>\n      <td>17.006083</td>\n      <td>18.920662</td>\n      <td>85.648394</td>\n      <td>73.345151</td>\n      <td>0.503301</td>\n      <td>17.004020</td>\n      <td>-0.126171</td>\n      <td>-0.967046</td>\n      <td>16.976499</td>\n    </tr>\n    <tr>\n      <th>30</th>\n      <td>7.709355</td>\n      <td>37.237719</td>\n      <td>41.557229</td>\n      <td>34.276151</td>\n      <td>2.861151</td>\n      <td>0.110548</td>\n      <td>10.410282</td>\n      <td>-0.272678</td>\n      <td>0.778068</td>\n      <td>10.381165</td>\n    </tr>\n    <tr>\n      <th>31</th>\n      <td>3.583301</td>\n      <td>27.033306</td>\n      <td>34.597308</td>\n      <td>31.753858</td>\n      <td>5.279729</td>\n      <td>0.855312</td>\n      <td>12.048503</td>\n      <td>-0.386285</td>\n      <td>-0.286723</td>\n      <td>12.045091</td>\n    </tr>\n    <tr>\n      <th>32</th>\n      <td>4.746190</td>\n      <td>9.229195</td>\n      <td>33.588289</td>\n      <td>51.730411</td>\n      <td>3.549081</td>\n      <td>0.122708</td>\n      <td>11.056132</td>\n      <td>-0.405755</td>\n      <td>2.143118</td>\n      <td>10.846433</td>\n    </tr>\n    <tr>\n      <th>33</th>\n      <td>30.802003</td>\n      <td>38.873588</td>\n      <td>109.759730</td>\n      <td>160.931063</td>\n      <td>79.908011</td>\n      <td>1.401896</td>\n      <td>18.321854</td>\n      <td>-0.310964</td>\n      <td>1.900384</td>\n      <td>18.223031</td>\n    </tr>\n    <tr>\n      <th>34</th>\n      <td>4.369808</td>\n      <td>10.912228</td>\n      <td>53.030550</td>\n      <td>52.272345</td>\n      <td>3.464607</td>\n      <td>0.043501</td>\n      <td>10.557018</td>\n      <td>-0.319007</td>\n      <td>1.947373</td>\n      <td>10.375855</td>\n    </tr>\n    <tr>\n      <th>35</th>\n      <td>3.071289</td>\n      <td>8.732248</td>\n      <td>25.501514</td>\n      <td>60.086430</td>\n      <td>3.223372</td>\n      <td>-0.106031</td>\n      <td>10.134177</td>\n      <td>0.135793</td>\n      <td>1.181385</td>\n      <td>10.065082</td>\n    </tr>\n    <tr>\n      <th>36</th>\n      <td>6.528090</td>\n      <td>13.122154</td>\n      <td>38.136759</td>\n      <td>46.424428</td>\n      <td>24.959126</td>\n      <td>0.047903</td>\n      <td>11.657666</td>\n      <td>-0.229323</td>\n      <td>0.361109</td>\n      <td>11.652072</td>\n    </tr>\n    <tr>\n      <th>37</th>\n      <td>12.904414</td>\n      <td>9.623934</td>\n      <td>72.802247</td>\n      <td>34.840909</td>\n      <td>7.749337</td>\n      <td>-0.135980</td>\n      <td>12.533204</td>\n      <td>-0.409486</td>\n      <td>2.112581</td>\n      <td>12.353874</td>\n    </tr>\n    <tr>\n      <th>38</th>\n      <td>3.349278</td>\n      <td>33.332915</td>\n      <td>70.445644</td>\n      <td>44.290022</td>\n      <td>24.419678</td>\n      <td>-0.009925</td>\n      <td>12.561351</td>\n      <td>-0.174984</td>\n      <td>2.069817</td>\n      <td>12.389649</td>\n    </tr>\n    <tr>\n      <th>39</th>\n      <td>17.311193</td>\n      <td>39.995956</td>\n      <td>27.754277</td>\n      <td>100.684787</td>\n      <td>52.909931</td>\n      <td>1.342993</td>\n      <td>17.885258</td>\n      <td>0.189148</td>\n      <td>-0.992008</td>\n      <td>17.857726</td>\n    </tr>\n    <tr>\n      <th>40</th>\n      <td>11.131002</td>\n      <td>25.958909</td>\n      <td>32.747624</td>\n      <td>37.019867</td>\n      <td>4.738457</td>\n      <td>0.311051</td>\n      <td>10.526393</td>\n      <td>0.046065</td>\n      <td>0.111978</td>\n      <td>10.525798</td>\n    </tr>\n    <tr>\n      <th>41</th>\n      <td>19.334298</td>\n      <td>26.975779</td>\n      <td>64.051110</td>\n      <td>48.250701</td>\n      <td>5.442402</td>\n      <td>-0.137938</td>\n      <td>12.285242</td>\n      <td>-0.069693</td>\n      <td>-0.539682</td>\n      <td>12.273382</td>\n    </tr>\n    <tr>\n      <th>42</th>\n      <td>8.123581</td>\n      <td>3.517438</td>\n      <td>10.863075</td>\n      <td>27.307958</td>\n      <td>4.603208</td>\n      <td>-0.137930</td>\n      <td>8.496531</td>\n      <td>-0.154255</td>\n      <td>0.590629</td>\n      <td>8.475978</td>\n    </tr>\n  </tbody>\n</table>\n</div>"
     },
     "execution_count": 24,
     "metadata": {},
     "output_type": "execute_result"
    }
   ],
   "source": [
    "# Potencia\n",
    "pot_seg = pot4signals(arr_seg, fs, divisor=1)\n",
    "pot_names = [f\"potAbs{band.capitalize()}\" for band in BANDAS.keys()]\n",
    "\n",
    "# Estadistica\n",
    "stats_data = stats_features(arr_seg)\n",
    "stats_names = list(stats_data.values())[:-1]\n",
    "stats_seg = stats_data[\"matriz de features stat\"]\n",
    "\n",
    "# Feature fector\n",
    "arr_fv = np.hstack((pot_seg, stats_seg))\n",
    "columnas = pot_names + stats_names\n",
    "df_fv = pd.DataFrame(data=arr_fv, columns=columnas)\n",
    "df_fv"
   ],
   "metadata": {
    "collapsed": false,
    "ExecuteTime": {
     "end_time": "2024-07-10T03:28:21.543061400Z",
     "start_time": "2024-07-10T03:28:21.365439400Z"
    }
   }
  }
 ],
 "metadata": {
  "kernelspec": {
   "display_name": "Python 3",
   "language": "python",
   "name": "python3"
  },
  "language_info": {
   "codemirror_mode": {
    "name": "ipython",
    "version": 2
   },
   "file_extension": ".py",
   "mimetype": "text/x-python",
   "name": "python",
   "nbconvert_exporter": "python",
   "pygments_lexer": "ipython2",
   "version": "2.7.6"
  }
 },
 "nbformat": 4,
 "nbformat_minor": 0
}
