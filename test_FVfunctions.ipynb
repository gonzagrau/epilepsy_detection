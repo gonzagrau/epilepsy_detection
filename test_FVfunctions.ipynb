{
 "cells": [
  {
   "cell_type": "markdown",
   "source": [
    "# Prueba de la extración de feature vectors"
   ],
   "metadata": {
    "collapsed": false
   }
  },
  {
   "cell_type": "code",
   "execution_count": 1,
   "outputs": [],
   "source": [
    "#Importación de librerías\n",
    "import numpy as np\n",
    "import matplotlib.pyplot as plt\n",
    "import pandas as pd\n",
    "from mne import io\n",
    "import random\n",
    "import scipy.signal as signal\n",
    "from datetime import datetime, timedelta\n",
    "from FVfunctions import getMeData, pot4signals, BANDAS\n",
    "from features_stats import stats_features\n",
    "from dataset_reader import get_seizure_events, get_seizure_array"
   ],
   "metadata": {
    "collapsed": false,
    "ExecuteTime": {
     "end_time": "2024-07-10T20:57:45.152702800Z",
     "start_time": "2024-07-10T20:57:40.474695500Z"
    }
   }
  },
  {
   "cell_type": "markdown",
   "source": [
    "#### 1. Lectura"
   ],
   "metadata": {
    "collapsed": false
   }
  },
  {
   "cell_type": "code",
   "execution_count": 2,
   "metadata": {
    "collapsed": true,
    "ExecuteTime": {
     "end_time": "2024-07-10T20:57:45.511221200Z",
     "start_time": "2024-07-10T20:57:45.157690200Z"
    }
   },
   "outputs": [
    {
     "name": "stdout",
     "output_type": "stream",
     "text": [
      "Extracting EDF parameters from C:\\Users\\gonza\\Documents\\ITBA\\2024 1C\\PSIB\\TP FINAL PSIB\\eeg_dataset\\PN05\\PN05-2.edf...\n",
      "EDF file detected\n",
      "Setting channel info structure...\n",
      "Creating raw.info structure...\n"
     ]
    },
    {
     "name": "stderr",
     "output_type": "stream",
     "text": [
      "C:\\Users\\gonza\\AppData\\Local\\Temp\\ipykernel_8456\\2474338660.py:3: RuntimeWarning: Channels contain different highpass filters. Highest filter setting will be stored.\n",
      "  raw01 = io.read_raw_edf(path01)\n",
      "C:\\Users\\gonza\\AppData\\Local\\Temp\\ipykernel_8456\\2474338660.py:3: RuntimeWarning: Channels contain different lowpass filters. Lowest filter setting will be stored.\n",
      "  raw01 = io.read_raw_edf(path01)\n",
      "C:\\Users\\gonza\\AppData\\Local\\Temp\\ipykernel_8456\\2474338660.py:3: RuntimeWarning: Highpass cutoff frequency 15.91549 is greater than lowpass cutoff frequency 15.0, setting values to 0 and Nyquist.\n",
      "  raw01 = io.read_raw_edf(path01)\n"
     ]
    }
   ],
   "source": [
    "DATA_DIR = r\"../eeg_dataset/\"\n",
    "path01 = rf\"{DATA_DIR}PN05/PN05-2.edf\"\n",
    "raw01 = io.read_raw_edf(path01)\n",
    "paciente = \"PN05\"\n",
    "realizacion = \"2\""
   ]
  },
  {
   "cell_type": "markdown",
   "source": [
    "#### 2. Info del archivo"
   ],
   "metadata": {
    "collapsed": false
   }
  },
  {
   "cell_type": "code",
   "execution_count": 11,
   "outputs": [
    {
     "name": "stdout",
     "output_type": "stream",
     "text": [
      "<Info | 8 non-empty values\n",
      " bads: []\n",
      " ch_names: EEG T3, EEG T5, EEG F7, EEG F3, EEG C3, EEG P3\n",
      " chs: 6 EEG\n",
      " custom_ref_applied: False\n",
      " highpass: 0.0 Hz\n",
      " lowpass: 256.0 Hz\n",
      " meas_date: 2016-01-01 06:46:02 UTC\n",
      " nchan: 6\n",
      " projs: []\n",
      " sfreq: 512.0 Hz\n",
      " subject_info: 1 item (dict)\n",
      ">\n",
      "['EEG T3', 'EEG T5', 'EEG F7', 'EEG F3', 'EEG C3', 'EEG P3']\n"
     ]
    }
   ],
   "source": [
    "info = raw01.info\n",
    "print(info)\n",
    "print(info['ch_names'])"
   ],
   "metadata": {
    "collapsed": false,
    "ExecuteTime": {
     "end_time": "2024-07-10T20:59:02.009098700Z",
     "start_time": "2024-07-10T20:59:01.985161100Z"
    }
   }
  },
  {
   "cell_type": "markdown",
   "source": [
    "#### 3. Obtención de las mediciones a utilizar y otros datos importantes"
   ],
   "metadata": {
    "collapsed": false
   }
  },
  {
   "cell_type": "code",
   "execution_count": 12,
   "outputs": [
    {
     "name": "stdout",
     "output_type": "stream",
     "text": [
      "Canales filtrados: ['EEG T3', 'EEG T5', 'EEG F7', 'EEG F3', 'EEG C3', 'EEG P3']\n",
      "Cantidad de canales resultantes: 6\n",
      "Cantidad de datos en cada canal: 4733440\n"
     ]
    }
   ],
   "source": [
    "# Se obtiene el nombre de todos los canales\n",
    "ch_nms = info[\"ch_names\"]\n",
    "\n",
    "# Se obtienen los canales seleccionados del lazo izquierdo\n",
    "filt_ch_nms = ['EEG T3','EEG T5','EEG F7','EEG F3','EEG C3','EEG P3']\n",
    "\n",
    "# Seleccionar los datos de los canales filtrados\n",
    "raw01_filt = raw01.pick(filt_ch_nms)\n",
    "\n",
    "# Obtener los datos de los canales filtrados por nombre\n",
    "data_namefilt = raw01_filt.get_data()\n",
    "\n",
    "# Se convierten las mediciones a microvoltios\n",
    "data_namefilt = data_namefilt * 1e6\n",
    "\n",
    "# Dimensiones de 'data_filt'\n",
    "dim_data_filt = np.shape(data_namefilt)\n",
    "\n",
    "# Verifición\n",
    "print(\"Canales filtrados:\", filt_ch_nms)\n",
    "print(f\"Cantidad de canales resultantes: {dim_data_filt[0]}\")\n",
    "print(f\"Cantidad de datos en cada canal: {dim_data_filt[1]}\")"
   ],
   "metadata": {
    "collapsed": false,
    "ExecuteTime": {
     "end_time": "2024-07-10T20:59:05.931226400Z",
     "start_time": "2024-07-10T20:59:04.428287800Z"
    }
   }
  },
  {
   "cell_type": "code",
   "execution_count": 13,
   "outputs": [
    {
     "name": "stdout",
     "output_type": "stream",
     "text": [
      "Frecuencia de muestreo: 512.0\n",
      "Instantes [s]: 0.0 ... 9244.998046875\n"
     ]
    }
   ],
   "source": [
    "# Frecuencia de muestreo y cantidad de muestras tomadas\n",
    "fs = info[\"sfreq\"]\n",
    "len_data = dim_data_filt[1]\n",
    "\n",
    "# Array de instantes\n",
    "start = 0\n",
    "stop = (1 / fs) * len_data\n",
    "arr_t = np.arange(start=start, stop=stop, step=(1 / fs))\n",
    "\n",
    "# Verificación de datos\n",
    "print(\"Frecuencia de muestreo:\", fs)\n",
    "print(\"Instantes [s]:\", arr_t[0], \"...\", arr_t[-1])"
   ],
   "metadata": {
    "collapsed": false,
    "ExecuteTime": {
     "end_time": "2024-07-10T20:59:10.225733900Z",
     "start_time": "2024-07-10T20:59:10.201561500Z"
    }
   }
  },
  {
   "cell_type": "markdown",
   "source": [
    "#### 4. getMeData"
   ],
   "metadata": {
    "collapsed": false
   }
  },
  {
   "cell_type": "code",
   "execution_count": 14,
   "outputs": [
    {
     "data": {
      "text/plain": "[{'seizure_number': 2,\n  'file_name': 'PN05-2.edf',\n  'registration_start_time': '06.46.02',\n  'registration_end_time': '09.19.47',\n  'seizure_start_time': '08.45.25',\n  'seizure_end_time': '08.46.00'}]"
     },
     "execution_count": 14,
     "metadata": {},
     "output_type": "execute_result"
    }
   ],
   "source": [
    "# Encontramos las seizures del archivo\n",
    "path_seiz = rf\"{DATA_DIR}PN05/Seizures-list-PN05.txt\"\n",
    "seizures = get_seizure_events(path_seiz)\n",
    "seizures_in_02 = [seiz for seiz in seizures if seiz[\"file_name\"] == \"PN05-2.edf\"]\n",
    "arr_mtx_t_epi = get_seizure_array(seizures_in_02)\n",
    "seizures_in_02"
   ],
   "metadata": {
    "collapsed": false,
    "ExecuteTime": {
     "end_time": "2024-07-10T20:59:16.938370600Z",
     "start_time": "2024-07-10T20:59:16.917204600Z"
    }
   }
  },
  {
   "cell_type": "code",
   "execution_count": 15,
   "outputs": [
    {
     "data": {
      "text/plain": "array([[ -6.44861197, -14.41007862, -21.80983335, ...,  -4.48831135,\n         -4.21901134,  -2.8510888 ],\n       [ -5.88095295,  -3.27032485,  -3.43263646, ...,  12.59162582,\n          7.36264985,   1.6076962 ],\n       [ -0.83301453,  -1.25101932,  -2.04141079, ..., -23.45783771,\n        -24.17600637, -25.67897428],\n       ...,\n       [  3.58760999,   6.20900517,   8.79049448, ...,  -1.13346295,\n         -0.1678562 ,   1.88573375],\n       [ -2.09849208,  -4.00966745,  -7.20468465, ...,   6.28703538,\n          1.87245697,  -3.05232032],\n       [ 15.88263508,   5.90186138, -14.44083264, ...,  64.91341421,\n         43.74291694,  13.72439515]])"
     },
     "execution_count": 15,
     "metadata": {},
     "output_type": "execute_result"
    }
   ],
   "source": [
    "# Matriz de inicio de registro y final de registro\n",
    "seiz = seizures_in_02[0] # una sola !!\n",
    "mtx_t_reg = np.array([seiz['registration_start_time'], seiz['registration_end_time']])\n",
    "\n",
    "# Utilización de la función para una única señal\n",
    "arr_seg, arr_labels = getMeData(sig=data_namefilt[0], mtx_t_reg=mtx_t_reg, arr_mtx_t_epi=arr_mtx_t_epi)\n",
    "arr_seg"
   ],
   "metadata": {
    "collapsed": false,
    "ExecuteTime": {
     "end_time": "2024-07-10T20:59:19.579624300Z",
     "start_time": "2024-07-10T20:59:19.511793900Z"
    }
   }
  },
  {
   "cell_type": "code",
   "execution_count": 16,
   "outputs": [
    {
     "data": {
      "text/plain": "    potAbsDelta  potAbsTheta  potAbsAlpha  potAbsBeta  potAbsGamma  kurtosis  \\\n0    217.644236    49.269005    89.263621   95.580341    55.646721  0.585607   \n1    178.283112    68.107614    68.265979   55.249263    21.184491  0.058750   \n2    148.265309    81.879942    29.160342   32.561074    17.223644  0.168532   \n3    131.956727    91.343940    18.468434   41.782452    16.610201 -0.005117   \n4    171.847087    80.592865    21.834394   24.324345     9.639249 -0.669140   \n5     49.951440   266.194512   118.488910   33.968660    10.059972 -0.137855   \n6     60.522752   694.580842   171.390084   42.324166     8.917114 -0.446337   \n7     46.869211   908.317318   155.500322   71.472523    11.021553 -0.840184   \n8     76.570210   566.605445    24.871353   73.751879    16.436683 -0.485127   \n9     80.895259    92.963097   126.074663  172.348406    22.912454  0.375545   \n10    58.127413   184.481562   138.894448  111.711624    36.401531 -0.292500   \n11   272.762987   190.845747   104.992354  116.896092    18.444992 -0.130723   \n12   170.215140   147.260703    37.550476  328.489103    30.948927 -0.371621   \n13    88.062812   126.965723    55.758595  358.267277    22.692121 -0.189563   \n14   179.996817   278.113893    81.967202  415.691161    22.750191  0.276095   \n15   104.185776   120.547317   103.407944  245.015747    10.387613  0.225576   \n16   245.126139    53.409973    29.434337   47.997457     5.302804 -0.150254   \n17    23.295888    54.871628    23.298134   46.024748    11.335093 -0.233264   \n18     6.287809   132.878802    58.839851   57.028069     3.312739  0.278218   \n19    59.823215    65.954461   173.216751  150.881356    94.093260  1.420235   \n20     9.756273    20.803876    17.005388   31.643077     4.464127  0.084888   \n21     5.425100     3.926736    18.010179   32.007043     6.564859 -0.454529   \n22    37.688478     9.919613    59.126448   35.470339    17.577547  1.290853   \n23     6.481017     2.828173    51.764148   55.611634     2.680503  0.005594   \n24    11.730059    32.161190    43.892127   29.757971     2.584634  0.731830   \n25    22.423608    10.265496    34.631290   50.451420     4.215971  0.104395   \n26    30.025320    66.592557    58.298716   66.870475    17.695073 -0.103022   \n27    15.157960     9.836824    11.788856   47.470027     2.920042  0.121156   \n28     7.639935    37.411894    27.838941   71.672946     3.136468 -0.015805   \n29    13.496120   187.796988   173.073809   60.518760     4.469837 -0.131250   \n30    11.592718     7.729618    21.834403   38.843825    19.643629  0.794702   \n31    11.683137    13.856727    26.445765   37.277097    12.259943  0.452834   \n32     5.488206     8.443566    20.706053   29.585922     1.698603 -0.281668   \n33     5.523257    28.350841    25.119293   60.262169     5.552700  0.280350   \n34     3.724734    10.801239    99.104043   35.594021     4.795555  0.038093   \n35    13.609079    11.724356    39.202780   85.340700   153.721128  0.432502   \n36    43.631672    31.683839   259.324428   49.964914     5.886971 -0.322908   \n37    10.426264    13.312086    37.073012   43.567869     3.918452 -0.372471   \n38    56.254715    32.475051    57.812271   38.439170     4.505988  0.066117   \n39    26.866343    36.120732    65.309026   37.019994    16.728041  2.766812   \n40    14.645797    15.131255    15.643418   34.307350     3.490775  0.542544   \n41     4.858236    19.290698    47.954274   37.918498     2.093976 -0.073088   \n42    22.302649    24.043080    49.378715  215.625142   271.452915  0.464084   \n\n          RMS  skewness     media  desvio estandar  \n0   21.551527  0.285625  6.390122        20.582387  \n1   20.155965 -0.071286 -1.154695        20.122863  \n2   20.059845 -0.216411 -4.901466        19.451813  \n3   18.680859  0.482669 -0.225125        18.679502  \n4   17.785635 -0.056150  1.242607        17.742174  \n5   22.604525 -0.397360  2.536449        22.461767  \n6   30.976213 -0.094013 -0.918058        30.962606  \n7   33.378961 -0.038565  0.574652        33.374014  \n8   26.430783  0.213435  2.710957        26.291386  \n9   24.919111  0.079699 -3.971633        24.600574  \n10  23.331229 -0.175414 -0.616364        23.323086  \n11  25.537902 -0.154914 -0.048252        25.537856  \n12  28.059520 -0.087474 -1.298168        28.029475  \n13  24.085509 -0.089245 -0.023108        24.085498  \n14  25.946653  0.014294  0.280688        25.945135  \n15  25.910703 -0.540376 -0.416818        25.907350  \n16  22.826193 -0.094145  0.810528        22.811798  \n17  13.213988  0.197926 -0.239393        13.211820  \n18  13.667671 -0.289197  1.369777        13.598858  \n19  29.065202  0.503693 -1.559627        29.023327  \n20  10.361601  0.115750  0.662780        10.340382  \n21   8.925072 -0.011407  1.411869         8.812691  \n22  11.496889 -0.096087 -1.134694        11.440758  \n23  10.717301 -0.157888  2.965113        10.298963  \n24  11.351084 -0.525849  1.404376        11.263873  \n25  10.851241 -0.132929 -0.237350        10.848645  \n26  16.617354 -0.075568  2.673885        16.400817  \n27  10.742838  0.199328 -1.209457        10.674539  \n28  13.265042 -0.418243  2.405772        13.045060  \n29  19.269581 -0.200470  2.355030        19.125129  \n30  11.572273  0.064884  0.627178        11.555265  \n31  11.667057 -0.255673  0.675677        11.647476  \n32   7.704787 -0.185655  1.071434         7.629926  \n33  13.164859  0.142295  0.961849        13.129675  \n34  12.219507 -0.099183  1.218047        12.158648  \n35  30.390129 -0.175735 -0.416372        30.387276  \n36  16.893890  0.052611  0.302300        16.891185  \n37  10.647078 -0.286340  1.389135        10.556068  \n38  14.486691 -0.229578 -0.474859        14.478907  \n39  13.682329  0.426193  1.556839        13.593468  \n40   9.098177  0.302056  0.683758         9.072447  \n41  10.752985 -0.225017  1.021408        10.704365  \n42  33.825343  0.141555 -4.522938        33.521588  ",
      "text/html": "<div>\n<style scoped>\n    .dataframe tbody tr th:only-of-type {\n        vertical-align: middle;\n    }\n\n    .dataframe tbody tr th {\n        vertical-align: top;\n    }\n\n    .dataframe thead th {\n        text-align: right;\n    }\n</style>\n<table border=\"1\" class=\"dataframe\">\n  <thead>\n    <tr style=\"text-align: right;\">\n      <th></th>\n      <th>potAbsDelta</th>\n      <th>potAbsTheta</th>\n      <th>potAbsAlpha</th>\n      <th>potAbsBeta</th>\n      <th>potAbsGamma</th>\n      <th>kurtosis</th>\n      <th>RMS</th>\n      <th>skewness</th>\n      <th>media</th>\n      <th>desvio estandar</th>\n    </tr>\n  </thead>\n  <tbody>\n    <tr>\n      <th>0</th>\n      <td>217.644236</td>\n      <td>49.269005</td>\n      <td>89.263621</td>\n      <td>95.580341</td>\n      <td>55.646721</td>\n      <td>0.585607</td>\n      <td>21.551527</td>\n      <td>0.285625</td>\n      <td>6.390122</td>\n      <td>20.582387</td>\n    </tr>\n    <tr>\n      <th>1</th>\n      <td>178.283112</td>\n      <td>68.107614</td>\n      <td>68.265979</td>\n      <td>55.249263</td>\n      <td>21.184491</td>\n      <td>0.058750</td>\n      <td>20.155965</td>\n      <td>-0.071286</td>\n      <td>-1.154695</td>\n      <td>20.122863</td>\n    </tr>\n    <tr>\n      <th>2</th>\n      <td>148.265309</td>\n      <td>81.879942</td>\n      <td>29.160342</td>\n      <td>32.561074</td>\n      <td>17.223644</td>\n      <td>0.168532</td>\n      <td>20.059845</td>\n      <td>-0.216411</td>\n      <td>-4.901466</td>\n      <td>19.451813</td>\n    </tr>\n    <tr>\n      <th>3</th>\n      <td>131.956727</td>\n      <td>91.343940</td>\n      <td>18.468434</td>\n      <td>41.782452</td>\n      <td>16.610201</td>\n      <td>-0.005117</td>\n      <td>18.680859</td>\n      <td>0.482669</td>\n      <td>-0.225125</td>\n      <td>18.679502</td>\n    </tr>\n    <tr>\n      <th>4</th>\n      <td>171.847087</td>\n      <td>80.592865</td>\n      <td>21.834394</td>\n      <td>24.324345</td>\n      <td>9.639249</td>\n      <td>-0.669140</td>\n      <td>17.785635</td>\n      <td>-0.056150</td>\n      <td>1.242607</td>\n      <td>17.742174</td>\n    </tr>\n    <tr>\n      <th>5</th>\n      <td>49.951440</td>\n      <td>266.194512</td>\n      <td>118.488910</td>\n      <td>33.968660</td>\n      <td>10.059972</td>\n      <td>-0.137855</td>\n      <td>22.604525</td>\n      <td>-0.397360</td>\n      <td>2.536449</td>\n      <td>22.461767</td>\n    </tr>\n    <tr>\n      <th>6</th>\n      <td>60.522752</td>\n      <td>694.580842</td>\n      <td>171.390084</td>\n      <td>42.324166</td>\n      <td>8.917114</td>\n      <td>-0.446337</td>\n      <td>30.976213</td>\n      <td>-0.094013</td>\n      <td>-0.918058</td>\n      <td>30.962606</td>\n    </tr>\n    <tr>\n      <th>7</th>\n      <td>46.869211</td>\n      <td>908.317318</td>\n      <td>155.500322</td>\n      <td>71.472523</td>\n      <td>11.021553</td>\n      <td>-0.840184</td>\n      <td>33.378961</td>\n      <td>-0.038565</td>\n      <td>0.574652</td>\n      <td>33.374014</td>\n    </tr>\n    <tr>\n      <th>8</th>\n      <td>76.570210</td>\n      <td>566.605445</td>\n      <td>24.871353</td>\n      <td>73.751879</td>\n      <td>16.436683</td>\n      <td>-0.485127</td>\n      <td>26.430783</td>\n      <td>0.213435</td>\n      <td>2.710957</td>\n      <td>26.291386</td>\n    </tr>\n    <tr>\n      <th>9</th>\n      <td>80.895259</td>\n      <td>92.963097</td>\n      <td>126.074663</td>\n      <td>172.348406</td>\n      <td>22.912454</td>\n      <td>0.375545</td>\n      <td>24.919111</td>\n      <td>0.079699</td>\n      <td>-3.971633</td>\n      <td>24.600574</td>\n    </tr>\n    <tr>\n      <th>10</th>\n      <td>58.127413</td>\n      <td>184.481562</td>\n      <td>138.894448</td>\n      <td>111.711624</td>\n      <td>36.401531</td>\n      <td>-0.292500</td>\n      <td>23.331229</td>\n      <td>-0.175414</td>\n      <td>-0.616364</td>\n      <td>23.323086</td>\n    </tr>\n    <tr>\n      <th>11</th>\n      <td>272.762987</td>\n      <td>190.845747</td>\n      <td>104.992354</td>\n      <td>116.896092</td>\n      <td>18.444992</td>\n      <td>-0.130723</td>\n      <td>25.537902</td>\n      <td>-0.154914</td>\n      <td>-0.048252</td>\n      <td>25.537856</td>\n    </tr>\n    <tr>\n      <th>12</th>\n      <td>170.215140</td>\n      <td>147.260703</td>\n      <td>37.550476</td>\n      <td>328.489103</td>\n      <td>30.948927</td>\n      <td>-0.371621</td>\n      <td>28.059520</td>\n      <td>-0.087474</td>\n      <td>-1.298168</td>\n      <td>28.029475</td>\n    </tr>\n    <tr>\n      <th>13</th>\n      <td>88.062812</td>\n      <td>126.965723</td>\n      <td>55.758595</td>\n      <td>358.267277</td>\n      <td>22.692121</td>\n      <td>-0.189563</td>\n      <td>24.085509</td>\n      <td>-0.089245</td>\n      <td>-0.023108</td>\n      <td>24.085498</td>\n    </tr>\n    <tr>\n      <th>14</th>\n      <td>179.996817</td>\n      <td>278.113893</td>\n      <td>81.967202</td>\n      <td>415.691161</td>\n      <td>22.750191</td>\n      <td>0.276095</td>\n      <td>25.946653</td>\n      <td>0.014294</td>\n      <td>0.280688</td>\n      <td>25.945135</td>\n    </tr>\n    <tr>\n      <th>15</th>\n      <td>104.185776</td>\n      <td>120.547317</td>\n      <td>103.407944</td>\n      <td>245.015747</td>\n      <td>10.387613</td>\n      <td>0.225576</td>\n      <td>25.910703</td>\n      <td>-0.540376</td>\n      <td>-0.416818</td>\n      <td>25.907350</td>\n    </tr>\n    <tr>\n      <th>16</th>\n      <td>245.126139</td>\n      <td>53.409973</td>\n      <td>29.434337</td>\n      <td>47.997457</td>\n      <td>5.302804</td>\n      <td>-0.150254</td>\n      <td>22.826193</td>\n      <td>-0.094145</td>\n      <td>0.810528</td>\n      <td>22.811798</td>\n    </tr>\n    <tr>\n      <th>17</th>\n      <td>23.295888</td>\n      <td>54.871628</td>\n      <td>23.298134</td>\n      <td>46.024748</td>\n      <td>11.335093</td>\n      <td>-0.233264</td>\n      <td>13.213988</td>\n      <td>0.197926</td>\n      <td>-0.239393</td>\n      <td>13.211820</td>\n    </tr>\n    <tr>\n      <th>18</th>\n      <td>6.287809</td>\n      <td>132.878802</td>\n      <td>58.839851</td>\n      <td>57.028069</td>\n      <td>3.312739</td>\n      <td>0.278218</td>\n      <td>13.667671</td>\n      <td>-0.289197</td>\n      <td>1.369777</td>\n      <td>13.598858</td>\n    </tr>\n    <tr>\n      <th>19</th>\n      <td>59.823215</td>\n      <td>65.954461</td>\n      <td>173.216751</td>\n      <td>150.881356</td>\n      <td>94.093260</td>\n      <td>1.420235</td>\n      <td>29.065202</td>\n      <td>0.503693</td>\n      <td>-1.559627</td>\n      <td>29.023327</td>\n    </tr>\n    <tr>\n      <th>20</th>\n      <td>9.756273</td>\n      <td>20.803876</td>\n      <td>17.005388</td>\n      <td>31.643077</td>\n      <td>4.464127</td>\n      <td>0.084888</td>\n      <td>10.361601</td>\n      <td>0.115750</td>\n      <td>0.662780</td>\n      <td>10.340382</td>\n    </tr>\n    <tr>\n      <th>21</th>\n      <td>5.425100</td>\n      <td>3.926736</td>\n      <td>18.010179</td>\n      <td>32.007043</td>\n      <td>6.564859</td>\n      <td>-0.454529</td>\n      <td>8.925072</td>\n      <td>-0.011407</td>\n      <td>1.411869</td>\n      <td>8.812691</td>\n    </tr>\n    <tr>\n      <th>22</th>\n      <td>37.688478</td>\n      <td>9.919613</td>\n      <td>59.126448</td>\n      <td>35.470339</td>\n      <td>17.577547</td>\n      <td>1.290853</td>\n      <td>11.496889</td>\n      <td>-0.096087</td>\n      <td>-1.134694</td>\n      <td>11.440758</td>\n    </tr>\n    <tr>\n      <th>23</th>\n      <td>6.481017</td>\n      <td>2.828173</td>\n      <td>51.764148</td>\n      <td>55.611634</td>\n      <td>2.680503</td>\n      <td>0.005594</td>\n      <td>10.717301</td>\n      <td>-0.157888</td>\n      <td>2.965113</td>\n      <td>10.298963</td>\n    </tr>\n    <tr>\n      <th>24</th>\n      <td>11.730059</td>\n      <td>32.161190</td>\n      <td>43.892127</td>\n      <td>29.757971</td>\n      <td>2.584634</td>\n      <td>0.731830</td>\n      <td>11.351084</td>\n      <td>-0.525849</td>\n      <td>1.404376</td>\n      <td>11.263873</td>\n    </tr>\n    <tr>\n      <th>25</th>\n      <td>22.423608</td>\n      <td>10.265496</td>\n      <td>34.631290</td>\n      <td>50.451420</td>\n      <td>4.215971</td>\n      <td>0.104395</td>\n      <td>10.851241</td>\n      <td>-0.132929</td>\n      <td>-0.237350</td>\n      <td>10.848645</td>\n    </tr>\n    <tr>\n      <th>26</th>\n      <td>30.025320</td>\n      <td>66.592557</td>\n      <td>58.298716</td>\n      <td>66.870475</td>\n      <td>17.695073</td>\n      <td>-0.103022</td>\n      <td>16.617354</td>\n      <td>-0.075568</td>\n      <td>2.673885</td>\n      <td>16.400817</td>\n    </tr>\n    <tr>\n      <th>27</th>\n      <td>15.157960</td>\n      <td>9.836824</td>\n      <td>11.788856</td>\n      <td>47.470027</td>\n      <td>2.920042</td>\n      <td>0.121156</td>\n      <td>10.742838</td>\n      <td>0.199328</td>\n      <td>-1.209457</td>\n      <td>10.674539</td>\n    </tr>\n    <tr>\n      <th>28</th>\n      <td>7.639935</td>\n      <td>37.411894</td>\n      <td>27.838941</td>\n      <td>71.672946</td>\n      <td>3.136468</td>\n      <td>-0.015805</td>\n      <td>13.265042</td>\n      <td>-0.418243</td>\n      <td>2.405772</td>\n      <td>13.045060</td>\n    </tr>\n    <tr>\n      <th>29</th>\n      <td>13.496120</td>\n      <td>187.796988</td>\n      <td>173.073809</td>\n      <td>60.518760</td>\n      <td>4.469837</td>\n      <td>-0.131250</td>\n      <td>19.269581</td>\n      <td>-0.200470</td>\n      <td>2.355030</td>\n      <td>19.125129</td>\n    </tr>\n    <tr>\n      <th>30</th>\n      <td>11.592718</td>\n      <td>7.729618</td>\n      <td>21.834403</td>\n      <td>38.843825</td>\n      <td>19.643629</td>\n      <td>0.794702</td>\n      <td>11.572273</td>\n      <td>0.064884</td>\n      <td>0.627178</td>\n      <td>11.555265</td>\n    </tr>\n    <tr>\n      <th>31</th>\n      <td>11.683137</td>\n      <td>13.856727</td>\n      <td>26.445765</td>\n      <td>37.277097</td>\n      <td>12.259943</td>\n      <td>0.452834</td>\n      <td>11.667057</td>\n      <td>-0.255673</td>\n      <td>0.675677</td>\n      <td>11.647476</td>\n    </tr>\n    <tr>\n      <th>32</th>\n      <td>5.488206</td>\n      <td>8.443566</td>\n      <td>20.706053</td>\n      <td>29.585922</td>\n      <td>1.698603</td>\n      <td>-0.281668</td>\n      <td>7.704787</td>\n      <td>-0.185655</td>\n      <td>1.071434</td>\n      <td>7.629926</td>\n    </tr>\n    <tr>\n      <th>33</th>\n      <td>5.523257</td>\n      <td>28.350841</td>\n      <td>25.119293</td>\n      <td>60.262169</td>\n      <td>5.552700</td>\n      <td>0.280350</td>\n      <td>13.164859</td>\n      <td>0.142295</td>\n      <td>0.961849</td>\n      <td>13.129675</td>\n    </tr>\n    <tr>\n      <th>34</th>\n      <td>3.724734</td>\n      <td>10.801239</td>\n      <td>99.104043</td>\n      <td>35.594021</td>\n      <td>4.795555</td>\n      <td>0.038093</td>\n      <td>12.219507</td>\n      <td>-0.099183</td>\n      <td>1.218047</td>\n      <td>12.158648</td>\n    </tr>\n    <tr>\n      <th>35</th>\n      <td>13.609079</td>\n      <td>11.724356</td>\n      <td>39.202780</td>\n      <td>85.340700</td>\n      <td>153.721128</td>\n      <td>0.432502</td>\n      <td>30.390129</td>\n      <td>-0.175735</td>\n      <td>-0.416372</td>\n      <td>30.387276</td>\n    </tr>\n    <tr>\n      <th>36</th>\n      <td>43.631672</td>\n      <td>31.683839</td>\n      <td>259.324428</td>\n      <td>49.964914</td>\n      <td>5.886971</td>\n      <td>-0.322908</td>\n      <td>16.893890</td>\n      <td>0.052611</td>\n      <td>0.302300</td>\n      <td>16.891185</td>\n    </tr>\n    <tr>\n      <th>37</th>\n      <td>10.426264</td>\n      <td>13.312086</td>\n      <td>37.073012</td>\n      <td>43.567869</td>\n      <td>3.918452</td>\n      <td>-0.372471</td>\n      <td>10.647078</td>\n      <td>-0.286340</td>\n      <td>1.389135</td>\n      <td>10.556068</td>\n    </tr>\n    <tr>\n      <th>38</th>\n      <td>56.254715</td>\n      <td>32.475051</td>\n      <td>57.812271</td>\n      <td>38.439170</td>\n      <td>4.505988</td>\n      <td>0.066117</td>\n      <td>14.486691</td>\n      <td>-0.229578</td>\n      <td>-0.474859</td>\n      <td>14.478907</td>\n    </tr>\n    <tr>\n      <th>39</th>\n      <td>26.866343</td>\n      <td>36.120732</td>\n      <td>65.309026</td>\n      <td>37.019994</td>\n      <td>16.728041</td>\n      <td>2.766812</td>\n      <td>13.682329</td>\n      <td>0.426193</td>\n      <td>1.556839</td>\n      <td>13.593468</td>\n    </tr>\n    <tr>\n      <th>40</th>\n      <td>14.645797</td>\n      <td>15.131255</td>\n      <td>15.643418</td>\n      <td>34.307350</td>\n      <td>3.490775</td>\n      <td>0.542544</td>\n      <td>9.098177</td>\n      <td>0.302056</td>\n      <td>0.683758</td>\n      <td>9.072447</td>\n    </tr>\n    <tr>\n      <th>41</th>\n      <td>4.858236</td>\n      <td>19.290698</td>\n      <td>47.954274</td>\n      <td>37.918498</td>\n      <td>2.093976</td>\n      <td>-0.073088</td>\n      <td>10.752985</td>\n      <td>-0.225017</td>\n      <td>1.021408</td>\n      <td>10.704365</td>\n    </tr>\n    <tr>\n      <th>42</th>\n      <td>22.302649</td>\n      <td>24.043080</td>\n      <td>49.378715</td>\n      <td>215.625142</td>\n      <td>271.452915</td>\n      <td>0.464084</td>\n      <td>33.825343</td>\n      <td>0.141555</td>\n      <td>-4.522938</td>\n      <td>33.521588</td>\n    </tr>\n  </tbody>\n</table>\n</div>"
     },
     "execution_count": 16,
     "metadata": {},
     "output_type": "execute_result"
    }
   ],
   "source": [
    "# Potencia\n",
    "pot_seg = pot4signals(arr_seg, fs, divisor=1)\n",
    "pot_names = [f\"potAbs{band.capitalize()}\" for band in BANDAS.keys()]\n",
    "\n",
    "# Estadistica\n",
    "stats_data = stats_features(arr_seg)\n",
    "stats_names = list(stats_data.values())[:-1]\n",
    "stats_seg = stats_data[\"matriz de features stat\"]\n",
    "\n",
    "# Feature fector\n",
    "arr_fv = np.hstack((pot_seg, stats_seg))\n",
    "columnas = pot_names + stats_names\n",
    "df_fv = pd.DataFrame(data=arr_fv, columns=columnas)\n",
    "df_fv"
   ],
   "metadata": {
    "collapsed": false,
    "ExecuteTime": {
     "end_time": "2024-07-10T20:59:32.072078600Z",
     "start_time": "2024-07-10T20:59:31.875021600Z"
    }
   }
  },
  {
   "cell_type": "code",
   "execution_count": 21,
   "outputs": [
    {
     "name": "stdout",
     "output_type": "stream",
     "text": [
      "Extracting EDF parameters from C:\\Users\\gonza\\Documents\\ITBA\\2024 1C\\PSIB\\TP FINAL PSIB\\eeg_dataset\\PN05\\PN05-3.edf...\n",
      "EDF file detected\n",
      "Setting channel info structure...\n",
      "Creating raw.info structure...\n"
     ]
    },
    {
     "name": "stderr",
     "output_type": "stream",
     "text": [
      "C:\\Users\\gonza\\AppData\\Local\\Temp\\ipykernel_8456\\742412001.py:3: RuntimeWarning: Channels contain different highpass filters. Highest filter setting will be stored.\n",
      "  raw03 = io.read_raw_edf(path03)\n",
      "C:\\Users\\gonza\\AppData\\Local\\Temp\\ipykernel_8456\\742412001.py:3: RuntimeWarning: Channels contain different lowpass filters. Lowest filter setting will be stored.\n",
      "  raw03 = io.read_raw_edf(path03)\n",
      "C:\\Users\\gonza\\AppData\\Local\\Temp\\ipykernel_8456\\742412001.py:3: RuntimeWarning: Highpass cutoff frequency 15.91549 is greater than lowpass cutoff frequency 15.0, setting values to 0 and Nyquist.\n",
      "  raw03 = io.read_raw_edf(path03)\n"
     ]
    },
    {
     "data": {
      "text/plain": "array([[ 11.36461276,   9.73249322,   8.90681429, ...,   7.57488971,\n          5.15430558,   3.30573716],\n       [  2.28886905,   2.58590525,   2.58870395, ...,  93.06489976,\n         80.14400456,  35.45502607],\n       [ -4.82471127, 112.54538089, 199.1416388 , ..., 274.12982677,\n        246.91960145, 220.26158401],\n       ...,\n       [  9.44553849,   0.7100948 ,  -3.86634223, ...,  11.10267467,\n         10.07497096,   6.89727064],\n       [ -9.76609101, -22.85620336, -30.24289177, ...,   4.16171784,\n         -3.85329999, -18.98555966],\n       [ -1.14742916, -17.02214374, -26.70167237, ..., -18.45459858,\n        -16.15936454,  -5.19403582]])"
     },
     "execution_count": 21,
     "metadata": {},
     "output_type": "execute_result"
    }
   ],
   "source": [
    "# Agregamos datos de otro archivo\n",
    "path03 = rf\"{DATA_DIR}PN05/PN05-3.edf\"\n",
    "raw03 = io.read_raw_edf(path03)\n",
    "raw03_filt = raw03.pick(filt_ch_nms)\n",
    "data_namefilt03 = raw03_filt.get_data()\n",
    "data_namefilt03 = data_namefilt03 * 1e6\n",
    "\n",
    "# Buscamos la seizures\n",
    "seizures_in_03 = [seiz for seiz in seizures if seiz[\"file_name\"] == \"PN05-3.edf\"]\n",
    "arr_mtx_t_epi = get_seizure_array(seizures_in_03)\n",
    "seiz03 = seizures_in_03[0] # agarro una en particular para ver sus registration\n",
    "mtx_t_reg = np.array([seiz03['registration_start_time'], seiz03['registration_end_time']])\n",
    "\n",
    "# Mas segmentos!!\n",
    "more_seg, more_labels = getMeData(sig=data_namefilt[0], mtx_t_reg=mtx_t_reg, arr_mtx_t_epi=arr_mtx_t_epi)"
   ],
   "metadata": {
    "collapsed": false,
    "ExecuteTime": {
     "end_time": "2024-07-10T21:16:51.586046700Z",
     "start_time": "2024-07-10T21:16:50.358139500Z"
    }
   }
  },
  {
   "cell_type": "code",
   "execution_count": 33,
   "outputs": [
    {
     "name": "stdout",
     "output_type": "stream",
     "text": [
      "hola ivo\n"
     ]
    },
    {
     "data": {
      "text/plain": "    potAbsDelta  potAbsTheta  potAbsAlpha  potAbsBeta  potAbsGamma  kurtosis  \\\n0    217.644236    49.269005    89.263621   95.580341    55.646721  0.585607   \n1    178.283112    68.107614    68.265979   55.249263    21.184491  0.058750   \n2    148.265309    81.879942    29.160342   32.561074    17.223644  0.168532   \n3    131.956727    91.343940    18.468434   41.782452    16.610201 -0.005117   \n4    171.847087    80.592865    21.834394   24.324345     9.639249 -0.669140   \n..          ...          ...          ...         ...          ...       ...   \n76   122.300133    56.377653    80.224473   67.992885    34.666015  1.104256   \n77    47.972869    71.167041    65.417250  218.081616   150.463341  0.180981   \n78    10.683147    14.711758     5.697948   13.439185     3.419257  0.243305   \n79    82.284653    37.969012    51.101159   62.933390     2.754750 -0.014141   \n80    14.451155    15.789826    34.638923   36.386013    14.100288 -0.114945   \n\n          RMS  skewness     media  desvio estandar  \n0   21.551527  0.285625  6.390122        20.582387  \n1   20.155965 -0.071286 -1.154695        20.122863  \n2   20.059845 -0.216411 -4.901466        19.451813  \n3   18.680859  0.482669 -0.225125        18.679502  \n4   17.785635 -0.056150  1.242607        17.742174  \n..        ...       ...       ...              ...  \n76  24.447418  0.099206  0.159798        24.446895  \n77  29.972813 -0.018467 -1.760497        29.921065  \n78   7.876359  0.185646  0.476258         7.861947  \n79  16.279322  0.044644 -1.191299        16.235675  \n80  12.695346  0.024971 -0.135436        12.694624  \n\n[81 rows x 10 columns]",
      "text/html": "<div>\n<style scoped>\n    .dataframe tbody tr th:only-of-type {\n        vertical-align: middle;\n    }\n\n    .dataframe tbody tr th {\n        vertical-align: top;\n    }\n\n    .dataframe thead th {\n        text-align: right;\n    }\n</style>\n<table border=\"1\" class=\"dataframe\">\n  <thead>\n    <tr style=\"text-align: right;\">\n      <th></th>\n      <th>potAbsDelta</th>\n      <th>potAbsTheta</th>\n      <th>potAbsAlpha</th>\n      <th>potAbsBeta</th>\n      <th>potAbsGamma</th>\n      <th>kurtosis</th>\n      <th>RMS</th>\n      <th>skewness</th>\n      <th>media</th>\n      <th>desvio estandar</th>\n    </tr>\n  </thead>\n  <tbody>\n    <tr>\n      <th>0</th>\n      <td>217.644236</td>\n      <td>49.269005</td>\n      <td>89.263621</td>\n      <td>95.580341</td>\n      <td>55.646721</td>\n      <td>0.585607</td>\n      <td>21.551527</td>\n      <td>0.285625</td>\n      <td>6.390122</td>\n      <td>20.582387</td>\n    </tr>\n    <tr>\n      <th>1</th>\n      <td>178.283112</td>\n      <td>68.107614</td>\n      <td>68.265979</td>\n      <td>55.249263</td>\n      <td>21.184491</td>\n      <td>0.058750</td>\n      <td>20.155965</td>\n      <td>-0.071286</td>\n      <td>-1.154695</td>\n      <td>20.122863</td>\n    </tr>\n    <tr>\n      <th>2</th>\n      <td>148.265309</td>\n      <td>81.879942</td>\n      <td>29.160342</td>\n      <td>32.561074</td>\n      <td>17.223644</td>\n      <td>0.168532</td>\n      <td>20.059845</td>\n      <td>-0.216411</td>\n      <td>-4.901466</td>\n      <td>19.451813</td>\n    </tr>\n    <tr>\n      <th>3</th>\n      <td>131.956727</td>\n      <td>91.343940</td>\n      <td>18.468434</td>\n      <td>41.782452</td>\n      <td>16.610201</td>\n      <td>-0.005117</td>\n      <td>18.680859</td>\n      <td>0.482669</td>\n      <td>-0.225125</td>\n      <td>18.679502</td>\n    </tr>\n    <tr>\n      <th>4</th>\n      <td>171.847087</td>\n      <td>80.592865</td>\n      <td>21.834394</td>\n      <td>24.324345</td>\n      <td>9.639249</td>\n      <td>-0.669140</td>\n      <td>17.785635</td>\n      <td>-0.056150</td>\n      <td>1.242607</td>\n      <td>17.742174</td>\n    </tr>\n    <tr>\n      <th>...</th>\n      <td>...</td>\n      <td>...</td>\n      <td>...</td>\n      <td>...</td>\n      <td>...</td>\n      <td>...</td>\n      <td>...</td>\n      <td>...</td>\n      <td>...</td>\n      <td>...</td>\n    </tr>\n    <tr>\n      <th>76</th>\n      <td>122.300133</td>\n      <td>56.377653</td>\n      <td>80.224473</td>\n      <td>67.992885</td>\n      <td>34.666015</td>\n      <td>1.104256</td>\n      <td>24.447418</td>\n      <td>0.099206</td>\n      <td>0.159798</td>\n      <td>24.446895</td>\n    </tr>\n    <tr>\n      <th>77</th>\n      <td>47.972869</td>\n      <td>71.167041</td>\n      <td>65.417250</td>\n      <td>218.081616</td>\n      <td>150.463341</td>\n      <td>0.180981</td>\n      <td>29.972813</td>\n      <td>-0.018467</td>\n      <td>-1.760497</td>\n      <td>29.921065</td>\n    </tr>\n    <tr>\n      <th>78</th>\n      <td>10.683147</td>\n      <td>14.711758</td>\n      <td>5.697948</td>\n      <td>13.439185</td>\n      <td>3.419257</td>\n      <td>0.243305</td>\n      <td>7.876359</td>\n      <td>0.185646</td>\n      <td>0.476258</td>\n      <td>7.861947</td>\n    </tr>\n    <tr>\n      <th>79</th>\n      <td>82.284653</td>\n      <td>37.969012</td>\n      <td>51.101159</td>\n      <td>62.933390</td>\n      <td>2.754750</td>\n      <td>-0.014141</td>\n      <td>16.279322</td>\n      <td>0.044644</td>\n      <td>-1.191299</td>\n      <td>16.235675</td>\n    </tr>\n    <tr>\n      <th>80</th>\n      <td>14.451155</td>\n      <td>15.789826</td>\n      <td>34.638923</td>\n      <td>36.386013</td>\n      <td>14.100288</td>\n      <td>-0.114945</td>\n      <td>12.695346</td>\n      <td>0.024971</td>\n      <td>-0.135436</td>\n      <td>12.694624</td>\n    </tr>\n  </tbody>\n</table>\n<p>81 rows × 10 columns</p>\n</div>"
     },
     "execution_count": 33,
     "metadata": {},
     "output_type": "execute_result"
    }
   ],
   "source": [
    "# Potencia\n",
    "more_pot = pot4signals(more_seg, fs, divisor=1)\n",
    "\n",
    "# Estadistica\n",
    "more_stat_data = stats_features(more_seg)\n",
    "more_stat = more_stat_data[\"matriz de features stat\"]\n",
    "\n",
    "# Feature fector\n",
    "more_fv = np.hstack((more_pot, more_stat))\n",
    "print('hola ivo')\n",
    "new_fv = np.concatenate((arr_fv, more_fv))\n",
    "new_labels = np.concatenate((arr_labels, more_labels))\n",
    "new_df_fv = pd.DataFrame(new_fv, columns=columnas)\n",
    "new_df_fv"
   ],
   "metadata": {
    "collapsed": false,
    "ExecuteTime": {
     "end_time": "2024-07-10T21:27:02.008989300Z",
     "start_time": "2024-07-10T21:27:01.747642300Z"
    }
   }
  },
  {
   "cell_type": "code",
   "execution_count": 37,
   "outputs": [
    {
     "data": {
      "text/plain": "    potAbsDelta  potAbsTheta  potAbsAlpha  potAbsBeta  potAbsGamma  kurtosis  \\\n0    217.644236    49.269005    89.263621   95.580341    55.646721  0.585607   \n1    178.283112    68.107614    68.265979   55.249263    21.184491  0.058750   \n2    148.265309    81.879942    29.160342   32.561074    17.223644  0.168532   \n3    131.956727    91.343940    18.468434   41.782452    16.610201 -0.005117   \n4    171.847087    80.592865    21.834394   24.324345     9.639249 -0.669140   \n..          ...          ...          ...         ...          ...       ...   \n76   122.300133    56.377653    80.224473   67.992885    34.666015  1.104256   \n77    47.972869    71.167041    65.417250  218.081616   150.463341  0.180981   \n78    10.683147    14.711758     5.697948   13.439185     3.419257  0.243305   \n79    82.284653    37.969012    51.101159   62.933390     2.754750 -0.014141   \n80    14.451155    15.789826    34.638923   36.386013    14.100288 -0.114945   \n\n          RMS  skewness     media  desvio estandar  label  \n0   21.551527  0.285625  6.390122        20.582387    0.0  \n1   20.155965 -0.071286 -1.154695        20.122863    0.0  \n2   20.059845 -0.216411 -4.901466        19.451813    0.0  \n3   18.680859  0.482669 -0.225125        18.679502    0.0  \n4   17.785635 -0.056150  1.242607        17.742174    0.0  \n..        ...       ...       ...              ...    ...  \n76  24.447418  0.099206  0.159798        24.446895    1.0  \n77  29.972813 -0.018467 -1.760497        29.921065    1.0  \n78   7.876359  0.185646  0.476258         7.861947    1.0  \n79  16.279322  0.044644 -1.191299        16.235675    1.0  \n80  12.695346  0.024971 -0.135436        12.694624    1.0  \n\n[81 rows x 11 columns]",
      "text/html": "<div>\n<style scoped>\n    .dataframe tbody tr th:only-of-type {\n        vertical-align: middle;\n    }\n\n    .dataframe tbody tr th {\n        vertical-align: top;\n    }\n\n    .dataframe thead th {\n        text-align: right;\n    }\n</style>\n<table border=\"1\" class=\"dataframe\">\n  <thead>\n    <tr style=\"text-align: right;\">\n      <th></th>\n      <th>potAbsDelta</th>\n      <th>potAbsTheta</th>\n      <th>potAbsAlpha</th>\n      <th>potAbsBeta</th>\n      <th>potAbsGamma</th>\n      <th>kurtosis</th>\n      <th>RMS</th>\n      <th>skewness</th>\n      <th>media</th>\n      <th>desvio estandar</th>\n      <th>label</th>\n    </tr>\n  </thead>\n  <tbody>\n    <tr>\n      <th>0</th>\n      <td>217.644236</td>\n      <td>49.269005</td>\n      <td>89.263621</td>\n      <td>95.580341</td>\n      <td>55.646721</td>\n      <td>0.585607</td>\n      <td>21.551527</td>\n      <td>0.285625</td>\n      <td>6.390122</td>\n      <td>20.582387</td>\n      <td>0.0</td>\n    </tr>\n    <tr>\n      <th>1</th>\n      <td>178.283112</td>\n      <td>68.107614</td>\n      <td>68.265979</td>\n      <td>55.249263</td>\n      <td>21.184491</td>\n      <td>0.058750</td>\n      <td>20.155965</td>\n      <td>-0.071286</td>\n      <td>-1.154695</td>\n      <td>20.122863</td>\n      <td>0.0</td>\n    </tr>\n    <tr>\n      <th>2</th>\n      <td>148.265309</td>\n      <td>81.879942</td>\n      <td>29.160342</td>\n      <td>32.561074</td>\n      <td>17.223644</td>\n      <td>0.168532</td>\n      <td>20.059845</td>\n      <td>-0.216411</td>\n      <td>-4.901466</td>\n      <td>19.451813</td>\n      <td>0.0</td>\n    </tr>\n    <tr>\n      <th>3</th>\n      <td>131.956727</td>\n      <td>91.343940</td>\n      <td>18.468434</td>\n      <td>41.782452</td>\n      <td>16.610201</td>\n      <td>-0.005117</td>\n      <td>18.680859</td>\n      <td>0.482669</td>\n      <td>-0.225125</td>\n      <td>18.679502</td>\n      <td>0.0</td>\n    </tr>\n    <tr>\n      <th>4</th>\n      <td>171.847087</td>\n      <td>80.592865</td>\n      <td>21.834394</td>\n      <td>24.324345</td>\n      <td>9.639249</td>\n      <td>-0.669140</td>\n      <td>17.785635</td>\n      <td>-0.056150</td>\n      <td>1.242607</td>\n      <td>17.742174</td>\n      <td>0.0</td>\n    </tr>\n    <tr>\n      <th>...</th>\n      <td>...</td>\n      <td>...</td>\n      <td>...</td>\n      <td>...</td>\n      <td>...</td>\n      <td>...</td>\n      <td>...</td>\n      <td>...</td>\n      <td>...</td>\n      <td>...</td>\n      <td>...</td>\n    </tr>\n    <tr>\n      <th>76</th>\n      <td>122.300133</td>\n      <td>56.377653</td>\n      <td>80.224473</td>\n      <td>67.992885</td>\n      <td>34.666015</td>\n      <td>1.104256</td>\n      <td>24.447418</td>\n      <td>0.099206</td>\n      <td>0.159798</td>\n      <td>24.446895</td>\n      <td>1.0</td>\n    </tr>\n    <tr>\n      <th>77</th>\n      <td>47.972869</td>\n      <td>71.167041</td>\n      <td>65.417250</td>\n      <td>218.081616</td>\n      <td>150.463341</td>\n      <td>0.180981</td>\n      <td>29.972813</td>\n      <td>-0.018467</td>\n      <td>-1.760497</td>\n      <td>29.921065</td>\n      <td>1.0</td>\n    </tr>\n    <tr>\n      <th>78</th>\n      <td>10.683147</td>\n      <td>14.711758</td>\n      <td>5.697948</td>\n      <td>13.439185</td>\n      <td>3.419257</td>\n      <td>0.243305</td>\n      <td>7.876359</td>\n      <td>0.185646</td>\n      <td>0.476258</td>\n      <td>7.861947</td>\n      <td>1.0</td>\n    </tr>\n    <tr>\n      <th>79</th>\n      <td>82.284653</td>\n      <td>37.969012</td>\n      <td>51.101159</td>\n      <td>62.933390</td>\n      <td>2.754750</td>\n      <td>-0.014141</td>\n      <td>16.279322</td>\n      <td>0.044644</td>\n      <td>-1.191299</td>\n      <td>16.235675</td>\n      <td>1.0</td>\n    </tr>\n    <tr>\n      <th>80</th>\n      <td>14.451155</td>\n      <td>15.789826</td>\n      <td>34.638923</td>\n      <td>36.386013</td>\n      <td>14.100288</td>\n      <td>-0.114945</td>\n      <td>12.695346</td>\n      <td>0.024971</td>\n      <td>-0.135436</td>\n      <td>12.694624</td>\n      <td>1.0</td>\n    </tr>\n  </tbody>\n</table>\n<p>81 rows × 11 columns</p>\n</div>"
     },
     "execution_count": 37,
     "metadata": {},
     "output_type": "execute_result"
    }
   ],
   "source": [
    "new_df_fv['label'] = new_labels\n",
    "new_df_fv.to_csv('first_features.csv', sep=',', encoding='utf-8')\n",
    "new_df_fv"
   ],
   "metadata": {
    "collapsed": false,
    "ExecuteTime": {
     "end_time": "2024-07-10T21:29:21.121231800Z",
     "start_time": "2024-07-10T21:29:21.075783900Z"
    }
   }
  },
  {
   "cell_type": "code",
   "execution_count": 40,
   "outputs": [
    {
     "data": {
      "text/plain": "    potAbsDelta  potAbsTheta  potAbsAlpha  potAbsBeta  potAbsGamma  kurtosis  \\\n0    217.644236    49.269005    89.263621   95.580341    55.646721  0.585607   \n1    178.283112    68.107614    68.265979   55.249263    21.184491  0.058750   \n2    148.265309    81.879942    29.160342   32.561074    17.223644  0.168532   \n3    131.956727    91.343940    18.468434   41.782452    16.610201 -0.005117   \n4    171.847087    80.592865    21.834394   24.324345     9.639249 -0.669140   \n..          ...          ...          ...         ...          ...       ...   \n76   122.300133    56.377653    80.224473   67.992885    34.666015  1.104256   \n77    47.972869    71.167041    65.417250  218.081616   150.463341  0.180981   \n78    10.683147    14.711758     5.697948   13.439185     3.419257  0.243305   \n79    82.284653    37.969012    51.101159   62.933390     2.754750 -0.014141   \n80    14.451155    15.789826    34.638923   36.386013    14.100288 -0.114945   \n\n          RMS  skewness     media  desvio estandar  label  \n0   21.551527  0.285625  6.390122        20.582387    0.0  \n1   20.155965 -0.071286 -1.154695        20.122863    0.0  \n2   20.059845 -0.216411 -4.901466        19.451813    0.0  \n3   18.680859  0.482669 -0.225125        18.679502    0.0  \n4   17.785635 -0.056150  1.242607        17.742174    0.0  \n..        ...       ...       ...              ...    ...  \n76  24.447418  0.099206  0.159798        24.446895    1.0  \n77  29.972813 -0.018467 -1.760497        29.921065    1.0  \n78   7.876359  0.185646  0.476258         7.861947    1.0  \n79  16.279322  0.044644 -1.191299        16.235675    1.0  \n80  12.695346  0.024971 -0.135436        12.694624    1.0  \n\n[81 rows x 11 columns]",
      "text/html": "<div>\n<style scoped>\n    .dataframe tbody tr th:only-of-type {\n        vertical-align: middle;\n    }\n\n    .dataframe tbody tr th {\n        vertical-align: top;\n    }\n\n    .dataframe thead th {\n        text-align: right;\n    }\n</style>\n<table border=\"1\" class=\"dataframe\">\n  <thead>\n    <tr style=\"text-align: right;\">\n      <th></th>\n      <th>potAbsDelta</th>\n      <th>potAbsTheta</th>\n      <th>potAbsAlpha</th>\n      <th>potAbsBeta</th>\n      <th>potAbsGamma</th>\n      <th>kurtosis</th>\n      <th>RMS</th>\n      <th>skewness</th>\n      <th>media</th>\n      <th>desvio estandar</th>\n      <th>label</th>\n    </tr>\n  </thead>\n  <tbody>\n    <tr>\n      <th>0</th>\n      <td>217.644236</td>\n      <td>49.269005</td>\n      <td>89.263621</td>\n      <td>95.580341</td>\n      <td>55.646721</td>\n      <td>0.585607</td>\n      <td>21.551527</td>\n      <td>0.285625</td>\n      <td>6.390122</td>\n      <td>20.582387</td>\n      <td>0.0</td>\n    </tr>\n    <tr>\n      <th>1</th>\n      <td>178.283112</td>\n      <td>68.107614</td>\n      <td>68.265979</td>\n      <td>55.249263</td>\n      <td>21.184491</td>\n      <td>0.058750</td>\n      <td>20.155965</td>\n      <td>-0.071286</td>\n      <td>-1.154695</td>\n      <td>20.122863</td>\n      <td>0.0</td>\n    </tr>\n    <tr>\n      <th>2</th>\n      <td>148.265309</td>\n      <td>81.879942</td>\n      <td>29.160342</td>\n      <td>32.561074</td>\n      <td>17.223644</td>\n      <td>0.168532</td>\n      <td>20.059845</td>\n      <td>-0.216411</td>\n      <td>-4.901466</td>\n      <td>19.451813</td>\n      <td>0.0</td>\n    </tr>\n    <tr>\n      <th>3</th>\n      <td>131.956727</td>\n      <td>91.343940</td>\n      <td>18.468434</td>\n      <td>41.782452</td>\n      <td>16.610201</td>\n      <td>-0.005117</td>\n      <td>18.680859</td>\n      <td>0.482669</td>\n      <td>-0.225125</td>\n      <td>18.679502</td>\n      <td>0.0</td>\n    </tr>\n    <tr>\n      <th>4</th>\n      <td>171.847087</td>\n      <td>80.592865</td>\n      <td>21.834394</td>\n      <td>24.324345</td>\n      <td>9.639249</td>\n      <td>-0.669140</td>\n      <td>17.785635</td>\n      <td>-0.056150</td>\n      <td>1.242607</td>\n      <td>17.742174</td>\n      <td>0.0</td>\n    </tr>\n    <tr>\n      <th>...</th>\n      <td>...</td>\n      <td>...</td>\n      <td>...</td>\n      <td>...</td>\n      <td>...</td>\n      <td>...</td>\n      <td>...</td>\n      <td>...</td>\n      <td>...</td>\n      <td>...</td>\n      <td>...</td>\n    </tr>\n    <tr>\n      <th>76</th>\n      <td>122.300133</td>\n      <td>56.377653</td>\n      <td>80.224473</td>\n      <td>67.992885</td>\n      <td>34.666015</td>\n      <td>1.104256</td>\n      <td>24.447418</td>\n      <td>0.099206</td>\n      <td>0.159798</td>\n      <td>24.446895</td>\n      <td>1.0</td>\n    </tr>\n    <tr>\n      <th>77</th>\n      <td>47.972869</td>\n      <td>71.167041</td>\n      <td>65.417250</td>\n      <td>218.081616</td>\n      <td>150.463341</td>\n      <td>0.180981</td>\n      <td>29.972813</td>\n      <td>-0.018467</td>\n      <td>-1.760497</td>\n      <td>29.921065</td>\n      <td>1.0</td>\n    </tr>\n    <tr>\n      <th>78</th>\n      <td>10.683147</td>\n      <td>14.711758</td>\n      <td>5.697948</td>\n      <td>13.439185</td>\n      <td>3.419257</td>\n      <td>0.243305</td>\n      <td>7.876359</td>\n      <td>0.185646</td>\n      <td>0.476258</td>\n      <td>7.861947</td>\n      <td>1.0</td>\n    </tr>\n    <tr>\n      <th>79</th>\n      <td>82.284653</td>\n      <td>37.969012</td>\n      <td>51.101159</td>\n      <td>62.933390</td>\n      <td>2.754750</td>\n      <td>-0.014141</td>\n      <td>16.279322</td>\n      <td>0.044644</td>\n      <td>-1.191299</td>\n      <td>16.235675</td>\n      <td>1.0</td>\n    </tr>\n    <tr>\n      <th>80</th>\n      <td>14.451155</td>\n      <td>15.789826</td>\n      <td>34.638923</td>\n      <td>36.386013</td>\n      <td>14.100288</td>\n      <td>-0.114945</td>\n      <td>12.695346</td>\n      <td>0.024971</td>\n      <td>-0.135436</td>\n      <td>12.694624</td>\n      <td>1.0</td>\n    </tr>\n  </tbody>\n</table>\n<p>81 rows × 11 columns</p>\n</div>"
     },
     "execution_count": 40,
     "metadata": {},
     "output_type": "execute_result"
    }
   ],
   "source": [
    "df_from_csv = pd.read_csv(\"first_features.csv\", index_col=0)\n",
    "df_from_csv"
   ],
   "metadata": {
    "collapsed": false,
    "ExecuteTime": {
     "end_time": "2024-07-10T21:30:21.109988700Z",
     "start_time": "2024-07-10T21:30:21.053036900Z"
    }
   }
  }
 ],
 "metadata": {
  "kernelspec": {
   "display_name": "Python 3",
   "language": "python",
   "name": "python3"
  },
  "language_info": {
   "codemirror_mode": {
    "name": "ipython",
    "version": 2
   },
   "file_extension": ".py",
   "mimetype": "text/x-python",
   "name": "python",
   "nbconvert_exporter": "python",
   "pygments_lexer": "ipython2",
   "version": "2.7.6"
  }
 },
 "nbformat": 4,
 "nbformat_minor": 0
}
