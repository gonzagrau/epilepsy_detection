{
 "cells": [
  {
   "cell_type": "code",
   "execution_count": 1,
   "outputs": [],
   "source": [
    "#Importación de librerías\n",
    "import numpy as np\n",
    "import matplotlib.pyplot as plt\n",
    "from mne import io\n",
    "import random\n",
    "import scipy.signal as signal\n",
    "from datetime import datetime, timedelta\n",
    "import FVfunctions as FV"
   ],
   "metadata": {
    "collapsed": false,
    "ExecuteTime": {
     "end_time": "2024-07-10T00:33:03.503101300Z",
     "start_time": "2024-07-10T00:33:00.965217700Z"
    }
   }
  },
  {
   "cell_type": "code",
   "execution_count": 2,
   "metadata": {
    "collapsed": true,
    "ExecuteTime": {
     "end_time": "2024-07-10T00:33:05.887726800Z",
     "start_time": "2024-07-10T00:33:03.503101300Z"
    }
   },
   "outputs": [
    {
     "name": "stdout",
     "output_type": "stream",
     "text": [
      "Extracting EDF parameters from C:\\Users\\gonza\\Documents\\ITBA\\2024 1C\\PSIB\\TP FINAL PSIB\\eeg_dataset\\physionet.org\\files\\siena-scalp-eeg\\1.0.0\\PN05\\PN05-2.edf...\n",
      "EDF file detected\n",
      "Setting channel info structure...\n",
      "Creating raw.info structure...\n",
      "<Info | 8 non-empty values\n",
      " bads: []\n",
      " ch_names: EEG Fp1, EEG F3, EEG C3, EEG P3, EEG O1, EEG F7, EEG T3, EEG T5, ...\n",
      " chs: 37 EEG\n",
      " custom_ref_applied: False\n",
      " highpass: 0.0 Hz\n",
      " lowpass: 256.0 Hz\n",
      " meas_date: 2016-01-01 06:46:02 UTC\n",
      " nchan: 37\n",
      " projs: []\n",
      " sfreq: 512.0 Hz\n",
      " subject_info: 1 item (dict)\n",
      ">\n",
      "['EEG Fp1', 'EEG F3', 'EEG C3', 'EEG P3', 'EEG O1', 'EEG F7', 'EEG T3', 'EEG T5', 'EEG Fc1', 'EEG Fc5', 'EEG Cp1', 'EEG Cp5', 'EEG F9', 'EEG Fz', 'EEG Cz', 'EEG Pz', 'EEG F4', 'EEG C4', 'EEG P4', 'EEG O2', 'EEG F8', 'EEG T4', 'EEG T6', 'EEG Fc2', 'EEG Fc6', 'EEG Cp2', 'EEG Cp6', 'EEG F10', 'EKG EKG', 'SPO2', 'HR', '1', '2', 'EEG FP2', 'EEG P9', 'EEG P10', 'MK']\n"
     ]
    },
    {
     "name": "stderr",
     "output_type": "stream",
     "text": [
      "C:\\Users\\gonza\\Documents\\ITBA\\2024 1C\\PSIB\\TP FINAL PSIB\\epilepsy_detection\\FVfunctions.py:255: RuntimeWarning: Channels contain different highpass filters. Highest filter setting will be stored.\n",
      "  raw01 = io.read_raw_edf(path01)\n",
      "C:\\Users\\gonza\\Documents\\ITBA\\2024 1C\\PSIB\\TP FINAL PSIB\\epilepsy_detection\\FVfunctions.py:255: RuntimeWarning: Channels contain different lowpass filters. Lowest filter setting will be stored.\n",
      "  raw01 = io.read_raw_edf(path01)\n",
      "C:\\Users\\gonza\\Documents\\ITBA\\2024 1C\\PSIB\\TP FINAL PSIB\\epilepsy_detection\\FVfunctions.py:255: RuntimeWarning: Highpass cutoff frequency 15.91549 is greater than lowpass cutoff frequency 15.0, setting values to 0 and Nyquist.\n",
      "  raw01 = io.read_raw_edf(path01)\n"
     ]
    },
    {
     "name": "stdout",
     "output_type": "stream",
     "text": [
      "Canales filtrados: ['EEG T3', 'EEG T5', 'EEG F7', 'EEG F3', 'EEG C3', 'EEG P3']\n",
      "Cantidad de canales resultantes: 6\n",
      "Cantidad de datos en cada canal: 4733440\n",
      "Frecuencia de muestreo: 512.0\n",
      "Instantes [s]: 0.0 ... 9244.998046875\n"
     ]
    },
    {
     "data": {
      "text/plain": "   potAbsDelta  potAbsTheta  potAbsAlpha  potAbsBeta  potAbsGamma  kurtosis  \\\n0   217.644236    49.269005    89.263621   95.580341    55.646721  0.585607   \n1   178.283112    68.107614    68.265979   55.249263    21.184491  0.058750   \n2   148.265309    81.879942    29.160342   32.561074    17.223644  0.168532   \n3   131.956727    91.343940    18.468434   41.782452    16.610201 -0.005117   \n4   171.847087    80.592865    21.834394   24.324345     9.639249 -0.669140   \n5    49.951440   266.194512   118.488910   33.968660    10.059972 -0.137855   \n6    60.522752   694.580842   171.390084   42.324166     8.917114 -0.446337   \n7    46.869211   908.317318   155.500322   71.472523    11.021553 -0.840184   \n8    76.570210   566.605445    24.871353   73.751879    16.436683 -0.485127   \n9    80.895259    92.963097   126.074663  172.348406    22.912454  0.375545   \n\n         RMS  skewness     media  desvio estandar  \n0  21.551527  0.285625  6.390122        20.582387  \n1  20.155965 -0.071286 -1.154695        20.122863  \n2  20.059845 -0.216411 -4.901466        19.451813  \n3  18.680859  0.482669 -0.225125        18.679502  \n4  17.785635 -0.056150  1.242607        17.742174  \n5  22.604525 -0.397360  2.536449        22.461767  \n6  30.976213 -0.094013 -0.918058        30.962606  \n7  33.378961 -0.038565  0.574652        33.374014  \n8  26.430783  0.213435  2.710957        26.291386  \n9  24.919111  0.079699 -3.971633        24.600574  ",
      "text/html": "<div>\n<style scoped>\n    .dataframe tbody tr th:only-of-type {\n        vertical-align: middle;\n    }\n\n    .dataframe tbody tr th {\n        vertical-align: top;\n    }\n\n    .dataframe thead th {\n        text-align: right;\n    }\n</style>\n<table border=\"1\" class=\"dataframe\">\n  <thead>\n    <tr style=\"text-align: right;\">\n      <th></th>\n      <th>potAbsDelta</th>\n      <th>potAbsTheta</th>\n      <th>potAbsAlpha</th>\n      <th>potAbsBeta</th>\n      <th>potAbsGamma</th>\n      <th>kurtosis</th>\n      <th>RMS</th>\n      <th>skewness</th>\n      <th>media</th>\n      <th>desvio estandar</th>\n    </tr>\n  </thead>\n  <tbody>\n    <tr>\n      <th>0</th>\n      <td>217.644236</td>\n      <td>49.269005</td>\n      <td>89.263621</td>\n      <td>95.580341</td>\n      <td>55.646721</td>\n      <td>0.585607</td>\n      <td>21.551527</td>\n      <td>0.285625</td>\n      <td>6.390122</td>\n      <td>20.582387</td>\n    </tr>\n    <tr>\n      <th>1</th>\n      <td>178.283112</td>\n      <td>68.107614</td>\n      <td>68.265979</td>\n      <td>55.249263</td>\n      <td>21.184491</td>\n      <td>0.058750</td>\n      <td>20.155965</td>\n      <td>-0.071286</td>\n      <td>-1.154695</td>\n      <td>20.122863</td>\n    </tr>\n    <tr>\n      <th>2</th>\n      <td>148.265309</td>\n      <td>81.879942</td>\n      <td>29.160342</td>\n      <td>32.561074</td>\n      <td>17.223644</td>\n      <td>0.168532</td>\n      <td>20.059845</td>\n      <td>-0.216411</td>\n      <td>-4.901466</td>\n      <td>19.451813</td>\n    </tr>\n    <tr>\n      <th>3</th>\n      <td>131.956727</td>\n      <td>91.343940</td>\n      <td>18.468434</td>\n      <td>41.782452</td>\n      <td>16.610201</td>\n      <td>-0.005117</td>\n      <td>18.680859</td>\n      <td>0.482669</td>\n      <td>-0.225125</td>\n      <td>18.679502</td>\n    </tr>\n    <tr>\n      <th>4</th>\n      <td>171.847087</td>\n      <td>80.592865</td>\n      <td>21.834394</td>\n      <td>24.324345</td>\n      <td>9.639249</td>\n      <td>-0.669140</td>\n      <td>17.785635</td>\n      <td>-0.056150</td>\n      <td>1.242607</td>\n      <td>17.742174</td>\n    </tr>\n    <tr>\n      <th>5</th>\n      <td>49.951440</td>\n      <td>266.194512</td>\n      <td>118.488910</td>\n      <td>33.968660</td>\n      <td>10.059972</td>\n      <td>-0.137855</td>\n      <td>22.604525</td>\n      <td>-0.397360</td>\n      <td>2.536449</td>\n      <td>22.461767</td>\n    </tr>\n    <tr>\n      <th>6</th>\n      <td>60.522752</td>\n      <td>694.580842</td>\n      <td>171.390084</td>\n      <td>42.324166</td>\n      <td>8.917114</td>\n      <td>-0.446337</td>\n      <td>30.976213</td>\n      <td>-0.094013</td>\n      <td>-0.918058</td>\n      <td>30.962606</td>\n    </tr>\n    <tr>\n      <th>7</th>\n      <td>46.869211</td>\n      <td>908.317318</td>\n      <td>155.500322</td>\n      <td>71.472523</td>\n      <td>11.021553</td>\n      <td>-0.840184</td>\n      <td>33.378961</td>\n      <td>-0.038565</td>\n      <td>0.574652</td>\n      <td>33.374014</td>\n    </tr>\n    <tr>\n      <th>8</th>\n      <td>76.570210</td>\n      <td>566.605445</td>\n      <td>24.871353</td>\n      <td>73.751879</td>\n      <td>16.436683</td>\n      <td>-0.485127</td>\n      <td>26.430783</td>\n      <td>0.213435</td>\n      <td>2.710957</td>\n      <td>26.291386</td>\n    </tr>\n    <tr>\n      <th>9</th>\n      <td>80.895259</td>\n      <td>92.963097</td>\n      <td>126.074663</td>\n      <td>172.348406</td>\n      <td>22.912454</td>\n      <td>0.375545</td>\n      <td>24.919111</td>\n      <td>0.079699</td>\n      <td>-3.971633</td>\n      <td>24.600574</td>\n    </tr>\n  </tbody>\n</table>\n</div>"
     },
     "execution_count": 2,
     "metadata": {},
     "output_type": "execute_result"
    }
   ],
   "source": [
    "df_fv = FV.test()\n",
    "df_fv.head(10)"
   ]
  },
  {
   "cell_type": "code",
   "execution_count": 2,
   "outputs": [],
   "source": [],
   "metadata": {
    "collapsed": false,
    "ExecuteTime": {
     "end_time": "2024-07-10T00:33:05.898473Z",
     "start_time": "2024-07-10T00:33:05.898473Z"
    }
   }
  }
 ],
 "metadata": {
  "kernelspec": {
   "display_name": "Python 3",
   "language": "python",
   "name": "python3"
  },
  "language_info": {
   "codemirror_mode": {
    "name": "ipython",
    "version": 2
   },
   "file_extension": ".py",
   "mimetype": "text/x-python",
   "name": "python",
   "nbconvert_exporter": "python",
   "pygments_lexer": "ipython2",
   "version": "2.7.6"
  }
 },
 "nbformat": 4,
 "nbformat_minor": 0
}
