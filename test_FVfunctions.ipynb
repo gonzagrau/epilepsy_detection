{
 "cells": [
  {
   "cell_type": "markdown",
   "source": [
    "# Prueba de la extración de feature vectors"
   ],
   "metadata": {
    "collapsed": false
   }
  },
  {
   "cell_type": "code",
   "execution_count": 1,
   "outputs": [],
   "source": [
    "#Importación de librerías\n",
    "import numpy as np\n",
    "import matplotlib.pyplot as plt\n",
    "import pandas as pd\n",
    "from mne import io\n",
    "import random\n",
    "import scipy.signal as signal\n",
    "from datetime import datetime, timedelta\n",
    "from FVfunctions import getMeData, pot4signals, BANDAS\n",
    "from features_stats import stats_features\n",
    "from dataset_reader import get_seizure_events, get_seizure_array"
   ],
   "metadata": {
    "collapsed": false,
    "ExecuteTime": {
     "end_time": "2024-07-10T22:02:29.561675200Z",
     "start_time": "2024-07-10T22:02:29.340851200Z"
    }
   }
  },
  {
   "cell_type": "markdown",
   "source": [
    "#### 1. Lectura"
   ],
   "metadata": {
    "collapsed": false
   }
  },
  {
   "cell_type": "code",
   "execution_count": 2,
   "metadata": {
    "collapsed": true,
    "ExecuteTime": {
     "end_time": "2024-07-10T22:02:30.064502100Z",
     "start_time": "2024-07-10T22:02:29.568657200Z"
    }
   },
   "outputs": [
    {
     "name": "stdout",
     "output_type": "stream",
     "text": [
      "Extracting EDF parameters from C:\\Users\\gonza\\Documents\\ITBA\\2024 1C\\PSIB\\TP FINAL PSIB\\eeg_dataset\\PN05\\PN05-2.edf...\n",
      "EDF file detected\n",
      "Setting channel info structure...\n",
      "Creating raw.info structure...\n"
     ]
    },
    {
     "name": "stderr",
     "output_type": "stream",
     "text": [
      "C:\\Users\\gonza\\AppData\\Local\\Temp\\ipykernel_16804\\2474338660.py:3: RuntimeWarning: Channels contain different highpass filters. Highest filter setting will be stored.\n",
      "  raw01 = io.read_raw_edf(path01)\n",
      "C:\\Users\\gonza\\AppData\\Local\\Temp\\ipykernel_16804\\2474338660.py:3: RuntimeWarning: Channels contain different lowpass filters. Lowest filter setting will be stored.\n",
      "  raw01 = io.read_raw_edf(path01)\n",
      "C:\\Users\\gonza\\AppData\\Local\\Temp\\ipykernel_16804\\2474338660.py:3: RuntimeWarning: Highpass cutoff frequency 15.91549 is greater than lowpass cutoff frequency 15.0, setting values to 0 and Nyquist.\n",
      "  raw01 = io.read_raw_edf(path01)\n"
     ]
    }
   ],
   "source": [
    "DATA_DIR = r\"../eeg_dataset/\"\n",
    "path01 = rf\"{DATA_DIR}PN05/PN05-2.edf\"\n",
    "raw01 = io.read_raw_edf(path01)\n",
    "paciente = \"PN05\"\n",
    "realizacion = \"2\""
   ]
  },
  {
   "cell_type": "markdown",
   "source": [
    "#### 2. Info del archivo"
   ],
   "metadata": {
    "collapsed": false
   }
  },
  {
   "cell_type": "code",
   "execution_count": 3,
   "outputs": [
    {
     "name": "stdout",
     "output_type": "stream",
     "text": [
      "<Info | 8 non-empty values\n",
      " bads: []\n",
      " ch_names: EEG Fp1, EEG F3, EEG C3, EEG P3, EEG O1, EEG F7, EEG T3, EEG T5, ...\n",
      " chs: 37 EEG\n",
      " custom_ref_applied: False\n",
      " highpass: 0.0 Hz\n",
      " lowpass: 256.0 Hz\n",
      " meas_date: 2016-01-01 06:46:02 UTC\n",
      " nchan: 37\n",
      " projs: []\n",
      " sfreq: 512.0 Hz\n",
      " subject_info: 1 item (dict)\n",
      ">\n",
      "['EEG Fp1', 'EEG F3', 'EEG C3', 'EEG P3', 'EEG O1', 'EEG F7', 'EEG T3', 'EEG T5', 'EEG Fc1', 'EEG Fc5', 'EEG Cp1', 'EEG Cp5', 'EEG F9', 'EEG Fz', 'EEG Cz', 'EEG Pz', 'EEG F4', 'EEG C4', 'EEG P4', 'EEG O2', 'EEG F8', 'EEG T4', 'EEG T6', 'EEG Fc2', 'EEG Fc6', 'EEG Cp2', 'EEG Cp6', 'EEG F10', 'EKG EKG', 'SPO2', 'HR', '1', '2', 'EEG FP2', 'EEG P9', 'EEG P10', 'MK']\n"
     ]
    }
   ],
   "source": [
    "info = raw01.info\n",
    "print(info)\n",
    "print(info['ch_names'])"
   ],
   "metadata": {
    "collapsed": false,
    "ExecuteTime": {
     "end_time": "2024-07-10T22:02:30.155705800Z",
     "start_time": "2024-07-10T22:02:30.021609100Z"
    }
   }
  },
  {
   "cell_type": "markdown",
   "source": [
    "#### 3. Obtención de las mediciones a utilizar y otros datos importantes"
   ],
   "metadata": {
    "collapsed": false
   }
  },
  {
   "cell_type": "code",
   "execution_count": 4,
   "outputs": [
    {
     "name": "stdout",
     "output_type": "stream",
     "text": [
      "Canales filtrados: ['EEG T3', 'EEG T5', 'EEG F7', 'EEG F3', 'EEG C3', 'EEG P3']\n",
      "Cantidad de canales resultantes: 6\n",
      "Cantidad de datos en cada canal: 4733440\n"
     ]
    }
   ],
   "source": [
    "# Se obtiene el nombre de todos los canales\n",
    "ch_nms = info[\"ch_names\"]\n",
    "\n",
    "# Se obtienen los canales seleccionados del lazo izquierdo\n",
    "filt_ch_nms = ['EEG T3','EEG T5','EEG F7','EEG F3','EEG C3','EEG P3']\n",
    "\n",
    "# Seleccionar los datos de los canales filtrados\n",
    "raw01_filt = raw01.pick(filt_ch_nms)\n",
    "\n",
    "# Obtener los datos de los canales filtrados por nombre\n",
    "data_namefilt = raw01_filt.get_data()\n",
    "\n",
    "# Se convierten las mediciones a microvoltios\n",
    "data_namefilt = data_namefilt * 1e6\n",
    "\n",
    "# Dimensiones de 'data_filt'\n",
    "dim_data_filt = np.shape(data_namefilt)\n",
    "\n",
    "# Verifición\n",
    "print(\"Canales filtrados:\", filt_ch_nms)\n",
    "print(f\"Cantidad de canales resultantes: {dim_data_filt[0]}\")\n",
    "print(f\"Cantidad de datos en cada canal: {dim_data_filt[1]}\")"
   ],
   "metadata": {
    "collapsed": false,
    "ExecuteTime": {
     "end_time": "2024-07-10T22:02:31.679971800Z",
     "start_time": "2024-07-10T22:02:30.159690900Z"
    }
   }
  },
  {
   "cell_type": "code",
   "execution_count": 5,
   "outputs": [
    {
     "name": "stdout",
     "output_type": "stream",
     "text": [
      "Frecuencia de muestreo: 512.0\n",
      "Instantes [s]: 0.0 ... 9244.998046875\n"
     ]
    }
   ],
   "source": [
    "# Frecuencia de muestreo y cantidad de muestras tomadas\n",
    "fs = info[\"sfreq\"]\n",
    "len_data = dim_data_filt[1]\n",
    "\n",
    "# Array de instantes\n",
    "start = 0\n",
    "stop = (1 / fs) * len_data\n",
    "arr_t = np.arange(start=start, stop=stop, step=(1 / fs))\n",
    "\n",
    "# Verificación de datos\n",
    "print(\"Frecuencia de muestreo:\", fs)\n",
    "print(\"Instantes [s]:\", arr_t[0], \"...\", arr_t[-1])"
   ],
   "metadata": {
    "collapsed": false,
    "ExecuteTime": {
     "end_time": "2024-07-10T22:02:31.745072500Z",
     "start_time": "2024-07-10T22:02:31.686950700Z"
    }
   }
  },
  {
   "cell_type": "markdown",
   "source": [
    "#### 4. getMeData"
   ],
   "metadata": {
    "collapsed": false
   }
  },
  {
   "cell_type": "code",
   "execution_count": 6,
   "outputs": [
    {
     "data": {
      "text/plain": "[{'seizure_number': 2,\n  'file_name': 'PN05-2.edf',\n  'registration_start_time': '06.46.02',\n  'registration_end_time': '09.19.47',\n  'seizure_start_time': '08.45.25',\n  'seizure_end_time': '08.46.00'}]"
     },
     "execution_count": 6,
     "metadata": {},
     "output_type": "execute_result"
    }
   ],
   "source": [
    "# Encontramos las seizures del archivo\n",
    "path_seiz = rf\"{DATA_DIR}PN05/Seizures-list-PN05.txt\"\n",
    "seizures = get_seizure_events(path_seiz)\n",
    "seizures_in_02 = [seiz for seiz in seizures if seiz[\"file_name\"] == \"PN05-2.edf\"]\n",
    "arr_mtx_t_epi = get_seizure_array(seizures_in_02)\n",
    "seizures_in_02"
   ],
   "metadata": {
    "collapsed": false,
    "ExecuteTime": {
     "end_time": "2024-07-10T22:02:31.746069500Z",
     "start_time": "2024-07-10T22:02:31.730111600Z"
    }
   }
  },
  {
   "cell_type": "code",
   "execution_count": 13,
   "outputs": [
    {
     "data": {
      "text/plain": "array([[-23.48834369, -20.00143077, -12.24644944, ...,   8.66168329,\n          8.28245089,   8.17361767],\n       [ 11.44634766,  13.15459522,  12.44651119, ...,  -6.25272673,\n         -3.49090718,  -0.06684019],\n       [  3.41432557,  -4.61866502, -10.673142  , ...,  14.40121867,\n         12.14284157,   7.56411843],\n       ...,\n       [ -1.26404534,   0.75047677,   1.60762505, ..., -21.02902802,\n        -17.60421034,  -6.22424478],\n       [ -4.46730181,   5.93943617,  13.35069097, ...,  -4.07302243,\n         -2.54854822,  -2.42114141],\n       [  5.39174753,   0.33348861,  -5.14761914, ..., -15.1769505 ,\n        -13.0471606 ,  -8.51781653]])"
     },
     "execution_count": 13,
     "metadata": {},
     "output_type": "execute_result"
    }
   ],
   "source": [
    "# Matriz de inicio de registro y final de registro\n",
    "seiz = seizures_in_02[0] # una sola !!\n",
    "mtx_t_reg = np.array([seiz['registration_start_time'], seiz['registration_end_time']])\n",
    "\n",
    "# Utilización de la función para una única señal\n",
    "arr_seg, arr_labels = getMeData(sig=data_namefilt[0], mtx_t_reg=mtx_t_reg, arr_mtx_t_epi=arr_mtx_t_epi, winlen=5, proportion=0.3)\n",
    "arr_seg"
   ],
   "metadata": {
    "collapsed": false,
    "ExecuteTime": {
     "end_time": "2024-07-10T22:03:57.773982800Z",
     "start_time": "2024-07-10T22:03:57.724996200Z"
    }
   }
  },
  {
   "cell_type": "code",
   "execution_count": 14,
   "outputs": [
    {
     "data": {
      "text/plain": "    potAbsDelta  potAbsTheta  potAbsAlpha  potAbsBeta  potAbsGamma  \\\n0     33.483541    14.177523    81.956903  141.717006   101.967390   \n1     53.799310    50.624691   136.330796  139.602735    84.929012   \n2     98.979875    46.794092   105.509042  211.057883   212.346049   \n3     54.983670    64.382793    77.332336  267.651009   288.748001   \n4    111.710939   244.347058   306.517970  435.291880   429.416725   \n5     62.007023    44.427133    48.921803   72.366165    44.052993   \n6      4.856088     9.323213    18.488792   18.013655     2.550403   \n7     12.402086    12.738799    17.837006   27.509635     2.217386   \n8     11.990740    23.121522    30.417384   60.359779     3.187660   \n9      9.293412    18.296830    21.309082   29.266513     3.330018   \n10   164.032563   147.507298    65.616661  136.611771   160.355937   \n11    53.272238    27.716304   135.173742   92.897925   104.135031   \n12    11.039553    28.784647    61.441656   54.377852    10.026489   \n13    12.933831    25.141303    48.462261   26.922339     3.200253   \n14    13.584471    44.316131    83.700234   39.236620     3.811217   \n15    12.215526    28.305766    59.668234   45.073117     2.647019   \n16    15.214098    17.532779    37.691678   38.178706    11.636184   \n17    11.824981    10.825133    67.121771   51.991067     7.186252   \n18    11.415794    16.863875    45.071669   91.958268   106.861553   \n19    17.061237    44.841732    71.825232   46.663337     5.986783   \n20    27.484200    67.010088    82.305567  293.224866   245.852186   \n\n      kurtosis        RMS  skewness     media  desvio estandar  \n0     1.240900  24.955070  0.395203  1.260070        24.923237  \n1     4.371765  20.735130  0.107059  0.365863        20.731902  \n2     2.660658  27.036281  0.701389  1.428164        26.998534  \n3     2.069546  29.484130  0.219422  1.032189        29.466057  \n4     1.304487  37.121690  0.355178  1.674864        37.083887  \n5     1.795948  20.205173  0.144526  0.216827        20.204010  \n6     0.448921   8.344513 -0.086968  1.650615         8.179632  \n7     0.188764   9.079593 -0.247460  1.778408         8.903723  \n8    -0.023238  11.247220 -0.151257  0.222435        11.245021  \n9     0.638245   9.009898 -0.088502  0.420381         9.000086  \n10    1.148574  29.443748  0.415633  0.469887        29.439998  \n11    1.964024  19.901592 -0.072638  1.186975        19.866163  \n12    0.407241  11.680453 -0.213918  0.575522        11.666266  \n13    0.326278  10.067885 -0.101623  0.988971        10.019194  \n14    0.424977  12.115589  0.012642  1.587095        12.011187  \n15    2.369799  13.230016 -0.824619  0.315190        13.226261  \n16    0.785785  13.728690 -0.066853  1.294106        13.667560  \n17    0.408235  11.312887  0.020972  0.159781        11.311758  \n18    6.183733  33.811855 -0.600165 -0.798774        33.802418  \n19    0.514466  12.260535 -0.070515  0.415893        12.253479  \n20  167.230505  35.485728  8.774404  1.690589        35.445434  ",
      "text/html": "<div>\n<style scoped>\n    .dataframe tbody tr th:only-of-type {\n        vertical-align: middle;\n    }\n\n    .dataframe tbody tr th {\n        vertical-align: top;\n    }\n\n    .dataframe thead th {\n        text-align: right;\n    }\n</style>\n<table border=\"1\" class=\"dataframe\">\n  <thead>\n    <tr style=\"text-align: right;\">\n      <th></th>\n      <th>potAbsDelta</th>\n      <th>potAbsTheta</th>\n      <th>potAbsAlpha</th>\n      <th>potAbsBeta</th>\n      <th>potAbsGamma</th>\n      <th>kurtosis</th>\n      <th>RMS</th>\n      <th>skewness</th>\n      <th>media</th>\n      <th>desvio estandar</th>\n    </tr>\n  </thead>\n  <tbody>\n    <tr>\n      <th>0</th>\n      <td>33.483541</td>\n      <td>14.177523</td>\n      <td>81.956903</td>\n      <td>141.717006</td>\n      <td>101.967390</td>\n      <td>1.240900</td>\n      <td>24.955070</td>\n      <td>0.395203</td>\n      <td>1.260070</td>\n      <td>24.923237</td>\n    </tr>\n    <tr>\n      <th>1</th>\n      <td>53.799310</td>\n      <td>50.624691</td>\n      <td>136.330796</td>\n      <td>139.602735</td>\n      <td>84.929012</td>\n      <td>4.371765</td>\n      <td>20.735130</td>\n      <td>0.107059</td>\n      <td>0.365863</td>\n      <td>20.731902</td>\n    </tr>\n    <tr>\n      <th>2</th>\n      <td>98.979875</td>\n      <td>46.794092</td>\n      <td>105.509042</td>\n      <td>211.057883</td>\n      <td>212.346049</td>\n      <td>2.660658</td>\n      <td>27.036281</td>\n      <td>0.701389</td>\n      <td>1.428164</td>\n      <td>26.998534</td>\n    </tr>\n    <tr>\n      <th>3</th>\n      <td>54.983670</td>\n      <td>64.382793</td>\n      <td>77.332336</td>\n      <td>267.651009</td>\n      <td>288.748001</td>\n      <td>2.069546</td>\n      <td>29.484130</td>\n      <td>0.219422</td>\n      <td>1.032189</td>\n      <td>29.466057</td>\n    </tr>\n    <tr>\n      <th>4</th>\n      <td>111.710939</td>\n      <td>244.347058</td>\n      <td>306.517970</td>\n      <td>435.291880</td>\n      <td>429.416725</td>\n      <td>1.304487</td>\n      <td>37.121690</td>\n      <td>0.355178</td>\n      <td>1.674864</td>\n      <td>37.083887</td>\n    </tr>\n    <tr>\n      <th>5</th>\n      <td>62.007023</td>\n      <td>44.427133</td>\n      <td>48.921803</td>\n      <td>72.366165</td>\n      <td>44.052993</td>\n      <td>1.795948</td>\n      <td>20.205173</td>\n      <td>0.144526</td>\n      <td>0.216827</td>\n      <td>20.204010</td>\n    </tr>\n    <tr>\n      <th>6</th>\n      <td>4.856088</td>\n      <td>9.323213</td>\n      <td>18.488792</td>\n      <td>18.013655</td>\n      <td>2.550403</td>\n      <td>0.448921</td>\n      <td>8.344513</td>\n      <td>-0.086968</td>\n      <td>1.650615</td>\n      <td>8.179632</td>\n    </tr>\n    <tr>\n      <th>7</th>\n      <td>12.402086</td>\n      <td>12.738799</td>\n      <td>17.837006</td>\n      <td>27.509635</td>\n      <td>2.217386</td>\n      <td>0.188764</td>\n      <td>9.079593</td>\n      <td>-0.247460</td>\n      <td>1.778408</td>\n      <td>8.903723</td>\n    </tr>\n    <tr>\n      <th>8</th>\n      <td>11.990740</td>\n      <td>23.121522</td>\n      <td>30.417384</td>\n      <td>60.359779</td>\n      <td>3.187660</td>\n      <td>-0.023238</td>\n      <td>11.247220</td>\n      <td>-0.151257</td>\n      <td>0.222435</td>\n      <td>11.245021</td>\n    </tr>\n    <tr>\n      <th>9</th>\n      <td>9.293412</td>\n      <td>18.296830</td>\n      <td>21.309082</td>\n      <td>29.266513</td>\n      <td>3.330018</td>\n      <td>0.638245</td>\n      <td>9.009898</td>\n      <td>-0.088502</td>\n      <td>0.420381</td>\n      <td>9.000086</td>\n    </tr>\n    <tr>\n      <th>10</th>\n      <td>164.032563</td>\n      <td>147.507298</td>\n      <td>65.616661</td>\n      <td>136.611771</td>\n      <td>160.355937</td>\n      <td>1.148574</td>\n      <td>29.443748</td>\n      <td>0.415633</td>\n      <td>0.469887</td>\n      <td>29.439998</td>\n    </tr>\n    <tr>\n      <th>11</th>\n      <td>53.272238</td>\n      <td>27.716304</td>\n      <td>135.173742</td>\n      <td>92.897925</td>\n      <td>104.135031</td>\n      <td>1.964024</td>\n      <td>19.901592</td>\n      <td>-0.072638</td>\n      <td>1.186975</td>\n      <td>19.866163</td>\n    </tr>\n    <tr>\n      <th>12</th>\n      <td>11.039553</td>\n      <td>28.784647</td>\n      <td>61.441656</td>\n      <td>54.377852</td>\n      <td>10.026489</td>\n      <td>0.407241</td>\n      <td>11.680453</td>\n      <td>-0.213918</td>\n      <td>0.575522</td>\n      <td>11.666266</td>\n    </tr>\n    <tr>\n      <th>13</th>\n      <td>12.933831</td>\n      <td>25.141303</td>\n      <td>48.462261</td>\n      <td>26.922339</td>\n      <td>3.200253</td>\n      <td>0.326278</td>\n      <td>10.067885</td>\n      <td>-0.101623</td>\n      <td>0.988971</td>\n      <td>10.019194</td>\n    </tr>\n    <tr>\n      <th>14</th>\n      <td>13.584471</td>\n      <td>44.316131</td>\n      <td>83.700234</td>\n      <td>39.236620</td>\n      <td>3.811217</td>\n      <td>0.424977</td>\n      <td>12.115589</td>\n      <td>0.012642</td>\n      <td>1.587095</td>\n      <td>12.011187</td>\n    </tr>\n    <tr>\n      <th>15</th>\n      <td>12.215526</td>\n      <td>28.305766</td>\n      <td>59.668234</td>\n      <td>45.073117</td>\n      <td>2.647019</td>\n      <td>2.369799</td>\n      <td>13.230016</td>\n      <td>-0.824619</td>\n      <td>0.315190</td>\n      <td>13.226261</td>\n    </tr>\n    <tr>\n      <th>16</th>\n      <td>15.214098</td>\n      <td>17.532779</td>\n      <td>37.691678</td>\n      <td>38.178706</td>\n      <td>11.636184</td>\n      <td>0.785785</td>\n      <td>13.728690</td>\n      <td>-0.066853</td>\n      <td>1.294106</td>\n      <td>13.667560</td>\n    </tr>\n    <tr>\n      <th>17</th>\n      <td>11.824981</td>\n      <td>10.825133</td>\n      <td>67.121771</td>\n      <td>51.991067</td>\n      <td>7.186252</td>\n      <td>0.408235</td>\n      <td>11.312887</td>\n      <td>0.020972</td>\n      <td>0.159781</td>\n      <td>11.311758</td>\n    </tr>\n    <tr>\n      <th>18</th>\n      <td>11.415794</td>\n      <td>16.863875</td>\n      <td>45.071669</td>\n      <td>91.958268</td>\n      <td>106.861553</td>\n      <td>6.183733</td>\n      <td>33.811855</td>\n      <td>-0.600165</td>\n      <td>-0.798774</td>\n      <td>33.802418</td>\n    </tr>\n    <tr>\n      <th>19</th>\n      <td>17.061237</td>\n      <td>44.841732</td>\n      <td>71.825232</td>\n      <td>46.663337</td>\n      <td>5.986783</td>\n      <td>0.514466</td>\n      <td>12.260535</td>\n      <td>-0.070515</td>\n      <td>0.415893</td>\n      <td>12.253479</td>\n    </tr>\n    <tr>\n      <th>20</th>\n      <td>27.484200</td>\n      <td>67.010088</td>\n      <td>82.305567</td>\n      <td>293.224866</td>\n      <td>245.852186</td>\n      <td>167.230505</td>\n      <td>35.485728</td>\n      <td>8.774404</td>\n      <td>1.690589</td>\n      <td>35.445434</td>\n    </tr>\n  </tbody>\n</table>\n</div>"
     },
     "execution_count": 14,
     "metadata": {},
     "output_type": "execute_result"
    }
   ],
   "source": [
    "# Potencia\n",
    "pot_seg = pot4signals(arr_seg, fs, divisor=1)\n",
    "pot_names = [f\"potAbs{band.capitalize()}\" for band in BANDAS.keys()]\n",
    "\n",
    "# Estadistica\n",
    "stats_data = stats_features(arr_seg)\n",
    "stats_names = list(stats_data.values())[:-1]\n",
    "stats_seg = stats_data[\"matriz de features stat\"]\n",
    "\n",
    "# Feature fector\n",
    "arr_fv = np.hstack((pot_seg, stats_seg))\n",
    "columnas = pot_names + stats_names\n",
    "df_fv = pd.DataFrame(data=arr_fv, columns=columnas)\n",
    "df_fv"
   ],
   "metadata": {
    "collapsed": false,
    "ExecuteTime": {
     "end_time": "2024-07-10T22:04:03.485964900Z",
     "start_time": "2024-07-10T22:04:03.256798800Z"
    }
   }
  },
  {
   "cell_type": "code",
   "execution_count": 17,
   "outputs": [
    {
     "name": "stdout",
     "output_type": "stream",
     "text": [
      "Extracting EDF parameters from C:\\Users\\gonza\\Documents\\ITBA\\2024 1C\\PSIB\\TP FINAL PSIB\\eeg_dataset\\PN05\\PN05-3.edf...\n",
      "EDF file detected\n",
      "Setting channel info structure...\n",
      "Creating raw.info structure...\n"
     ]
    },
    {
     "name": "stderr",
     "output_type": "stream",
     "text": [
      "C:\\Users\\gonza\\AppData\\Local\\Temp\\ipykernel_16804\\1861261392.py:3: RuntimeWarning: Channels contain different highpass filters. Highest filter setting will be stored.\n",
      "  raw03 = io.read_raw_edf(path03)\n",
      "C:\\Users\\gonza\\AppData\\Local\\Temp\\ipykernel_16804\\1861261392.py:3: RuntimeWarning: Channels contain different lowpass filters. Lowest filter setting will be stored.\n",
      "  raw03 = io.read_raw_edf(path03)\n",
      "C:\\Users\\gonza\\AppData\\Local\\Temp\\ipykernel_16804\\1861261392.py:3: RuntimeWarning: Highpass cutoff frequency 15.91549 is greater than lowpass cutoff frequency 15.0, setting values to 0 and Nyquist.\n",
      "  raw03 = io.read_raw_edf(path03)\n"
     ]
    }
   ],
   "source": [
    "# Agregamos datos de otro archivo\n",
    "path03 = rf\"{DATA_DIR}PN05/PN05-3.edf\"\n",
    "raw03 = io.read_raw_edf(path03)\n",
    "raw03_filt = raw03.pick(filt_ch_nms)\n",
    "data_namefilt03 = raw03_filt.get_data()\n",
    "data_namefilt03 = data_namefilt03 * 1e6\n",
    "\n",
    "# Buscamos la seizures\n",
    "seizures_in_03 = [seiz for seiz in seizures if seiz[\"file_name\"] == \"PN05-3.edf\"]\n",
    "arr_mtx_t_epi = get_seizure_array(seizures_in_03)\n",
    "seiz03 = seizures_in_03[0] # agarro una en particular para ver sus registration\n",
    "mtx_t_reg = np.array([seiz03['registration_start_time'], seiz03['registration_end_time']])\n",
    "\n",
    "# Mas segmentos!!\n",
    "more_seg, more_labels = getMeData(sig=data_namefilt[0], mtx_t_reg=mtx_t_reg, arr_mtx_t_epi=arr_mtx_t_epi, winlen=5, proportion=0.3)"
   ],
   "metadata": {
    "collapsed": false,
    "ExecuteTime": {
     "end_time": "2024-07-10T22:04:39.799945Z",
     "start_time": "2024-07-10T22:04:38.389393400Z"
    }
   }
  },
  {
   "cell_type": "code",
   "execution_count": 18,
   "outputs": [
    {
     "name": "stdout",
     "output_type": "stream",
     "text": [
      "hola ivo\n"
     ]
    },
    {
     "data": {
      "text/plain": "    potAbsDelta  potAbsTheta  potAbsAlpha  potAbsBeta  potAbsGamma  \\\n0     33.483541    14.177523    81.956903  141.717006   101.967390   \n1     53.799310    50.624691   136.330796  139.602735    84.929012   \n2     98.979875    46.794092   105.509042  211.057883   212.346049   \n3     54.983670    64.382793    77.332336  267.651009   288.748001   \n4    111.710939   244.347058   306.517970  435.291880   429.416725   \n5     62.007023    44.427133    48.921803   72.366165    44.052993   \n6      4.856088     9.323213    18.488792   18.013655     2.550403   \n7     12.402086    12.738799    17.837006   27.509635     2.217386   \n8     11.990740    23.121522    30.417384   60.359779     3.187660   \n9      9.293412    18.296830    21.309082   29.266513     3.330018   \n10   164.032563   147.507298    65.616661  136.611771   160.355937   \n11    53.272238    27.716304   135.173742   92.897925   104.135031   \n12    11.039553    28.784647    61.441656   54.377852    10.026489   \n13    12.933831    25.141303    48.462261   26.922339     3.200253   \n14    13.584471    44.316131    83.700234   39.236620     3.811217   \n15    12.215526    28.305766    59.668234   45.073117     2.647019   \n16    15.214098    17.532779    37.691678   38.178706    11.636184   \n17    11.824981    10.825133    67.121771   51.991067     7.186252   \n18    11.415794    16.863875    45.071669   91.958268   106.861553   \n19    17.061237    44.841732    71.825232   46.663337     5.986783   \n20    27.484200    67.010088    82.305567  293.224866   245.852186   \n21    43.522516    44.772365    73.340867   46.323545     7.518110   \n22    10.776230    21.606345    45.597790   58.761509    10.676051   \n23     9.424085    25.756898    37.017451   83.600833    12.807111   \n24     9.518861    15.578069    21.336182   39.193761     9.411240   \n25     8.013647    42.812952    58.492554   74.422747     7.966981   \n26    18.542961    12.761631    47.857409   61.215463     9.135142   \n27    57.688563    64.621671    44.589792  107.292560    72.807470   \n28    66.632803    48.571191    55.648772   53.710743    36.930765   \n29     8.672012    13.215098    35.996716   61.487033    27.275495   \n30    17.788098    16.303395    41.602791   85.805439    65.654090   \n31    15.745099    28.294618    25.691890   32.697046     3.179386   \n32     6.210466    23.216782    39.406196   42.015823     3.128776   \n33     7.115021    27.301713    59.854068   93.734146    84.650439   \n34    24.713831    17.497487    36.459438  108.995555    79.967454   \n35    26.599807    41.045442   250.033877  151.080783   102.735929   \n36     7.751026    12.757895    40.144643   31.847952     2.452949   \n37     5.314225     9.209796    25.857702   45.290997     5.841419   \n38    21.892428    29.522066   134.558942   38.688653    23.211171   \n39    42.114370     6.733432    28.329463  175.360155   207.097380   \n40     6.625191     6.904789    18.769993   37.192777     9.015267   \n41    17.339727    14.191933    26.836729   34.473181    17.280324   \n\n      kurtosis        RMS  skewness     media  desvio estandar  \n0     1.240900  24.955070  0.395203  1.260070        24.923237  \n1     4.371765  20.735130  0.107059  0.365863        20.731902  \n2     2.660658  27.036281  0.701389  1.428164        26.998534  \n3     2.069546  29.484130  0.219422  1.032189        29.466057  \n4     1.304487  37.121690  0.355178  1.674864        37.083887  \n5     1.795948  20.205173  0.144526  0.216827        20.204010  \n6     0.448921   8.344513 -0.086968  1.650615         8.179632  \n7     0.188764   9.079593 -0.247460  1.778408         8.903723  \n8    -0.023238  11.247220 -0.151257  0.222435        11.245021  \n9     0.638245   9.009898 -0.088502  0.420381         9.000086  \n10    1.148574  29.443748  0.415633  0.469887        29.439998  \n11    1.964024  19.901592 -0.072638  1.186975        19.866163  \n12    0.407241  11.680453 -0.213918  0.575522        11.666266  \n13    0.326278  10.067885 -0.101623  0.988971        10.019194  \n14    0.424977  12.115589  0.012642  1.587095        12.011187  \n15    2.369799  13.230016 -0.824619  0.315190        13.226261  \n16    0.785785  13.728690 -0.066853  1.294106        13.667560  \n17    0.408235  11.312887  0.020972  0.159781        11.311758  \n18    6.183733  33.811855 -0.600165 -0.798774        33.802418  \n19    0.514466  12.260535 -0.070515  0.415893        12.253479  \n20  167.230505  35.485728  8.774404  1.690589        35.445434  \n21    0.507375  12.901202 -0.173047  0.652550        12.884688  \n22   -0.210423  12.675366 -0.085931  1.089686        12.628440  \n23    1.074536  12.792176 -0.483550  0.080836        12.791920  \n24    0.070970  11.122590 -0.145279  1.328005        11.043026  \n25    0.192031  13.331809 -0.112141  0.315320        13.328080  \n26    1.589394  11.859025 -0.279548  0.692550        11.838785  \n27   10.483083  18.733611 -1.294453  0.541371        18.725787  \n28    4.642542  17.053299  0.862899  1.229769        17.008900  \n29    0.382848  13.866345  0.116060  1.811773        13.747473  \n30    2.815208  21.756920  0.250593  1.274553        21.719555  \n31    0.318572  10.158550  0.042500  0.612798        10.140050  \n32   -0.224736  11.547955  0.078855  1.110757        11.494411  \n33    0.319880  17.801174  0.031918 -0.320308        17.798292  \n34   11.934993  22.946455 -1.165651  1.156108        22.917313  \n35    4.197580  20.744587  0.509309  1.641340        20.679553  \n36    0.925110  10.620446 -0.089361  0.955216        10.577403  \n37    0.250226  10.243715 -0.130780  0.938205        10.200661  \n38    1.552048  19.835960  0.281768 -1.696395        19.763288  \n39    6.225037  24.566705 -1.115887 -1.452885        24.523705  \n40    0.203520   9.131549 -0.288013  0.924850         9.084593  \n41    3.467064  14.169770  0.108340  1.400750        14.100365  ",
      "text/html": "<div>\n<style scoped>\n    .dataframe tbody tr th:only-of-type {\n        vertical-align: middle;\n    }\n\n    .dataframe tbody tr th {\n        vertical-align: top;\n    }\n\n    .dataframe thead th {\n        text-align: right;\n    }\n</style>\n<table border=\"1\" class=\"dataframe\">\n  <thead>\n    <tr style=\"text-align: right;\">\n      <th></th>\n      <th>potAbsDelta</th>\n      <th>potAbsTheta</th>\n      <th>potAbsAlpha</th>\n      <th>potAbsBeta</th>\n      <th>potAbsGamma</th>\n      <th>kurtosis</th>\n      <th>RMS</th>\n      <th>skewness</th>\n      <th>media</th>\n      <th>desvio estandar</th>\n    </tr>\n  </thead>\n  <tbody>\n    <tr>\n      <th>0</th>\n      <td>33.483541</td>\n      <td>14.177523</td>\n      <td>81.956903</td>\n      <td>141.717006</td>\n      <td>101.967390</td>\n      <td>1.240900</td>\n      <td>24.955070</td>\n      <td>0.395203</td>\n      <td>1.260070</td>\n      <td>24.923237</td>\n    </tr>\n    <tr>\n      <th>1</th>\n      <td>53.799310</td>\n      <td>50.624691</td>\n      <td>136.330796</td>\n      <td>139.602735</td>\n      <td>84.929012</td>\n      <td>4.371765</td>\n      <td>20.735130</td>\n      <td>0.107059</td>\n      <td>0.365863</td>\n      <td>20.731902</td>\n    </tr>\n    <tr>\n      <th>2</th>\n      <td>98.979875</td>\n      <td>46.794092</td>\n      <td>105.509042</td>\n      <td>211.057883</td>\n      <td>212.346049</td>\n      <td>2.660658</td>\n      <td>27.036281</td>\n      <td>0.701389</td>\n      <td>1.428164</td>\n      <td>26.998534</td>\n    </tr>\n    <tr>\n      <th>3</th>\n      <td>54.983670</td>\n      <td>64.382793</td>\n      <td>77.332336</td>\n      <td>267.651009</td>\n      <td>288.748001</td>\n      <td>2.069546</td>\n      <td>29.484130</td>\n      <td>0.219422</td>\n      <td>1.032189</td>\n      <td>29.466057</td>\n    </tr>\n    <tr>\n      <th>4</th>\n      <td>111.710939</td>\n      <td>244.347058</td>\n      <td>306.517970</td>\n      <td>435.291880</td>\n      <td>429.416725</td>\n      <td>1.304487</td>\n      <td>37.121690</td>\n      <td>0.355178</td>\n      <td>1.674864</td>\n      <td>37.083887</td>\n    </tr>\n    <tr>\n      <th>5</th>\n      <td>62.007023</td>\n      <td>44.427133</td>\n      <td>48.921803</td>\n      <td>72.366165</td>\n      <td>44.052993</td>\n      <td>1.795948</td>\n      <td>20.205173</td>\n      <td>0.144526</td>\n      <td>0.216827</td>\n      <td>20.204010</td>\n    </tr>\n    <tr>\n      <th>6</th>\n      <td>4.856088</td>\n      <td>9.323213</td>\n      <td>18.488792</td>\n      <td>18.013655</td>\n      <td>2.550403</td>\n      <td>0.448921</td>\n      <td>8.344513</td>\n      <td>-0.086968</td>\n      <td>1.650615</td>\n      <td>8.179632</td>\n    </tr>\n    <tr>\n      <th>7</th>\n      <td>12.402086</td>\n      <td>12.738799</td>\n      <td>17.837006</td>\n      <td>27.509635</td>\n      <td>2.217386</td>\n      <td>0.188764</td>\n      <td>9.079593</td>\n      <td>-0.247460</td>\n      <td>1.778408</td>\n      <td>8.903723</td>\n    </tr>\n    <tr>\n      <th>8</th>\n      <td>11.990740</td>\n      <td>23.121522</td>\n      <td>30.417384</td>\n      <td>60.359779</td>\n      <td>3.187660</td>\n      <td>-0.023238</td>\n      <td>11.247220</td>\n      <td>-0.151257</td>\n      <td>0.222435</td>\n      <td>11.245021</td>\n    </tr>\n    <tr>\n      <th>9</th>\n      <td>9.293412</td>\n      <td>18.296830</td>\n      <td>21.309082</td>\n      <td>29.266513</td>\n      <td>3.330018</td>\n      <td>0.638245</td>\n      <td>9.009898</td>\n      <td>-0.088502</td>\n      <td>0.420381</td>\n      <td>9.000086</td>\n    </tr>\n    <tr>\n      <th>10</th>\n      <td>164.032563</td>\n      <td>147.507298</td>\n      <td>65.616661</td>\n      <td>136.611771</td>\n      <td>160.355937</td>\n      <td>1.148574</td>\n      <td>29.443748</td>\n      <td>0.415633</td>\n      <td>0.469887</td>\n      <td>29.439998</td>\n    </tr>\n    <tr>\n      <th>11</th>\n      <td>53.272238</td>\n      <td>27.716304</td>\n      <td>135.173742</td>\n      <td>92.897925</td>\n      <td>104.135031</td>\n      <td>1.964024</td>\n      <td>19.901592</td>\n      <td>-0.072638</td>\n      <td>1.186975</td>\n      <td>19.866163</td>\n    </tr>\n    <tr>\n      <th>12</th>\n      <td>11.039553</td>\n      <td>28.784647</td>\n      <td>61.441656</td>\n      <td>54.377852</td>\n      <td>10.026489</td>\n      <td>0.407241</td>\n      <td>11.680453</td>\n      <td>-0.213918</td>\n      <td>0.575522</td>\n      <td>11.666266</td>\n    </tr>\n    <tr>\n      <th>13</th>\n      <td>12.933831</td>\n      <td>25.141303</td>\n      <td>48.462261</td>\n      <td>26.922339</td>\n      <td>3.200253</td>\n      <td>0.326278</td>\n      <td>10.067885</td>\n      <td>-0.101623</td>\n      <td>0.988971</td>\n      <td>10.019194</td>\n    </tr>\n    <tr>\n      <th>14</th>\n      <td>13.584471</td>\n      <td>44.316131</td>\n      <td>83.700234</td>\n      <td>39.236620</td>\n      <td>3.811217</td>\n      <td>0.424977</td>\n      <td>12.115589</td>\n      <td>0.012642</td>\n      <td>1.587095</td>\n      <td>12.011187</td>\n    </tr>\n    <tr>\n      <th>15</th>\n      <td>12.215526</td>\n      <td>28.305766</td>\n      <td>59.668234</td>\n      <td>45.073117</td>\n      <td>2.647019</td>\n      <td>2.369799</td>\n      <td>13.230016</td>\n      <td>-0.824619</td>\n      <td>0.315190</td>\n      <td>13.226261</td>\n    </tr>\n    <tr>\n      <th>16</th>\n      <td>15.214098</td>\n      <td>17.532779</td>\n      <td>37.691678</td>\n      <td>38.178706</td>\n      <td>11.636184</td>\n      <td>0.785785</td>\n      <td>13.728690</td>\n      <td>-0.066853</td>\n      <td>1.294106</td>\n      <td>13.667560</td>\n    </tr>\n    <tr>\n      <th>17</th>\n      <td>11.824981</td>\n      <td>10.825133</td>\n      <td>67.121771</td>\n      <td>51.991067</td>\n      <td>7.186252</td>\n      <td>0.408235</td>\n      <td>11.312887</td>\n      <td>0.020972</td>\n      <td>0.159781</td>\n      <td>11.311758</td>\n    </tr>\n    <tr>\n      <th>18</th>\n      <td>11.415794</td>\n      <td>16.863875</td>\n      <td>45.071669</td>\n      <td>91.958268</td>\n      <td>106.861553</td>\n      <td>6.183733</td>\n      <td>33.811855</td>\n      <td>-0.600165</td>\n      <td>-0.798774</td>\n      <td>33.802418</td>\n    </tr>\n    <tr>\n      <th>19</th>\n      <td>17.061237</td>\n      <td>44.841732</td>\n      <td>71.825232</td>\n      <td>46.663337</td>\n      <td>5.986783</td>\n      <td>0.514466</td>\n      <td>12.260535</td>\n      <td>-0.070515</td>\n      <td>0.415893</td>\n      <td>12.253479</td>\n    </tr>\n    <tr>\n      <th>20</th>\n      <td>27.484200</td>\n      <td>67.010088</td>\n      <td>82.305567</td>\n      <td>293.224866</td>\n      <td>245.852186</td>\n      <td>167.230505</td>\n      <td>35.485728</td>\n      <td>8.774404</td>\n      <td>1.690589</td>\n      <td>35.445434</td>\n    </tr>\n    <tr>\n      <th>21</th>\n      <td>43.522516</td>\n      <td>44.772365</td>\n      <td>73.340867</td>\n      <td>46.323545</td>\n      <td>7.518110</td>\n      <td>0.507375</td>\n      <td>12.901202</td>\n      <td>-0.173047</td>\n      <td>0.652550</td>\n      <td>12.884688</td>\n    </tr>\n    <tr>\n      <th>22</th>\n      <td>10.776230</td>\n      <td>21.606345</td>\n      <td>45.597790</td>\n      <td>58.761509</td>\n      <td>10.676051</td>\n      <td>-0.210423</td>\n      <td>12.675366</td>\n      <td>-0.085931</td>\n      <td>1.089686</td>\n      <td>12.628440</td>\n    </tr>\n    <tr>\n      <th>23</th>\n      <td>9.424085</td>\n      <td>25.756898</td>\n      <td>37.017451</td>\n      <td>83.600833</td>\n      <td>12.807111</td>\n      <td>1.074536</td>\n      <td>12.792176</td>\n      <td>-0.483550</td>\n      <td>0.080836</td>\n      <td>12.791920</td>\n    </tr>\n    <tr>\n      <th>24</th>\n      <td>9.518861</td>\n      <td>15.578069</td>\n      <td>21.336182</td>\n      <td>39.193761</td>\n      <td>9.411240</td>\n      <td>0.070970</td>\n      <td>11.122590</td>\n      <td>-0.145279</td>\n      <td>1.328005</td>\n      <td>11.043026</td>\n    </tr>\n    <tr>\n      <th>25</th>\n      <td>8.013647</td>\n      <td>42.812952</td>\n      <td>58.492554</td>\n      <td>74.422747</td>\n      <td>7.966981</td>\n      <td>0.192031</td>\n      <td>13.331809</td>\n      <td>-0.112141</td>\n      <td>0.315320</td>\n      <td>13.328080</td>\n    </tr>\n    <tr>\n      <th>26</th>\n      <td>18.542961</td>\n      <td>12.761631</td>\n      <td>47.857409</td>\n      <td>61.215463</td>\n      <td>9.135142</td>\n      <td>1.589394</td>\n      <td>11.859025</td>\n      <td>-0.279548</td>\n      <td>0.692550</td>\n      <td>11.838785</td>\n    </tr>\n    <tr>\n      <th>27</th>\n      <td>57.688563</td>\n      <td>64.621671</td>\n      <td>44.589792</td>\n      <td>107.292560</td>\n      <td>72.807470</td>\n      <td>10.483083</td>\n      <td>18.733611</td>\n      <td>-1.294453</td>\n      <td>0.541371</td>\n      <td>18.725787</td>\n    </tr>\n    <tr>\n      <th>28</th>\n      <td>66.632803</td>\n      <td>48.571191</td>\n      <td>55.648772</td>\n      <td>53.710743</td>\n      <td>36.930765</td>\n      <td>4.642542</td>\n      <td>17.053299</td>\n      <td>0.862899</td>\n      <td>1.229769</td>\n      <td>17.008900</td>\n    </tr>\n    <tr>\n      <th>29</th>\n      <td>8.672012</td>\n      <td>13.215098</td>\n      <td>35.996716</td>\n      <td>61.487033</td>\n      <td>27.275495</td>\n      <td>0.382848</td>\n      <td>13.866345</td>\n      <td>0.116060</td>\n      <td>1.811773</td>\n      <td>13.747473</td>\n    </tr>\n    <tr>\n      <th>30</th>\n      <td>17.788098</td>\n      <td>16.303395</td>\n      <td>41.602791</td>\n      <td>85.805439</td>\n      <td>65.654090</td>\n      <td>2.815208</td>\n      <td>21.756920</td>\n      <td>0.250593</td>\n      <td>1.274553</td>\n      <td>21.719555</td>\n    </tr>\n    <tr>\n      <th>31</th>\n      <td>15.745099</td>\n      <td>28.294618</td>\n      <td>25.691890</td>\n      <td>32.697046</td>\n      <td>3.179386</td>\n      <td>0.318572</td>\n      <td>10.158550</td>\n      <td>0.042500</td>\n      <td>0.612798</td>\n      <td>10.140050</td>\n    </tr>\n    <tr>\n      <th>32</th>\n      <td>6.210466</td>\n      <td>23.216782</td>\n      <td>39.406196</td>\n      <td>42.015823</td>\n      <td>3.128776</td>\n      <td>-0.224736</td>\n      <td>11.547955</td>\n      <td>0.078855</td>\n      <td>1.110757</td>\n      <td>11.494411</td>\n    </tr>\n    <tr>\n      <th>33</th>\n      <td>7.115021</td>\n      <td>27.301713</td>\n      <td>59.854068</td>\n      <td>93.734146</td>\n      <td>84.650439</td>\n      <td>0.319880</td>\n      <td>17.801174</td>\n      <td>0.031918</td>\n      <td>-0.320308</td>\n      <td>17.798292</td>\n    </tr>\n    <tr>\n      <th>34</th>\n      <td>24.713831</td>\n      <td>17.497487</td>\n      <td>36.459438</td>\n      <td>108.995555</td>\n      <td>79.967454</td>\n      <td>11.934993</td>\n      <td>22.946455</td>\n      <td>-1.165651</td>\n      <td>1.156108</td>\n      <td>22.917313</td>\n    </tr>\n    <tr>\n      <th>35</th>\n      <td>26.599807</td>\n      <td>41.045442</td>\n      <td>250.033877</td>\n      <td>151.080783</td>\n      <td>102.735929</td>\n      <td>4.197580</td>\n      <td>20.744587</td>\n      <td>0.509309</td>\n      <td>1.641340</td>\n      <td>20.679553</td>\n    </tr>\n    <tr>\n      <th>36</th>\n      <td>7.751026</td>\n      <td>12.757895</td>\n      <td>40.144643</td>\n      <td>31.847952</td>\n      <td>2.452949</td>\n      <td>0.925110</td>\n      <td>10.620446</td>\n      <td>-0.089361</td>\n      <td>0.955216</td>\n      <td>10.577403</td>\n    </tr>\n    <tr>\n      <th>37</th>\n      <td>5.314225</td>\n      <td>9.209796</td>\n      <td>25.857702</td>\n      <td>45.290997</td>\n      <td>5.841419</td>\n      <td>0.250226</td>\n      <td>10.243715</td>\n      <td>-0.130780</td>\n      <td>0.938205</td>\n      <td>10.200661</td>\n    </tr>\n    <tr>\n      <th>38</th>\n      <td>21.892428</td>\n      <td>29.522066</td>\n      <td>134.558942</td>\n      <td>38.688653</td>\n      <td>23.211171</td>\n      <td>1.552048</td>\n      <td>19.835960</td>\n      <td>0.281768</td>\n      <td>-1.696395</td>\n      <td>19.763288</td>\n    </tr>\n    <tr>\n      <th>39</th>\n      <td>42.114370</td>\n      <td>6.733432</td>\n      <td>28.329463</td>\n      <td>175.360155</td>\n      <td>207.097380</td>\n      <td>6.225037</td>\n      <td>24.566705</td>\n      <td>-1.115887</td>\n      <td>-1.452885</td>\n      <td>24.523705</td>\n    </tr>\n    <tr>\n      <th>40</th>\n      <td>6.625191</td>\n      <td>6.904789</td>\n      <td>18.769993</td>\n      <td>37.192777</td>\n      <td>9.015267</td>\n      <td>0.203520</td>\n      <td>9.131549</td>\n      <td>-0.288013</td>\n      <td>0.924850</td>\n      <td>9.084593</td>\n    </tr>\n    <tr>\n      <th>41</th>\n      <td>17.339727</td>\n      <td>14.191933</td>\n      <td>26.836729</td>\n      <td>34.473181</td>\n      <td>17.280324</td>\n      <td>3.467064</td>\n      <td>14.169770</td>\n      <td>0.108340</td>\n      <td>1.400750</td>\n      <td>14.100365</td>\n    </tr>\n  </tbody>\n</table>\n</div>"
     },
     "execution_count": 18,
     "metadata": {},
     "output_type": "execute_result"
    }
   ],
   "source": [
    "# Potencia\n",
    "more_pot = pot4signals(more_seg, fs, divisor=1)\n",
    "\n",
    "# Estadistica\n",
    "more_stat_data = stats_features(more_seg)\n",
    "more_stat = more_stat_data[\"matriz de features stat\"]\n",
    "\n",
    "# Feature fector\n",
    "more_fv = np.hstack((more_pot, more_stat))\n",
    "print('hola ivo')\n",
    "new_fv = np.concatenate((arr_fv, more_fv))\n",
    "new_labels = np.concatenate((arr_labels, more_labels))\n",
    "new_df_fv = pd.DataFrame(new_fv, columns=columnas)\n",
    "new_df_fv"
   ],
   "metadata": {
    "collapsed": false,
    "ExecuteTime": {
     "end_time": "2024-07-10T22:04:43.258344600Z",
     "start_time": "2024-07-10T22:04:42.958835400Z"
    }
   }
  },
  {
   "cell_type": "code",
   "execution_count": 19,
   "outputs": [
    {
     "data": {
      "text/plain": "    potAbsDelta  potAbsTheta  potAbsAlpha  potAbsBeta  potAbsGamma  \\\n0     33.483541    14.177523    81.956903  141.717006   101.967390   \n1     53.799310    50.624691   136.330796  139.602735    84.929012   \n2     98.979875    46.794092   105.509042  211.057883   212.346049   \n3     54.983670    64.382793    77.332336  267.651009   288.748001   \n4    111.710939   244.347058   306.517970  435.291880   429.416725   \n5     62.007023    44.427133    48.921803   72.366165    44.052993   \n6      4.856088     9.323213    18.488792   18.013655     2.550403   \n7     12.402086    12.738799    17.837006   27.509635     2.217386   \n8     11.990740    23.121522    30.417384   60.359779     3.187660   \n9      9.293412    18.296830    21.309082   29.266513     3.330018   \n10   164.032563   147.507298    65.616661  136.611771   160.355937   \n11    53.272238    27.716304   135.173742   92.897925   104.135031   \n12    11.039553    28.784647    61.441656   54.377852    10.026489   \n13    12.933831    25.141303    48.462261   26.922339     3.200253   \n14    13.584471    44.316131    83.700234   39.236620     3.811217   \n15    12.215526    28.305766    59.668234   45.073117     2.647019   \n16    15.214098    17.532779    37.691678   38.178706    11.636184   \n17    11.824981    10.825133    67.121771   51.991067     7.186252   \n18    11.415794    16.863875    45.071669   91.958268   106.861553   \n19    17.061237    44.841732    71.825232   46.663337     5.986783   \n20    27.484200    67.010088    82.305567  293.224866   245.852186   \n21    43.522516    44.772365    73.340867   46.323545     7.518110   \n22    10.776230    21.606345    45.597790   58.761509    10.676051   \n23     9.424085    25.756898    37.017451   83.600833    12.807111   \n24     9.518861    15.578069    21.336182   39.193761     9.411240   \n25     8.013647    42.812952    58.492554   74.422747     7.966981   \n26    18.542961    12.761631    47.857409   61.215463     9.135142   \n27    57.688563    64.621671    44.589792  107.292560    72.807470   \n28    66.632803    48.571191    55.648772   53.710743    36.930765   \n29     8.672012    13.215098    35.996716   61.487033    27.275495   \n30    17.788098    16.303395    41.602791   85.805439    65.654090   \n31    15.745099    28.294618    25.691890   32.697046     3.179386   \n32     6.210466    23.216782    39.406196   42.015823     3.128776   \n33     7.115021    27.301713    59.854068   93.734146    84.650439   \n34    24.713831    17.497487    36.459438  108.995555    79.967454   \n35    26.599807    41.045442   250.033877  151.080783   102.735929   \n36     7.751026    12.757895    40.144643   31.847952     2.452949   \n37     5.314225     9.209796    25.857702   45.290997     5.841419   \n38    21.892428    29.522066   134.558942   38.688653    23.211171   \n39    42.114370     6.733432    28.329463  175.360155   207.097380   \n40     6.625191     6.904789    18.769993   37.192777     9.015267   \n41    17.339727    14.191933    26.836729   34.473181    17.280324   \n\n      kurtosis        RMS  skewness     media  desvio estandar  label  \n0     1.240900  24.955070  0.395203  1.260070        24.923237    0.0  \n1     4.371765  20.735130  0.107059  0.365863        20.731902    0.0  \n2     2.660658  27.036281  0.701389  1.428164        26.998534    0.0  \n3     2.069546  29.484130  0.219422  1.032189        29.466057    0.0  \n4     1.304487  37.121690  0.355178  1.674864        37.083887    0.0  \n5     1.795948  20.205173  0.144526  0.216827        20.204010    0.0  \n6     0.448921   8.344513 -0.086968  1.650615         8.179632    0.0  \n7     0.188764   9.079593 -0.247460  1.778408         8.903723    0.0  \n8    -0.023238  11.247220 -0.151257  0.222435        11.245021    0.0  \n9     0.638245   9.009898 -0.088502  0.420381         9.000086    0.0  \n10    1.148574  29.443748  0.415633  0.469887        29.439998    0.0  \n11    1.964024  19.901592 -0.072638  1.186975        19.866163    0.0  \n12    0.407241  11.680453 -0.213918  0.575522        11.666266    0.0  \n13    0.326278  10.067885 -0.101623  0.988971        10.019194    0.0  \n14    0.424977  12.115589  0.012642  1.587095        12.011187    0.0  \n15    2.369799  13.230016 -0.824619  0.315190        13.226261    1.0  \n16    0.785785  13.728690 -0.066853  1.294106        13.667560    1.0  \n17    0.408235  11.312887  0.020972  0.159781        11.311758    1.0  \n18    6.183733  33.811855 -0.600165 -0.798774        33.802418    1.0  \n19    0.514466  12.260535 -0.070515  0.415893        12.253479    1.0  \n20  167.230505  35.485728  8.774404  1.690589        35.445434    1.0  \n21    0.507375  12.901202 -0.173047  0.652550        12.884688    0.0  \n22   -0.210423  12.675366 -0.085931  1.089686        12.628440    0.0  \n23    1.074536  12.792176 -0.483550  0.080836        12.791920    0.0  \n24    0.070970  11.122590 -0.145279  1.328005        11.043026    0.0  \n25    0.192031  13.331809 -0.112141  0.315320        13.328080    0.0  \n26    1.589394  11.859025 -0.279548  0.692550        11.838785    0.0  \n27   10.483083  18.733611 -1.294453  0.541371        18.725787    0.0  \n28    4.642542  17.053299  0.862899  1.229769        17.008900    0.0  \n29    0.382848  13.866345  0.116060  1.811773        13.747473    0.0  \n30    2.815208  21.756920  0.250593  1.274553        21.719555    0.0  \n31    0.318572  10.158550  0.042500  0.612798        10.140050    0.0  \n32   -0.224736  11.547955  0.078855  1.110757        11.494411    0.0  \n33    0.319880  17.801174  0.031918 -0.320308        17.798292    0.0  \n34   11.934993  22.946455 -1.165651  1.156108        22.917313    0.0  \n35    4.197580  20.744587  0.509309  1.641340        20.679553    0.0  \n36    0.925110  10.620446 -0.089361  0.955216        10.577403    1.0  \n37    0.250226  10.243715 -0.130780  0.938205        10.200661    1.0  \n38    1.552048  19.835960  0.281768 -1.696395        19.763288    1.0  \n39    6.225037  24.566705 -1.115887 -1.452885        24.523705    1.0  \n40    0.203520   9.131549 -0.288013  0.924850         9.084593    1.0  \n41    3.467064  14.169770  0.108340  1.400750        14.100365    1.0  ",
      "text/html": "<div>\n<style scoped>\n    .dataframe tbody tr th:only-of-type {\n        vertical-align: middle;\n    }\n\n    .dataframe tbody tr th {\n        vertical-align: top;\n    }\n\n    .dataframe thead th {\n        text-align: right;\n    }\n</style>\n<table border=\"1\" class=\"dataframe\">\n  <thead>\n    <tr style=\"text-align: right;\">\n      <th></th>\n      <th>potAbsDelta</th>\n      <th>potAbsTheta</th>\n      <th>potAbsAlpha</th>\n      <th>potAbsBeta</th>\n      <th>potAbsGamma</th>\n      <th>kurtosis</th>\n      <th>RMS</th>\n      <th>skewness</th>\n      <th>media</th>\n      <th>desvio estandar</th>\n      <th>label</th>\n    </tr>\n  </thead>\n  <tbody>\n    <tr>\n      <th>0</th>\n      <td>33.483541</td>\n      <td>14.177523</td>\n      <td>81.956903</td>\n      <td>141.717006</td>\n      <td>101.967390</td>\n      <td>1.240900</td>\n      <td>24.955070</td>\n      <td>0.395203</td>\n      <td>1.260070</td>\n      <td>24.923237</td>\n      <td>0.0</td>\n    </tr>\n    <tr>\n      <th>1</th>\n      <td>53.799310</td>\n      <td>50.624691</td>\n      <td>136.330796</td>\n      <td>139.602735</td>\n      <td>84.929012</td>\n      <td>4.371765</td>\n      <td>20.735130</td>\n      <td>0.107059</td>\n      <td>0.365863</td>\n      <td>20.731902</td>\n      <td>0.0</td>\n    </tr>\n    <tr>\n      <th>2</th>\n      <td>98.979875</td>\n      <td>46.794092</td>\n      <td>105.509042</td>\n      <td>211.057883</td>\n      <td>212.346049</td>\n      <td>2.660658</td>\n      <td>27.036281</td>\n      <td>0.701389</td>\n      <td>1.428164</td>\n      <td>26.998534</td>\n      <td>0.0</td>\n    </tr>\n    <tr>\n      <th>3</th>\n      <td>54.983670</td>\n      <td>64.382793</td>\n      <td>77.332336</td>\n      <td>267.651009</td>\n      <td>288.748001</td>\n      <td>2.069546</td>\n      <td>29.484130</td>\n      <td>0.219422</td>\n      <td>1.032189</td>\n      <td>29.466057</td>\n      <td>0.0</td>\n    </tr>\n    <tr>\n      <th>4</th>\n      <td>111.710939</td>\n      <td>244.347058</td>\n      <td>306.517970</td>\n      <td>435.291880</td>\n      <td>429.416725</td>\n      <td>1.304487</td>\n      <td>37.121690</td>\n      <td>0.355178</td>\n      <td>1.674864</td>\n      <td>37.083887</td>\n      <td>0.0</td>\n    </tr>\n    <tr>\n      <th>5</th>\n      <td>62.007023</td>\n      <td>44.427133</td>\n      <td>48.921803</td>\n      <td>72.366165</td>\n      <td>44.052993</td>\n      <td>1.795948</td>\n      <td>20.205173</td>\n      <td>0.144526</td>\n      <td>0.216827</td>\n      <td>20.204010</td>\n      <td>0.0</td>\n    </tr>\n    <tr>\n      <th>6</th>\n      <td>4.856088</td>\n      <td>9.323213</td>\n      <td>18.488792</td>\n      <td>18.013655</td>\n      <td>2.550403</td>\n      <td>0.448921</td>\n      <td>8.344513</td>\n      <td>-0.086968</td>\n      <td>1.650615</td>\n      <td>8.179632</td>\n      <td>0.0</td>\n    </tr>\n    <tr>\n      <th>7</th>\n      <td>12.402086</td>\n      <td>12.738799</td>\n      <td>17.837006</td>\n      <td>27.509635</td>\n      <td>2.217386</td>\n      <td>0.188764</td>\n      <td>9.079593</td>\n      <td>-0.247460</td>\n      <td>1.778408</td>\n      <td>8.903723</td>\n      <td>0.0</td>\n    </tr>\n    <tr>\n      <th>8</th>\n      <td>11.990740</td>\n      <td>23.121522</td>\n      <td>30.417384</td>\n      <td>60.359779</td>\n      <td>3.187660</td>\n      <td>-0.023238</td>\n      <td>11.247220</td>\n      <td>-0.151257</td>\n      <td>0.222435</td>\n      <td>11.245021</td>\n      <td>0.0</td>\n    </tr>\n    <tr>\n      <th>9</th>\n      <td>9.293412</td>\n      <td>18.296830</td>\n      <td>21.309082</td>\n      <td>29.266513</td>\n      <td>3.330018</td>\n      <td>0.638245</td>\n      <td>9.009898</td>\n      <td>-0.088502</td>\n      <td>0.420381</td>\n      <td>9.000086</td>\n      <td>0.0</td>\n    </tr>\n    <tr>\n      <th>10</th>\n      <td>164.032563</td>\n      <td>147.507298</td>\n      <td>65.616661</td>\n      <td>136.611771</td>\n      <td>160.355937</td>\n      <td>1.148574</td>\n      <td>29.443748</td>\n      <td>0.415633</td>\n      <td>0.469887</td>\n      <td>29.439998</td>\n      <td>0.0</td>\n    </tr>\n    <tr>\n      <th>11</th>\n      <td>53.272238</td>\n      <td>27.716304</td>\n      <td>135.173742</td>\n      <td>92.897925</td>\n      <td>104.135031</td>\n      <td>1.964024</td>\n      <td>19.901592</td>\n      <td>-0.072638</td>\n      <td>1.186975</td>\n      <td>19.866163</td>\n      <td>0.0</td>\n    </tr>\n    <tr>\n      <th>12</th>\n      <td>11.039553</td>\n      <td>28.784647</td>\n      <td>61.441656</td>\n      <td>54.377852</td>\n      <td>10.026489</td>\n      <td>0.407241</td>\n      <td>11.680453</td>\n      <td>-0.213918</td>\n      <td>0.575522</td>\n      <td>11.666266</td>\n      <td>0.0</td>\n    </tr>\n    <tr>\n      <th>13</th>\n      <td>12.933831</td>\n      <td>25.141303</td>\n      <td>48.462261</td>\n      <td>26.922339</td>\n      <td>3.200253</td>\n      <td>0.326278</td>\n      <td>10.067885</td>\n      <td>-0.101623</td>\n      <td>0.988971</td>\n      <td>10.019194</td>\n      <td>0.0</td>\n    </tr>\n    <tr>\n      <th>14</th>\n      <td>13.584471</td>\n      <td>44.316131</td>\n      <td>83.700234</td>\n      <td>39.236620</td>\n      <td>3.811217</td>\n      <td>0.424977</td>\n      <td>12.115589</td>\n      <td>0.012642</td>\n      <td>1.587095</td>\n      <td>12.011187</td>\n      <td>0.0</td>\n    </tr>\n    <tr>\n      <th>15</th>\n      <td>12.215526</td>\n      <td>28.305766</td>\n      <td>59.668234</td>\n      <td>45.073117</td>\n      <td>2.647019</td>\n      <td>2.369799</td>\n      <td>13.230016</td>\n      <td>-0.824619</td>\n      <td>0.315190</td>\n      <td>13.226261</td>\n      <td>1.0</td>\n    </tr>\n    <tr>\n      <th>16</th>\n      <td>15.214098</td>\n      <td>17.532779</td>\n      <td>37.691678</td>\n      <td>38.178706</td>\n      <td>11.636184</td>\n      <td>0.785785</td>\n      <td>13.728690</td>\n      <td>-0.066853</td>\n      <td>1.294106</td>\n      <td>13.667560</td>\n      <td>1.0</td>\n    </tr>\n    <tr>\n      <th>17</th>\n      <td>11.824981</td>\n      <td>10.825133</td>\n      <td>67.121771</td>\n      <td>51.991067</td>\n      <td>7.186252</td>\n      <td>0.408235</td>\n      <td>11.312887</td>\n      <td>0.020972</td>\n      <td>0.159781</td>\n      <td>11.311758</td>\n      <td>1.0</td>\n    </tr>\n    <tr>\n      <th>18</th>\n      <td>11.415794</td>\n      <td>16.863875</td>\n      <td>45.071669</td>\n      <td>91.958268</td>\n      <td>106.861553</td>\n      <td>6.183733</td>\n      <td>33.811855</td>\n      <td>-0.600165</td>\n      <td>-0.798774</td>\n      <td>33.802418</td>\n      <td>1.0</td>\n    </tr>\n    <tr>\n      <th>19</th>\n      <td>17.061237</td>\n      <td>44.841732</td>\n      <td>71.825232</td>\n      <td>46.663337</td>\n      <td>5.986783</td>\n      <td>0.514466</td>\n      <td>12.260535</td>\n      <td>-0.070515</td>\n      <td>0.415893</td>\n      <td>12.253479</td>\n      <td>1.0</td>\n    </tr>\n    <tr>\n      <th>20</th>\n      <td>27.484200</td>\n      <td>67.010088</td>\n      <td>82.305567</td>\n      <td>293.224866</td>\n      <td>245.852186</td>\n      <td>167.230505</td>\n      <td>35.485728</td>\n      <td>8.774404</td>\n      <td>1.690589</td>\n      <td>35.445434</td>\n      <td>1.0</td>\n    </tr>\n    <tr>\n      <th>21</th>\n      <td>43.522516</td>\n      <td>44.772365</td>\n      <td>73.340867</td>\n      <td>46.323545</td>\n      <td>7.518110</td>\n      <td>0.507375</td>\n      <td>12.901202</td>\n      <td>-0.173047</td>\n      <td>0.652550</td>\n      <td>12.884688</td>\n      <td>0.0</td>\n    </tr>\n    <tr>\n      <th>22</th>\n      <td>10.776230</td>\n      <td>21.606345</td>\n      <td>45.597790</td>\n      <td>58.761509</td>\n      <td>10.676051</td>\n      <td>-0.210423</td>\n      <td>12.675366</td>\n      <td>-0.085931</td>\n      <td>1.089686</td>\n      <td>12.628440</td>\n      <td>0.0</td>\n    </tr>\n    <tr>\n      <th>23</th>\n      <td>9.424085</td>\n      <td>25.756898</td>\n      <td>37.017451</td>\n      <td>83.600833</td>\n      <td>12.807111</td>\n      <td>1.074536</td>\n      <td>12.792176</td>\n      <td>-0.483550</td>\n      <td>0.080836</td>\n      <td>12.791920</td>\n      <td>0.0</td>\n    </tr>\n    <tr>\n      <th>24</th>\n      <td>9.518861</td>\n      <td>15.578069</td>\n      <td>21.336182</td>\n      <td>39.193761</td>\n      <td>9.411240</td>\n      <td>0.070970</td>\n      <td>11.122590</td>\n      <td>-0.145279</td>\n      <td>1.328005</td>\n      <td>11.043026</td>\n      <td>0.0</td>\n    </tr>\n    <tr>\n      <th>25</th>\n      <td>8.013647</td>\n      <td>42.812952</td>\n      <td>58.492554</td>\n      <td>74.422747</td>\n      <td>7.966981</td>\n      <td>0.192031</td>\n      <td>13.331809</td>\n      <td>-0.112141</td>\n      <td>0.315320</td>\n      <td>13.328080</td>\n      <td>0.0</td>\n    </tr>\n    <tr>\n      <th>26</th>\n      <td>18.542961</td>\n      <td>12.761631</td>\n      <td>47.857409</td>\n      <td>61.215463</td>\n      <td>9.135142</td>\n      <td>1.589394</td>\n      <td>11.859025</td>\n      <td>-0.279548</td>\n      <td>0.692550</td>\n      <td>11.838785</td>\n      <td>0.0</td>\n    </tr>\n    <tr>\n      <th>27</th>\n      <td>57.688563</td>\n      <td>64.621671</td>\n      <td>44.589792</td>\n      <td>107.292560</td>\n      <td>72.807470</td>\n      <td>10.483083</td>\n      <td>18.733611</td>\n      <td>-1.294453</td>\n      <td>0.541371</td>\n      <td>18.725787</td>\n      <td>0.0</td>\n    </tr>\n    <tr>\n      <th>28</th>\n      <td>66.632803</td>\n      <td>48.571191</td>\n      <td>55.648772</td>\n      <td>53.710743</td>\n      <td>36.930765</td>\n      <td>4.642542</td>\n      <td>17.053299</td>\n      <td>0.862899</td>\n      <td>1.229769</td>\n      <td>17.008900</td>\n      <td>0.0</td>\n    </tr>\n    <tr>\n      <th>29</th>\n      <td>8.672012</td>\n      <td>13.215098</td>\n      <td>35.996716</td>\n      <td>61.487033</td>\n      <td>27.275495</td>\n      <td>0.382848</td>\n      <td>13.866345</td>\n      <td>0.116060</td>\n      <td>1.811773</td>\n      <td>13.747473</td>\n      <td>0.0</td>\n    </tr>\n    <tr>\n      <th>30</th>\n      <td>17.788098</td>\n      <td>16.303395</td>\n      <td>41.602791</td>\n      <td>85.805439</td>\n      <td>65.654090</td>\n      <td>2.815208</td>\n      <td>21.756920</td>\n      <td>0.250593</td>\n      <td>1.274553</td>\n      <td>21.719555</td>\n      <td>0.0</td>\n    </tr>\n    <tr>\n      <th>31</th>\n      <td>15.745099</td>\n      <td>28.294618</td>\n      <td>25.691890</td>\n      <td>32.697046</td>\n      <td>3.179386</td>\n      <td>0.318572</td>\n      <td>10.158550</td>\n      <td>0.042500</td>\n      <td>0.612798</td>\n      <td>10.140050</td>\n      <td>0.0</td>\n    </tr>\n    <tr>\n      <th>32</th>\n      <td>6.210466</td>\n      <td>23.216782</td>\n      <td>39.406196</td>\n      <td>42.015823</td>\n      <td>3.128776</td>\n      <td>-0.224736</td>\n      <td>11.547955</td>\n      <td>0.078855</td>\n      <td>1.110757</td>\n      <td>11.494411</td>\n      <td>0.0</td>\n    </tr>\n    <tr>\n      <th>33</th>\n      <td>7.115021</td>\n      <td>27.301713</td>\n      <td>59.854068</td>\n      <td>93.734146</td>\n      <td>84.650439</td>\n      <td>0.319880</td>\n      <td>17.801174</td>\n      <td>0.031918</td>\n      <td>-0.320308</td>\n      <td>17.798292</td>\n      <td>0.0</td>\n    </tr>\n    <tr>\n      <th>34</th>\n      <td>24.713831</td>\n      <td>17.497487</td>\n      <td>36.459438</td>\n      <td>108.995555</td>\n      <td>79.967454</td>\n      <td>11.934993</td>\n      <td>22.946455</td>\n      <td>-1.165651</td>\n      <td>1.156108</td>\n      <td>22.917313</td>\n      <td>0.0</td>\n    </tr>\n    <tr>\n      <th>35</th>\n      <td>26.599807</td>\n      <td>41.045442</td>\n      <td>250.033877</td>\n      <td>151.080783</td>\n      <td>102.735929</td>\n      <td>4.197580</td>\n      <td>20.744587</td>\n      <td>0.509309</td>\n      <td>1.641340</td>\n      <td>20.679553</td>\n      <td>0.0</td>\n    </tr>\n    <tr>\n      <th>36</th>\n      <td>7.751026</td>\n      <td>12.757895</td>\n      <td>40.144643</td>\n      <td>31.847952</td>\n      <td>2.452949</td>\n      <td>0.925110</td>\n      <td>10.620446</td>\n      <td>-0.089361</td>\n      <td>0.955216</td>\n      <td>10.577403</td>\n      <td>1.0</td>\n    </tr>\n    <tr>\n      <th>37</th>\n      <td>5.314225</td>\n      <td>9.209796</td>\n      <td>25.857702</td>\n      <td>45.290997</td>\n      <td>5.841419</td>\n      <td>0.250226</td>\n      <td>10.243715</td>\n      <td>-0.130780</td>\n      <td>0.938205</td>\n      <td>10.200661</td>\n      <td>1.0</td>\n    </tr>\n    <tr>\n      <th>38</th>\n      <td>21.892428</td>\n      <td>29.522066</td>\n      <td>134.558942</td>\n      <td>38.688653</td>\n      <td>23.211171</td>\n      <td>1.552048</td>\n      <td>19.835960</td>\n      <td>0.281768</td>\n      <td>-1.696395</td>\n      <td>19.763288</td>\n      <td>1.0</td>\n    </tr>\n    <tr>\n      <th>39</th>\n      <td>42.114370</td>\n      <td>6.733432</td>\n      <td>28.329463</td>\n      <td>175.360155</td>\n      <td>207.097380</td>\n      <td>6.225037</td>\n      <td>24.566705</td>\n      <td>-1.115887</td>\n      <td>-1.452885</td>\n      <td>24.523705</td>\n      <td>1.0</td>\n    </tr>\n    <tr>\n      <th>40</th>\n      <td>6.625191</td>\n      <td>6.904789</td>\n      <td>18.769993</td>\n      <td>37.192777</td>\n      <td>9.015267</td>\n      <td>0.203520</td>\n      <td>9.131549</td>\n      <td>-0.288013</td>\n      <td>0.924850</td>\n      <td>9.084593</td>\n      <td>1.0</td>\n    </tr>\n    <tr>\n      <th>41</th>\n      <td>17.339727</td>\n      <td>14.191933</td>\n      <td>26.836729</td>\n      <td>34.473181</td>\n      <td>17.280324</td>\n      <td>3.467064</td>\n      <td>14.169770</td>\n      <td>0.108340</td>\n      <td>1.400750</td>\n      <td>14.100365</td>\n      <td>1.0</td>\n    </tr>\n  </tbody>\n</table>\n</div>"
     },
     "execution_count": 19,
     "metadata": {},
     "output_type": "execute_result"
    }
   ],
   "source": [
    "new_df_fv['label'] = new_labels\n",
    "new_df_fv.to_csv('first_features.csv', sep=',', encoding='utf-8')\n",
    "new_df_fv"
   ],
   "metadata": {
    "collapsed": false,
    "ExecuteTime": {
     "end_time": "2024-07-10T22:04:47.804983200Z",
     "start_time": "2024-07-10T22:04:47.749253600Z"
    }
   }
  },
  {
   "cell_type": "code",
   "execution_count": 20,
   "outputs": [
    {
     "data": {
      "text/plain": "    potAbsDelta  potAbsTheta  potAbsAlpha  potAbsBeta  potAbsGamma  \\\n0     33.483541    14.177523    81.956903  141.717006   101.967390   \n1     53.799310    50.624691   136.330796  139.602735    84.929012   \n2     98.979875    46.794092   105.509042  211.057883   212.346049   \n3     54.983670    64.382793    77.332336  267.651009   288.748001   \n4    111.710939   244.347058   306.517970  435.291880   429.416725   \n5     62.007023    44.427133    48.921803   72.366165    44.052993   \n6      4.856088     9.323213    18.488792   18.013655     2.550403   \n7     12.402086    12.738799    17.837006   27.509635     2.217386   \n8     11.990740    23.121522    30.417384   60.359779     3.187660   \n9      9.293412    18.296830    21.309082   29.266513     3.330018   \n10   164.032563   147.507298    65.616661  136.611771   160.355937   \n11    53.272238    27.716304   135.173742   92.897925   104.135031   \n12    11.039553    28.784647    61.441656   54.377852    10.026489   \n13    12.933831    25.141303    48.462261   26.922339     3.200253   \n14    13.584471    44.316131    83.700234   39.236620     3.811217   \n15    12.215526    28.305766    59.668234   45.073117     2.647019   \n16    15.214098    17.532779    37.691678   38.178706    11.636184   \n17    11.824981    10.825133    67.121771   51.991067     7.186252   \n18    11.415794    16.863875    45.071669   91.958268   106.861553   \n19    17.061237    44.841732    71.825232   46.663337     5.986783   \n20    27.484200    67.010088    82.305567  293.224866   245.852186   \n21    43.522516    44.772365    73.340867   46.323545     7.518110   \n22    10.776230    21.606345    45.597790   58.761509    10.676051   \n23     9.424085    25.756898    37.017451   83.600833    12.807111   \n24     9.518861    15.578069    21.336182   39.193761     9.411240   \n25     8.013647    42.812952    58.492554   74.422747     7.966981   \n26    18.542961    12.761631    47.857409   61.215463     9.135142   \n27    57.688563    64.621671    44.589792  107.292560    72.807470   \n28    66.632803    48.571191    55.648772   53.710743    36.930765   \n29     8.672012    13.215098    35.996716   61.487033    27.275495   \n30    17.788098    16.303395    41.602791   85.805439    65.654090   \n31    15.745099    28.294618    25.691890   32.697046     3.179386   \n32     6.210466    23.216782    39.406196   42.015823     3.128776   \n33     7.115021    27.301713    59.854068   93.734146    84.650439   \n34    24.713831    17.497487    36.459438  108.995555    79.967454   \n35    26.599807    41.045442   250.033877  151.080783   102.735929   \n36     7.751026    12.757895    40.144643   31.847952     2.452949   \n37     5.314225     9.209796    25.857702   45.290997     5.841419   \n38    21.892428    29.522066   134.558942   38.688653    23.211171   \n39    42.114370     6.733432    28.329463  175.360155   207.097380   \n40     6.625191     6.904789    18.769993   37.192777     9.015267   \n41    17.339727    14.191933    26.836729   34.473181    17.280324   \n\n      kurtosis        RMS  skewness     media  desvio estandar  label  \n0     1.240900  24.955070  0.395203  1.260070        24.923237    0.0  \n1     4.371765  20.735130  0.107059  0.365863        20.731902    0.0  \n2     2.660658  27.036281  0.701389  1.428164        26.998534    0.0  \n3     2.069546  29.484130  0.219422  1.032189        29.466057    0.0  \n4     1.304487  37.121690  0.355178  1.674864        37.083887    0.0  \n5     1.795948  20.205173  0.144526  0.216827        20.204010    0.0  \n6     0.448921   8.344513 -0.086968  1.650615         8.179632    0.0  \n7     0.188764   9.079593 -0.247460  1.778408         8.903723    0.0  \n8    -0.023238  11.247220 -0.151257  0.222435        11.245021    0.0  \n9     0.638245   9.009898 -0.088502  0.420381         9.000086    0.0  \n10    1.148574  29.443748  0.415633  0.469887        29.439998    0.0  \n11    1.964024  19.901592 -0.072638  1.186975        19.866163    0.0  \n12    0.407241  11.680453 -0.213918  0.575522        11.666266    0.0  \n13    0.326278  10.067885 -0.101623  0.988971        10.019194    0.0  \n14    0.424977  12.115589  0.012642  1.587095        12.011187    0.0  \n15    2.369799  13.230016 -0.824619  0.315190        13.226261    1.0  \n16    0.785785  13.728690 -0.066853  1.294106        13.667560    1.0  \n17    0.408235  11.312887  0.020972  0.159781        11.311758    1.0  \n18    6.183733  33.811855 -0.600165 -0.798774        33.802418    1.0  \n19    0.514466  12.260535 -0.070515  0.415893        12.253479    1.0  \n20  167.230505  35.485728  8.774404  1.690589        35.445434    1.0  \n21    0.507375  12.901202 -0.173047  0.652550        12.884688    0.0  \n22   -0.210423  12.675366 -0.085931  1.089686        12.628440    0.0  \n23    1.074536  12.792176 -0.483550  0.080836        12.791920    0.0  \n24    0.070970  11.122590 -0.145279  1.328005        11.043026    0.0  \n25    0.192031  13.331809 -0.112141  0.315320        13.328080    0.0  \n26    1.589394  11.859025 -0.279548  0.692550        11.838785    0.0  \n27   10.483083  18.733611 -1.294453  0.541371        18.725787    0.0  \n28    4.642542  17.053299  0.862899  1.229769        17.008900    0.0  \n29    0.382848  13.866345  0.116060  1.811773        13.747473    0.0  \n30    2.815208  21.756920  0.250593  1.274553        21.719555    0.0  \n31    0.318572  10.158550  0.042500  0.612798        10.140050    0.0  \n32   -0.224736  11.547955  0.078855  1.110757        11.494411    0.0  \n33    0.319880  17.801174  0.031918 -0.320308        17.798292    0.0  \n34   11.934993  22.946455 -1.165651  1.156108        22.917313    0.0  \n35    4.197580  20.744587  0.509309  1.641340        20.679553    0.0  \n36    0.925110  10.620446 -0.089361  0.955216        10.577403    1.0  \n37    0.250226  10.243715 -0.130780  0.938205        10.200661    1.0  \n38    1.552048  19.835960  0.281768 -1.696395        19.763288    1.0  \n39    6.225037  24.566705 -1.115887 -1.452885        24.523705    1.0  \n40    0.203520   9.131549 -0.288013  0.924850         9.084593    1.0  \n41    3.467064  14.169770  0.108340  1.400750        14.100365    1.0  ",
      "text/html": "<div>\n<style scoped>\n    .dataframe tbody tr th:only-of-type {\n        vertical-align: middle;\n    }\n\n    .dataframe tbody tr th {\n        vertical-align: top;\n    }\n\n    .dataframe thead th {\n        text-align: right;\n    }\n</style>\n<table border=\"1\" class=\"dataframe\">\n  <thead>\n    <tr style=\"text-align: right;\">\n      <th></th>\n      <th>potAbsDelta</th>\n      <th>potAbsTheta</th>\n      <th>potAbsAlpha</th>\n      <th>potAbsBeta</th>\n      <th>potAbsGamma</th>\n      <th>kurtosis</th>\n      <th>RMS</th>\n      <th>skewness</th>\n      <th>media</th>\n      <th>desvio estandar</th>\n      <th>label</th>\n    </tr>\n  </thead>\n  <tbody>\n    <tr>\n      <th>0</th>\n      <td>33.483541</td>\n      <td>14.177523</td>\n      <td>81.956903</td>\n      <td>141.717006</td>\n      <td>101.967390</td>\n      <td>1.240900</td>\n      <td>24.955070</td>\n      <td>0.395203</td>\n      <td>1.260070</td>\n      <td>24.923237</td>\n      <td>0.0</td>\n    </tr>\n    <tr>\n      <th>1</th>\n      <td>53.799310</td>\n      <td>50.624691</td>\n      <td>136.330796</td>\n      <td>139.602735</td>\n      <td>84.929012</td>\n      <td>4.371765</td>\n      <td>20.735130</td>\n      <td>0.107059</td>\n      <td>0.365863</td>\n      <td>20.731902</td>\n      <td>0.0</td>\n    </tr>\n    <tr>\n      <th>2</th>\n      <td>98.979875</td>\n      <td>46.794092</td>\n      <td>105.509042</td>\n      <td>211.057883</td>\n      <td>212.346049</td>\n      <td>2.660658</td>\n      <td>27.036281</td>\n      <td>0.701389</td>\n      <td>1.428164</td>\n      <td>26.998534</td>\n      <td>0.0</td>\n    </tr>\n    <tr>\n      <th>3</th>\n      <td>54.983670</td>\n      <td>64.382793</td>\n      <td>77.332336</td>\n      <td>267.651009</td>\n      <td>288.748001</td>\n      <td>2.069546</td>\n      <td>29.484130</td>\n      <td>0.219422</td>\n      <td>1.032189</td>\n      <td>29.466057</td>\n      <td>0.0</td>\n    </tr>\n    <tr>\n      <th>4</th>\n      <td>111.710939</td>\n      <td>244.347058</td>\n      <td>306.517970</td>\n      <td>435.291880</td>\n      <td>429.416725</td>\n      <td>1.304487</td>\n      <td>37.121690</td>\n      <td>0.355178</td>\n      <td>1.674864</td>\n      <td>37.083887</td>\n      <td>0.0</td>\n    </tr>\n    <tr>\n      <th>5</th>\n      <td>62.007023</td>\n      <td>44.427133</td>\n      <td>48.921803</td>\n      <td>72.366165</td>\n      <td>44.052993</td>\n      <td>1.795948</td>\n      <td>20.205173</td>\n      <td>0.144526</td>\n      <td>0.216827</td>\n      <td>20.204010</td>\n      <td>0.0</td>\n    </tr>\n    <tr>\n      <th>6</th>\n      <td>4.856088</td>\n      <td>9.323213</td>\n      <td>18.488792</td>\n      <td>18.013655</td>\n      <td>2.550403</td>\n      <td>0.448921</td>\n      <td>8.344513</td>\n      <td>-0.086968</td>\n      <td>1.650615</td>\n      <td>8.179632</td>\n      <td>0.0</td>\n    </tr>\n    <tr>\n      <th>7</th>\n      <td>12.402086</td>\n      <td>12.738799</td>\n      <td>17.837006</td>\n      <td>27.509635</td>\n      <td>2.217386</td>\n      <td>0.188764</td>\n      <td>9.079593</td>\n      <td>-0.247460</td>\n      <td>1.778408</td>\n      <td>8.903723</td>\n      <td>0.0</td>\n    </tr>\n    <tr>\n      <th>8</th>\n      <td>11.990740</td>\n      <td>23.121522</td>\n      <td>30.417384</td>\n      <td>60.359779</td>\n      <td>3.187660</td>\n      <td>-0.023238</td>\n      <td>11.247220</td>\n      <td>-0.151257</td>\n      <td>0.222435</td>\n      <td>11.245021</td>\n      <td>0.0</td>\n    </tr>\n    <tr>\n      <th>9</th>\n      <td>9.293412</td>\n      <td>18.296830</td>\n      <td>21.309082</td>\n      <td>29.266513</td>\n      <td>3.330018</td>\n      <td>0.638245</td>\n      <td>9.009898</td>\n      <td>-0.088502</td>\n      <td>0.420381</td>\n      <td>9.000086</td>\n      <td>0.0</td>\n    </tr>\n    <tr>\n      <th>10</th>\n      <td>164.032563</td>\n      <td>147.507298</td>\n      <td>65.616661</td>\n      <td>136.611771</td>\n      <td>160.355937</td>\n      <td>1.148574</td>\n      <td>29.443748</td>\n      <td>0.415633</td>\n      <td>0.469887</td>\n      <td>29.439998</td>\n      <td>0.0</td>\n    </tr>\n    <tr>\n      <th>11</th>\n      <td>53.272238</td>\n      <td>27.716304</td>\n      <td>135.173742</td>\n      <td>92.897925</td>\n      <td>104.135031</td>\n      <td>1.964024</td>\n      <td>19.901592</td>\n      <td>-0.072638</td>\n      <td>1.186975</td>\n      <td>19.866163</td>\n      <td>0.0</td>\n    </tr>\n    <tr>\n      <th>12</th>\n      <td>11.039553</td>\n      <td>28.784647</td>\n      <td>61.441656</td>\n      <td>54.377852</td>\n      <td>10.026489</td>\n      <td>0.407241</td>\n      <td>11.680453</td>\n      <td>-0.213918</td>\n      <td>0.575522</td>\n      <td>11.666266</td>\n      <td>0.0</td>\n    </tr>\n    <tr>\n      <th>13</th>\n      <td>12.933831</td>\n      <td>25.141303</td>\n      <td>48.462261</td>\n      <td>26.922339</td>\n      <td>3.200253</td>\n      <td>0.326278</td>\n      <td>10.067885</td>\n      <td>-0.101623</td>\n      <td>0.988971</td>\n      <td>10.019194</td>\n      <td>0.0</td>\n    </tr>\n    <tr>\n      <th>14</th>\n      <td>13.584471</td>\n      <td>44.316131</td>\n      <td>83.700234</td>\n      <td>39.236620</td>\n      <td>3.811217</td>\n      <td>0.424977</td>\n      <td>12.115589</td>\n      <td>0.012642</td>\n      <td>1.587095</td>\n      <td>12.011187</td>\n      <td>0.0</td>\n    </tr>\n    <tr>\n      <th>15</th>\n      <td>12.215526</td>\n      <td>28.305766</td>\n      <td>59.668234</td>\n      <td>45.073117</td>\n      <td>2.647019</td>\n      <td>2.369799</td>\n      <td>13.230016</td>\n      <td>-0.824619</td>\n      <td>0.315190</td>\n      <td>13.226261</td>\n      <td>1.0</td>\n    </tr>\n    <tr>\n      <th>16</th>\n      <td>15.214098</td>\n      <td>17.532779</td>\n      <td>37.691678</td>\n      <td>38.178706</td>\n      <td>11.636184</td>\n      <td>0.785785</td>\n      <td>13.728690</td>\n      <td>-0.066853</td>\n      <td>1.294106</td>\n      <td>13.667560</td>\n      <td>1.0</td>\n    </tr>\n    <tr>\n      <th>17</th>\n      <td>11.824981</td>\n      <td>10.825133</td>\n      <td>67.121771</td>\n      <td>51.991067</td>\n      <td>7.186252</td>\n      <td>0.408235</td>\n      <td>11.312887</td>\n      <td>0.020972</td>\n      <td>0.159781</td>\n      <td>11.311758</td>\n      <td>1.0</td>\n    </tr>\n    <tr>\n      <th>18</th>\n      <td>11.415794</td>\n      <td>16.863875</td>\n      <td>45.071669</td>\n      <td>91.958268</td>\n      <td>106.861553</td>\n      <td>6.183733</td>\n      <td>33.811855</td>\n      <td>-0.600165</td>\n      <td>-0.798774</td>\n      <td>33.802418</td>\n      <td>1.0</td>\n    </tr>\n    <tr>\n      <th>19</th>\n      <td>17.061237</td>\n      <td>44.841732</td>\n      <td>71.825232</td>\n      <td>46.663337</td>\n      <td>5.986783</td>\n      <td>0.514466</td>\n      <td>12.260535</td>\n      <td>-0.070515</td>\n      <td>0.415893</td>\n      <td>12.253479</td>\n      <td>1.0</td>\n    </tr>\n    <tr>\n      <th>20</th>\n      <td>27.484200</td>\n      <td>67.010088</td>\n      <td>82.305567</td>\n      <td>293.224866</td>\n      <td>245.852186</td>\n      <td>167.230505</td>\n      <td>35.485728</td>\n      <td>8.774404</td>\n      <td>1.690589</td>\n      <td>35.445434</td>\n      <td>1.0</td>\n    </tr>\n    <tr>\n      <th>21</th>\n      <td>43.522516</td>\n      <td>44.772365</td>\n      <td>73.340867</td>\n      <td>46.323545</td>\n      <td>7.518110</td>\n      <td>0.507375</td>\n      <td>12.901202</td>\n      <td>-0.173047</td>\n      <td>0.652550</td>\n      <td>12.884688</td>\n      <td>0.0</td>\n    </tr>\n    <tr>\n      <th>22</th>\n      <td>10.776230</td>\n      <td>21.606345</td>\n      <td>45.597790</td>\n      <td>58.761509</td>\n      <td>10.676051</td>\n      <td>-0.210423</td>\n      <td>12.675366</td>\n      <td>-0.085931</td>\n      <td>1.089686</td>\n      <td>12.628440</td>\n      <td>0.0</td>\n    </tr>\n    <tr>\n      <th>23</th>\n      <td>9.424085</td>\n      <td>25.756898</td>\n      <td>37.017451</td>\n      <td>83.600833</td>\n      <td>12.807111</td>\n      <td>1.074536</td>\n      <td>12.792176</td>\n      <td>-0.483550</td>\n      <td>0.080836</td>\n      <td>12.791920</td>\n      <td>0.0</td>\n    </tr>\n    <tr>\n      <th>24</th>\n      <td>9.518861</td>\n      <td>15.578069</td>\n      <td>21.336182</td>\n      <td>39.193761</td>\n      <td>9.411240</td>\n      <td>0.070970</td>\n      <td>11.122590</td>\n      <td>-0.145279</td>\n      <td>1.328005</td>\n      <td>11.043026</td>\n      <td>0.0</td>\n    </tr>\n    <tr>\n      <th>25</th>\n      <td>8.013647</td>\n      <td>42.812952</td>\n      <td>58.492554</td>\n      <td>74.422747</td>\n      <td>7.966981</td>\n      <td>0.192031</td>\n      <td>13.331809</td>\n      <td>-0.112141</td>\n      <td>0.315320</td>\n      <td>13.328080</td>\n      <td>0.0</td>\n    </tr>\n    <tr>\n      <th>26</th>\n      <td>18.542961</td>\n      <td>12.761631</td>\n      <td>47.857409</td>\n      <td>61.215463</td>\n      <td>9.135142</td>\n      <td>1.589394</td>\n      <td>11.859025</td>\n      <td>-0.279548</td>\n      <td>0.692550</td>\n      <td>11.838785</td>\n      <td>0.0</td>\n    </tr>\n    <tr>\n      <th>27</th>\n      <td>57.688563</td>\n      <td>64.621671</td>\n      <td>44.589792</td>\n      <td>107.292560</td>\n      <td>72.807470</td>\n      <td>10.483083</td>\n      <td>18.733611</td>\n      <td>-1.294453</td>\n      <td>0.541371</td>\n      <td>18.725787</td>\n      <td>0.0</td>\n    </tr>\n    <tr>\n      <th>28</th>\n      <td>66.632803</td>\n      <td>48.571191</td>\n      <td>55.648772</td>\n      <td>53.710743</td>\n      <td>36.930765</td>\n      <td>4.642542</td>\n      <td>17.053299</td>\n      <td>0.862899</td>\n      <td>1.229769</td>\n      <td>17.008900</td>\n      <td>0.0</td>\n    </tr>\n    <tr>\n      <th>29</th>\n      <td>8.672012</td>\n      <td>13.215098</td>\n      <td>35.996716</td>\n      <td>61.487033</td>\n      <td>27.275495</td>\n      <td>0.382848</td>\n      <td>13.866345</td>\n      <td>0.116060</td>\n      <td>1.811773</td>\n      <td>13.747473</td>\n      <td>0.0</td>\n    </tr>\n    <tr>\n      <th>30</th>\n      <td>17.788098</td>\n      <td>16.303395</td>\n      <td>41.602791</td>\n      <td>85.805439</td>\n      <td>65.654090</td>\n      <td>2.815208</td>\n      <td>21.756920</td>\n      <td>0.250593</td>\n      <td>1.274553</td>\n      <td>21.719555</td>\n      <td>0.0</td>\n    </tr>\n    <tr>\n      <th>31</th>\n      <td>15.745099</td>\n      <td>28.294618</td>\n      <td>25.691890</td>\n      <td>32.697046</td>\n      <td>3.179386</td>\n      <td>0.318572</td>\n      <td>10.158550</td>\n      <td>0.042500</td>\n      <td>0.612798</td>\n      <td>10.140050</td>\n      <td>0.0</td>\n    </tr>\n    <tr>\n      <th>32</th>\n      <td>6.210466</td>\n      <td>23.216782</td>\n      <td>39.406196</td>\n      <td>42.015823</td>\n      <td>3.128776</td>\n      <td>-0.224736</td>\n      <td>11.547955</td>\n      <td>0.078855</td>\n      <td>1.110757</td>\n      <td>11.494411</td>\n      <td>0.0</td>\n    </tr>\n    <tr>\n      <th>33</th>\n      <td>7.115021</td>\n      <td>27.301713</td>\n      <td>59.854068</td>\n      <td>93.734146</td>\n      <td>84.650439</td>\n      <td>0.319880</td>\n      <td>17.801174</td>\n      <td>0.031918</td>\n      <td>-0.320308</td>\n      <td>17.798292</td>\n      <td>0.0</td>\n    </tr>\n    <tr>\n      <th>34</th>\n      <td>24.713831</td>\n      <td>17.497487</td>\n      <td>36.459438</td>\n      <td>108.995555</td>\n      <td>79.967454</td>\n      <td>11.934993</td>\n      <td>22.946455</td>\n      <td>-1.165651</td>\n      <td>1.156108</td>\n      <td>22.917313</td>\n      <td>0.0</td>\n    </tr>\n    <tr>\n      <th>35</th>\n      <td>26.599807</td>\n      <td>41.045442</td>\n      <td>250.033877</td>\n      <td>151.080783</td>\n      <td>102.735929</td>\n      <td>4.197580</td>\n      <td>20.744587</td>\n      <td>0.509309</td>\n      <td>1.641340</td>\n      <td>20.679553</td>\n      <td>0.0</td>\n    </tr>\n    <tr>\n      <th>36</th>\n      <td>7.751026</td>\n      <td>12.757895</td>\n      <td>40.144643</td>\n      <td>31.847952</td>\n      <td>2.452949</td>\n      <td>0.925110</td>\n      <td>10.620446</td>\n      <td>-0.089361</td>\n      <td>0.955216</td>\n      <td>10.577403</td>\n      <td>1.0</td>\n    </tr>\n    <tr>\n      <th>37</th>\n      <td>5.314225</td>\n      <td>9.209796</td>\n      <td>25.857702</td>\n      <td>45.290997</td>\n      <td>5.841419</td>\n      <td>0.250226</td>\n      <td>10.243715</td>\n      <td>-0.130780</td>\n      <td>0.938205</td>\n      <td>10.200661</td>\n      <td>1.0</td>\n    </tr>\n    <tr>\n      <th>38</th>\n      <td>21.892428</td>\n      <td>29.522066</td>\n      <td>134.558942</td>\n      <td>38.688653</td>\n      <td>23.211171</td>\n      <td>1.552048</td>\n      <td>19.835960</td>\n      <td>0.281768</td>\n      <td>-1.696395</td>\n      <td>19.763288</td>\n      <td>1.0</td>\n    </tr>\n    <tr>\n      <th>39</th>\n      <td>42.114370</td>\n      <td>6.733432</td>\n      <td>28.329463</td>\n      <td>175.360155</td>\n      <td>207.097380</td>\n      <td>6.225037</td>\n      <td>24.566705</td>\n      <td>-1.115887</td>\n      <td>-1.452885</td>\n      <td>24.523705</td>\n      <td>1.0</td>\n    </tr>\n    <tr>\n      <th>40</th>\n      <td>6.625191</td>\n      <td>6.904789</td>\n      <td>18.769993</td>\n      <td>37.192777</td>\n      <td>9.015267</td>\n      <td>0.203520</td>\n      <td>9.131549</td>\n      <td>-0.288013</td>\n      <td>0.924850</td>\n      <td>9.084593</td>\n      <td>1.0</td>\n    </tr>\n    <tr>\n      <th>41</th>\n      <td>17.339727</td>\n      <td>14.191933</td>\n      <td>26.836729</td>\n      <td>34.473181</td>\n      <td>17.280324</td>\n      <td>3.467064</td>\n      <td>14.169770</td>\n      <td>0.108340</td>\n      <td>1.400750</td>\n      <td>14.100365</td>\n      <td>1.0</td>\n    </tr>\n  </tbody>\n</table>\n</div>"
     },
     "execution_count": 20,
     "metadata": {},
     "output_type": "execute_result"
    }
   ],
   "source": [
    "df_from_csv = pd.read_csv(\"first_features.csv\", index_col=0)\n",
    "df_from_csv"
   ],
   "metadata": {
    "collapsed": false,
    "ExecuteTime": {
     "end_time": "2024-07-10T22:05:00.214800800Z",
     "start_time": "2024-07-10T22:05:00.165240Z"
    }
   }
  }
 ],
 "metadata": {
  "kernelspec": {
   "display_name": "Python 3",
   "language": "python",
   "name": "python3"
  },
  "language_info": {
   "codemirror_mode": {
    "name": "ipython",
    "version": 2
   },
   "file_extension": ".py",
   "mimetype": "text/x-python",
   "name": "python",
   "nbconvert_exporter": "python",
   "pygments_lexer": "ipython2",
   "version": "2.7.6"
  }
 },
 "nbformat": 4,
 "nbformat_minor": 0
}
