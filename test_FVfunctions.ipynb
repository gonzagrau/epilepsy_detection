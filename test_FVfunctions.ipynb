{
 "cells": [
  {
   "cell_type": "markdown",
   "source": [
    "# Prueba de la extración de feature vectors"
   ],
   "metadata": {
    "collapsed": false
   }
  },
  {
   "cell_type": "code",
   "execution_count": 10,
   "outputs": [],
   "source": [
    "#Importación de librerías\n",
    "import numpy as np\n",
    "import pandas as pd\n",
    "from mne import io\n",
    "from FVfunctions import getMeData, getMeFeatures\n",
    "from features_stats import stats_features\n",
    "from dataset_reader import get_seizure_events, get_seizure_array"
   ],
   "metadata": {
    "collapsed": false,
    "ExecuteTime": {
     "end_time": "2024-07-15T00:25:14.783642800Z",
     "start_time": "2024-07-15T00:25:14.480211100Z"
    }
   }
  },
  {
   "cell_type": "code",
   "execution_count": 2,
   "outputs": [],
   "source": [
    "%load_ext autoreload\n",
    "%autoreload 2"
   ],
   "metadata": {
    "collapsed": false,
    "ExecuteTime": {
     "end_time": "2024-07-15T00:23:24.039122800Z",
     "start_time": "2024-07-15T00:23:23.757869Z"
    }
   }
  },
  {
   "cell_type": "markdown",
   "source": [
    "#### 1. Lectura"
   ],
   "metadata": {
    "collapsed": false
   }
  },
  {
   "cell_type": "code",
   "execution_count": 3,
   "metadata": {
    "collapsed": true,
    "ExecuteTime": {
     "end_time": "2024-07-15T00:23:26.410097200Z",
     "start_time": "2024-07-15T00:23:25.446321800Z"
    }
   },
   "outputs": [
    {
     "name": "stdout",
     "output_type": "stream",
     "text": [
      "Extracting EDF parameters from C:\\Users\\gonza\\Documents\\ITBA\\2024 1C\\PSIB\\TP FINAL PSIB\\eeg_dataset\\physionet.org\\files\\siena-scalp-eeg\\1.0.0\\PN05\\PN05-2.edf...\n",
      "EDF file detected\n",
      "Setting channel info structure...\n",
      "Creating raw.info structure...\n"
     ]
    },
    {
     "name": "stderr",
     "output_type": "stream",
     "text": [
      "C:\\Users\\gonza\\AppData\\Local\\Temp\\ipykernel_22080\\2785477139.py:3: RuntimeWarning: Channels contain different highpass filters. Highest filter setting will be stored.\n",
      "  raw01 = io.read_raw_edf(path01)\n",
      "C:\\Users\\gonza\\AppData\\Local\\Temp\\ipykernel_22080\\2785477139.py:3: RuntimeWarning: Channels contain different lowpass filters. Lowest filter setting will be stored.\n",
      "  raw01 = io.read_raw_edf(path01)\n",
      "C:\\Users\\gonza\\AppData\\Local\\Temp\\ipykernel_22080\\2785477139.py:3: RuntimeWarning: Highpass cutoff frequency 15.91549 is greater than lowpass cutoff frequency 15.0, setting values to 0 and Nyquist.\n",
      "  raw01 = io.read_raw_edf(path01)\n"
     ]
    }
   ],
   "source": [
    "DATA_DIR = r\"../eeg_dataset/physionet.org/files/siena-scalp-eeg/1.0.0/\"\n",
    "path01 = rf\"{DATA_DIR}PN05/PN05-2.edf\"\n",
    "raw01 = io.read_raw_edf(path01)\n",
    "paciente = \"PN05\"\n",
    "realizacion = \"2\""
   ]
  },
  {
   "cell_type": "markdown",
   "source": [
    "#### 2. Info del archivo"
   ],
   "metadata": {
    "collapsed": false
   }
  },
  {
   "cell_type": "code",
   "execution_count": 4,
   "outputs": [
    {
     "name": "stdout",
     "output_type": "stream",
     "text": [
      "<Info | 8 non-empty values\n",
      " bads: []\n",
      " ch_names: EEG Fp1, EEG F3, EEG C3, EEG P3, EEG O1, EEG F7, EEG T3, EEG T5, ...\n",
      " chs: 37 EEG\n",
      " custom_ref_applied: False\n",
      " highpass: 0.0 Hz\n",
      " lowpass: 256.0 Hz\n",
      " meas_date: 2016-01-01 06:46:02 UTC\n",
      " nchan: 37\n",
      " projs: []\n",
      " sfreq: 512.0 Hz\n",
      " subject_info: 1 item (dict)\n",
      ">\n",
      "['EEG Fp1', 'EEG F3', 'EEG C3', 'EEG P3', 'EEG O1', 'EEG F7', 'EEG T3', 'EEG T5', 'EEG Fc1', 'EEG Fc5', 'EEG Cp1', 'EEG Cp5', 'EEG F9', 'EEG Fz', 'EEG Cz', 'EEG Pz', 'EEG F4', 'EEG C4', 'EEG P4', 'EEG O2', 'EEG F8', 'EEG T4', 'EEG T6', 'EEG Fc2', 'EEG Fc6', 'EEG Cp2', 'EEG Cp6', 'EEG F10', 'EKG EKG', 'SPO2', 'HR', '1', '2', 'EEG FP2', 'EEG P9', 'EEG P10', 'MK']\n"
     ]
    }
   ],
   "source": [
    "info = raw01.info\n",
    "print(info)\n",
    "print(info['ch_names'])"
   ],
   "metadata": {
    "collapsed": false,
    "ExecuteTime": {
     "end_time": "2024-07-15T00:23:29.503878Z",
     "start_time": "2024-07-15T00:23:28.894748400Z"
    }
   }
  },
  {
   "cell_type": "markdown",
   "source": [
    "#### 3. Obtención de las mediciones a utilizar y otros datos importantes"
   ],
   "metadata": {
    "collapsed": false
   }
  },
  {
   "cell_type": "code",
   "execution_count": 5,
   "outputs": [
    {
     "name": "stdout",
     "output_type": "stream",
     "text": [
      "Canales filtrados: ['EEG T3', 'EEG T5', 'EEG F7', 'EEG F3', 'EEG C3', 'EEG P3']\n",
      "Cantidad de canales resultantes: 6\n",
      "Cantidad de datos en cada canal: 4733440\n"
     ]
    },
    {
     "data": {
      "text/plain": "   EEG T3  EEG T5  EEG F7  EEG F3  EEG C3  EEG P3\n0 -15.000  16.625  -5.000   2.500  -5.125 -16.500\n1 -11.125  30.125  -3.250   6.750  -3.500  -4.000\n2  -6.750  24.125  -0.875  -1.750  -1.125   4.000\n3  -2.375  12.750   0.500  -8.250  -1.500   4.500\n4   3.000   9.250   2.875  -4.500  -2.625   3.250\n5   5.500  18.875   2.750 -19.500  -1.750   0.375\n6   2.250  19.750   1.250 -27.875  -1.125  -6.000\n7   0.125   5.125   2.750  -4.000  -1.750 -12.000\n8   2.875   5.000   3.625   3.500  -0.125 -14.125\n9   2.500  16.625   1.125 -13.625   2.125 -16.625",
      "text/html": "<div>\n<style scoped>\n    .dataframe tbody tr th:only-of-type {\n        vertical-align: middle;\n    }\n\n    .dataframe tbody tr th {\n        vertical-align: top;\n    }\n\n    .dataframe thead th {\n        text-align: right;\n    }\n</style>\n<table border=\"1\" class=\"dataframe\">\n  <thead>\n    <tr style=\"text-align: right;\">\n      <th></th>\n      <th>EEG T3</th>\n      <th>EEG T5</th>\n      <th>EEG F7</th>\n      <th>EEG F3</th>\n      <th>EEG C3</th>\n      <th>EEG P3</th>\n    </tr>\n  </thead>\n  <tbody>\n    <tr>\n      <th>0</th>\n      <td>-15.000</td>\n      <td>16.625</td>\n      <td>-5.000</td>\n      <td>2.500</td>\n      <td>-5.125</td>\n      <td>-16.500</td>\n    </tr>\n    <tr>\n      <th>1</th>\n      <td>-11.125</td>\n      <td>30.125</td>\n      <td>-3.250</td>\n      <td>6.750</td>\n      <td>-3.500</td>\n      <td>-4.000</td>\n    </tr>\n    <tr>\n      <th>2</th>\n      <td>-6.750</td>\n      <td>24.125</td>\n      <td>-0.875</td>\n      <td>-1.750</td>\n      <td>-1.125</td>\n      <td>4.000</td>\n    </tr>\n    <tr>\n      <th>3</th>\n      <td>-2.375</td>\n      <td>12.750</td>\n      <td>0.500</td>\n      <td>-8.250</td>\n      <td>-1.500</td>\n      <td>4.500</td>\n    </tr>\n    <tr>\n      <th>4</th>\n      <td>3.000</td>\n      <td>9.250</td>\n      <td>2.875</td>\n      <td>-4.500</td>\n      <td>-2.625</td>\n      <td>3.250</td>\n    </tr>\n    <tr>\n      <th>5</th>\n      <td>5.500</td>\n      <td>18.875</td>\n      <td>2.750</td>\n      <td>-19.500</td>\n      <td>-1.750</td>\n      <td>0.375</td>\n    </tr>\n    <tr>\n      <th>6</th>\n      <td>2.250</td>\n      <td>19.750</td>\n      <td>1.250</td>\n      <td>-27.875</td>\n      <td>-1.125</td>\n      <td>-6.000</td>\n    </tr>\n    <tr>\n      <th>7</th>\n      <td>0.125</td>\n      <td>5.125</td>\n      <td>2.750</td>\n      <td>-4.000</td>\n      <td>-1.750</td>\n      <td>-12.000</td>\n    </tr>\n    <tr>\n      <th>8</th>\n      <td>2.875</td>\n      <td>5.000</td>\n      <td>3.625</td>\n      <td>3.500</td>\n      <td>-0.125</td>\n      <td>-14.125</td>\n    </tr>\n    <tr>\n      <th>9</th>\n      <td>2.500</td>\n      <td>16.625</td>\n      <td>1.125</td>\n      <td>-13.625</td>\n      <td>2.125</td>\n      <td>-16.625</td>\n    </tr>\n  </tbody>\n</table>\n</div>"
     },
     "execution_count": 5,
     "metadata": {},
     "output_type": "execute_result"
    }
   ],
   "source": [
    "# Se obtiene el nombre de todos los canales\n",
    "ch_nms = info[\"ch_names\"]\n",
    "\n",
    "# Se obtienen los canales seleccionados del lazo izquierdo\n",
    "filt_ch_nms = ['EEG T3','EEG T5','EEG F7','EEG F3','EEG C3','EEG P3']\n",
    "\n",
    "# Seleccionar los datos de los canales filtrados\n",
    "raw01_filt = raw01.pick(filt_ch_nms)\n",
    "\n",
    "# Obtener los datos de los canales filtrados por nombre\n",
    "data_namefilt = raw01_filt.get_data()\n",
    "\n",
    "# Se convierten las mediciones a microvoltios\n",
    "data_namefilt = data_namefilt * 1e6\n",
    "data_namefilt_df = pd.DataFrame(data=data_namefilt.T, columns=filt_ch_nms)\n",
    "\n",
    "# Dimensiones de 'data_filt'\n",
    "dim_data_filt = np.shape(data_namefilt)\n",
    "\n",
    "# Verifición\n",
    "print(\"Canales filtrados:\", filt_ch_nms)\n",
    "print(f\"Cantidad de canales resultantes: {dim_data_filt[0]}\")\n",
    "print(f\"Cantidad de datos en cada canal: {dim_data_filt[1]}\")\n",
    "data_namefilt_df.head(10)"
   ],
   "metadata": {
    "collapsed": false,
    "ExecuteTime": {
     "end_time": "2024-07-15T00:23:32.547704300Z",
     "start_time": "2024-07-15T00:23:31.300947Z"
    }
   }
  },
  {
   "cell_type": "code",
   "execution_count": 6,
   "outputs": [
    {
     "name": "stdout",
     "output_type": "stream",
     "text": [
      "Frecuencia de muestreo: 512.0\n",
      "Instantes [s]: 0.0 ... 9244.998046875\n"
     ]
    }
   ],
   "source": [
    "# Frecuencia de muestreo y cantidad de muestras tomadas\n",
    "fs = info[\"sfreq\"]\n",
    "len_data = dim_data_filt[1]\n",
    "\n",
    "# Array de instantes\n",
    "start = 0\n",
    "stop = (1 / fs) * len_data\n",
    "arr_t = np.arange(start=start, stop=stop, step=(1 / fs))\n",
    "\n",
    "# Verificación de datos\n",
    "print(\"Frecuencia de muestreo:\", fs)\n",
    "print(\"Instantes [s]:\", arr_t[0], \"...\", arr_t[-1])"
   ],
   "metadata": {
    "collapsed": false,
    "ExecuteTime": {
     "end_time": "2024-07-15T00:23:38.008291200Z",
     "start_time": "2024-07-15T00:23:37.730798100Z"
    }
   }
  },
  {
   "cell_type": "markdown",
   "source": [
    "#### 4. Generacion de segmentos y features"
   ],
   "metadata": {
    "collapsed": false
   }
  },
  {
   "cell_type": "code",
   "execution_count": 8,
   "outputs": [
    {
     "data": {
      "text/plain": "[{'seizure_number': 2,\n  'file_name': 'PN05-2.edf',\n  'registration_start_time': '06.46.02',\n  'registration_end_time': '09.19.47',\n  'seizure_start_time': '08.45.25',\n  'seizure_end_time': '08.46.00'}]"
     },
     "execution_count": 8,
     "metadata": {},
     "output_type": "execute_result"
    }
   ],
   "source": [
    "# Encontramos las seizures del archivo\n",
    "path_seiz = rf\"{DATA_DIR}PN05/Seizures-list-PN05.txt\"\n",
    "seizures = get_seizure_events(path_seiz)\n",
    "seizures_in_02 = [seiz for seiz in seizures if seiz[\"file_name\"] == \"PN05-2.edf\"]\n",
    "arr_mtx_t_epi = get_seizure_array(seizures_in_02)\n",
    "seizures_in_02"
   ],
   "metadata": {
    "collapsed": false,
    "ExecuteTime": {
     "end_time": "2024-07-15T00:24:03.456340100Z",
     "start_time": "2024-07-15T00:24:03.121951700Z"
    }
   }
  },
  {
   "cell_type": "code",
   "execution_count": 9,
   "outputs": [
    {
     "data": {
      "text/plain": "array([[ -6.44861197, -14.41007862, -21.80983335, ...,  -4.48831135,\n         -4.21901134,  -2.8510888 ],\n       [ -5.88095295,  -3.27032485,  -3.43263646, ...,  12.59162582,\n          7.36264985,   1.6076962 ],\n       [ -0.83301453,  -1.25101932,  -2.04141079, ..., -23.45783771,\n        -24.17600637, -25.67897428],\n       ...,\n       [  0.68034242,  -4.00761189,  -8.34748549, ...,  -5.61545513,\n         -5.87480518,  -5.25658974],\n       [  0.92877445,  -0.44348798,  -4.31283595, ..., -23.95445503,\n        -16.12186009, -10.22864701],\n       [  0.90055912, -11.03868087, -14.03135442, ...,  11.33054779,\n         10.28751314,   7.81128204]])"
     },
     "execution_count": 9,
     "metadata": {},
     "output_type": "execute_result"
    }
   ],
   "source": [
    "# Matriz de inicio de registro y final de registro\n",
    "seiz = seizures_in_02[0] # una sola !!\n",
    "mtx_t_reg = np.array([seiz['registration_start_time'], seiz['registration_end_time']])\n",
    "\n",
    "# Utilización de la función para una única señal\n",
    "list_segs, arr_labels = getMeData(data_namefilt, mtx_t_reg=mtx_t_reg, arr_mtx_t_epi=arr_mtx_t_epi, winlen=2, proportion=0.4)\n",
    "list_segs[0]"
   ],
   "metadata": {
    "collapsed": false,
    "ExecuteTime": {
     "end_time": "2024-07-15T00:24:06.533845700Z",
     "start_time": "2024-07-15T00:24:05.927449100Z"
    }
   }
  },
  {
   "cell_type": "code",
   "execution_count": 11,
   "outputs": [
    {
     "data": {
      "text/plain": "    EEG T3_potRelDelta  EEG T3_potRelTheta  EEG T3_potRelAlpha  \\\n0           217.644236           49.269005           89.263621   \n1           178.283112           68.107614           68.265979   \n2           148.265309           81.879942           29.160342   \n3           131.956727           91.343940           18.468434   \n4           171.847087           80.592865           21.834394   \n5            49.951440          266.194512          118.488910   \n6            60.522752          694.580842          171.390084   \n7            46.869211          908.317318          155.500322   \n8            76.570210          566.605445           24.871353   \n9            80.895259           92.963097          126.074663   \n10           58.127413          184.481562          138.894448   \n11          272.762987          190.845747          104.992354   \n12          170.215140          147.260703           37.550476   \n13           88.062812          126.965723           55.758595   \n14          179.996817          278.113893           81.967202   \n15          104.185776          120.547317          103.407944   \n16          245.126139           53.409973           29.434337   \n17            3.668306            5.070829           18.771781   \n18            4.498994            3.167876           11.686098   \n19            9.299332            8.847158           23.169279   \n20            9.106086            8.941083           24.238313   \n21            9.020964            2.393709           19.075465   \n22           40.697683           24.940905           47.847706   \n23           15.681921            7.486879           25.331973   \n24           10.942622           20.007708           22.394240   \n25           34.082663           23.075854           87.850638   \n26           13.225254           50.374691           14.938013   \n27            7.578976            5.158212            9.956531   \n28           30.887303           19.551812           54.929070   \n29            8.679978            6.834179           28.470696   \n30           10.103198            6.412369           21.531304   \n31           50.501436          149.345197          231.998167   \n32            9.345299            9.204457           26.086420   \n33           13.572286           10.846646           15.156365   \n34           18.787890            5.260979           98.361981   \n35           13.290698            4.296126           36.576738   \n36            5.961346           18.214023           57.676234   \n37           38.979318           46.512844           64.947323   \n38           25.574588           17.705061           57.202042   \n39           11.788835           27.174054           69.531635   \n40            3.384976           16.307560           54.403771   \n41           11.522324           16.935794           74.579061   \n42            9.208809            4.182240           11.888503   \n\n    EEG T3_potRelBeta  EEG T3_potRelGamma  EEG T5_potRelDelta  \\\n0           95.580341           55.646721          124.140570   \n1           55.249263           21.184491           32.760069   \n2           32.561074           17.223644           24.356829   \n3           41.782452           16.610201           63.404226   \n4           24.324345            9.639249           19.700832   \n5           33.968660           10.059972           19.399979   \n6           42.324166            8.917114          105.642761   \n7           71.472523           11.021553           36.499778   \n8           73.751879           16.436683           31.935764   \n9          172.348406           22.912454           75.217608   \n10         111.711624           36.401531           20.684590   \n11         116.896092           18.444992          231.530259   \n12         328.489103           30.948927           87.492734   \n13         358.267277           22.692121          351.545611   \n14         415.691161           22.750191          106.623438   \n15         245.015747           10.387613          378.339571   \n16          47.997457            5.302804          127.588627   \n17          24.272002           13.704035            5.852273   \n18          81.317918            2.966534            4.119270   \n19          28.009141            2.612296            3.373758   \n20          27.731727            2.161300            6.847384   \n21          31.275273            3.055391            9.514172   \n22          44.211417            4.634789           11.054891   \n23          44.256713           21.861456           11.562887   \n24          33.185153           10.576428            5.839359   \n25          39.584845           22.483352           24.489631   \n26          69.316797            7.771441            6.529088   \n27          32.420880            5.043403            4.198112   \n28          51.435789           54.036982           23.126407   \n29          32.498496           20.079449            2.723430   \n30          41.900746            2.001334           11.911016   \n31          50.817849            5.594000            8.628831   \n32          30.573609            3.635148           21.019265   \n33          42.699735            3.365440            3.890535   \n34          48.713329           56.635357           43.759132   \n35          29.727368           25.584679           12.559574   \n36          39.062222            2.657086            6.389202   \n37          61.020446           54.559212            9.661531   \n38         178.127230          193.928315           16.777745   \n39          30.673323           16.913731            6.035722   \n40          30.712735            4.401436            4.206224   \n41          46.494508           26.814371            3.747103   \n42          40.552270           10.863526           11.779511   \n\n    EEG T5_potRelTheta  EEG T5_potRelAlpha  EEG T5_potRelBeta  \\\n0            58.149563          108.482934         212.933265   \n1           111.496744           28.529220          60.629094   \n2           170.406820           28.689113          27.480016   \n3            37.728971           35.714350          72.280008   \n4            17.899795           19.355433          53.485841   \n5           148.065837           32.526176          45.725322   \n6           176.668021           87.696803          60.246497   \n7           173.734693           46.672212          42.406688   \n8           116.049523           54.677429          71.570142   \n9           230.474477           39.743363         197.952283   \n10          124.377364           61.689335          97.618687   \n11          337.008625           55.122902         124.893951   \n12           79.282792           66.133440         215.832361   \n13          297.754077           85.862308         143.863893   \n14          226.234628           73.903856         133.356034   \n15          272.778577          135.403551         100.188524   \n16           56.363859           40.028383          38.824669   \n17            6.421011            6.786428          31.862477   \n18            9.899151            4.474210          43.372365   \n19            8.774987            4.314840          13.605616   \n20            9.642434           20.106345          17.828379   \n21            8.689853           42.588347          28.447906   \n22            7.778145           15.608063          23.710832   \n23            5.914338           19.710317          32.181494   \n24            7.042657           35.094662          44.319646   \n25           12.573031           15.999341          33.716772   \n26           20.607135           26.198240          31.841466   \n27            5.764030            4.291536          29.404362   \n28           16.803576           21.409861          79.638551   \n29           12.609541           13.570262          24.995878   \n30            6.237094            7.201760          26.911875   \n31           23.125465           56.039216          51.595460   \n32           16.877480           15.007714          28.027076   \n33            4.153354            3.395814          25.740406   \n34           44.739811          110.644273         204.385389   \n35            4.972372            9.786487          18.460337   \n36           46.663186           28.342716          34.433595   \n37           32.946201           95.383706         138.112945   \n38           29.701532           51.911562         258.408153   \n39           21.325907           52.622002          73.872107   \n40            7.879252           17.223233          15.334068   \n41           12.527895           26.148155          68.760586   \n42            3.426400            6.611675          21.355354   \n\n    EEG T5_potRelGamma  ...  EEG C3_RMS  EEG C3_skewness  EEG C3_media  \\\n0           137.980287  ...   11.677248        -0.231875     -0.502056   \n1            50.598366  ...    8.416224        -0.156994     -0.196605   \n2            35.805629  ...    8.980941         0.048354     -0.762440   \n3            92.015080  ...    8.142055         0.173270     -0.372658   \n4            56.392681  ...    8.322849         0.168588     -0.297015   \n5            35.489166  ...   10.455694        -0.372698      0.004679   \n6            43.777468  ...   13.968668        -0.294790     -1.210592   \n7            26.710877  ...   15.193188        -0.095495     -0.903271   \n8            40.512719  ...   13.386318        -0.305510      0.428950   \n9            29.865994  ...   15.989466        -1.146662     -2.129462   \n10           44.544298  ...   13.075956        -0.099084      0.384188   \n11           22.745295  ...   14.605709        -0.264773     -0.387102   \n12           48.678088  ...   13.504671        -0.193313     -1.198863   \n13           37.198640  ...   12.989308        -0.338667      1.420152   \n14           44.543595  ...   13.677213        -0.268814      0.700376   \n15           24.032828  ...   14.656815        -0.727434     -1.709102   \n16           22.720483  ...   12.282171        -1.142892      0.629339   \n17           13.353431  ...    4.385928        -0.453372     -0.079315   \n18            3.385131  ...    5.726779        -0.047473     -0.390197   \n19            1.940268  ...    4.551546         0.150427      1.119508   \n20            1.700438  ...    5.320559         0.004587      0.818691   \n21            2.611061  ...    4.990841         0.380731      0.167976   \n22           10.146115  ...    5.876665        -0.044573      0.428357   \n23           18.674063  ...    5.538787        -0.150033     -0.687770   \n24            4.069355  ...    6.371371         0.061580     -0.782282   \n25           33.991512  ...    5.292373        -0.267359     -1.150258   \n26           31.170360  ...    7.019296        -0.008528     -0.272264   \n27            2.730158  ...    4.743644         0.285907     -0.146680   \n28           66.920778  ...    9.202382         0.425230     -2.388752   \n29           44.602310  ...    4.767744         0.339439     -0.221323   \n30            1.152810  ...    5.775866        -0.054737     -0.535437   \n31           32.348879  ...    6.197902        -0.250968     -0.578750   \n32            0.901878  ...    5.559658        -0.042338      1.435336   \n33            2.740694  ...    5.445909        -0.071909     -0.494065   \n34          328.925987  ...    6.766900         0.130256     -0.314929   \n35           10.494271  ...    8.047886         0.197198      0.470266   \n36            1.893428  ...    6.592987        -0.094788     -0.343518   \n37          162.738331  ...   11.973378        -0.805200     -0.143895   \n38          234.663851  ...   14.903030        -0.227465     -1.891620   \n39           93.030068  ...    6.050289         0.031263     -0.700267   \n40            2.645550  ...    5.836656        -0.067005      0.370318   \n41           91.242052  ...    6.338395         0.081947     -0.042125   \n42            3.643802  ...    6.159313        -0.206768     -0.620029   \n\n    EEG C3_devest  EEG P3_kurtosis  EEG P3_RMS  EEG P3_skewness  EEG P3_media  \\\n0       11.666451         4.401967   79.218336        -1.720705    -11.207909   \n1        8.413928        -0.094271   10.886250         0.124006      7.289688   \n2        8.948519         0.274183    8.071810         0.386512      0.553549   \n3        8.133523         0.824657    8.899896        -0.250272      0.663754   \n4        8.317548        -0.508299    7.467841         0.136701      3.939685   \n5       10.455693        -0.086786    7.306819         0.158408      1.648406   \n6       13.916111         0.120155    8.249094        -0.085026     -1.848924   \n7       15.166313        -0.533101    8.779397         0.032263     -2.878586   \n8       13.379443        -0.135368    8.074814         0.008525      0.413674   \n9       15.847032         5.242932   22.302080        -1.793662     -5.856859   \n10      13.070311         0.225227   10.432505        -0.204441      3.058904   \n11      14.600579         5.236143   11.816105         1.372304      1.815436   \n12      13.451352        -0.241103   10.293784         0.102518     -1.254723   \n13      12.911440        -0.297048   10.836239         0.121811      0.064516   \n14      13.659269        -0.255636    9.872759         0.212439      0.558988   \n15      14.556827         0.034078    9.533605        -0.408516     -0.899372   \n16      12.266037        -0.433629    8.757599         0.115035     -1.240177   \n17       4.385210         0.686573    9.021363         0.241432      7.168315   \n18       5.713470         0.523037    6.539157        -0.092770      2.189309   \n19       4.411720         0.037207    4.585824        -0.159143     -1.059859   \n20       5.257194        -0.137940    5.965786        -0.024087      3.637361   \n21       4.988014         0.197332    5.280669         0.091013      1.130344   \n22       5.861032         0.415535    6.504150        -0.497082      1.463395   \n23       5.495920        -0.147533    5.499792         0.388366     -0.381314   \n24       6.323164         2.238676    8.813572        -1.180515      0.125164   \n25       5.165861         6.032256    8.503323         1.045257     -2.248647   \n26       7.014014        -0.033316    6.859669        -0.263724      1.493178   \n27       4.741376         0.786004    5.369349        -0.339556      2.379293   \n28       8.886939         8.039726   52.308375        -2.931887    -13.312074   \n29       4.762605        -0.203664    5.010182         0.035968     -0.299153   \n30       5.750994         0.072769    5.208194         0.307214      1.905692   \n31       6.170821        -0.382330    7.121043         0.051882      3.116667   \n32       5.371183        -0.200831    7.514279        -0.171928      5.848541   \n33       5.423451         0.089418    4.691531         0.156140      0.974346   \n34       6.759567         8.714699   40.369222         0.005318      0.563468   \n35       8.034135         0.037710   10.450931         0.167254      9.365963   \n36       6.584032         0.504400    7.765451        -0.136873      4.045577   \n37      11.972514         7.088805   44.705782        -0.094954      9.385346   \n38      14.782492         0.675857  168.429896        -0.471601    -43.791817   \n39       6.009628        41.726308   29.435698         2.799552     -3.164311   \n40       5.824897         0.496888    7.216614        -0.099950     -4.658255   \n41       6.338255        -0.231967    6.287811         0.057601      0.721352   \n42       6.128026        -0.138829    5.777147        -0.165209      1.143737   \n\n    EEG P3_devest  coordination  \n0       78.421474      0.742638  \n1        8.085227      0.414776  \n2        8.052807      0.432389  \n3        8.875110      0.418980  \n4        6.344093      0.517779  \n5        7.118452      0.689118  \n6        8.039218      0.630907  \n7        8.294068      0.709410  \n8        8.064211      0.525505  \n9       21.519294      0.445882  \n10       9.973980      0.502098  \n11      11.675809      0.541040  \n12      10.217028      0.633068  \n13      10.836047      0.523170  \n14       9.856921      0.635153  \n15       9.491088      0.558622  \n16       8.669343      0.497677  \n17       5.477247      0.410988  \n18       6.161777      0.655866  \n19       4.461668      0.590202  \n20       4.728658      0.671313  \n21       5.158273      0.592514  \n22       6.337385      0.548865  \n23       5.486557      0.538775  \n24       8.812683      0.548027  \n25       8.200615      0.412981  \n26       6.695183      0.502653  \n27       4.813405      0.605543  \n28      50.586112      0.718184  \n29       5.001243      0.378890  \n30       4.847022      0.655297  \n31       6.402783      0.615371  \n32       4.717940      0.612617  \n33       4.589238      0.685262  \n34      40.365289      0.529952  \n35       4.636886      0.602153  \n36       6.628389      0.602093  \n37      43.709521      0.440084  \n38     162.637347      0.825272  \n39      29.265124      0.530752  \n40       5.511822      0.641133  \n41       6.246296      0.419719  \n42       5.662799      0.580046  \n\n[43 rows x 61 columns]",
      "text/html": "<div>\n<style scoped>\n    .dataframe tbody tr th:only-of-type {\n        vertical-align: middle;\n    }\n\n    .dataframe tbody tr th {\n        vertical-align: top;\n    }\n\n    .dataframe thead th {\n        text-align: right;\n    }\n</style>\n<table border=\"1\" class=\"dataframe\">\n  <thead>\n    <tr style=\"text-align: right;\">\n      <th></th>\n      <th>EEG T3_potRelDelta</th>\n      <th>EEG T3_potRelTheta</th>\n      <th>EEG T3_potRelAlpha</th>\n      <th>EEG T3_potRelBeta</th>\n      <th>EEG T3_potRelGamma</th>\n      <th>EEG T5_potRelDelta</th>\n      <th>EEG T5_potRelTheta</th>\n      <th>EEG T5_potRelAlpha</th>\n      <th>EEG T5_potRelBeta</th>\n      <th>EEG T5_potRelGamma</th>\n      <th>...</th>\n      <th>EEG C3_RMS</th>\n      <th>EEG C3_skewness</th>\n      <th>EEG C3_media</th>\n      <th>EEG C3_devest</th>\n      <th>EEG P3_kurtosis</th>\n      <th>EEG P3_RMS</th>\n      <th>EEG P3_skewness</th>\n      <th>EEG P3_media</th>\n      <th>EEG P3_devest</th>\n      <th>coordination</th>\n    </tr>\n  </thead>\n  <tbody>\n    <tr>\n      <th>0</th>\n      <td>217.644236</td>\n      <td>49.269005</td>\n      <td>89.263621</td>\n      <td>95.580341</td>\n      <td>55.646721</td>\n      <td>124.140570</td>\n      <td>58.149563</td>\n      <td>108.482934</td>\n      <td>212.933265</td>\n      <td>137.980287</td>\n      <td>...</td>\n      <td>11.677248</td>\n      <td>-0.231875</td>\n      <td>-0.502056</td>\n      <td>11.666451</td>\n      <td>4.401967</td>\n      <td>79.218336</td>\n      <td>-1.720705</td>\n      <td>-11.207909</td>\n      <td>78.421474</td>\n      <td>0.742638</td>\n    </tr>\n    <tr>\n      <th>1</th>\n      <td>178.283112</td>\n      <td>68.107614</td>\n      <td>68.265979</td>\n      <td>55.249263</td>\n      <td>21.184491</td>\n      <td>32.760069</td>\n      <td>111.496744</td>\n      <td>28.529220</td>\n      <td>60.629094</td>\n      <td>50.598366</td>\n      <td>...</td>\n      <td>8.416224</td>\n      <td>-0.156994</td>\n      <td>-0.196605</td>\n      <td>8.413928</td>\n      <td>-0.094271</td>\n      <td>10.886250</td>\n      <td>0.124006</td>\n      <td>7.289688</td>\n      <td>8.085227</td>\n      <td>0.414776</td>\n    </tr>\n    <tr>\n      <th>2</th>\n      <td>148.265309</td>\n      <td>81.879942</td>\n      <td>29.160342</td>\n      <td>32.561074</td>\n      <td>17.223644</td>\n      <td>24.356829</td>\n      <td>170.406820</td>\n      <td>28.689113</td>\n      <td>27.480016</td>\n      <td>35.805629</td>\n      <td>...</td>\n      <td>8.980941</td>\n      <td>0.048354</td>\n      <td>-0.762440</td>\n      <td>8.948519</td>\n      <td>0.274183</td>\n      <td>8.071810</td>\n      <td>0.386512</td>\n      <td>0.553549</td>\n      <td>8.052807</td>\n      <td>0.432389</td>\n    </tr>\n    <tr>\n      <th>3</th>\n      <td>131.956727</td>\n      <td>91.343940</td>\n      <td>18.468434</td>\n      <td>41.782452</td>\n      <td>16.610201</td>\n      <td>63.404226</td>\n      <td>37.728971</td>\n      <td>35.714350</td>\n      <td>72.280008</td>\n      <td>92.015080</td>\n      <td>...</td>\n      <td>8.142055</td>\n      <td>0.173270</td>\n      <td>-0.372658</td>\n      <td>8.133523</td>\n      <td>0.824657</td>\n      <td>8.899896</td>\n      <td>-0.250272</td>\n      <td>0.663754</td>\n      <td>8.875110</td>\n      <td>0.418980</td>\n    </tr>\n    <tr>\n      <th>4</th>\n      <td>171.847087</td>\n      <td>80.592865</td>\n      <td>21.834394</td>\n      <td>24.324345</td>\n      <td>9.639249</td>\n      <td>19.700832</td>\n      <td>17.899795</td>\n      <td>19.355433</td>\n      <td>53.485841</td>\n      <td>56.392681</td>\n      <td>...</td>\n      <td>8.322849</td>\n      <td>0.168588</td>\n      <td>-0.297015</td>\n      <td>8.317548</td>\n      <td>-0.508299</td>\n      <td>7.467841</td>\n      <td>0.136701</td>\n      <td>3.939685</td>\n      <td>6.344093</td>\n      <td>0.517779</td>\n    </tr>\n    <tr>\n      <th>5</th>\n      <td>49.951440</td>\n      <td>266.194512</td>\n      <td>118.488910</td>\n      <td>33.968660</td>\n      <td>10.059972</td>\n      <td>19.399979</td>\n      <td>148.065837</td>\n      <td>32.526176</td>\n      <td>45.725322</td>\n      <td>35.489166</td>\n      <td>...</td>\n      <td>10.455694</td>\n      <td>-0.372698</td>\n      <td>0.004679</td>\n      <td>10.455693</td>\n      <td>-0.086786</td>\n      <td>7.306819</td>\n      <td>0.158408</td>\n      <td>1.648406</td>\n      <td>7.118452</td>\n      <td>0.689118</td>\n    </tr>\n    <tr>\n      <th>6</th>\n      <td>60.522752</td>\n      <td>694.580842</td>\n      <td>171.390084</td>\n      <td>42.324166</td>\n      <td>8.917114</td>\n      <td>105.642761</td>\n      <td>176.668021</td>\n      <td>87.696803</td>\n      <td>60.246497</td>\n      <td>43.777468</td>\n      <td>...</td>\n      <td>13.968668</td>\n      <td>-0.294790</td>\n      <td>-1.210592</td>\n      <td>13.916111</td>\n      <td>0.120155</td>\n      <td>8.249094</td>\n      <td>-0.085026</td>\n      <td>-1.848924</td>\n      <td>8.039218</td>\n      <td>0.630907</td>\n    </tr>\n    <tr>\n      <th>7</th>\n      <td>46.869211</td>\n      <td>908.317318</td>\n      <td>155.500322</td>\n      <td>71.472523</td>\n      <td>11.021553</td>\n      <td>36.499778</td>\n      <td>173.734693</td>\n      <td>46.672212</td>\n      <td>42.406688</td>\n      <td>26.710877</td>\n      <td>...</td>\n      <td>15.193188</td>\n      <td>-0.095495</td>\n      <td>-0.903271</td>\n      <td>15.166313</td>\n      <td>-0.533101</td>\n      <td>8.779397</td>\n      <td>0.032263</td>\n      <td>-2.878586</td>\n      <td>8.294068</td>\n      <td>0.709410</td>\n    </tr>\n    <tr>\n      <th>8</th>\n      <td>76.570210</td>\n      <td>566.605445</td>\n      <td>24.871353</td>\n      <td>73.751879</td>\n      <td>16.436683</td>\n      <td>31.935764</td>\n      <td>116.049523</td>\n      <td>54.677429</td>\n      <td>71.570142</td>\n      <td>40.512719</td>\n      <td>...</td>\n      <td>13.386318</td>\n      <td>-0.305510</td>\n      <td>0.428950</td>\n      <td>13.379443</td>\n      <td>-0.135368</td>\n      <td>8.074814</td>\n      <td>0.008525</td>\n      <td>0.413674</td>\n      <td>8.064211</td>\n      <td>0.525505</td>\n    </tr>\n    <tr>\n      <th>9</th>\n      <td>80.895259</td>\n      <td>92.963097</td>\n      <td>126.074663</td>\n      <td>172.348406</td>\n      <td>22.912454</td>\n      <td>75.217608</td>\n      <td>230.474477</td>\n      <td>39.743363</td>\n      <td>197.952283</td>\n      <td>29.865994</td>\n      <td>...</td>\n      <td>15.989466</td>\n      <td>-1.146662</td>\n      <td>-2.129462</td>\n      <td>15.847032</td>\n      <td>5.242932</td>\n      <td>22.302080</td>\n      <td>-1.793662</td>\n      <td>-5.856859</td>\n      <td>21.519294</td>\n      <td>0.445882</td>\n    </tr>\n    <tr>\n      <th>10</th>\n      <td>58.127413</td>\n      <td>184.481562</td>\n      <td>138.894448</td>\n      <td>111.711624</td>\n      <td>36.401531</td>\n      <td>20.684590</td>\n      <td>124.377364</td>\n      <td>61.689335</td>\n      <td>97.618687</td>\n      <td>44.544298</td>\n      <td>...</td>\n      <td>13.075956</td>\n      <td>-0.099084</td>\n      <td>0.384188</td>\n      <td>13.070311</td>\n      <td>0.225227</td>\n      <td>10.432505</td>\n      <td>-0.204441</td>\n      <td>3.058904</td>\n      <td>9.973980</td>\n      <td>0.502098</td>\n    </tr>\n    <tr>\n      <th>11</th>\n      <td>272.762987</td>\n      <td>190.845747</td>\n      <td>104.992354</td>\n      <td>116.896092</td>\n      <td>18.444992</td>\n      <td>231.530259</td>\n      <td>337.008625</td>\n      <td>55.122902</td>\n      <td>124.893951</td>\n      <td>22.745295</td>\n      <td>...</td>\n      <td>14.605709</td>\n      <td>-0.264773</td>\n      <td>-0.387102</td>\n      <td>14.600579</td>\n      <td>5.236143</td>\n      <td>11.816105</td>\n      <td>1.372304</td>\n      <td>1.815436</td>\n      <td>11.675809</td>\n      <td>0.541040</td>\n    </tr>\n    <tr>\n      <th>12</th>\n      <td>170.215140</td>\n      <td>147.260703</td>\n      <td>37.550476</td>\n      <td>328.489103</td>\n      <td>30.948927</td>\n      <td>87.492734</td>\n      <td>79.282792</td>\n      <td>66.133440</td>\n      <td>215.832361</td>\n      <td>48.678088</td>\n      <td>...</td>\n      <td>13.504671</td>\n      <td>-0.193313</td>\n      <td>-1.198863</td>\n      <td>13.451352</td>\n      <td>-0.241103</td>\n      <td>10.293784</td>\n      <td>0.102518</td>\n      <td>-1.254723</td>\n      <td>10.217028</td>\n      <td>0.633068</td>\n    </tr>\n    <tr>\n      <th>13</th>\n      <td>88.062812</td>\n      <td>126.965723</td>\n      <td>55.758595</td>\n      <td>358.267277</td>\n      <td>22.692121</td>\n      <td>351.545611</td>\n      <td>297.754077</td>\n      <td>85.862308</td>\n      <td>143.863893</td>\n      <td>37.198640</td>\n      <td>...</td>\n      <td>12.989308</td>\n      <td>-0.338667</td>\n      <td>1.420152</td>\n      <td>12.911440</td>\n      <td>-0.297048</td>\n      <td>10.836239</td>\n      <td>0.121811</td>\n      <td>0.064516</td>\n      <td>10.836047</td>\n      <td>0.523170</td>\n    </tr>\n    <tr>\n      <th>14</th>\n      <td>179.996817</td>\n      <td>278.113893</td>\n      <td>81.967202</td>\n      <td>415.691161</td>\n      <td>22.750191</td>\n      <td>106.623438</td>\n      <td>226.234628</td>\n      <td>73.903856</td>\n      <td>133.356034</td>\n      <td>44.543595</td>\n      <td>...</td>\n      <td>13.677213</td>\n      <td>-0.268814</td>\n      <td>0.700376</td>\n      <td>13.659269</td>\n      <td>-0.255636</td>\n      <td>9.872759</td>\n      <td>0.212439</td>\n      <td>0.558988</td>\n      <td>9.856921</td>\n      <td>0.635153</td>\n    </tr>\n    <tr>\n      <th>15</th>\n      <td>104.185776</td>\n      <td>120.547317</td>\n      <td>103.407944</td>\n      <td>245.015747</td>\n      <td>10.387613</td>\n      <td>378.339571</td>\n      <td>272.778577</td>\n      <td>135.403551</td>\n      <td>100.188524</td>\n      <td>24.032828</td>\n      <td>...</td>\n      <td>14.656815</td>\n      <td>-0.727434</td>\n      <td>-1.709102</td>\n      <td>14.556827</td>\n      <td>0.034078</td>\n      <td>9.533605</td>\n      <td>-0.408516</td>\n      <td>-0.899372</td>\n      <td>9.491088</td>\n      <td>0.558622</td>\n    </tr>\n    <tr>\n      <th>16</th>\n      <td>245.126139</td>\n      <td>53.409973</td>\n      <td>29.434337</td>\n      <td>47.997457</td>\n      <td>5.302804</td>\n      <td>127.588627</td>\n      <td>56.363859</td>\n      <td>40.028383</td>\n      <td>38.824669</td>\n      <td>22.720483</td>\n      <td>...</td>\n      <td>12.282171</td>\n      <td>-1.142892</td>\n      <td>0.629339</td>\n      <td>12.266037</td>\n      <td>-0.433629</td>\n      <td>8.757599</td>\n      <td>0.115035</td>\n      <td>-1.240177</td>\n      <td>8.669343</td>\n      <td>0.497677</td>\n    </tr>\n    <tr>\n      <th>17</th>\n      <td>3.668306</td>\n      <td>5.070829</td>\n      <td>18.771781</td>\n      <td>24.272002</td>\n      <td>13.704035</td>\n      <td>5.852273</td>\n      <td>6.421011</td>\n      <td>6.786428</td>\n      <td>31.862477</td>\n      <td>13.353431</td>\n      <td>...</td>\n      <td>4.385928</td>\n      <td>-0.453372</td>\n      <td>-0.079315</td>\n      <td>4.385210</td>\n      <td>0.686573</td>\n      <td>9.021363</td>\n      <td>0.241432</td>\n      <td>7.168315</td>\n      <td>5.477247</td>\n      <td>0.410988</td>\n    </tr>\n    <tr>\n      <th>18</th>\n      <td>4.498994</td>\n      <td>3.167876</td>\n      <td>11.686098</td>\n      <td>81.317918</td>\n      <td>2.966534</td>\n      <td>4.119270</td>\n      <td>9.899151</td>\n      <td>4.474210</td>\n      <td>43.372365</td>\n      <td>3.385131</td>\n      <td>...</td>\n      <td>5.726779</td>\n      <td>-0.047473</td>\n      <td>-0.390197</td>\n      <td>5.713470</td>\n      <td>0.523037</td>\n      <td>6.539157</td>\n      <td>-0.092770</td>\n      <td>2.189309</td>\n      <td>6.161777</td>\n      <td>0.655866</td>\n    </tr>\n    <tr>\n      <th>19</th>\n      <td>9.299332</td>\n      <td>8.847158</td>\n      <td>23.169279</td>\n      <td>28.009141</td>\n      <td>2.612296</td>\n      <td>3.373758</td>\n      <td>8.774987</td>\n      <td>4.314840</td>\n      <td>13.605616</td>\n      <td>1.940268</td>\n      <td>...</td>\n      <td>4.551546</td>\n      <td>0.150427</td>\n      <td>1.119508</td>\n      <td>4.411720</td>\n      <td>0.037207</td>\n      <td>4.585824</td>\n      <td>-0.159143</td>\n      <td>-1.059859</td>\n      <td>4.461668</td>\n      <td>0.590202</td>\n    </tr>\n    <tr>\n      <th>20</th>\n      <td>9.106086</td>\n      <td>8.941083</td>\n      <td>24.238313</td>\n      <td>27.731727</td>\n      <td>2.161300</td>\n      <td>6.847384</td>\n      <td>9.642434</td>\n      <td>20.106345</td>\n      <td>17.828379</td>\n      <td>1.700438</td>\n      <td>...</td>\n      <td>5.320559</td>\n      <td>0.004587</td>\n      <td>0.818691</td>\n      <td>5.257194</td>\n      <td>-0.137940</td>\n      <td>5.965786</td>\n      <td>-0.024087</td>\n      <td>3.637361</td>\n      <td>4.728658</td>\n      <td>0.671313</td>\n    </tr>\n    <tr>\n      <th>21</th>\n      <td>9.020964</td>\n      <td>2.393709</td>\n      <td>19.075465</td>\n      <td>31.275273</td>\n      <td>3.055391</td>\n      <td>9.514172</td>\n      <td>8.689853</td>\n      <td>42.588347</td>\n      <td>28.447906</td>\n      <td>2.611061</td>\n      <td>...</td>\n      <td>4.990841</td>\n      <td>0.380731</td>\n      <td>0.167976</td>\n      <td>4.988014</td>\n      <td>0.197332</td>\n      <td>5.280669</td>\n      <td>0.091013</td>\n      <td>1.130344</td>\n      <td>5.158273</td>\n      <td>0.592514</td>\n    </tr>\n    <tr>\n      <th>22</th>\n      <td>40.697683</td>\n      <td>24.940905</td>\n      <td>47.847706</td>\n      <td>44.211417</td>\n      <td>4.634789</td>\n      <td>11.054891</td>\n      <td>7.778145</td>\n      <td>15.608063</td>\n      <td>23.710832</td>\n      <td>10.146115</td>\n      <td>...</td>\n      <td>5.876665</td>\n      <td>-0.044573</td>\n      <td>0.428357</td>\n      <td>5.861032</td>\n      <td>0.415535</td>\n      <td>6.504150</td>\n      <td>-0.497082</td>\n      <td>1.463395</td>\n      <td>6.337385</td>\n      <td>0.548865</td>\n    </tr>\n    <tr>\n      <th>23</th>\n      <td>15.681921</td>\n      <td>7.486879</td>\n      <td>25.331973</td>\n      <td>44.256713</td>\n      <td>21.861456</td>\n      <td>11.562887</td>\n      <td>5.914338</td>\n      <td>19.710317</td>\n      <td>32.181494</td>\n      <td>18.674063</td>\n      <td>...</td>\n      <td>5.538787</td>\n      <td>-0.150033</td>\n      <td>-0.687770</td>\n      <td>5.495920</td>\n      <td>-0.147533</td>\n      <td>5.499792</td>\n      <td>0.388366</td>\n      <td>-0.381314</td>\n      <td>5.486557</td>\n      <td>0.538775</td>\n    </tr>\n    <tr>\n      <th>24</th>\n      <td>10.942622</td>\n      <td>20.007708</td>\n      <td>22.394240</td>\n      <td>33.185153</td>\n      <td>10.576428</td>\n      <td>5.839359</td>\n      <td>7.042657</td>\n      <td>35.094662</td>\n      <td>44.319646</td>\n      <td>4.069355</td>\n      <td>...</td>\n      <td>6.371371</td>\n      <td>0.061580</td>\n      <td>-0.782282</td>\n      <td>6.323164</td>\n      <td>2.238676</td>\n      <td>8.813572</td>\n      <td>-1.180515</td>\n      <td>0.125164</td>\n      <td>8.812683</td>\n      <td>0.548027</td>\n    </tr>\n    <tr>\n      <th>25</th>\n      <td>34.082663</td>\n      <td>23.075854</td>\n      <td>87.850638</td>\n      <td>39.584845</td>\n      <td>22.483352</td>\n      <td>24.489631</td>\n      <td>12.573031</td>\n      <td>15.999341</td>\n      <td>33.716772</td>\n      <td>33.991512</td>\n      <td>...</td>\n      <td>5.292373</td>\n      <td>-0.267359</td>\n      <td>-1.150258</td>\n      <td>5.165861</td>\n      <td>6.032256</td>\n      <td>8.503323</td>\n      <td>1.045257</td>\n      <td>-2.248647</td>\n      <td>8.200615</td>\n      <td>0.412981</td>\n    </tr>\n    <tr>\n      <th>26</th>\n      <td>13.225254</td>\n      <td>50.374691</td>\n      <td>14.938013</td>\n      <td>69.316797</td>\n      <td>7.771441</td>\n      <td>6.529088</td>\n      <td>20.607135</td>\n      <td>26.198240</td>\n      <td>31.841466</td>\n      <td>31.170360</td>\n      <td>...</td>\n      <td>7.019296</td>\n      <td>-0.008528</td>\n      <td>-0.272264</td>\n      <td>7.014014</td>\n      <td>-0.033316</td>\n      <td>6.859669</td>\n      <td>-0.263724</td>\n      <td>1.493178</td>\n      <td>6.695183</td>\n      <td>0.502653</td>\n    </tr>\n    <tr>\n      <th>27</th>\n      <td>7.578976</td>\n      <td>5.158212</td>\n      <td>9.956531</td>\n      <td>32.420880</td>\n      <td>5.043403</td>\n      <td>4.198112</td>\n      <td>5.764030</td>\n      <td>4.291536</td>\n      <td>29.404362</td>\n      <td>2.730158</td>\n      <td>...</td>\n      <td>4.743644</td>\n      <td>0.285907</td>\n      <td>-0.146680</td>\n      <td>4.741376</td>\n      <td>0.786004</td>\n      <td>5.369349</td>\n      <td>-0.339556</td>\n      <td>2.379293</td>\n      <td>4.813405</td>\n      <td>0.605543</td>\n    </tr>\n    <tr>\n      <th>28</th>\n      <td>30.887303</td>\n      <td>19.551812</td>\n      <td>54.929070</td>\n      <td>51.435789</td>\n      <td>54.036982</td>\n      <td>23.126407</td>\n      <td>16.803576</td>\n      <td>21.409861</td>\n      <td>79.638551</td>\n      <td>66.920778</td>\n      <td>...</td>\n      <td>9.202382</td>\n      <td>0.425230</td>\n      <td>-2.388752</td>\n      <td>8.886939</td>\n      <td>8.039726</td>\n      <td>52.308375</td>\n      <td>-2.931887</td>\n      <td>-13.312074</td>\n      <td>50.586112</td>\n      <td>0.718184</td>\n    </tr>\n    <tr>\n      <th>29</th>\n      <td>8.679978</td>\n      <td>6.834179</td>\n      <td>28.470696</td>\n      <td>32.498496</td>\n      <td>20.079449</td>\n      <td>2.723430</td>\n      <td>12.609541</td>\n      <td>13.570262</td>\n      <td>24.995878</td>\n      <td>44.602310</td>\n      <td>...</td>\n      <td>4.767744</td>\n      <td>0.339439</td>\n      <td>-0.221323</td>\n      <td>4.762605</td>\n      <td>-0.203664</td>\n      <td>5.010182</td>\n      <td>0.035968</td>\n      <td>-0.299153</td>\n      <td>5.001243</td>\n      <td>0.378890</td>\n    </tr>\n    <tr>\n      <th>30</th>\n      <td>10.103198</td>\n      <td>6.412369</td>\n      <td>21.531304</td>\n      <td>41.900746</td>\n      <td>2.001334</td>\n      <td>11.911016</td>\n      <td>6.237094</td>\n      <td>7.201760</td>\n      <td>26.911875</td>\n      <td>1.152810</td>\n      <td>...</td>\n      <td>5.775866</td>\n      <td>-0.054737</td>\n      <td>-0.535437</td>\n      <td>5.750994</td>\n      <td>0.072769</td>\n      <td>5.208194</td>\n      <td>0.307214</td>\n      <td>1.905692</td>\n      <td>4.847022</td>\n      <td>0.655297</td>\n    </tr>\n    <tr>\n      <th>31</th>\n      <td>50.501436</td>\n      <td>149.345197</td>\n      <td>231.998167</td>\n      <td>50.817849</td>\n      <td>5.594000</td>\n      <td>8.628831</td>\n      <td>23.125465</td>\n      <td>56.039216</td>\n      <td>51.595460</td>\n      <td>32.348879</td>\n      <td>...</td>\n      <td>6.197902</td>\n      <td>-0.250968</td>\n      <td>-0.578750</td>\n      <td>6.170821</td>\n      <td>-0.382330</td>\n      <td>7.121043</td>\n      <td>0.051882</td>\n      <td>3.116667</td>\n      <td>6.402783</td>\n      <td>0.615371</td>\n    </tr>\n    <tr>\n      <th>32</th>\n      <td>9.345299</td>\n      <td>9.204457</td>\n      <td>26.086420</td>\n      <td>30.573609</td>\n      <td>3.635148</td>\n      <td>21.019265</td>\n      <td>16.877480</td>\n      <td>15.007714</td>\n      <td>28.027076</td>\n      <td>0.901878</td>\n      <td>...</td>\n      <td>5.559658</td>\n      <td>-0.042338</td>\n      <td>1.435336</td>\n      <td>5.371183</td>\n      <td>-0.200831</td>\n      <td>7.514279</td>\n      <td>-0.171928</td>\n      <td>5.848541</td>\n      <td>4.717940</td>\n      <td>0.612617</td>\n    </tr>\n    <tr>\n      <th>33</th>\n      <td>13.572286</td>\n      <td>10.846646</td>\n      <td>15.156365</td>\n      <td>42.699735</td>\n      <td>3.365440</td>\n      <td>3.890535</td>\n      <td>4.153354</td>\n      <td>3.395814</td>\n      <td>25.740406</td>\n      <td>2.740694</td>\n      <td>...</td>\n      <td>5.445909</td>\n      <td>-0.071909</td>\n      <td>-0.494065</td>\n      <td>5.423451</td>\n      <td>0.089418</td>\n      <td>4.691531</td>\n      <td>0.156140</td>\n      <td>0.974346</td>\n      <td>4.589238</td>\n      <td>0.685262</td>\n    </tr>\n    <tr>\n      <th>34</th>\n      <td>18.787890</td>\n      <td>5.260979</td>\n      <td>98.361981</td>\n      <td>48.713329</td>\n      <td>56.635357</td>\n      <td>43.759132</td>\n      <td>44.739811</td>\n      <td>110.644273</td>\n      <td>204.385389</td>\n      <td>328.925987</td>\n      <td>...</td>\n      <td>6.766900</td>\n      <td>0.130256</td>\n      <td>-0.314929</td>\n      <td>6.759567</td>\n      <td>8.714699</td>\n      <td>40.369222</td>\n      <td>0.005318</td>\n      <td>0.563468</td>\n      <td>40.365289</td>\n      <td>0.529952</td>\n    </tr>\n    <tr>\n      <th>35</th>\n      <td>13.290698</td>\n      <td>4.296126</td>\n      <td>36.576738</td>\n      <td>29.727368</td>\n      <td>25.584679</td>\n      <td>12.559574</td>\n      <td>4.972372</td>\n      <td>9.786487</td>\n      <td>18.460337</td>\n      <td>10.494271</td>\n      <td>...</td>\n      <td>8.047886</td>\n      <td>0.197198</td>\n      <td>0.470266</td>\n      <td>8.034135</td>\n      <td>0.037710</td>\n      <td>10.450931</td>\n      <td>0.167254</td>\n      <td>9.365963</td>\n      <td>4.636886</td>\n      <td>0.602153</td>\n    </tr>\n    <tr>\n      <th>36</th>\n      <td>5.961346</td>\n      <td>18.214023</td>\n      <td>57.676234</td>\n      <td>39.062222</td>\n      <td>2.657086</td>\n      <td>6.389202</td>\n      <td>46.663186</td>\n      <td>28.342716</td>\n      <td>34.433595</td>\n      <td>1.893428</td>\n      <td>...</td>\n      <td>6.592987</td>\n      <td>-0.094788</td>\n      <td>-0.343518</td>\n      <td>6.584032</td>\n      <td>0.504400</td>\n      <td>7.765451</td>\n      <td>-0.136873</td>\n      <td>4.045577</td>\n      <td>6.628389</td>\n      <td>0.602093</td>\n    </tr>\n    <tr>\n      <th>37</th>\n      <td>38.979318</td>\n      <td>46.512844</td>\n      <td>64.947323</td>\n      <td>61.020446</td>\n      <td>54.559212</td>\n      <td>9.661531</td>\n      <td>32.946201</td>\n      <td>95.383706</td>\n      <td>138.112945</td>\n      <td>162.738331</td>\n      <td>...</td>\n      <td>11.973378</td>\n      <td>-0.805200</td>\n      <td>-0.143895</td>\n      <td>11.972514</td>\n      <td>7.088805</td>\n      <td>44.705782</td>\n      <td>-0.094954</td>\n      <td>9.385346</td>\n      <td>43.709521</td>\n      <td>0.440084</td>\n    </tr>\n    <tr>\n      <th>38</th>\n      <td>25.574588</td>\n      <td>17.705061</td>\n      <td>57.202042</td>\n      <td>178.127230</td>\n      <td>193.928315</td>\n      <td>16.777745</td>\n      <td>29.701532</td>\n      <td>51.911562</td>\n      <td>258.408153</td>\n      <td>234.663851</td>\n      <td>...</td>\n      <td>14.903030</td>\n      <td>-0.227465</td>\n      <td>-1.891620</td>\n      <td>14.782492</td>\n      <td>0.675857</td>\n      <td>168.429896</td>\n      <td>-0.471601</td>\n      <td>-43.791817</td>\n      <td>162.637347</td>\n      <td>0.825272</td>\n    </tr>\n    <tr>\n      <th>39</th>\n      <td>11.788835</td>\n      <td>27.174054</td>\n      <td>69.531635</td>\n      <td>30.673323</td>\n      <td>16.913731</td>\n      <td>6.035722</td>\n      <td>21.325907</td>\n      <td>52.622002</td>\n      <td>73.872107</td>\n      <td>93.030068</td>\n      <td>...</td>\n      <td>6.050289</td>\n      <td>0.031263</td>\n      <td>-0.700267</td>\n      <td>6.009628</td>\n      <td>41.726308</td>\n      <td>29.435698</td>\n      <td>2.799552</td>\n      <td>-3.164311</td>\n      <td>29.265124</td>\n      <td>0.530752</td>\n    </tr>\n    <tr>\n      <th>40</th>\n      <td>3.384976</td>\n      <td>16.307560</td>\n      <td>54.403771</td>\n      <td>30.712735</td>\n      <td>4.401436</td>\n      <td>4.206224</td>\n      <td>7.879252</td>\n      <td>17.223233</td>\n      <td>15.334068</td>\n      <td>2.645550</td>\n      <td>...</td>\n      <td>5.836656</td>\n      <td>-0.067005</td>\n      <td>0.370318</td>\n      <td>5.824897</td>\n      <td>0.496888</td>\n      <td>7.216614</td>\n      <td>-0.099950</td>\n      <td>-4.658255</td>\n      <td>5.511822</td>\n      <td>0.641133</td>\n    </tr>\n    <tr>\n      <th>41</th>\n      <td>11.522324</td>\n      <td>16.935794</td>\n      <td>74.579061</td>\n      <td>46.494508</td>\n      <td>26.814371</td>\n      <td>3.747103</td>\n      <td>12.527895</td>\n      <td>26.148155</td>\n      <td>68.760586</td>\n      <td>91.242052</td>\n      <td>...</td>\n      <td>6.338395</td>\n      <td>0.081947</td>\n      <td>-0.042125</td>\n      <td>6.338255</td>\n      <td>-0.231967</td>\n      <td>6.287811</td>\n      <td>0.057601</td>\n      <td>0.721352</td>\n      <td>6.246296</td>\n      <td>0.419719</td>\n    </tr>\n    <tr>\n      <th>42</th>\n      <td>9.208809</td>\n      <td>4.182240</td>\n      <td>11.888503</td>\n      <td>40.552270</td>\n      <td>10.863526</td>\n      <td>11.779511</td>\n      <td>3.426400</td>\n      <td>6.611675</td>\n      <td>21.355354</td>\n      <td>3.643802</td>\n      <td>...</td>\n      <td>6.159313</td>\n      <td>-0.206768</td>\n      <td>-0.620029</td>\n      <td>6.128026</td>\n      <td>-0.138829</td>\n      <td>5.777147</td>\n      <td>-0.165209</td>\n      <td>1.143737</td>\n      <td>5.662799</td>\n      <td>0.580046</td>\n    </tr>\n  </tbody>\n</table>\n<p>43 rows × 61 columns</p>\n</div>"
     },
     "execution_count": 11,
     "metadata": {},
     "output_type": "execute_result"
    }
   ],
   "source": [
    "# Potencia\n",
    "fs = info[\"sfreq\"]\n",
    "df_fv = getMeFeatures(list_segs, filt_ch_nms, fs)\n",
    "df_fv"
   ],
   "metadata": {
    "collapsed": false,
    "ExecuteTime": {
     "end_time": "2024-07-15T00:25:27.497783700Z",
     "start_time": "2024-07-15T00:25:25.485005500Z"
    }
   }
  }
 ],
 "metadata": {
  "kernelspec": {
   "display_name": "Python 3",
   "language": "python",
   "name": "python3"
  },
  "language_info": {
   "codemirror_mode": {
    "name": "ipython",
    "version": 2
   },
   "file_extension": ".py",
   "mimetype": "text/x-python",
   "name": "python",
   "nbconvert_exporter": "python",
   "pygments_lexer": "ipython2",
   "version": "2.7.6"
  }
 },
 "nbformat": 4,
 "nbformat_minor": 0
}
