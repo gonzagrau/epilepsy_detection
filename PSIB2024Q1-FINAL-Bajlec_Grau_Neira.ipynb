{
 "cells": [
  {
   "cell_type": "markdown",
   "metadata": {},
   "source": [
    "<center>\n",
    "\n",
    "# Trabajo Práctico Final\n",
    "## Procesamiento de Imágenes Biomédicas\n",
    "### Primer Cuatrimestre 2024\n",
    "\n",
    "\n",
    "### _Diseño de un algoritmo automatizado para la detección de epilepsia en tiempo real mediante EEG_\n",
    "\n",
    "\n",
    "<center>\n",
    "\n",
    "![caratula](imagenes\\caratula.png)\n",
    "\n",
    "</center>\n",
    "\n",
    "\n",
    "<table>\n",
    "  <tr>\n",
    "    <th>Docentes</th>\n",
    "    <th>Alumnos</th>\n",
    "  </tr>\n",
    "  <tr>\n",
    "    <td>\n",
    "      - Roberto Sebastián Tomás<br>\n",
    "      - Aylin Agatha Vazquez Chenlo<br>\n",
    "      - Francisco Tassara<br>\n",
    "      - Victoria Reppucci\n",
    "    </td>\n",
    "    <td>\n",
    "      - Bajlec, Ivo - 62175<br>\n",
    "      - Grau, Gonzalo Andrés - 62259<br>\n",
    "      - Neira, Lucas Matias - 61570\n",
    "    </td>\n",
    "  </tr>\n",
    "</table>\n",
    "\n",
    "\n",
    "\n",
    "</center>\n",
    "\n"
   ]
  },
  {
   "cell_type": "markdown",
   "metadata": {},
   "source": [
    "## 1. Problemática"
   ]
  },
  {
   "cell_type": "markdown",
   "metadata": {},
   "source": [
    "Los ataques epilépticos se caracterizan por presentar una desicronización de los ritmos cerebrales, afectando el desarrollo normal de aquellos que padecen de la patología. Si bien los síntomas de estos ataques tienen muchas variantes, en general las personas con epilepsia sufren de convulsiones, rigidez muscular, pérdida del conocimiento y confusión temporal [1,2]. \n",
    "\n",
    "Estos ataques ocurren de manera espontánea, por lo que son difíciles de predecir con exactitud. El estudio de la epilepsia a partir de la señal de EEG es vital para poder predecir el momento de inicio de estos ataques, previniendo al paciente o profesionales de la salud, evitando futuros inconvenientes y posibles problemas de salud causados indirectamente por el ataque epiléptico."
   ]
  },
  {
   "cell_type": "markdown",
   "metadata": {},
   "source": [
    "## 2. Estado del arte"
   ]
  },
  {
   "cell_type": "markdown",
   "metadata": {},
   "source": [
    "En lo que respecta a las prácticas modernas para la detección de la epilepsia, se observa un auge en el uso de herramientas de Deep Learning, como redes neuronales convolucionales o redes neuronales recurrentes. Un proceso recurrente es crear el espectrograma del canal de Electroencefalograma, obteniendo una imagen 2D. Otros tipos de datos utilizados para el análisis incluyen EEG, MEG, ECoG, fNIRS, PET, SPECT y MRI. Usando métodos como la exactitud, sensibilidad y especificidad, se evalúan los resultados obtenidos.\n",
    "\n",
    "A su vez, hasta hace unos años, había un enfoque en el uso de herramientas de Machine Learning. En lo que respecta a la detección de ataques epilépticos, se emplean métodos tales como Support Vector Machine y k-nearest neighbors algorithm. Para el uso de estos métodos, a diferencia de los métodos de Deep Learning, se debe construir los Feature Vectors. En cuanto a las características de los mismos, es común el uso de las potencias relativas para cada banda de frecuencias de las ondas cerebrales, calculadas a través del método de Welch. En otras ocasiones, otras características pueden ser extraídas mediante la transformada de Wavelets."
   ]
  },
  {
   "cell_type": "markdown",
   "metadata": {},
   "source": [
    "## 3. Objetivo y diseño"
   ]
  },
  {
   "cell_type": "markdown",
   "metadata": {},
   "source": [
    "### Diseño"
   ]
  },
  {
   "cell_type": "markdown",
   "metadata": {},
   "source": [
    "El objetivo de este trabajo es diseñar e implementar un algoritmo para la detección de ataques epilépticos mediante el procesamiento _online_ de señales de EGG, utilizando técnicas de _Machine Learning_. \n",
    "\n",
    "Los modelos de _Machine Learning_ se entrenarán a partir de un señales de EEG que contengan al menos un episodio epiléptico. Estas señales serán segmentadas en fragmentos de dos segundos, dividiéndose en dos grupos distintos: aquellos que sean parte del período epiléptico y aquellos que no formen parte del mismo. Estos segmentos serán preacondicionados utilizando filtros digitales, eliminando ruido de deriva, ruido de línea y contribuciones de frecuencias por encima de 100 Hz. Una vez acondicionados los segmentos, se aplicarán algoritmos para la creación de _feature vectors_ junto a sus correspondientes _lables_, los cuales servirán para el entrenamiento de dos modelos de _ML_, uno lineal y otro no lineal.\n",
    "\n",
    "Una vez entrenados los modelos, se evaluará el rendimiento de los mismos y se seleccionará aquel que entregue resultados adecuados, es decir, aquel que pueda predecir adecuadamente períodos con presencia o no de epilepsia a partir de una señal de EEG. Finalmente, el modelo con mejor performance se utilizará para llevar a cabo una segmentación de señales de EEG que posean algún episodio de ataque epiléptico."
   ]
  },
  {
   "cell_type": "markdown",
   "metadata": {},
   "source": [
    "### Secuencia"
   ]
  },
  {
   "cell_type": "markdown",
   "metadata": {},
   "source": [
    "El código puede dividirse en dos desarrollos principales. El primer desarrollo consta de varias etapas descritas en la Figura 1:\n",
    "\n",
    "- Lectura de Datos\n",
    "    - Lectura de los archivos .edf\n",
    "- Extracción de canales\n",
    "    - Selección de canales de interés para el entrenamiento de los modelos _ML_\n",
    "- Segmentación\n",
    "    - Obtención de segmentos de señal pertenecientes a períodos con y sin ataque epiléptico\n",
    "- Acondicionamiento\n",
    "    - Filtrado digital de los segmentos\n",
    "- Feature Vectores\n",
    "    - Obtención de vector de características\n",
    "        - Parámetros estadísticos\n",
    "            - Desviación estándar\n",
    "            - Media\n",
    "            - Skweness\n",
    "            - RMS\n",
    "            - Kurtosis\n",
    "        - Parámetros energéticos\n",
    "            - Potencias relativas para ritmos cerebrales delta, theta, alpha, beta, gamma\n",
    "        - Parámetro novedoso\n",
    "            - Coordinación (PCA)"
   ]
  },
  {
   "cell_type": "markdown",
   "metadata": {},
   "source": [
    "<center>\n",
    "\n",
    "![info_flujo](imagenes\\info_flujo.png)\n",
    "\n",
    "_Fig 1: flujo de la información_\n",
    "\n",
    "</center>"
   ]
  },
  {
   "cell_type": "markdown",
   "metadata": {},
   "source": [
    "El segundo desarrollo del código, tal como se muestra en la Figura 2, consiste en el entrenamiento de dos modelos de _Machine Learning_ utilizando _Support Vector Machine_ lineal y no lineal, utilizando en este caso el _kernel: Radial Basis Function_. Para cada modelo entrenado, se evalúa su desempeño a través de la matriz de confusión y _f1-score_. Se selecciona el modelo con mejores resultados, y este es utilizado para llevar a cabo una segmentación de una señal de EEG con presencia de ataque epiléptico."
   ]
  },
  {
   "cell_type": "markdown",
   "metadata": {},
   "source": [
    "<center>\n",
    "\n",
    "![ml_flujo](imagenes\\ml_flujo.png)\n",
    "\n",
    "_Fig 2: flujo de procesamiento del ML_\n",
    "\n",
    "</center>"
   ]
  },
  {
   "cell_type": "markdown",
   "metadata": {},
   "source": [
    "### Base de datos"
   ]
  },
  {
   "cell_type": "markdown",
   "metadata": {},
   "source": [
    "Las señales utilizadas en el código provienen de la base de datos provista por [ref]. En particular, se trabajarán con seis archivos `.edf`:\n",
    "\n",
    "- PN01-1\n",
    "- PN05-2\n",
    "- PN05-3\n",
    "- PN05-4\n",
    "- PN09-1\n",
    "- PN09-2\n",
    "- PN09-3\n",
    "- PN12-1.2\n",
    "- PN12-4\n",
    "- PN13-1\n",
    "- PN13-2\n",
    "- PN13-3\n",
    "- PN16-1\n",
    "- PN16-2\n",
    "\n",
    "Estos archivos `.edf` contienen distintos registros de EEG para los pacientes, PN01, PN05, PN08, PN12, PN13 y PN16. Se seleccionaro estos pacientes para entrenar los modelos de Machine Learning, ya que estos pacientes comparten la característica de presentar el mismo tipo de ataque epiléptico: sus ataques epilépticos nacen en lóbulo temporal del lazo izquierdo del encéfalo.\n",
    "\n",
    "La base de datos puede ser accedida a través del siguiente link:\n",
    "\n",
    "* BASE DE DATOS: [Siena Scalp EEG Database](https://physionet.org/content/siena-scalp-eeg/1.0.0/#files-panel)"
   ]
  },
  {
   "cell_type": "markdown",
   "metadata": {},
   "source": [
    "## 4. Desarrollo"
   ]
  },
  {
   "cell_type": "markdown",
   "metadata": {},
   "source": [
    "### Librerías"
   ]
  },
  {
   "cell_type": "markdown",
   "metadata": {},
   "source": [
    "El desarrollo del código hará uso de las siguientes librerías:\n",
    "\n",
    "- numpy\n",
    "- pandas\n",
    "- matplotlib\n",
    "- seaborn\n",
    "- scipy\n",
    "- mne\n",
    "- slkearn\n",
    "- os\n",
    "- pickle\n",
    "\n",
    "Por otro lado, se utilizarán los siguientes archivos `.py`:\n",
    "\n",
    "- FVfunctions.py\n",
    "- dataset_reader.py\n",
    "- online_signal_test.py\n",
    "\n",
    "Estos últimos archivos contienen métodos desarrollados especialmente para un funcionamiento adecuado del código sin exceso de recursos computacionales, y, además, para aumentar la legibilidad del presente documento.\n"
   ]
  },
  {
   "cell_type": "code",
   "execution_count": 1,
   "metadata": {},
   "outputs": [],
   "source": [
    "# Importación de librerías\n",
    "\n",
    "import os\n",
    "import pickle\n",
    "import warnings\n",
    "import numpy as np\n",
    "import pandas as pd\n",
    "import seaborn as sns\n",
    "import matplotlib.pyplot as plt\n",
    "from scipy import signal\n",
    "from typing import List, Dict, Tuple\n",
    "from datetime import  datetime, timedelta\n",
    "from mne import io\n",
    "from scipy import signal\n",
    "\n",
    "# propias\n",
    "from FVfunctions import getMeData, getMeFeatures, pot4signals, BANDAS\n",
    "from features_stats import stats_features\n",
    "from dataset_reader import get_seizure_events, get_seizure_array\n",
    "from online_signal_test import online_signal_test\n",
    "\n",
    "# sklearn\n",
    "from sklearn.model_selection import train_test_split\n",
    "from sklearn.metrics import accuracy_score, f1_score, confusion_matrix\n",
    "from sklearn.svm import LinearSVC, SVC\n",
    "from sklearn.decomposition import PCA\n",
    "from sklearn import model_selection as ms\n",
    "# autoreload\n",
    "%load_ext autoreload\n",
    "%autoreload 2"
   ]
  },
  {
   "cell_type": "markdown",
   "metadata": {},
   "source": [
    "### Técnicas de acondicionmiento de señales biomédicas"
   ]
  },
  {
   "cell_type": "markdown",
   "metadata": {},
   "source": [
    "Para acondicionar las señales, se les aplicó un filtro pasabandas FIR seguido un rechazabandas IIR. El primer filtrado consiste en una eliminación de ruido de deriva y aporte de frecuencias mayores a 100 Hz. El segundo filtrado consiste en la eliminación del ruido de línea de 50Hz."
   ]
  },
  {
   "cell_type": "code",
   "execution_count": 2,
   "metadata": {},
   "outputs": [],
   "source": [
    "def FIRfilterBP(arr_signals: np.ndarray,\n",
    "                freq:List[int] | None = None,\n",
    "                order: int=(2 ** 8) + 1,\n",
    "                fs: int=512) -> np.ndarray:\n",
    "    \"\"\"\n",
    "    Aplica un filtro pasabandas FIR vectorialmente a un array de señales\n",
    "    :param arr_signals: matriz NxL, donde cada fila es una señal, cada columna una muestra temporal\n",
    "    :param freq: lista de frecuencias de corte\n",
    "    :param order: orden del filtro\n",
    "    :param fs: frecuencia de muestreo\n",
    "    :return: matrix NxL con las señales filtradas\n",
    "    \"\"\"\n",
    "    if freq is None:\n",
    "        freq = [1, 100]\n",
    "\n",
    "    b_bp = signal.firwin(numtaps=order, cutoff=freq, window=\"blackman\", pass_zero=\"bandpass\", fs=fs)\n",
    "    arr_filtered_signals = signal.filtfilt(b_bp, 1, arr_signals, axis=1)\n",
    "\n",
    "    return arr_filtered_signals\n",
    "\n",
    "\n",
    "def IIRfilterBS(arr_signals: np.ndarray,\n",
    "                freq: List[int] | None=None,\n",
    "                order: int=2,\n",
    "                fs: int=512) -> np.ndarray:\n",
    "    \"\"\"\n",
    "    Aplica un filtro pasabandas FIR vectorialmente a un array de señales\n",
    "    (Ver docstring de FIRfilterBS() para mas informacion)\n",
    "    \"\"\"\n",
    "    if freq is None:\n",
    "        freq = [49.5, 50.5]\n",
    "\n",
    "    b_bs, a_bs = signal.iirfilter(N=order, Wn=freq, btype=\"bandstop\", ftype='butter', fs=fs, output='ba')\n",
    "    arr_filtered_signals = signal.filtfilt(b_bs, a_bs, arr_signals, axis=1)\n",
    "\n",
    "    return arr_filtered_signals"
   ]
  },
  {
   "cell_type": "markdown",
   "metadata": {},
   "source": [
    "### Generación de segmentos"
   ]
  },
  {
   "cell_type": "markdown",
   "metadata": {},
   "source": [
    "Para entrenar y probar el modelo, se utilizaron segmentos de 2 segundos de señal. Para la confección del _training set_, se seleccionaron en partes equitativas segmentos clasificados como \"True\" (dentro de un ataque epiléptico) y \"False\" (sin ataque epiléptico). De este modo, se generó un _dataset_ balanceado. Por otra parte, la separación entre _training_ y _validation set_ fue aleatoria, así como la selección inicial de los segmentos.\n",
    "\n",
    "La función _getMeData()_ del archivo _FVfunctions.py_ permite la generación de segmentos de longitud constante en un conjunto de canales de EEG pre-especificados, con una proporción a elección del usuario entre segmentos True y False. A continuación, se incluye su documentación:"
   ]
  },
  {
   "cell_type": "code",
   "execution_count": 3,
   "metadata": {},
   "outputs": [],
   "source": [
    "def getMeData_(channels: np.ndarray,\n",
    "              mtx_t_reg: np.ndarray,\n",
    "              arr_mtx_t_epi: np.ndarray,\n",
    "              winlen: int=2,\n",
    "              fs: int=512,\n",
    "              proportion: float=0.4) -> Tuple[List[np.ndarray], np.ndarray]:\n",
    "    \"\"\"\n",
    "    Segmenta la señal en intervalos de longitud winlen [s] clasificados como 1 o 0 (epilepsio o no epilepsia)\n",
    "    :param channels: señales leidas de un conjunto de canales de EEG\n",
    "    :param mtx_t_reg: array 2x3 con inicio y final de lectura en [hh, mm, ss]\n",
    "    :param arr_mtx_t_epi: array Nx(2x3) con N inicios y finales de ataques epilépticos en [hh, mm, ss]\n",
    "    :param winlen: longitud de los segmentos a extraer\n",
    "    :param fs: frecuencia de muestreo\n",
    "    :param proportion: proporcions de segmentos 'False' (la de 'True' sería 1.0 - proportion)\n",
    "    :return: tupla con arr_seg (lista de matrices con segmentos en cada fila) y labels (etiqueta de cada segmentos)\n",
    "    NOTE: True = epilepsia en el segmento\n",
    "    \"\"\"\n",
    "    ..."
   ]
  },
  {
   "cell_type": "markdown",
   "metadata": {},
   "source": [
    "### Extracción de características"
   ]
  },
  {
   "cell_type": "markdown",
   "metadata": {},
   "source": [
    "Dado un conjunto de canales, se extrajeron las siguientes características para cada uno:\n",
    "\n",
    "*Características frecuenciales*\n",
    "- Potencias relativas de los ritmos cerebales en las bandas delta, theta, alpha, beta, y gamma\n",
    "\n",
    "*Características estadísticas*\n",
    "-  kurtosis\n",
    "- RMS\n",
    "- _skewness_\n",
    "- media\n",
    "- desviación estándar\n",
    "\n",
    "Luego, se calculó una nueva característica definida como \"coordinación\", la cual es una medida indirecta de la correlación general entre todos los canales. Para ello, se aplicó un análisis de componentes principales (PCA), y se definió la coordinación como la varianza explicada relativa del PC1. A mayor coordinación general entre los canales, mayor será su correlación, y por lo tanto la varianza explicada por el primer componente principal será más alta. Esta _feature_ fue propuesta por el doctorando en neurociencia computacional Biong. Dante Kienigiel. \n",
    "\n",
    "A continuación, presentamos algunas demos de las funciones utilizadas. El código fuente completo para estas funciones se encuentra en los archivos `FVfunctions.py` y `feature_stats.py` . Nótese, al leer la fuente, que todas las funciones se implementaron en forma vectorizada para aplicarse a un conjunto de segmentos de varios canales, para mayor eficiencia."
   ]
  },
  {
   "cell_type": "code",
   "execution_count": 4,
   "metadata": {},
   "outputs": [],
   "source": [
    "def coordination(channels: List[np.ndarray]) -> np.ndarray:\n",
    "    \"\"\"\n",
    "    Dada una lista de mediciones en distintos canales en paralelo, devuelve una medida\n",
    "    de la correlación entre canales dada por un análisis de componentes principales\n",
    "    :param channels: lista de segmentos de lecturas de multiples canales\n",
    "    :return: para cada conjunto de segmentos, la medida de correlación cruzada\n",
    "    \"\"\"\n",
    "    N_seg = channels[0].shape[0]\n",
    "    N_channels = len(channels)\n",
    "    cord_lst = []\n",
    "    for i in range(N_seg):\n",
    "        segments = np.array([channel[i, :] for channel in channels]).T\n",
    "        pca = PCA(n_components=N_channels)\n",
    "        pca.fit(segments)\n",
    "        cord = pca.explained_variance_ratio_[0]\n",
    "        cord_lst.append(cord)\n",
    "\n",
    "    return np.array(cord_lst, ndmin=2).T"
   ]
  },
  {
   "cell_type": "markdown",
   "metadata": {},
   "source": [
    "La siguiente función toma una lista de segmentos de múltiples canales en paralelo."
   ]
  },
  {
   "cell_type": "code",
   "execution_count": 5,
   "metadata": {},
   "outputs": [],
   "source": [
    "def getMeFeatures_(list_seg: List[np.ndarray], ch_names: List[str], fs: int=512) -> pd.DataFrame:\n",
    "    \"\"\"\n",
    "    A partir de los segmentos generados por getMeData, extraemos todas las features\n",
    "    :param list_seg:\n",
    "    :param ch_names: nombre de los canales involucrados\n",
    "    :param fs: frecuencia de muestreo\n",
    "    :return: un dataframe donde cada columna es una feature y cada fila es un feature vector\n",
    "    \"\"\"\n",
    "    ..."
   ]
  },
  {
   "cell_type": "markdown",
   "metadata": {},
   "source": [
    "### Modelo de clasificación"
   ]
  },
  {
   "cell_type": "markdown",
   "metadata": {},
   "source": [
    "Para la clasificación de los _feature vectors_ (FV), se utilizaron dos versiones del método _support vector machine_ (SVM): uno lineal, generando un hiperplano que separe los FV sin aplicarles transformaciones posteriores, y otro no-lineal, en el cual se aplicó el kernel gaussiano _radial basis function_ (RBF) para generar un _embedding_ en un número más alto de dimensiones. Para ajustar los hiperparámetros de cada uno, se aplicó un análisis de _cross validation_ entrenando múltiples modelos del mismo tipo con distintos valores y seleccionando distintas particiones entre _training_ y _validation set_. De esta manera, se logró optimizar el ajuste."
   ]
  },
  {
   "cell_type": "markdown",
   "metadata": {},
   "source": [
    "### Lectura de segmentos y características desde los archivos"
   ]
  },
  {
   "cell_type": "markdown",
   "metadata": {},
   "source": [
    "Primero, recorremos los directorios de cada paciente dentro del dataset, y extraemos la información de inicio y final de cada ataque epiléptico (_seizure_) presente en cada archivo"
   ]
  },
  {
   "cell_type": "code",
   "execution_count": 6,
   "metadata": {},
   "outputs": [],
   "source": [
    "DATASET_DIR = r\"../eeg_dataset/physionet.org/files/siena-scalp-eeg/1.0.0/\"\n",
    "edf_names = []\n",
    "seizure_events = []\n",
    "\n",
    "for directory in os.listdir(DATASET_DIR):\n",
    "    for filename in os.listdir(os.path.join(DATASET_DIR, directory)):\n",
    "        if '.edf' in filename:\n",
    "            edf_names.append(f\"{DATASET_DIR}/{directory}/{filename}\")\n",
    "        elif '.txt' in filename:\n",
    "            new_seizures = get_seizure_events(f\"{DATASET_DIR}/{directory}/{filename}\")\n",
    "            seizure_events.extend(new_seizures)"
   ]
  },
  {
   "cell_type": "markdown",
   "metadata": {},
   "source": [
    "Luego, extraemos las características. Para el siguiente ejemplo, se utilizaron los canales 'EEG T3' y 'EEG T5':"
   ]
  },
  {
   "cell_type": "code",
   "execution_count": 7,
   "metadata": {},
   "outputs": [],
   "source": [
    "channels = ['EEG T3', 'EEG T5'] #, 'EEG F7', 'EEG F3', 'EEG C3', 'EEG P3']\n",
    "feature_vectors = []\n",
    "labels = []\n",
    "fs = None\n",
    "\n",
    "with warnings.catch_warnings():\n",
    "    warnings.simplefilter(\"ignore\")\n",
    "    for edf in edf_names:\n",
    "        # Paso 1: duracion de señal y seizures\n",
    "        name = edf.split('/')[-1]\n",
    "\n",
    "        this_seizure_events = [seiz for seiz in seizure_events if seiz[\"file_name\"]==name]\n",
    "        if len(this_seizure_events) == 0:\n",
    "            print('nada en', name)\n",
    "            continue\n",
    "            \n",
    "        ex_seiz = this_seizure_events[0]\n",
    "        mtx_t_reg = np.array([ex_seiz['registration_start_time'], ex_seiz['registration_end_time']])\n",
    "        arr_mtx_t_epi = get_seizure_array(this_seizure_events)\n",
    "    \n",
    "        # Paso 2: extraemos la señal\n",
    "        raw = io.read_raw_edf(edf, verbose=False)\n",
    "        if fs is None:\n",
    "            fs = raw.info['sfreq']\n",
    "        raw_filt = raw.pick(channels)\n",
    "        data_namefilt = raw_filt.get_data() * 1e6\n",
    "    \n",
    "        # Paso 3: sacamos segmentos y features\n",
    "        new_seg_list, new_label = getMeData(data_namefilt,\n",
    "                                            mtx_t_reg,\n",
    "                                            arr_mtx_t_epi,\n",
    "                                            winlen=2,\n",
    "                                            proportion=0.5)\n",
    "        new_features = getMeFeatures(new_seg_list, channels, fs)\n",
    "        feature_vectors.append(new_features)\n",
    "        labels.append(new_label)\n",
    "\n",
    "labels_arr = np.concatenate(labels)\n",
    "df_fv = pd.concat(feature_vectors)"
   ]
  },
  {
   "cell_type": "code",
   "execution_count": 8,
   "metadata": {},
   "outputs": [
    {
     "data": {
      "text/html": [
       "<div>\n",
       "<style scoped>\n",
       "    .dataframe tbody tr th:only-of-type {\n",
       "        vertical-align: middle;\n",
       "    }\n",
       "\n",
       "    .dataframe tbody tr th {\n",
       "        vertical-align: top;\n",
       "    }\n",
       "\n",
       "    .dataframe thead th {\n",
       "        text-align: right;\n",
       "    }\n",
       "</style>\n",
       "<table border=\"1\" class=\"dataframe\">\n",
       "  <thead>\n",
       "    <tr style=\"text-align: right;\">\n",
       "      <th></th>\n",
       "      <th>EEG T3_potRelDelta</th>\n",
       "      <th>EEG T3_potRelTheta</th>\n",
       "      <th>EEG T3_potRelAlpha</th>\n",
       "      <th>EEG T3_potRelBeta</th>\n",
       "      <th>EEG T3_potRelGamma</th>\n",
       "      <th>EEG T5_potRelDelta</th>\n",
       "      <th>EEG T5_potRelTheta</th>\n",
       "      <th>EEG T5_potRelAlpha</th>\n",
       "      <th>EEG T5_potRelBeta</th>\n",
       "      <th>EEG T5_potRelGamma</th>\n",
       "      <th>...</th>\n",
       "      <th>EEG T3_RMS</th>\n",
       "      <th>EEG T3_skewness</th>\n",
       "      <th>EEG T3_media</th>\n",
       "      <th>EEG T3_devest</th>\n",
       "      <th>EEG T5_kurtosis</th>\n",
       "      <th>EEG T5_RMS</th>\n",
       "      <th>EEG T5_skewness</th>\n",
       "      <th>EEG T5_media</th>\n",
       "      <th>EEG T5_devest</th>\n",
       "      <th>coordination</th>\n",
       "    </tr>\n",
       "  </thead>\n",
       "  <tbody>\n",
       "    <tr>\n",
       "      <th>0</th>\n",
       "      <td>23.276616</td>\n",
       "      <td>6.210865</td>\n",
       "      <td>2.932189</td>\n",
       "      <td>4.657379</td>\n",
       "      <td>3.814780</td>\n",
       "      <td>14.690092</td>\n",
       "      <td>8.835453</td>\n",
       "      <td>4.791117</td>\n",
       "      <td>3.270784</td>\n",
       "      <td>3.155852</td>\n",
       "      <td>...</td>\n",
       "      <td>13.951921</td>\n",
       "      <td>-1.471574</td>\n",
       "      <td>-7.274275</td>\n",
       "      <td>11.905504</td>\n",
       "      <td>2.419868</td>\n",
       "      <td>10.206497</td>\n",
       "      <td>-1.032251</td>\n",
       "      <td>-4.405921</td>\n",
       "      <td>9.206543</td>\n",
       "      <td>0.972647</td>\n",
       "    </tr>\n",
       "    <tr>\n",
       "      <th>1</th>\n",
       "      <td>96.276003</td>\n",
       "      <td>53.237399</td>\n",
       "      <td>26.920170</td>\n",
       "      <td>67.273853</td>\n",
       "      <td>56.390318</td>\n",
       "      <td>59.332436</td>\n",
       "      <td>46.356260</td>\n",
       "      <td>10.306406</td>\n",
       "      <td>15.775658</td>\n",
       "      <td>20.837558</td>\n",
       "      <td>...</td>\n",
       "      <td>20.263972</td>\n",
       "      <td>-0.341136</td>\n",
       "      <td>-4.721904</td>\n",
       "      <td>19.706146</td>\n",
       "      <td>-0.140808</td>\n",
       "      <td>14.895647</td>\n",
       "      <td>-0.425440</td>\n",
       "      <td>-2.999120</td>\n",
       "      <td>14.590599</td>\n",
       "      <td>0.941827</td>\n",
       "    </tr>\n",
       "    <tr>\n",
       "      <th>2</th>\n",
       "      <td>5.738934</td>\n",
       "      <td>1075.093137</td>\n",
       "      <td>35.279142</td>\n",
       "      <td>6.684161</td>\n",
       "      <td>2.121499</td>\n",
       "      <td>18.025648</td>\n",
       "      <td>671.347737</td>\n",
       "      <td>28.813754</td>\n",
       "      <td>5.698928</td>\n",
       "      <td>1.130382</td>\n",
       "      <td>...</td>\n",
       "      <td>33.084309</td>\n",
       "      <td>-0.234021</td>\n",
       "      <td>-2.184331</td>\n",
       "      <td>33.012122</td>\n",
       "      <td>-0.483897</td>\n",
       "      <td>25.834867</td>\n",
       "      <td>-0.218838</td>\n",
       "      <td>-1.712191</td>\n",
       "      <td>25.778067</td>\n",
       "      <td>0.985169</td>\n",
       "    </tr>\n",
       "    <tr>\n",
       "      <th>3</th>\n",
       "      <td>16.459254</td>\n",
       "      <td>1850.442438</td>\n",
       "      <td>61.053070</td>\n",
       "      <td>63.599086</td>\n",
       "      <td>23.720996</td>\n",
       "      <td>15.575237</td>\n",
       "      <td>866.139183</td>\n",
       "      <td>24.611739</td>\n",
       "      <td>23.624517</td>\n",
       "      <td>11.553897</td>\n",
       "      <td>...</td>\n",
       "      <td>46.699844</td>\n",
       "      <td>-0.317577</td>\n",
       "      <td>-2.866577</td>\n",
       "      <td>46.611781</td>\n",
       "      <td>-1.015436</td>\n",
       "      <td>31.805673</td>\n",
       "      <td>-0.275012</td>\n",
       "      <td>0.833132</td>\n",
       "      <td>31.794759</td>\n",
       "      <td>0.980684</td>\n",
       "    </tr>\n",
       "    <tr>\n",
       "      <th>4</th>\n",
       "      <td>116.701742</td>\n",
       "      <td>3604.659597</td>\n",
       "      <td>216.126979</td>\n",
       "      <td>14.708899</td>\n",
       "      <td>14.168162</td>\n",
       "      <td>57.806747</td>\n",
       "      <td>1645.884688</td>\n",
       "      <td>80.978006</td>\n",
       "      <td>10.162567</td>\n",
       "      <td>6.078664</td>\n",
       "      <td>...</td>\n",
       "      <td>63.985770</td>\n",
       "      <td>-0.323435</td>\n",
       "      <td>-1.132473</td>\n",
       "      <td>63.975747</td>\n",
       "      <td>-1.149240</td>\n",
       "      <td>42.760578</td>\n",
       "      <td>-0.324450</td>\n",
       "      <td>-1.490291</td>\n",
       "      <td>42.734601</td>\n",
       "      <td>0.989380</td>\n",
       "    </tr>\n",
       "    <tr>\n",
       "      <th>...</th>\n",
       "      <td>...</td>\n",
       "      <td>...</td>\n",
       "      <td>...</td>\n",
       "      <td>...</td>\n",
       "      <td>...</td>\n",
       "      <td>...</td>\n",
       "      <td>...</td>\n",
       "      <td>...</td>\n",
       "      <td>...</td>\n",
       "      <td>...</td>\n",
       "      <td>...</td>\n",
       "      <td>...</td>\n",
       "      <td>...</td>\n",
       "      <td>...</td>\n",
       "      <td>...</td>\n",
       "      <td>...</td>\n",
       "      <td>...</td>\n",
       "      <td>...</td>\n",
       "      <td>...</td>\n",
       "      <td>...</td>\n",
       "      <td>...</td>\n",
       "    </tr>\n",
       "    <tr>\n",
       "      <th>102</th>\n",
       "      <td>82.005359</td>\n",
       "      <td>29.962095</td>\n",
       "      <td>38.984181</td>\n",
       "      <td>70.645579</td>\n",
       "      <td>39.811469</td>\n",
       "      <td>9531.560239</td>\n",
       "      <td>5879.528062</td>\n",
       "      <td>1505.164128</td>\n",
       "      <td>446.135419</td>\n",
       "      <td>199.274843</td>\n",
       "      <td>...</td>\n",
       "      <td>19.407462</td>\n",
       "      <td>0.729429</td>\n",
       "      <td>2.072585</td>\n",
       "      <td>19.296475</td>\n",
       "      <td>7.745047</td>\n",
       "      <td>258.828323</td>\n",
       "      <td>1.329978</td>\n",
       "      <td>15.090195</td>\n",
       "      <td>258.388055</td>\n",
       "      <td>0.994456</td>\n",
       "    </tr>\n",
       "    <tr>\n",
       "      <th>103</th>\n",
       "      <td>4.103584</td>\n",
       "      <td>2.003907</td>\n",
       "      <td>5.109507</td>\n",
       "      <td>4.761803</td>\n",
       "      <td>3.116259</td>\n",
       "      <td>5.105298</td>\n",
       "      <td>1.791585</td>\n",
       "      <td>50.676209</td>\n",
       "      <td>13.658426</td>\n",
       "      <td>2.311794</td>\n",
       "      <td>...</td>\n",
       "      <td>5.101364</td>\n",
       "      <td>0.119392</td>\n",
       "      <td>-1.016627</td>\n",
       "      <td>4.999038</td>\n",
       "      <td>-0.051383</td>\n",
       "      <td>7.447590</td>\n",
       "      <td>-0.440364</td>\n",
       "      <td>0.531236</td>\n",
       "      <td>7.428619</td>\n",
       "      <td>0.850587</td>\n",
       "    </tr>\n",
       "    <tr>\n",
       "      <th>104</th>\n",
       "      <td>9.721196</td>\n",
       "      <td>4.642581</td>\n",
       "      <td>6.462074</td>\n",
       "      <td>5.229138</td>\n",
       "      <td>4.637994</td>\n",
       "      <td>8.702417</td>\n",
       "      <td>8.416676</td>\n",
       "      <td>32.659291</td>\n",
       "      <td>7.533205</td>\n",
       "      <td>1.573409</td>\n",
       "      <td>...</td>\n",
       "      <td>6.422274</td>\n",
       "      <td>-0.065871</td>\n",
       "      <td>-1.072879</td>\n",
       "      <td>6.332024</td>\n",
       "      <td>-0.294346</td>\n",
       "      <td>8.784229</td>\n",
       "      <td>0.285833</td>\n",
       "      <td>-2.941495</td>\n",
       "      <td>8.277094</td>\n",
       "      <td>0.827967</td>\n",
       "    </tr>\n",
       "    <tr>\n",
       "      <th>105</th>\n",
       "      <td>4.448584</td>\n",
       "      <td>1.775972</td>\n",
       "      <td>0.501696</td>\n",
       "      <td>4.254042</td>\n",
       "      <td>0.868809</td>\n",
       "      <td>8.452941</td>\n",
       "      <td>4.190520</td>\n",
       "      <td>2.931404</td>\n",
       "      <td>6.037199</td>\n",
       "      <td>2.194363</td>\n",
       "      <td>...</td>\n",
       "      <td>4.350444</td>\n",
       "      <td>-0.356199</td>\n",
       "      <td>0.845317</td>\n",
       "      <td>4.267529</td>\n",
       "      <td>1.803938</td>\n",
       "      <td>5.260996</td>\n",
       "      <td>0.272183</td>\n",
       "      <td>-0.119132</td>\n",
       "      <td>5.259647</td>\n",
       "      <td>0.726641</td>\n",
       "    </tr>\n",
       "    <tr>\n",
       "      <th>106</th>\n",
       "      <td>117.007407</td>\n",
       "      <td>42.327670</td>\n",
       "      <td>6.913674</td>\n",
       "      <td>4.842021</td>\n",
       "      <td>2.794142</td>\n",
       "      <td>228.069619</td>\n",
       "      <td>57.269099</td>\n",
       "      <td>9.626291</td>\n",
       "      <td>7.304443</td>\n",
       "      <td>0.647445</td>\n",
       "      <td>...</td>\n",
       "      <td>22.217324</td>\n",
       "      <td>-1.245367</td>\n",
       "      <td>-6.668602</td>\n",
       "      <td>21.192906</td>\n",
       "      <td>0.017991</td>\n",
       "      <td>29.305371</td>\n",
       "      <td>-0.847213</td>\n",
       "      <td>9.478134</td>\n",
       "      <td>27.730304</td>\n",
       "      <td>0.867852</td>\n",
       "    </tr>\n",
       "  </tbody>\n",
       "</table>\n",
       "<p>1225 rows × 21 columns</p>\n",
       "</div>"
      ],
      "text/plain": [
       "     EEG T3_potRelDelta  EEG T3_potRelTheta  EEG T3_potRelAlpha  \\\n",
       "0             23.276616            6.210865            2.932189   \n",
       "1             96.276003           53.237399           26.920170   \n",
       "2              5.738934         1075.093137           35.279142   \n",
       "3             16.459254         1850.442438           61.053070   \n",
       "4            116.701742         3604.659597          216.126979   \n",
       "..                  ...                 ...                 ...   \n",
       "102           82.005359           29.962095           38.984181   \n",
       "103            4.103584            2.003907            5.109507   \n",
       "104            9.721196            4.642581            6.462074   \n",
       "105            4.448584            1.775972            0.501696   \n",
       "106          117.007407           42.327670            6.913674   \n",
       "\n",
       "     EEG T3_potRelBeta  EEG T3_potRelGamma  EEG T5_potRelDelta  \\\n",
       "0             4.657379            3.814780           14.690092   \n",
       "1            67.273853           56.390318           59.332436   \n",
       "2             6.684161            2.121499           18.025648   \n",
       "3            63.599086           23.720996           15.575237   \n",
       "4            14.708899           14.168162           57.806747   \n",
       "..                 ...                 ...                 ...   \n",
       "102          70.645579           39.811469         9531.560239   \n",
       "103           4.761803            3.116259            5.105298   \n",
       "104           5.229138            4.637994            8.702417   \n",
       "105           4.254042            0.868809            8.452941   \n",
       "106           4.842021            2.794142          228.069619   \n",
       "\n",
       "     EEG T5_potRelTheta  EEG T5_potRelAlpha  EEG T5_potRelBeta  \\\n",
       "0              8.835453            4.791117           3.270784   \n",
       "1             46.356260           10.306406          15.775658   \n",
       "2            671.347737           28.813754           5.698928   \n",
       "3            866.139183           24.611739          23.624517   \n",
       "4           1645.884688           80.978006          10.162567   \n",
       "..                  ...                 ...                ...   \n",
       "102         5879.528062         1505.164128         446.135419   \n",
       "103            1.791585           50.676209          13.658426   \n",
       "104            8.416676           32.659291           7.533205   \n",
       "105            4.190520            2.931404           6.037199   \n",
       "106           57.269099            9.626291           7.304443   \n",
       "\n",
       "     EEG T5_potRelGamma  ...  EEG T3_RMS  EEG T3_skewness  EEG T3_media  \\\n",
       "0              3.155852  ...   13.951921        -1.471574     -7.274275   \n",
       "1             20.837558  ...   20.263972        -0.341136     -4.721904   \n",
       "2              1.130382  ...   33.084309        -0.234021     -2.184331   \n",
       "3             11.553897  ...   46.699844        -0.317577     -2.866577   \n",
       "4              6.078664  ...   63.985770        -0.323435     -1.132473   \n",
       "..                  ...  ...         ...              ...           ...   \n",
       "102          199.274843  ...   19.407462         0.729429      2.072585   \n",
       "103            2.311794  ...    5.101364         0.119392     -1.016627   \n",
       "104            1.573409  ...    6.422274        -0.065871     -1.072879   \n",
       "105            2.194363  ...    4.350444        -0.356199      0.845317   \n",
       "106            0.647445  ...   22.217324        -1.245367     -6.668602   \n",
       "\n",
       "     EEG T3_devest  EEG T5_kurtosis  EEG T5_RMS  EEG T5_skewness  \\\n",
       "0        11.905504         2.419868   10.206497        -1.032251   \n",
       "1        19.706146        -0.140808   14.895647        -0.425440   \n",
       "2        33.012122        -0.483897   25.834867        -0.218838   \n",
       "3        46.611781        -1.015436   31.805673        -0.275012   \n",
       "4        63.975747        -1.149240   42.760578        -0.324450   \n",
       "..             ...              ...         ...              ...   \n",
       "102      19.296475         7.745047  258.828323         1.329978   \n",
       "103       4.999038        -0.051383    7.447590        -0.440364   \n",
       "104       6.332024        -0.294346    8.784229         0.285833   \n",
       "105       4.267529         1.803938    5.260996         0.272183   \n",
       "106      21.192906         0.017991   29.305371        -0.847213   \n",
       "\n",
       "     EEG T5_media  EEG T5_devest  coordination  \n",
       "0       -4.405921       9.206543      0.972647  \n",
       "1       -2.999120      14.590599      0.941827  \n",
       "2       -1.712191      25.778067      0.985169  \n",
       "3        0.833132      31.794759      0.980684  \n",
       "4       -1.490291      42.734601      0.989380  \n",
       "..            ...            ...           ...  \n",
       "102     15.090195     258.388055      0.994456  \n",
       "103      0.531236       7.428619      0.850587  \n",
       "104     -2.941495       8.277094      0.827967  \n",
       "105     -0.119132       5.259647      0.726641  \n",
       "106      9.478134      27.730304      0.867852  \n",
       "\n",
       "[1225 rows x 21 columns]"
      ]
     },
     "execution_count": 8,
     "metadata": {},
     "output_type": "execute_result"
    }
   ],
   "source": [
    "df_fv"
   ]
  },
  {
   "cell_type": "code",
   "execution_count": 9,
   "metadata": {},
   "outputs": [],
   "source": [
    "train_x, test_x, train_y, test_y = train_test_split(df_fv, labels_arr, test_size=0.2, random_state=0)"
   ]
  },
  {
   "cell_type": "markdown",
   "metadata": {},
   "source": [
    "A continuación, leemos un modelo pre-entrenado por cross validation (para más información, ver el código fuente)"
   ]
  },
  {
   "cell_type": "code",
   "execution_count": 10,
   "metadata": {},
   "outputs": [],
   "source": [
    "with open(r'pretrained_models/2-ch-gonza.pkl', 'rb') as file:\n",
    "    modelo_leido_lineal = pickle.load(file)"
   ]
  },
  {
   "cell_type": "code",
   "execution_count": 11,
   "metadata": {},
   "outputs": [
    {
     "name": "stdout",
     "output_type": "stream",
     "text": [
      "Accuracy=0.8693877551020408\n",
      "F1_score=0.8571428571428571\n"
     ]
    },
    {
     "data": {
      "image/png": "[encoded data removed]",
      "text/plain": [
       "<Figure size 640x480 with 2 Axes>"
      ]
     },
     "metadata": {},
     "output_type": "display_data"
    }
   ],
   "source": [
    "clasificaciones = [\"No epilepsia\",\"Epilepsia\"]\n",
    "predictions = modelo_leido_lineal.predict(test_x)\n",
    "Accuracy = accuracy_score(test_y, predictions)\n",
    "F1_score = f1_score(test_y, predictions)\n",
    "\n",
    "print(f\"{Accuracy=}\" + '\\n' + f\"{F1_score=}\" )\n",
    "\n",
    "cm = confusion_matrix(test_y, predictions)\n",
    "cm_df = pd.DataFrame(data=cm,index=clasificaciones,columns=clasificaciones)\n",
    "ax = sns.heatmap(cm_df, cmap='Blues', annot=True)\n",
    "ax.set_title('CM del modelo lineal')\n",
    "ax.set_xlabel(\"Predicted label\")\n",
    "ax.set_ylabel(\"True label\");"
   ]
  },
  {
   "cell_type": "markdown",
   "metadata": {},
   "source": [
    "Luego, leemos el modelo kernelizado con RBF"
   ]
  },
  {
   "cell_type": "code",
   "execution_count": 12,
   "metadata": {},
   "outputs": [],
   "source": [
    "with open(r'pretrained_models/2-ch-gonza-rbf.pkl', 'rb') as file:\n",
    "    modelo_leido_rbf = pickle.load(file)"
   ]
  },
  {
   "cell_type": "code",
   "execution_count": 13,
   "metadata": {},
   "outputs": [
    {
     "name": "stdout",
     "output_type": "stream",
     "text": [
      "Accuracy_RBF=0.5306122448979592\n",
      "F1_score_RBF=0.08\n"
     ]
    },
    {
     "data": {
      "image/png": "[encoded data removed]",
      "text/plain": [
       "<Figure size 640x480 with 2 Axes>"
      ]
     },
     "metadata": {},
     "output_type": "display_data"
    }
   ],
   "source": [
    "predictions_RBF = modelo_leido_rbf.predict(test_x)\n",
    "Accuracy_RBF = accuracy_score(test_y, predictions_RBF)\n",
    "F1_score_RBF = f1_score(test_y, predictions_RBF)\n",
    "\n",
    "print(f\"{Accuracy_RBF=}\" + '\\n' + f\"{F1_score_RBF=}\" )\n",
    "\n",
    "cm_RBF = confusion_matrix(test_y, predictions_RBF)\n",
    "cm_df = pd.DataFrame(data=cm_RBF,index=clasificaciones,columns=clasificaciones)\n",
    "ax = sns.heatmap(cm_df, cmap='Blues', annot=True)\n",
    "ax.set_title('CM del modelo RBF')\n",
    "ax.set_xlabel(\"Predicted label\")\n",
    "ax.set_ylabel(\"True label\");"
   ]
  },
  {
   "cell_type": "markdown",
   "metadata": {},
   "source": [
    "Este modelo resulta ineficiente a la hora de clasificar, con un alto número de falsos positivos y muy pocos verdaderos positivos"
   ]
  },
  {
   "cell_type": "markdown",
   "metadata": {},
   "source": [
    "### Prueba del modelo con señales _online_"
   ]
  },
  {
   "cell_type": "markdown",
   "metadata": {},
   "source": [
    "En la siguiente celda, clasificaremos segmentos sucesivos de las señales extraidas de los registros originales, emulando lo que se obtendría al aplicar el modelo a señales leídas en tiempo real. Se colorean de verde los segmentos clasificados como sin epilepsia, y en rojo aquellos en los que se detectó un ataque. Se encierra entre lineas verticales punteadas los verdaderos ataques, rotulados por los autores. Esto es posible mediante la función _online\\_signal\\_test_, del archivo _online\\_signal\\_test.py_"
   ]
  },
  {
   "cell_type": "code",
   "execution_count": 14,
   "metadata": {},
   "outputs": [],
   "source": [
    "with open(r'pretrained_models/2-ch-gonza.pkl', 'rb') as file:\n",
    "    modelo_leido = pickle.load(file)"
   ]
  },
  {
   "cell_type": "code",
   "execution_count": 15,
   "metadata": {},
   "outputs": [],
   "source": [
    "plt.style.use('ggplot')"
   ]
  },
  {
   "cell_type": "code",
   "execution_count": 17,
   "metadata": {},
   "outputs": [
    {
     "name": "stdout",
     "output_type": "stream",
     "text": [
      "\n",
      "\n",
      "\n",
      "Segmentando las señales de PN16-2.edf...\n",
      "Extrayendo las features de PN16-2.edf...\n",
      "Prediciendo en PN16-2.edf...\n",
      "Ploteando en PN16-2.edf...\n"
     ]
    },
    {
     "data": {
      "image/png": "[encoded data removed]",
      "text/plain": [
       "<Figure size 700x500 with 1 Axes>"
      ]
     },
     "metadata": {},
     "output_type": "display_data"
    }
   ],
   "source": [
    "channels = ['EEG T3', 'EEG T5'] #, 'EEG F7', 'EEG F3', 'EEG C3', 'EEG P3']\n",
    "indexes = []\n",
    "labels = []\n",
    "fs = None\n",
    "edf_files = ['PN16/PN16-2.edf', 'PN16/PN16-1.edf', 'PN13/PN13-3.edf', 'PN12/PN12-1.2.edf', 'PN01/PN01-1.edf']\n",
    "\n",
    "\n",
    "with warnings.catch_warnings():\n",
    "    warnings.simplefilter(\"ignore\")\n",
    "    for edf in edf_files:\n",
    "        # Paso 1: duracion de señal y seizures\n",
    "        name = edf.split('/')[-1]\n",
    "        this_seizure_events = [seiz for seiz in seizure_events if seiz[\"file_name\"]==name]\n",
    "        \n",
    "        if len(this_seizure_events) == 0:\n",
    "            print('nada en', name)\n",
    "            continue\n",
    "\n",
    "        # Paso 2: extraemos la señal\n",
    "        raw = io.read_raw_edf(rf\"{DATASET_DIR}/{edf}\", verbose=False)\n",
    "        print('\\n\\n')\n",
    "        if fs is None:\n",
    "            fs = raw.info['sfreq']\n",
    "        raw_filt = raw.pick(channels)\n",
    "        data_namefilt = raw_filt.get_data() * 1e6\n",
    "\n",
    "        # Ploteamos la clasificación aplicada \"en tiempo real\"\n",
    "        for seiz in this_seizure_events:\n",
    "            arr_seg_true, arr_seg_false = online_signal_test(modelo_leido, data_namefilt, channels, seiz, name, fs)\n",
    "\n",
    "        break"
   ]
  },
  {
   "cell_type": "code",
   "execution_count": 21,
   "metadata": {},
   "outputs": [],
   "source": [
    "from animate import animate_signal_reading"
   ]
  },
  {
   "cell_type": "code",
   "execution_count": 25,
   "metadata": {},
   "outputs": [
    {
     "name": "stderr",
     "output_type": "stream",
     "text": [
      "MovieWriter imagemagick unavailable; using Pillow instead.\n"
     ]
    },
    {
     "data": {
      "image/png": "[encoded data removed]",
      "text/plain": [
       "<Figure size 700x500 with 1 Axes>"
      ]
     },
     "metadata": {},
     "output_type": "display_data"
    }
   ],
   "source": [
    "animate_signal_reading(arr_seg_true, arr_seg_false)"
   ]
  },
  {
   "cell_type": "markdown",
   "metadata": {},
   "source": [
    "## 5. Conclusión\n"
   ]
  },
  {
   "cell_type": "markdown",
   "metadata": {},
   "source": [
    "En conclusión, el _pipeline_ de procesamiento planteado, junto con el algoritmo entrenado, permite detectar la ocurrencia de _seizures_ en segmentos breves de señales de EEG. Esto incluye la potencialidad para su uso _online_ en tiempo real, para el monitoreo de pacientes epilépticos. Esto se logró mediante preacondicionamiento por filtrado, análisis frecuencial, análisis estadístico, y estudio de la coordinación mediante PCA. "
   ]
  },
  {
   "cell_type": "markdown",
   "metadata": {},
   "source": [
    "## 6. Bibliografía"
   ]
  },
  {
   "cell_type": "markdown",
   "metadata": {},
   "source": [
    "1. Epilepsia - Síntomas y causas - Mayo Clinic. (2023, December 30). https://www.mayoclinic.org/es/diseases-conditions/epilepsy/symptoms-causes/syc-20350093\n",
    "\n",
    "2. Epilepsia: MedlinePlus enciclopedia médica. (n.d.). https://medlineplus.gov/spanish/ency/article/000694.htm#:~:text=El%20tratamiento%20para%20la%20epilepsia,trastornos%20puede%20detener%20dichas%20crisis.\n",
    "\n",
    "3. Sörnmo, L., & Laguna, P. (2005). Bioelectrical Signal Processing in Cardiac and Neurological Applications. Academic Press. http://books.google.ie/books?id=RQv7tFFXYyIC&printsec=frontcover&dq=978-0-12-437552-9&hl=&cd=2&source=gbs_api\n",
    "\n",
    "4. Detti, P., Vatti, G., & De Lara, G. Z. M. (2020a, July 16). EEG Synchronization Analysis for Seizure Prediction: A Study on Data of Noninvasive Recordings. Processes. https://doi.org/10.3390/pr8070846\n",
    "\n",
    "5. Shoeibi A, Khodatars M, Ghassemi N, Jafari M, Moridian P, Alizadehsani R, Panahiazar M, Khozeimeh F, Zare A, Hosseini-Nejad H, Khosravi A, Atiya AF, Aminshahidi D, Hussain S, Rouhani M, Nahavandi S, Acharya UR. Epileptic Seizures Detection Using Deep Learning Techniques: A Review. Int J Environ Res Public Health. 2021 May 27;18(11):5780. doi: 10.3390/ijerph18115780. PMID: 34072232; PMCID: PMC8199071."
   ]
  }
 ],
 "metadata": {
  "kernelspec": {
   "display_name": "psivenv",
   "language": "python",
   "name": "python3"
  },
  "language_info": {
   "codemirror_mode": {
    "name": "ipython",
    "version": 3
   },
   "file_extension": ".py",
   "mimetype": "text/x-python",
   "name": "python",
   "nbconvert_exporter": "python",
   "pygments_lexer": "ipython3",
   "version": "3.12.3"
  }
 },
 "nbformat": 4,
 "nbformat_minor": 2
}
