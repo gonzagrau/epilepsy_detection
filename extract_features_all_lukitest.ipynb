{
 "cells": [
  {
   "cell_type": "markdown",
   "id": "f69890d74a42094b",
   "metadata": {
    "collapsed": false
   },
   "source": [
    "# Extraemos todas las features de todos los pacientes"
   ]
  },
  {
   "cell_type": "code",
   "execution_count": null,
   "id": "initial_id",
   "metadata": {
    "ExecuteTime": {
     "end_time": "2024-07-15T22:59:44.055253900Z",
     "start_time": "2024-07-15T22:59:43.509628500Z"
    },
    "collapsed": true
   },
   "outputs": [],
   "source": [
    "# Importación de librerías\n",
    "# generales\n",
    "import os\n",
    "import pickle\n",
    "import warnings\n",
    "import numpy as np\n",
    "import pandas as pd\n",
    "import matplotlib.pyplot as plt\n",
    "import seaborn as sns\n",
    "from mne import io\n",
    "# propias\n",
    "from FVfunctions import getMeData, getMeFeatures\n",
    "from dataset_reader import get_seizure_events, get_seizure_array\n",
    "from online_signal_test import online_signal_test\n",
    "# sklearn\n",
    "from sklearn.model_selection import train_test_split\n",
    "from sklearn.metrics import accuracy_score, f1_score, confusion_matrix\n",
    "from sklearn.svm import LinearSVC, SVC\n",
    "from sklearn import model_selection as ms"
   ]
  },
  {
   "cell_type": "code",
   "execution_count": null,
   "id": "a148340c",
   "metadata": {
    "ExecuteTime": {
     "end_time": "2024-07-15T22:29:13.441730500Z",
     "start_time": "2024-07-15T22:29:13.076412500Z"
    },
    "collapsed": false
   },
   "outputs": [],
   "source": [
    "%load_ext autoreload\n",
    "%autoreload 2"
   ]
  },
  {
   "cell_type": "code",
   "execution_count": null,
   "id": "e475d4bf065eab1a",
   "metadata": {
    "ExecuteTime": {
     "end_time": "2024-07-15T22:30:13.778273400Z",
     "start_time": "2024-07-15T22:30:11.567511Z"
    },
    "collapsed": false
   },
   "outputs": [],
   "source": [
    "DATASET_DIR = r\"../eeg_dataset/physionet.org/files/siena-scalp-eeg/1.0.0/\"\n",
    "edf_names = []\n",
    "seizure_events = []\n",
    "\n",
    "for directory in os.listdir(DATASET_DIR):\n",
    "    print('='*50)\n",
    "    print(f\"{directory: ^50}\")\n",
    "    print('='*50)\n",
    "    \n",
    "    for filename in os.listdir(os.path.join(DATASET_DIR, directory)):\n",
    "        if '.edf' in filename:\n",
    "            edf_names.append(f\"{DATASET_DIR}/{directory}/{filename}\")\n",
    "        elif '.txt' in filename:\n",
    "            new_seizures = get_seizure_events(f\"{DATASET_DIR}/{directory}/{filename}\")\n",
    "            seizure_events.extend(new_seizures)\n",
    "            for event in new_seizures:\n",
    "                print('\\n'.join([f\"{key}: {val}\" for key, val in event.items()]))\n",
    "                print()\n",
    "\n",
    "print(edf_names)"
   ]
  },
  {
   "cell_type": "code",
   "execution_count": null,
   "id": "17455898b128e512",
   "metadata": {
    "ExecuteTime": {
     "end_time": "2024-07-15T22:32:44.437840400Z",
     "start_time": "2024-07-15T22:32:02.907667900Z"
    },
    "collapsed": false
   },
   "outputs": [],
   "source": [
    "channels = ['EEG T3', 'EEG T5'] #, 'EEG F7', 'EEG F3', 'EEG C3', 'EEG P3']\n",
    "feature_vectors = []\n",
    "labels = []\n",
    "fs = None\n",
    "\n",
    "with warnings.catch_warnings():\n",
    "    warnings.simplefilter(\"ignore\")\n",
    "    for edf in edf_names:\n",
    "        # Paso 1: duracion de señal y seizures\n",
    "        name = edf.split('/')[-1]\n",
    "\n",
    "        print('='*50)\n",
    "        print(f\"{name: ^50}\")\n",
    "        print('='*50)\n",
    "\n",
    "        this_seizure_events = [seiz for seiz in seizure_events if seiz[\"file_name\"]==name]\n",
    "        if len(this_seizure_events) == 0:\n",
    "            print('nada en', name)\n",
    "            continue\n",
    "            \n",
    "        ex_seiz = this_seizure_events[0]\n",
    "        mtx_t_reg = np.array([ex_seiz['registration_start_time'], ex_seiz['registration_end_time']])\n",
    "        arr_mtx_t_epi = get_seizure_array(this_seizure_events)\n",
    "    \n",
    "        # Paso 2: extraemos la señal\n",
    "        raw = io.read_raw_edf(edf)\n",
    "        print('\\n\\n')\n",
    "        if fs is None:\n",
    "            fs = raw.info['sfreq']\n",
    "        raw_filt = raw.pick(channels)\n",
    "        data_namefilt = raw_filt.get_data() * 1e6\n",
    "    \n",
    "        # Paso 3: sacamos segmentos y features\n",
    "        new_seg_list, new_label = getMeData(data_namefilt,\n",
    "                                            mtx_t_reg,\n",
    "                                            arr_mtx_t_epi,\n",
    "                                            winlen=2,\n",
    "                                            proportion=0.5)\n",
    "        new_features = getMeFeatures(new_seg_list, channels, fs)\n",
    "        feature_vectors.append(new_features)\n",
    "        labels.append(new_label)\n",
    "\n",
    "labels_arr = np.concatenate(labels)\n",
    "df_fv = pd.concat(feature_vectors)\n",
    "df_fv"
   ]
  },
  {
   "cell_type": "markdown",
   "id": "f6c8d6b1",
   "metadata": {},
   "source": [
    "# MACHINE LEARNING"
   ]
  },
  {
   "cell_type": "code",
   "execution_count": null,
   "id": "1134371bf0e1b071",
   "metadata": {
    "ExecuteTime": {
     "end_time": "2024-07-15T22:37:41.379478900Z",
     "start_time": "2024-07-15T22:37:41.152379800Z"
    },
    "collapsed": false
   },
   "outputs": [],
   "source": [
    "train_x, test_x, train_y, test_y = train_test_split(df_fv, labels_arr, test_size=0.2, random_state=0)"
   ]
  },
  {
   "cell_type": "code",
   "execution_count": null,
   "id": "45c84100",
   "metadata": {
    "ExecuteTime": {
     "end_time": "2024-07-15T22:53:52.648660100Z",
     "start_time": "2024-07-15T22:52:13.048641Z"
    }
   },
   "outputs": [],
   "source": [
    "C = np.arange(1e-15,1,0.005) # Range of hyperparameter values 1E-15 to 1 by 0.005\n",
    "val_scores = np.zeros((len(C),1)) # Initialize validation score for each alpha value\n",
    "\n",
    "\n",
    "with warnings.catch_warnings():\n",
    "    warnings.simplefilter(\"ignore\")\n",
    "    for i in range(len(C)): # for each C value\n",
    "        # Set up SVM with hinge loss and l2 norm regularization\n",
    "        model = LinearSVC(dual=True,C=C[i])\n",
    "        # Calculate cross validation scores for 5-fold cross-validation\n",
    "        score = ms.cross_val_score(model, df_fv, labels_arr, cv=5)\n",
    "        val_scores[i] = score.mean() # Calculate mean of the 5 scores\n",
    "\n",
    "# Determine the alpha that maximizes the cross-validation score\n",
    "ind = np.argmax(val_scores)\n",
    "C_star = C[ind]\n",
    "print('alpha_star =', C_star)\n",
    "\n",
    "# Plot accuracy\n",
    "plt.plot(C,val_scores)\n",
    "plt.plot(np.ones(11)*C_star,np.arange(0,1.1,0.1),'--r')\n",
    "plt.xlabel('C')\n",
    "plt.ylabel('Mean Cross-Validation Accuracy')\n",
    "plt.grid(True)\n",
    "plt.show()"
   ]
  },
  {
   "cell_type": "code",
   "execution_count": null,
   "id": "8d5181be5f7a700c",
   "metadata": {
    "ExecuteTime": {
     "end_time": "2024-07-15T23:01:29.754493700Z",
     "start_time": "2024-07-15T23:01:29.069673200Z"
    },
    "collapsed": false
   },
   "outputs": [],
   "source": [
    "# testeamos en un modelo lineal\n",
    "linear_model = LinearSVC(dual=True,max_iter=2000,C=C_star)\n",
    "linear_model.fit(train_x, train_y)\n",
    "predictions = linear_model.predict(test_x)"
   ]
  },
  {
   "cell_type": "code",
   "execution_count": null,
   "id": "383102ff",
   "metadata": {
    "ExecuteTime": {
     "end_time": "2024-07-15T23:04:22.694642800Z",
     "start_time": "2024-07-15T23:04:21.840210500Z"
    },
    "collapsed": false
   },
   "outputs": [],
   "source": [
    "Accuracy = accuracy_score(test_y, predictions)\n",
    "F1_score = f1_score(test_y, predictions)\n",
    "print(f\"{Accuracy=:.3f}\" + '\\n' + f\"{F1_score=:.3f}\")"
   ]
  },
  {
   "cell_type": "code",
   "execution_count": null,
   "id": "1f934353",
   "metadata": {
    "ExecuteTime": {
     "end_time": "2024-07-15T23:04:25.550682500Z",
     "start_time": "2024-07-15T23:04:23.252378300Z"
    },
    "collapsed": false
   },
   "outputs": [],
   "source": [
    "cm = confusion_matrix(test_y, predictions)\n",
    "clasificaciones = [\"No epilepsia\",\"Epilepsia\"]\n",
    "cm_df = pd.DataFrame(data=cm,index=clasificaciones,columns=clasificaciones)\n",
    "ax = sns.heatmap(cm_df, cmap='Blues', annot=True)\n",
    "ax.set_xlabel(\"Predicted label\")\n",
    "ax.set_ylabel(\"True label\");"
   ]
  },
  {
   "cell_type": "code",
   "execution_count": null,
   "id": "fe4d19b662082a7c",
   "metadata": {
    "ExecuteTime": {
     "end_time": "2024-07-15T23:05:42.489996500Z",
     "start_time": "2024-07-15T23:05:40.873906300Z"
    },
    "collapsed": false
   },
   "outputs": [],
   "source": [
    "# kernel\n",
    "rbf_model = SVC(kernel='rbf')\n",
    "rbf_model.fit(train_x, train_y)\n",
    "rbf_pred = rbf_model.predict(test_x)\n",
    "print(f\"{accuracy_score(test_y, rbf_pred)=}\")\n",
    "print(f\"{f1_score(test_y, rbf_pred)=}\")\n",
    "cm_rbf = confusion_matrix(test_y, rbf_pred)\n",
    "sns.heatmap(cm_rbf, annot=True, cmap='Blues')"
   ]
  },
  {
   "cell_type": "code",
   "execution_count": null,
   "id": "9aba697c",
   "metadata": {
    "ExecuteTime": {
     "end_time": "2024-07-15T00:51:03.526407300Z",
     "start_time": "2024-07-15T00:51:03.504515700Z"
    }
   },
   "outputs": [],
   "source": [
    "# with open('pretrained_models/2-ch-gonza.pkl', 'wb') as file:\n",
    "#     pickle.dump(linear_model, file)"
   ]
  },
  {
   "cell_type": "code",
   "execution_count": null,
   "id": "09f7df5b",
   "metadata": {
    "ExecuteTime": {
     "end_time": "2024-07-15T23:06:18.128466100Z",
     "start_time": "2024-07-15T23:06:17.047749400Z"
    }
   },
   "outputs": [],
   "source": [
    "with open(r'pretrained_models/2-ch-gonza.pkl', 'rb') as file:\n",
    "    modelo_leido = pickle.load(file)\n",
    "\n",
    "clasificaciones = [\"No epilepsia\",\"Epilepsia\"]\n",
    "predictions = modelo_leido.predict(test_x)\n",
    "print(accuracy_score(test_y, predictions))\n",
    "\n",
    "cm = confusion_matrix(test_y, predictions)\n",
    "cm_df = pd.DataFrame(data=cm,index=clasificaciones,columns=clasificaciones)\n",
    "ax = sns.heatmap(cm_df, cmap='Blues', annot=True)\n",
    "ax.set_xlabel(\"Predicted label\")\n",
    "ax.set_ylabel(\"True label\")"
   ]
  },
  {
   "cell_type": "markdown",
   "id": "2424dc26",
   "metadata": {},
   "source": [
    "# LUKITESTING"
   ]
  },
  {
   "cell_type": "code",
   "execution_count": null,
   "id": "ee7f9cee",
   "metadata": {},
   "outputs": [],
   "source": [
    "modelos = []\n",
    "scores = []\n",
    "\n",
    "iteraciones = 100\n",
    "\n",
    "with warnings.catch_warnings():\n",
    "    warnings.simplefilter(\"ignore\")\n",
    "    for i in range(iteraciones):\n",
    "        linear_model = LinearSVC(dual=True,max_iter=2000)\n",
    "        linear_model.fit(train_x, train_y)\n",
    "        predictions = linear_model.predict(test_x)\n",
    "        score = accuracy_score(test_y, predictions)\n",
    "        \n",
    "        modelos.append(linear_model)\n",
    "        scores.append(score)\n",
    "        \n",
    "arr_n = np.arange(len(scores))"
   ]
  },
  {
   "cell_type": "code",
   "execution_count": null,
   "id": "993a933a",
   "metadata": {},
   "outputs": [],
   "source": [
    "ind = np.argmax(scores)\n",
    "n = arr_n[ind]\n",
    "\n",
    "plt.figure(figsize=(7,5))\n",
    "plt.plot(arr_n,scores)\n",
    "plt.axvline(x=n,linestyle=\"--\",color=\"red\")\n",
    "plt.show()\n",
    "\n"
   ]
  },
  {
   "cell_type": "code",
   "execution_count": null,
   "id": "4e208118",
   "metadata": {},
   "outputs": [],
   "source": [
    "ind = np.argmax(scores)\n",
    "modelo_star = modelos[ind]\n",
    "\n",
    "predictions = modelo_star.predict(test_x)\n",
    "print(accuracy_score(test_y, predictions))\n",
    "cm = confusion_matrix(test_y, predictions)\n",
    "\n",
    "clasificaciones = [\"No epilepsia\",\"Epilepsia\"]\n",
    "cm_df = pd.DataFrame(data=cm,index=clasificaciones,columns=clasificaciones)\n",
    "\n",
    "ax = sns.heatmap(cm_df, cmap='Blues', annot=True)\n",
    "ax.set_xlabel(\"Predicted label\")\n",
    "ax.set_ylabel(\"True label\")"
   ]
  },
  {
   "cell_type": "markdown",
   "id": "940ae095",
   "metadata": {},
   "source": [
    "# LUKITESTING - PT.2 - ML para segmentar EEGs"
   ]
  },
  {
   "cell_type": "code",
   "execution_count": null,
   "id": "545ed1d6",
   "metadata": {
    "ExecuteTime": {
     "end_time": "2024-07-15T23:07:23.421758900Z",
     "start_time": "2024-07-15T23:07:22.598400700Z"
    }
   },
   "outputs": [],
   "source": [
    "with open(r'pretrained_models/2-ch-gonza.pkl', 'rb') as file:\n",
    "    modelo_leido = pickle.load(file)"
   ]
  },
  {
   "cell_type": "code",
   "execution_count": null,
   "id": "b7c17477",
   "metadata": {
    "ExecuteTime": {
     "end_time": "2024-07-15T23:11:43.548749700Z",
     "start_time": "2024-07-15T23:11:43.263224600Z"
    },
    "collapsed": false
   },
   "outputs": [],
   "source": [
    "plt.style.use('ggplot')"
   ]
  },
  {
   "cell_type": "code",
   "execution_count": null,
   "id": "d2ff63e9",
   "metadata": {
    "ExecuteTime": {
     "end_time": "2024-07-15T23:15:23.734929700Z",
     "start_time": "2024-07-15T23:14:05.177160200Z"
    }
   },
   "outputs": [],
   "source": [
    "channels = ['EEG T3', 'EEG T5'] #, 'EEG F7', 'EEG F3', 'EEG C3', 'EEG P3']\n",
    "indexes = []\n",
    "labels = []\n",
    "fs = None\n",
    "\n",
    "with warnings.catch_warnings():\n",
    "    warnings.simplefilter(\"ignore\")\n",
    "    for edf in edf_names:\n",
    "        # Paso 1: duracion de señal y seizures\n",
    "        name = edf.split('/')[-1]\n",
    "        this_seizure_events = [seiz for seiz in seizure_events if seiz[\"file_name\"]==name]\n",
    "        \n",
    "        if len(this_seizure_events) == 0:\n",
    "            print('nada en', name)\n",
    "            continue\n",
    "\n",
    "        # Paso 2: extraemos la señal\n",
    "        raw = io.read_raw_edf(edf)\n",
    "        print('\\n\\n')\n",
    "        if fs is None:\n",
    "            fs = raw.info['sfreq']\n",
    "        raw_filt = raw.pick(channels)\n",
    "        data_namefilt = raw_filt.get_data() * 1e6\n",
    "\n",
    "        # Ploteamos la clasificación aplicada \"en tiempo real\"\n",
    "        for seiz in this_seizure_events:\n",
    "            online_signal_test(modelo_leido, data_namefilt, channels, seiz, name, fs)\n"
   ]
  }
 ],
 "metadata": {
  "kernelspec": {
   "display_name": "Python 3",
   "language": "python",
   "name": "python3"
  },
  "language_info": {
   "codemirror_mode": {
    "name": "ipython",
    "version": 3
   },
   "file_extension": ".py",
   "mimetype": "text/x-python",
   "name": "python",
   "nbconvert_exporter": "python",
   "pygments_lexer": "ipython3",
   "version": "3.12.3"
  }
 },
 "nbformat": 4,
 "nbformat_minor": 5
}
