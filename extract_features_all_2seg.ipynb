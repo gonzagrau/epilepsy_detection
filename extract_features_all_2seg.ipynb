{
 "cells": [
  {
   "cell_type": "markdown",
   "id": "f69890d74a42094b",
   "metadata": {
    "collapsed": false
   },
   "source": [
    "# Extraemos todas las features del paciente 5   "
   ]
  },
  {
   "cell_type": "code",
   "execution_count": 1,
   "id": "initial_id",
   "metadata": {
    "ExecuteTime": {
     "end_time": "2024-07-11T01:57:03.143967Z",
     "start_time": "2024-07-11T01:57:03.028526Z"
    },
    "collapsed": true
   },
   "outputs": [],
   "source": [
    "#Importación de librerías\n",
    "import os\n",
    "import warnings\n",
    "import numpy as np\n",
    "import pandas as pd\n",
    "import matplotlib.pyplot as plt\n",
    "from mne import io\n",
    "from FVfunctions import getMeData, pot4signals, BANDAS\n",
    "from features_stats import stats_features\n",
    "from dataset_reader import get_seizure_events, get_seizure_array\n",
    "import pickle"
   ]
  },
  {
   "cell_type": "code",
   "execution_count": 2,
   "id": "e475d4bf065eab1a",
   "metadata": {
    "ExecuteTime": {
     "end_time": "2024-07-11T02:02:41.520461Z",
     "start_time": "2024-07-11T02:02:41.500744Z"
    },
    "collapsed": false
   },
   "outputs": [
    {
     "name": "stdout",
     "output_type": "stream",
     "text": [
      "==================================================\n",
      "                       PN01                       \n",
      "==================================================\n",
      "seizure_number: 1\n",
      "file_name: PN01-1.edf\n",
      "registration_start_time: 19.00.44\n",
      "registration_end_time: 08.29.41\n",
      "seizure_start_time: 21.51.02\n",
      "seizure_end_time: 21.51.56\n",
      "\n",
      "seizure_number: 2\n",
      "file_name: PN01-1.edf\n",
      "registration_start_time: 19.00.44\n",
      "registration_end_time: 08.29.41\n",
      "seizure_start_time: 07.53.17\n",
      "seizure_end_time: 07.54.31\n",
      "\n",
      "==================================================\n",
      "                       PN05                       \n",
      "==================================================\n",
      "seizure_number: 2\n",
      "file_name: PN05-2.edf\n",
      "registration_start_time: 06.46.02\n",
      "registration_end_time: 09.19.47\n",
      "seizure_start_time: 08.45.25\n",
      "seizure_end_time: 08.46.00\n",
      "\n",
      "seizure_number: 3\n",
      "file_name: PN05-3.edf\n",
      "registration_start_time: 06.01.23\n",
      "registration_end_time: 08.06.57\n",
      "seizure_start_time: 07.55.19\n",
      "seizure_end_time: 07.55.49\n",
      "\n",
      "seizure_number: 4\n",
      "file_name: PN05-4.edf\n",
      "registration_start_time: 06.38.35\n",
      "registration_end_time: 08.00.23\n",
      "seizure_start_time: 07.38.43\n",
      "seizure_end_time: 07.39.22\n",
      "\n",
      "==================================================\n",
      "                       PN09                       \n",
      "==================================================\n",
      "seizure_number: 1\n",
      "file_name: PN09-1.edf\n",
      "registration_start_time: 14.08.54\n",
      "registration_end_time: 16.26.07\n",
      "seizure_start_time: 16.09.43\n",
      "seizure_end_time: 16.11.03\n",
      "\n",
      "seizure_number: 2\n",
      "file_name: PN09-2.edf\n",
      "registration_start_time: 15.02.09\n",
      "registration_end_time: 17.21.02\n",
      "seizure_start_time: 17.00.56\n",
      "seizure_end_time: 17.01.55\n",
      "\n",
      "seizure_number: 3\n",
      "file_name: PN09-3.edf\n",
      "registration_start_time: 14.20.23\n",
      "registration_end_time: 16.34.28\n",
      "seizure_start_time: 16.20.44\n",
      "seizure_end_time: 16.21.48\n",
      "\n",
      "==================================================\n",
      "                       PN12                       \n",
      "==================================================\n",
      "seizure_number: 1\n",
      "file_name: PN12-1.2.edf\n",
      "registration_start_time: 15.51.31\n",
      "registration_end_time: 18.34.25\n",
      "seizure_start_time: 16.13.23\n",
      "seizure_end_time: 16.14.26\n",
      "\n",
      "seizure_number: 3\n",
      "file_name: PN12-3.edf\n",
      "registration_start_time: 08.42.35\n",
      "registration_end_time: 09.15.44\n",
      "seizure_start_time: 08.55.27\n",
      "seizure_end_time: 08.57.03\n",
      "\n",
      "seizure_number: 4\n",
      "file_name: PN12-4.edf\n",
      "registration_start_time: 15.59.19\n",
      "registration_end_time: 18.49.13\n",
      "seizure_start_time: 18.42.51\n",
      "seizure_end_time: 18.43.54\n",
      "\n",
      "==================================================\n",
      "                       PN13                       \n",
      "==================================================\n",
      "seizure_number: 1\n",
      "file_name: PN13-1.edf\n",
      "registration_start_time: 08.24.28\n",
      "registration_end_time: 11.00.23\n",
      "seizure_start_time: 10.22.10\n",
      "seizure_end_time: 10.22.58\n",
      "\n",
      "seizure_number: 2\n",
      "file_name: PN13-2.edf\n",
      "registration_start_time: 06.55.02\n",
      "registration_end_time: 09.30.14\n",
      "seizure_start_time: 08.55.51\n",
      "seizure_end_time: 08.56.56\n",
      "\n",
      "seizure_number: 3\n",
      "file_name: PN13-3.edf\n",
      "registration_start_time: 12.00.01\n",
      "registration_end_time: 15.28.48\n",
      "seizure_start_time: 14.05.54\n",
      "seizure_end_time: 14.08.25\n",
      "\n",
      "==================================================\n",
      "                       PN16                       \n",
      "==================================================\n",
      "seizure_number: 1\n",
      "file_name: PN16-1.edf\n",
      "registration_start_time: 20.45.21\n",
      "registration_end_time: 23.03.11\n",
      "seizure_start_time: 22.45.05\n",
      "seizure_end_time: 22.47.08\n",
      "\n",
      "seizure_number: 2\n",
      "file_name: PN16-2.edf\n",
      "registration_start_time: 00.53.55\n",
      "registration_end_time: 03.28.52\n",
      "seizure_start_time: 03.16.49\n",
      "seizure_end_time: 03.18.36\n",
      "\n",
      "['../eeg_dataset/physionet.org/files/siena-scalp-eeg/1.0.0//PN01/PN01-1.edf', '../eeg_dataset/physionet.org/files/siena-scalp-eeg/1.0.0//PN05/PN05-2.edf', '../eeg_dataset/physionet.org/files/siena-scalp-eeg/1.0.0//PN05/PN05-3.edf', '../eeg_dataset/physionet.org/files/siena-scalp-eeg/1.0.0//PN05/PN05-4.edf', '../eeg_dataset/physionet.org/files/siena-scalp-eeg/1.0.0//PN09/PN09-1.edf', '../eeg_dataset/physionet.org/files/siena-scalp-eeg/1.0.0//PN09/PN09-2.edf', '../eeg_dataset/physionet.org/files/siena-scalp-eeg/1.0.0//PN09/PN09-3.edf', '../eeg_dataset/physionet.org/files/siena-scalp-eeg/1.0.0//PN12/PN12-1.2.edf', '../eeg_dataset/physionet.org/files/siena-scalp-eeg/1.0.0//PN12/PN12-3.edf', '../eeg_dataset/physionet.org/files/siena-scalp-eeg/1.0.0//PN12/PN12-4.edf', '../eeg_dataset/physionet.org/files/siena-scalp-eeg/1.0.0//PN13/PN13-1.edf', '../eeg_dataset/physionet.org/files/siena-scalp-eeg/1.0.0//PN13/PN13-2.edf', '../eeg_dataset/physionet.org/files/siena-scalp-eeg/1.0.0//PN13/PN13-3.edf', '../eeg_dataset/physionet.org/files/siena-scalp-eeg/1.0.0//PN16/PN16-1.edf', '../eeg_dataset/physionet.org/files/siena-scalp-eeg/1.0.0//PN16/PN16-2.edf']\n"
     ]
    }
   ],
   "source": [
    "DATASET_DIR = r\"../eeg_dataset/physionet.org/files/siena-scalp-eeg/1.0.0/\"\n",
    "edf_names = []\n",
    "seizure_events = []\n",
    "\n",
    "for directory in os.listdir(DATASET_DIR):\n",
    "    print('='*50)\n",
    "    print(f\"{directory: ^50}\")\n",
    "    print('='*50)\n",
    "    \n",
    "    for filename in os.listdir(os.path.join(DATASET_DIR, directory)):\n",
    "        if '.edf' in filename:\n",
    "            edf_names.append(f\"{DATASET_DIR}/{directory}/{filename}\")\n",
    "        elif '.txt' in filename:\n",
    "            new_seizures = get_seizure_events(f\"{DATASET_DIR}/{directory}/{filename}\")\n",
    "            seizure_events.extend(new_seizures)\n",
    "            for event in new_seizures:\n",
    "                print('\\n'.join([f\"{key}: {val}\" for key, val in event.items()]))\n",
    "                print()\n",
    "\n",
    "print(edf_names)"
   ]
  },
  {
   "cell_type": "code",
   "execution_count": 3,
   "id": "17455898b128e512",
   "metadata": {
    "ExecuteTime": {
     "end_time": "2024-07-11T02:03:02.116367Z",
     "start_time": "2024-07-11T02:02:43.490034Z"
    },
    "collapsed": false
   },
   "outputs": [
    {
     "name": "stdout",
     "output_type": "stream",
     "text": [
      "Extracting EDF parameters from c:\\Users\\lucas\\Documents\\03-TPFINAL-PSIB\\eeg_dataset\\physionet.org\\files\\siena-scalp-eeg\\1.0.0\\PN01\\PN01-1.edf...\n",
      "EDF file detected\n",
      "Setting channel info structure...\n",
      "Creating raw.info structure...\n",
      "\n",
      "\n",
      "\n",
      "Extracting EDF parameters from c:\\Users\\lucas\\Documents\\03-TPFINAL-PSIB\\eeg_dataset\\physionet.org\\files\\siena-scalp-eeg\\1.0.0\\PN05\\PN05-2.edf...\n",
      "EDF file detected\n",
      "Setting channel info structure...\n",
      "Creating raw.info structure...\n",
      "\n",
      "\n",
      "\n",
      "Extracting EDF parameters from c:\\Users\\lucas\\Documents\\03-TPFINAL-PSIB\\eeg_dataset\\physionet.org\\files\\siena-scalp-eeg\\1.0.0\\PN05\\PN05-3.edf...\n",
      "EDF file detected\n",
      "Setting channel info structure...\n",
      "Creating raw.info structure...\n",
      "\n",
      "\n",
      "\n",
      "Extracting EDF parameters from c:\\Users\\lucas\\Documents\\03-TPFINAL-PSIB\\eeg_dataset\\physionet.org\\files\\siena-scalp-eeg\\1.0.0\\PN05\\PN05-4.edf...\n",
      "EDF file detected\n",
      "Setting channel info structure...\n",
      "Creating raw.info structure...\n",
      "\n",
      "\n",
      "\n",
      "Extracting EDF parameters from c:\\Users\\lucas\\Documents\\03-TPFINAL-PSIB\\eeg_dataset\\physionet.org\\files\\siena-scalp-eeg\\1.0.0\\PN09\\PN09-1.edf...\n",
      "EDF file detected\n",
      "Setting channel info structure...\n",
      "Creating raw.info structure...\n",
      "\n",
      "\n",
      "\n",
      "Extracting EDF parameters from c:\\Users\\lucas\\Documents\\03-TPFINAL-PSIB\\eeg_dataset\\physionet.org\\files\\siena-scalp-eeg\\1.0.0\\PN09\\PN09-2.edf...\n",
      "EDF file detected\n",
      "Setting channel info structure...\n",
      "Creating raw.info structure...\n",
      "\n",
      "\n",
      "\n",
      "Extracting EDF parameters from c:\\Users\\lucas\\Documents\\03-TPFINAL-PSIB\\eeg_dataset\\physionet.org\\files\\siena-scalp-eeg\\1.0.0\\PN09\\PN09-3.edf...\n",
      "EDF file detected\n",
      "Setting channel info structure...\n",
      "Creating raw.info structure...\n",
      "\n",
      "\n",
      "\n",
      "Extracting EDF parameters from c:\\Users\\lucas\\Documents\\03-TPFINAL-PSIB\\eeg_dataset\\physionet.org\\files\\siena-scalp-eeg\\1.0.0\\PN12\\PN12-1.2.edf...\n",
      "EDF file detected\n",
      "Setting channel info structure...\n",
      "Creating raw.info structure...\n",
      "\n",
      "\n",
      "\n",
      "Extracting EDF parameters from c:\\Users\\lucas\\Documents\\03-TPFINAL-PSIB\\eeg_dataset\\physionet.org\\files\\siena-scalp-eeg\\1.0.0\\PN12\\PN12-3.edf...\n",
      "EDF file detected\n",
      "Setting channel info structure...\n",
      "Creating raw.info structure...\n",
      "\n",
      "\n",
      "\n",
      "Extracting EDF parameters from c:\\Users\\lucas\\Documents\\03-TPFINAL-PSIB\\eeg_dataset\\physionet.org\\files\\siena-scalp-eeg\\1.0.0\\PN12\\PN12-4.edf...\n",
      "EDF file detected\n",
      "Setting channel info structure...\n",
      "Creating raw.info structure...\n",
      "\n",
      "\n",
      "\n",
      "Extracting EDF parameters from c:\\Users\\lucas\\Documents\\03-TPFINAL-PSIB\\eeg_dataset\\physionet.org\\files\\siena-scalp-eeg\\1.0.0\\PN13\\PN13-1.edf...\n",
      "EDF file detected\n",
      "Setting channel info structure...\n",
      "Creating raw.info structure...\n",
      "\n",
      "\n",
      "\n",
      "Extracting EDF parameters from c:\\Users\\lucas\\Documents\\03-TPFINAL-PSIB\\eeg_dataset\\physionet.org\\files\\siena-scalp-eeg\\1.0.0\\PN13\\PN13-2.edf...\n",
      "EDF file detected\n",
      "Setting channel info structure...\n",
      "Creating raw.info structure...\n",
      "\n",
      "\n",
      "\n",
      "Extracting EDF parameters from c:\\Users\\lucas\\Documents\\03-TPFINAL-PSIB\\eeg_dataset\\physionet.org\\files\\siena-scalp-eeg\\1.0.0\\PN13\\PN13-3.edf...\n",
      "EDF file detected\n",
      "Setting channel info structure...\n",
      "Creating raw.info structure...\n",
      "\n",
      "\n",
      "\n",
      "Extracting EDF parameters from c:\\Users\\lucas\\Documents\\03-TPFINAL-PSIB\\eeg_dataset\\physionet.org\\files\\siena-scalp-eeg\\1.0.0\\PN16\\PN16-1.edf...\n",
      "EDF file detected\n",
      "Setting channel info structure...\n",
      "Creating raw.info structure...\n",
      "\n",
      "\n",
      "\n",
      "Extracting EDF parameters from c:\\Users\\lucas\\Documents\\03-TPFINAL-PSIB\\eeg_dataset\\physionet.org\\files\\siena-scalp-eeg\\1.0.0\\PN16\\PN16-2.edf...\n",
      "EDF file detected\n",
      "Setting channel info structure...\n",
      "Creating raw.info structure...\n",
      "\n",
      "\n",
      "\n"
     ]
    }
   ],
   "source": [
    "channels = ['EEG T3', 'EEG T5', 'EEG F7', 'EEG F3', 'EEG C3', 'EEG P3']\n",
    "segments = []\n",
    "labels = []\n",
    "fs = None\n",
    "\n",
    "with warnings.catch_warnings():\n",
    "    warnings.simplefilter(\"ignore\")\n",
    "    for edf in edf_names:\n",
    "        # Paso 1: duracion de señal y seizures\n",
    "        name = edf.split('/')[-1]\n",
    "        this_seizure_events = [seiz for seiz in seizure_events if seiz[\"file_name\"]==name]\n",
    "        \n",
    "        if len(this_seizure_events) == 0:\n",
    "            print('nada en', name)\n",
    "            continue\n",
    "            \n",
    "        ex_seiz = this_seizure_events[0]\n",
    "        mtx_t_reg = np.array([ex_seiz['registration_start_time'], ex_seiz['registration_end_time']])\n",
    "        arr_mtx_t_epi = get_seizure_array(this_seizure_events)\n",
    "    \n",
    "        # Paso 2: extraemos la señal\n",
    "        raw = io.read_raw_edf(edf)\n",
    "        print('\\n\\n')\n",
    "        if fs is None:\n",
    "            fs = raw.info['sfreq']\n",
    "        raw_filt = raw.pick(channels)\n",
    "        data_namefilt = raw_filt.get_data() * 1e6\n",
    "    \n",
    "        # Paso 3: sacamos segmentos\n",
    "        new_seg, new_label = getMeData(data_namefilt[0], \n",
    "                                       mtx_t_reg, \n",
    "                                       arr_mtx_t_epi, \n",
    "                                       winlen=2, \n",
    "                                       proportion=0.5)\n",
    "        segments.append(new_seg)\n",
    "        labels.append(new_label)\n",
    "        \n",
    "\n",
    "segments_arr = np.concatenate(segments)\n",
    "labels_arr = np.concatenate(labels)"
   ]
  },
  {
   "cell_type": "code",
   "execution_count": 4,
   "id": "7a12ca5c72ccc808",
   "metadata": {
    "ExecuteTime": {
     "end_time": "2024-07-11T02:03:32.328434Z",
     "start_time": "2024-07-11T02:03:32.318452Z"
    },
    "collapsed": false
   },
   "outputs": [
    {
     "data": {
      "text/plain": [
       "(1157, 1024)"
      ]
     },
     "execution_count": 4,
     "metadata": {},
     "output_type": "execute_result"
    }
   ],
   "source": [
    "segments_arr.shape"
   ]
  },
  {
   "cell_type": "code",
   "execution_count": 5,
   "id": "f04ca05bad3ba8b5",
   "metadata": {
    "ExecuteTime": {
     "end_time": "2024-07-11T02:03:38.188876Z",
     "start_time": "2024-07-11T02:03:34.754361Z"
    },
    "collapsed": false
   },
   "outputs": [
    {
     "data": {
      "text/html": [
       "<div>\n",
       "<style scoped>\n",
       "    .dataframe tbody tr th:only-of-type {\n",
       "        vertical-align: middle;\n",
       "    }\n",
       "\n",
       "    .dataframe tbody tr th {\n",
       "        vertical-align: top;\n",
       "    }\n",
       "\n",
       "    .dataframe thead th {\n",
       "        text-align: right;\n",
       "    }\n",
       "</style>\n",
       "<table border=\"1\" class=\"dataframe\">\n",
       "  <thead>\n",
       "    <tr style=\"text-align: right;\">\n",
       "      <th></th>\n",
       "      <th>potAbsDelta</th>\n",
       "      <th>potAbsTheta</th>\n",
       "      <th>potAbsAlpha</th>\n",
       "      <th>potAbsBeta</th>\n",
       "      <th>potAbsGamma</th>\n",
       "      <th>kurtosis</th>\n",
       "      <th>RMS</th>\n",
       "      <th>skewness</th>\n",
       "      <th>media</th>\n",
       "      <th>desvio estandar</th>\n",
       "    </tr>\n",
       "  </thead>\n",
       "  <tbody>\n",
       "    <tr>\n",
       "      <th>0</th>\n",
       "      <td>23.276616</td>\n",
       "      <td>6.210865</td>\n",
       "      <td>2.932189</td>\n",
       "      <td>4.657379</td>\n",
       "      <td>3.814780</td>\n",
       "      <td>3.156318</td>\n",
       "      <td>13.951921</td>\n",
       "      <td>-1.471574</td>\n",
       "      <td>-7.274275</td>\n",
       "      <td>11.905504</td>\n",
       "    </tr>\n",
       "    <tr>\n",
       "      <th>1</th>\n",
       "      <td>96.276003</td>\n",
       "      <td>53.237399</td>\n",
       "      <td>26.920170</td>\n",
       "      <td>67.273853</td>\n",
       "      <td>56.390318</td>\n",
       "      <td>-0.105051</td>\n",
       "      <td>20.263972</td>\n",
       "      <td>-0.341136</td>\n",
       "      <td>-4.721904</td>\n",
       "      <td>19.706146</td>\n",
       "    </tr>\n",
       "    <tr>\n",
       "      <th>2</th>\n",
       "      <td>5.738934</td>\n",
       "      <td>1075.093137</td>\n",
       "      <td>35.279142</td>\n",
       "      <td>6.684161</td>\n",
       "      <td>2.121499</td>\n",
       "      <td>-0.451693</td>\n",
       "      <td>33.084309</td>\n",
       "      <td>-0.234021</td>\n",
       "      <td>-2.184331</td>\n",
       "      <td>33.012122</td>\n",
       "    </tr>\n",
       "    <tr>\n",
       "      <th>3</th>\n",
       "      <td>16.459254</td>\n",
       "      <td>1850.442438</td>\n",
       "      <td>61.053070</td>\n",
       "      <td>63.599086</td>\n",
       "      <td>23.720996</td>\n",
       "      <td>-0.862544</td>\n",
       "      <td>46.699844</td>\n",
       "      <td>-0.317577</td>\n",
       "      <td>-2.866577</td>\n",
       "      <td>46.611781</td>\n",
       "    </tr>\n",
       "    <tr>\n",
       "      <th>4</th>\n",
       "      <td>116.701742</td>\n",
       "      <td>3604.659597</td>\n",
       "      <td>216.126979</td>\n",
       "      <td>14.708899</td>\n",
       "      <td>14.168162</td>\n",
       "      <td>-1.159238</td>\n",
       "      <td>63.985770</td>\n",
       "      <td>-0.323435</td>\n",
       "      <td>-1.132473</td>\n",
       "      <td>63.975747</td>\n",
       "    </tr>\n",
       "    <tr>\n",
       "      <th>...</th>\n",
       "      <td>...</td>\n",
       "      <td>...</td>\n",
       "      <td>...</td>\n",
       "      <td>...</td>\n",
       "      <td>...</td>\n",
       "      <td>...</td>\n",
       "      <td>...</td>\n",
       "      <td>...</td>\n",
       "      <td>...</td>\n",
       "      <td>...</td>\n",
       "    </tr>\n",
       "    <tr>\n",
       "      <th>1152</th>\n",
       "      <td>41.731003</td>\n",
       "      <td>4.793074</td>\n",
       "      <td>6.271593</td>\n",
       "      <td>8.295457</td>\n",
       "      <td>11.982835</td>\n",
       "      <td>-0.111621</td>\n",
       "      <td>35.762581</td>\n",
       "      <td>0.471111</td>\n",
       "      <td>32.553939</td>\n",
       "      <td>14.805516</td>\n",
       "    </tr>\n",
       "    <tr>\n",
       "      <th>1153</th>\n",
       "      <td>98.427059</td>\n",
       "      <td>28.299078</td>\n",
       "      <td>5.354898</td>\n",
       "      <td>25.395705</td>\n",
       "      <td>49.280798</td>\n",
       "      <td>1.317005</td>\n",
       "      <td>21.063053</td>\n",
       "      <td>-0.448088</td>\n",
       "      <td>4.185632</td>\n",
       "      <td>20.642982</td>\n",
       "    </tr>\n",
       "    <tr>\n",
       "      <th>1154</th>\n",
       "      <td>56.184378</td>\n",
       "      <td>6.369494</td>\n",
       "      <td>3.697915</td>\n",
       "      <td>5.550002</td>\n",
       "      <td>1.296995</td>\n",
       "      <td>-0.579897</td>\n",
       "      <td>10.610103</td>\n",
       "      <td>-0.055247</td>\n",
       "      <td>6.888405</td>\n",
       "      <td>8.069954</td>\n",
       "    </tr>\n",
       "    <tr>\n",
       "      <th>1155</th>\n",
       "      <td>624.734622</td>\n",
       "      <td>41.760157</td>\n",
       "      <td>18.213059</td>\n",
       "      <td>19.924336</td>\n",
       "      <td>31.363220</td>\n",
       "      <td>0.752038</td>\n",
       "      <td>23.583687</td>\n",
       "      <td>0.500765</td>\n",
       "      <td>-8.913614</td>\n",
       "      <td>21.834325</td>\n",
       "    </tr>\n",
       "    <tr>\n",
       "      <th>1156</th>\n",
       "      <td>15.468013</td>\n",
       "      <td>15.535483</td>\n",
       "      <td>3.248166</td>\n",
       "      <td>4.996674</td>\n",
       "      <td>6.207777</td>\n",
       "      <td>2.134253</td>\n",
       "      <td>9.628910</td>\n",
       "      <td>-1.414035</td>\n",
       "      <td>-2.013605</td>\n",
       "      <td>9.416013</td>\n",
       "    </tr>\n",
       "  </tbody>\n",
       "</table>\n",
       "<p>1157 rows × 10 columns</p>\n",
       "</div>"
      ],
      "text/plain": [
       "      potAbsDelta  potAbsTheta  potAbsAlpha  potAbsBeta  potAbsGamma  \\\n",
       "0       23.276616     6.210865     2.932189    4.657379     3.814780   \n",
       "1       96.276003    53.237399    26.920170   67.273853    56.390318   \n",
       "2        5.738934  1075.093137    35.279142    6.684161     2.121499   \n",
       "3       16.459254  1850.442438    61.053070   63.599086    23.720996   \n",
       "4      116.701742  3604.659597   216.126979   14.708899    14.168162   \n",
       "...           ...          ...          ...         ...          ...   \n",
       "1152    41.731003     4.793074     6.271593    8.295457    11.982835   \n",
       "1153    98.427059    28.299078     5.354898   25.395705    49.280798   \n",
       "1154    56.184378     6.369494     3.697915    5.550002     1.296995   \n",
       "1155   624.734622    41.760157    18.213059   19.924336    31.363220   \n",
       "1156    15.468013    15.535483     3.248166    4.996674     6.207777   \n",
       "\n",
       "      kurtosis        RMS  skewness      media  desvio estandar  \n",
       "0     3.156318  13.951921 -1.471574  -7.274275        11.905504  \n",
       "1    -0.105051  20.263972 -0.341136  -4.721904        19.706146  \n",
       "2    -0.451693  33.084309 -0.234021  -2.184331        33.012122  \n",
       "3    -0.862544  46.699844 -0.317577  -2.866577        46.611781  \n",
       "4    -1.159238  63.985770 -0.323435  -1.132473        63.975747  \n",
       "...        ...        ...       ...        ...              ...  \n",
       "1152 -0.111621  35.762581  0.471111  32.553939        14.805516  \n",
       "1153  1.317005  21.063053 -0.448088   4.185632        20.642982  \n",
       "1154 -0.579897  10.610103 -0.055247   6.888405         8.069954  \n",
       "1155  0.752038  23.583687  0.500765  -8.913614        21.834325  \n",
       "1156  2.134253   9.628910 -1.414035  -2.013605         9.416013  \n",
       "\n",
       "[1157 rows x 10 columns]"
      ]
     },
     "execution_count": 5,
     "metadata": {},
     "output_type": "execute_result"
    }
   ],
   "source": [
    "# Potencia\n",
    "more_pot = pot4signals(segments_arr, fs, divisor=1)\n",
    "pot_names = [f\"potAbs{band.capitalize()}\" for band in BANDAS.keys()]\n",
    "\n",
    "# Estadistica\n",
    "stat_data = stats_features(segments_arr)\n",
    "stats_names = list(stat_data.values())[:-1]\n",
    "more_stat = stat_data[\"matriz de features stat\"]\n",
    "\n",
    "# Feature fector\n",
    "data_fv = np.hstack((more_pot, more_stat))\n",
    "columnas = pot_names + stats_names\n",
    "df_fv = pd.DataFrame(data_fv, columns=columnas)\n",
    "df_fv"
   ]
  },
  {
   "cell_type": "code",
   "execution_count": 6,
   "id": "473337a14e7c78ef",
   "metadata": {
    "ExecuteTime": {
     "end_time": "2024-07-11T02:03:43.041402Z",
     "start_time": "2024-07-11T02:03:42.544219Z"
    },
    "collapsed": false
   },
   "outputs": [],
   "source": [
    "from sklearn.model_selection import train_test_split\n",
    "from sklearn.metrics import accuracy_score\n",
    "from sklearn.metrics import confusion_matrix\n",
    "from sklearn.svm import LinearSVC, SVC\n",
    "import seaborn as sns\n",
    "\n",
    "from sklearn import datasets\n",
    "from sklearn import preprocessing\n",
    "from sklearn import linear_model\n",
    "from sklearn import model_selection as ms"
   ]
  },
  {
   "cell_type": "code",
   "execution_count": 7,
   "id": "1134371bf0e1b071",
   "metadata": {
    "ExecuteTime": {
     "end_time": "2024-07-11T02:03:45.584270Z",
     "start_time": "2024-07-11T02:03:45.574725Z"
    },
    "collapsed": false
   },
   "outputs": [],
   "source": [
    "train_x, test_x, train_y, test_y = train_test_split(df_fv, labels_arr, test_size=0.2, random_state=0)"
   ]
  },
  {
   "cell_type": "code",
   "execution_count": 8,
   "id": "45c84100",
   "metadata": {},
   "outputs": [
    {
     "name": "stdout",
     "output_type": "stream",
     "text": [
      "alpha_star = 0.065000000000001\n"
     ]
    },
    {
     "data": {
      "image/png": "[encoded data removed]",
      "text/plain": [
       "<Figure size 640x480 with 1 Axes>"
      ]
     },
     "metadata": {},
     "output_type": "display_data"
    }
   ],
   "source": [
    "C = np.arange(1e-15,5,0.005) # Range of hyperparameter values 1E-15 to 1 by 0.005\n",
    "val_scores = np.zeros((len(C),1)) # Initialize validation score for each alpha value\n",
    "\n",
    "\n",
    "with warnings.catch_warnings():\n",
    "    warnings.simplefilter(\"ignore\")\n",
    "    for i in range(len(C)): # for each alpha value\n",
    "        # Set up SVM with hinge loss and l2 norm regularization\n",
    "        model = LinearSVC(dual=True,C=C[i])\n",
    "        \n",
    "        #linear_model.SGDClassifier(loss='hinge', penalty='l2', alpha=alpha[i])\n",
    "        \n",
    "        # Calculate cross validation scores for 5-fold cross-validation\n",
    "        score = ms.cross_val_score(model, df_fv, labels_arr, cv=5)\n",
    "        val_scores[i] = score.mean() # Calculate mean of the 5 scores\n",
    "\n",
    "# Determine the alpha that maximizes the cross-validation score\n",
    "ind = np.argmax(val_scores)\n",
    "C_star = C[ind]\n",
    "print('alpha_star =', C_star)\n",
    "\n",
    "# Plot accuracy\n",
    "plt.plot(C,val_scores)\n",
    "plt.plot(np.ones(11)*C_star,np.arange(0,1.1,0.1),'--r')\n",
    "plt.xlabel('alpha')\n",
    "plt.ylabel('Mean Cross-Validation Accuracy')\n",
    "plt.grid(True)\n",
    "plt.show()"
   ]
  },
  {
   "cell_type": "code",
   "execution_count": 9,
   "id": "8d5181be5f7a700c",
   "metadata": {
    "ExecuteTime": {
     "end_time": "2024-07-11T02:03:48.254311Z",
     "start_time": "2024-07-11T02:03:47.918204Z"
    },
    "collapsed": false
   },
   "outputs": [
    {
     "name": "stdout",
     "output_type": "stream",
     "text": [
      "0.7586206896551724\n"
     ]
    },
    {
     "name": "stderr",
     "output_type": "stream",
     "text": [
      "c:\\Users\\lucas\\miniconda3\\envs\\venvpsib\\Lib\\site-packages\\sklearn\\svm\\_base.py:1237: ConvergenceWarning: Liblinear failed to converge, increase the number of iterations.\n",
      "  warnings.warn(\n"
     ]
    },
    {
     "data": {
      "text/plain": [
       "<Axes: >"
      ]
     },
     "execution_count": 9,
     "metadata": {},
     "output_type": "execute_result"
    },
    {
     "data": {
      "image/png": "[encoded data removed]",
      "text/plain": [
       "<Figure size 640x480 with 2 Axes>"
      ]
     },
     "metadata": {},
     "output_type": "display_data"
    }
   ],
   "source": [
    "# testeamos en un modelo lineal\n",
    "linear_model = LinearSVC(dual=True,max_iter=200000,C=C_star)\n",
    "linear_model.fit(train_x, train_y)\n",
    "predictions = linear_model.predict(test_x)\n",
    "print(accuracy_score(test_y, predictions))\n",
    "cm = confusion_matrix(test_y, predictions)\n",
    "sns.heatmap(cm, cmap='Blues', annot=True)"
   ]
  },
  {
   "cell_type": "code",
   "execution_count": 10,
   "id": "fe4d19b662082a7c",
   "metadata": {
    "ExecuteTime": {
     "end_time": "2024-07-11T02:04:11.522875Z",
     "start_time": "2024-07-11T02:04:11.241636Z"
    },
    "collapsed": false
   },
   "outputs": [
    {
     "name": "stdout",
     "output_type": "stream",
     "text": [
      "0.7629310344827587\n"
     ]
    },
    {
     "data": {
      "text/plain": [
       "<Axes: >"
      ]
     },
     "execution_count": 10,
     "metadata": {},
     "output_type": "execute_result"
    },
    {
     "data": {
      "image/png": "[encoded data removed]",
      "text/plain": [
       "<Figure size 640x480 with 2 Axes>"
      ]
     },
     "metadata": {},
     "output_type": "display_data"
    }
   ],
   "source": [
    "# kernel\n",
    "rbf_model = SVC(kernel='rbf')\n",
    "rbf_model.fit(train_x, train_y)\n",
    "rbf_pred = rbf_model.predict(test_x)\n",
    "print(accuracy_score(test_y, rbf_pred))\n",
    "cm_rbf = confusion_matrix(test_y, rbf_pred)\n",
    "sns.heatmap(cm_rbf, annot=True, cmap='Blues')"
   ]
  },
  {
   "cell_type": "code",
   "execution_count": 12,
   "id": "9aba697c",
   "metadata": {},
   "outputs": [],
   "source": [
    "with open(\"Linear_SVC_wl_2\", 'wb') as file:\n",
    "    pickle.dump(linear_model, file)"
   ]
  },
  {
   "cell_type": "code",
   "execution_count": 19,
   "id": "09f7df5b",
   "metadata": {},
   "outputs": [
    {
     "name": "stdout",
     "output_type": "stream",
     "text": [
      "0.7586206896551724\n"
     ]
    },
    {
     "data": {
      "text/plain": [
       "Text(50.72222222222221, 0.5, 'True label')"
      ]
     },
     "execution_count": 19,
     "metadata": {},
     "output_type": "execute_result"
    },
    {
     "data": {
      "image/png": "[encoded data removed]",
      "text/plain": [
       "<Figure size 640x480 with 2 Axes>"
      ]
     },
     "metadata": {},
     "output_type": "display_data"
    }
   ],
   "source": [
    "with open('Linear_SVC_wl_2', 'rb') as file:\n",
    "    modelo_leido = pickle.load(file)\n",
    "\n",
    "clasificaciones = [\"No epilepsia\",\"Epilepsia\"]\n",
    "\n",
    "\n",
    "predictions = modelo_leido.predict(test_x)\n",
    "print(accuracy_score(test_y, predictions))\n",
    "cm = confusion_matrix(test_y, predictions)\n",
    "\n",
    "cm_df = pd.DataFrame(data=cm,index=clasificaciones,columns=clasificaciones)\n",
    "\n",
    "ax = sns.heatmap(cm_df, cmap='Blues', annot=True)\n",
    "ax.set_xlabel(\"Predicted label\")\n",
    "ax.set_ylabel(\"True label\")"
   ]
  }
 ],
 "metadata": {
  "kernelspec": {
   "display_name": "Python 3",
   "language": "python",
   "name": "python3"
  },
  "language_info": {
   "codemirror_mode": {
    "name": "ipython",
    "version": 3
   },
   "file_extension": ".py",
   "mimetype": "text/x-python",
   "name": "python",
   "nbconvert_exporter": "python",
   "pygments_lexer": "ipython3",
   "version": "3.12.3"
  }
 },
 "nbformat": 4,
 "nbformat_minor": 5
}
